{
 "cells": [
  {
   "cell_type": "code",
   "execution_count": 1,
   "metadata": {},
   "outputs": [
    {
     "name": "stdout",
     "output_type": "stream",
     "text": [
      "['/home/pshah/Documents/code/Vape/jupyter/Prajay', '/Applications/NEURON-7.6/nrn/lib/python', '/home/pshah/Documents/code/Vape/jupyter/Prajay', '/home/pshah/anaconda3/lib/python37.zip', '/home/pshah/anaconda3/lib/python3.7', '/home/pshah/anaconda3/lib/python3.7/lib-dynload', '', '/home/pshah/anaconda3/lib/python3.7/site-packages', '/home/pshah/anaconda3/lib/python3.7/site-packages/IPython/extensions', '/home/pshah/.ipython', '/home/pshah/Documents/code/Vape/utils/', '/home/pshah/Documents/code/Vape/']\n"
     ]
    }
   ],
   "source": [
    "# imports general modules, runs ipython magic commands\n",
    "# change path in this notebook to point to repo locally\n",
    "# n.b. sometimes need to run this cell twice to init the plotting paramters\n",
    "import sys; sys.path.append('/home/pshah/Documents/code/Vape/utils/')\n",
    "import alloptical_utils_pj as ao\n",
    "import numpy as np\n",
    "import utils_funcs as uf\n",
    "import matplotlib.pyplot as plt\n",
    "print(sys.path)\n",
    "import funcs_pj as pjf\n",
    "\n",
    "plt.rcParams['figure.figsize'] = [20.0, 3.0]"
   ]
  },
  {
   "cell_type": "code",
   "execution_count": 2,
   "metadata": {},
   "outputs": [
    {
     "data": {
      "text/plain": [
       "[['/home/pshah/mnt/qnap/Data/2020-03-18/J063/2020-03-18_J063_t-017',\n",
       "  '/home/pshah/mnt/qnap/Data/2020-03-18/J063/photostim/2020-03-18_find_resp_002',\n",
       "  '/home/pshah/mnt/qnap/Data/2020-03-18/J063/2020-03-18_J063_t-017.paq']]"
      ]
     },
     "execution_count": 2,
     "metadata": {},
     "output_type": "execute_result"
    }
   ],
   "source": [
    "trial = 't-017'\n",
    "\n",
    "paths = []\n",
    "tiffs_loc = '/home/pshah/mnt/qnap/Data/2020-03-18/J063/2020-03-18_J063_%s' % trial\n",
    "tiffs_loc2 = '/home/pshah/mnt/qnap/Data/2020-03-18/J063/2020-03-18_J063_%s/2020-03-18_J063_%s_Cycle00001_Ch3.tif' % (trial, trial)\n",
    "naparms_loc = '/home/pshah/mnt/qnap/Data/2020-03-18/J063/photostim/2020-03-18_find_resp_002'\n",
    "paqs_loc = '/home/pshah/mnt/qnap/Data/2020-03-18/J063/2020-03-18_J063_%s.paq' % trial\n",
    "\n",
    "paths.append([tiffs_loc, naparms_loc, paqs_loc])\n",
    "paths"
   ]
  },
  {
   "cell_type": "code",
   "execution_count": 3,
   "metadata": {
    "scrolled": true
   },
   "outputs": [
    {
     "name": "stdout",
     "output_type": "stream",
     "text": [
      "n planes: 1 \n",
      "n frames: 10705 \n",
      "fps: 30.03825221227973 \n",
      "frame size (px): 512 x 512 \n",
      "zoom: 0.795378456 \n",
      "pixel size (um): 2.74659789458189 2.74659789458189 \n",
      "scan centre (V): 0.0 0.0\n",
      "tiff_path\n",
      "naparm_path\n",
      "paq_path\n",
      "fps\n",
      "frame_x\n",
      "frame_y\n",
      "n_planes\n",
      "pix_sz_x\n",
      "pix_sz_y\n",
      "scan_x\n",
      "scan_y\n",
      "zoom\n",
      "n_frames\n",
      "stim_type\n",
      "['/home/pshah/mnt/qnap/Data/2020-03-18/J063/photostim/2020-03-18_find_resp_002/2020-03-18_find_resp_002.gpl']\n",
      "/home/pshah/mnt/qnap/Data/2020-03-18/J063/photostim/2020-03-18_find_resp_002/2020-03-18_find_resp_002.gpl\n",
      "Single stim dur (ms): 10\n",
      "Spiral size (um): 0.07388\n",
      "['/home/pshah/mnt/qnap/Data/2020-03-18/J063/photostim/2020-03-18_find_resp_002/2020-03-18_find_resp_002.xml']\n",
      "/home/pshah/mnt/qnap/Data/2020-03-18/J063/photostim/2020-03-18_find_resp_002/2020-03-18_find_resp_002.xml\n",
      "Numbers of trials: 10 \n",
      "Number of groups: 30 \n",
      "Number of shots: 25 \n",
      "Number of sequence reps: 1 \n",
      "Inter-point delay: 0\n",
      "n planes: 1 \n",
      "n frames: 10705 \n",
      "fps: 30.03825221227973 \n",
      "frame size (px): 512 x 512 \n",
      "zoom: 0.795378456 \n",
      "pixel size (um): 2.74659789458189 2.74659789458189 \n",
      "scan centre (V): 0.0 0.0\n",
      "/home/pshah/mnt/qnap/Data/2020-03-18/J063/2020-03-18_J063_t-017.paq\n"
     ]
    },
    {
     "data": {
      "image/png": "[encoded data removed]",
      "text/plain": [
       "<Figure size 720x360 with 1 Axes>"
      ]
     },
     "metadata": {
      "needs_background": "light"
     },
     "output_type": "display_data"
    },
    {
     "data": {
      "image/png": "[encoded data removed]",
      "text/plain": [
       "<Figure size 720x360 with 1 Axes>"
      ]
     },
     "metadata": {
      "needs_background": "light"
     },
     "output_type": "display_data"
    }
   ],
   "source": [
    "exp_obj = ao.alloptical(paths[0], stim='2pstim')\n",
    "for key, values in vars(exp_obj).items():\n",
    "    print(key)\n",
    "\n",
    "exp_obj._parseNAPARMgpl()\n",
    "exp_obj._parseNAPARMxml()\n",
    "exp_obj._parsePVMetadata()\n",
    "exp_obj.stimProcessing(stim_channel='markpoints2packio')"
   ]
  },
  {
   "cell_type": "code",
   "execution_count": 5,
   "metadata": {
    "scrolled": true
   },
   "outputs": [
    {
     "name": "stdout",
     "output_type": "stream",
     "text": [
      "['FOVTargets_001_2020-03-18_find_resp_002.tif', 'FOVTargets_002_2020-03-18_find_resp_002.tif', 'FOVTargets_003_2020-03-18_find_resp_002.tif', 'FOVTargets_004_2020-03-18_find_resp_002.tif', 'FOVTargets_005_2020-03-18_find_resp_002.tif', 'FOVTargets_006_2020-03-18_find_resp_002.tif', 'FOVTargets_007_2020-03-18_find_resp_002.tif', 'FOVTargets_008_2020-03-18_find_resp_002.tif', 'FOVTargets_009_2020-03-18_find_resp_002.tif', 'FOVTargets_010_2020-03-18_find_resp_002.tif', 'FOVTargets_011_2020-03-18_find_resp_002.tif', 'FOVTargets_012_2020-03-18_find_resp_002.tif', 'FOVTargets_013_2020-03-18_find_resp_002.tif', 'FOVTargets_014_2020-03-18_find_resp_002.tif', 'FOVTargets_015_2020-03-18_find_resp_002.tif', 'FOVTargets_016_2020-03-18_find_resp_002.tif', 'FOVTargets_017_2020-03-18_find_resp_002.tif', 'FOVTargets_018_2020-03-18_find_resp_002.tif', 'FOVTargets_019_2020-03-18_find_resp_002.tif', 'FOVTargets_020_2020-03-18_find_resp_002.tif', 'FOVTargets_021_2020-03-18_find_resp_002.tif', 'FOVTargets_022_2020-03-18_find_resp_002.tif', 'FOVTargets_023_2020-03-18_find_resp_002.tif', 'FOVTargets_024_2020-03-18_find_resp_002.tif', 'FOVTargets_025_2020-03-18_find_resp_002.tif', 'FOVTargets_026_2020-03-18_find_resp_002.tif', 'FOVTargets_027_2020-03-18_find_resp_002.tif', 'FOVTargets_028_2020-03-18_find_resp_002.tif', 'FOVTargets_029_2020-03-18_find_resp_002.tif', 'FOVTargets_030_2020-03-18_find_resp_002.tif']\n",
      "Got targets...\n",
      "/// Original # of frames: 10705 frames ///\n",
      "/// # of Photostim frames: 2700 frames ///\n",
      "/// Minus photostim. frames total: 8005 frames ///\n",
      "len of seizures_frames + photostim frames 5220\n",
      "len of seizures_frames 2520\n",
      "len of photostim_frames 2700\n",
      "Total photostim + seizure/CSD frames:  5220\n"
     ]
    }
   ],
   "source": [
    "exp_obj._findTargets_naparm()\n",
    "exp_obj.find_photostim_frames()\n",
    "exp_obj.seizure_frames(bad_frames=list(range(5040,7560)))\n",
    "\n",
    "\n",
    "print('Total photostim + seizure/CSD frames: ', len(exp_obj.bad_frames))\n",
    "np.save('%s/bad_frames.npy' % tiffs_loc, exp_obj.bad_frames)   # save to npy file and remember to move npy file to tiff folder before running with suite2p"
   ]
  },
  {
   "cell_type": "code",
   "execution_count": 6,
   "metadata": {},
   "outputs": [
    {
     "data": {
      "text/plain": [
       "30"
      ]
     },
     "execution_count": 6,
     "metadata": {},
     "output_type": "execute_result"
    }
   ],
   "source": [
    "len(exp_obj.target_areas)"
   ]
  },
  {
   "cell_type": "code",
   "execution_count": 7,
   "metadata": {
    "scrolled": true
   },
   "outputs": [
    {
     "name": "stdout",
     "output_type": "stream",
     "text": [
      "/home/pshah/mnt/qnap/Data/2020-03-18/J063/2020-03-18_J063_t-017/2020-03-18_J063_t-017_Cycle00001_Ch3.tif\n",
      "Processing naparm tiff of shape:  (10705, 512, 512)\n",
      "# of total photostim artifact frames: 2700\n",
      "After delete shape targetcells (8005, 512, 512)\n",
      "done saving to:  /home/pshah/mnt/qnap/Data/2020-03-18/J063/2020-03-18_J063_t-017/2020-03-18_t-017_targetcells.tif\n"
     ]
    }
   ],
   "source": [
    "### make a new tiff file (not for suite2p) with the first photostim frame whitened, and save new tiff\n",
    "import tifffile as tf\n",
    "\n",
    "tiff_path = tiffs_loc2\n",
    "print(tiff_path)\n",
    "im_stack = tf.imread(tiff_path, key=range(exp_obj.n_frames))\n",
    "print('Processing naparm tiff of shape: ',im_stack.shape) \n",
    "\n",
    "frames_to_whiten = []\n",
    "for j in exp_obj.stim_start_frames[0]:\n",
    "        frames_to_whiten.append(j)\n",
    "\n",
    "        \n",
    "# numba of photostim frames with artifacts\n",
    "frames_to_remove = []\n",
    "for j in exp_obj.stim_start_frames[0]:\n",
    "    for i in range(0, exp_obj.duration_frames+1): # usually need to remove 1 more frame than the stim duration, as the stim isn't perfectly aligned with the start of the imaging frame\n",
    "        frames_to_remove.append(j+i)\n",
    "\n",
    "print('# of total photostim artifact frames:',len(frames_to_remove))\n",
    "        \n",
    "    \n",
    "# im_stack_1 = im_stack\n",
    "# a = np.full_like(im_stack_1[0], fill_value=0)\n",
    "# a[0:100,0:100] = 5000.\n",
    "# for frame in frames_to_whiten:\n",
    "# #     im_stack_1[frame-3] = im_stack_1[frame-3]+a\n",
    "# #     im_stack_1[frame-2] = im_stack_1[frame-2]+a\n",
    "#     im_stack_1[frame-1] = im_stack_1[frame-1]+a    \n",
    "# print(im_stack_1.shape)\n",
    "\n",
    "# im_stack_1 = np.delete(im_stack_1, exp_obj.photostim_frames, axis=0)\n",
    "# print('After delete shape artifactrem',im_stack_1.shape)\n",
    "\n",
    "# tf.imwrite(\"/home/pshah/mnt/qnap/Data/2020-03-18/J063/2020-03-18_J063_%s/2020-03-18_%s_artifactrem.tif\" % (trial, trial),\n",
    "#            im_stack_1, photometric='minisblack')\n",
    "\n",
    "# del(im_stack_1)\n",
    "\n",
    "\n",
    "# draw areas on top of im_stack_1 where targets are:\n",
    "im_stack_2 = im_stack\n",
    "\n",
    "for stim in range(exp_obj.n_groups):\n",
    "    b = np.full_like(im_stack_2[0], fill_value=0)\n",
    "    targets = exp_obj.target_areas[stim]\n",
    "    for i in np.arange(len(targets)):\n",
    "        for j in targets[i]:\n",
    "            b[j]=5000\n",
    "    \n",
    "    all_stim_start_frames = []\n",
    "    for stim_frame in exp_obj.stim_start_frames[0][stim::exp_obj.n_groups]:\n",
    "        all_stim_start_frames.append(stim_frame)\n",
    "    for frame in all_stim_start_frames:\n",
    "#         im_stack_2[frame-4] = im_stack_2[frame-4]+b\n",
    "#         im_stack_2[frame-3] = im_stack_2[frame-3]+b\n",
    "#        im_stack_2[frame-2] = im_stack_2[frame-2]+b\n",
    "        im_stack_2[frame-1] = im_stack_2[frame-1]+b  \n",
    "\n",
    "        \n",
    "\n",
    "im_stack_2 = np.delete(im_stack_2, exp_obj.photostim_frames, axis=0)\n",
    "\n",
    "\n",
    "print('After delete shape targetcells',im_stack_2.shape)\n",
    "\n",
    "\n",
    "tf.imwrite(\"/home/pshah/mnt/qnap/Data/2020-03-18/J063/2020-03-18_J063_%s/2020-03-18_%s_targetcells.tif\" % (trial, trial),\n",
    "           im_stack_2, photometric='minisblack')\n",
    "\n",
    "print('done saving to: ', \"/home/pshah/mnt/qnap/Data/2020-03-18/J063/2020-03-18_J063_%s/2020-03-18_%s_targetcells.tif\" % (trial, trial))\n",
    "\n",
    "del(im_stack_2)\n",
    "del(im_stack)"
   ]
  },
  {
   "cell_type": "markdown",
   "metadata": {},
   "source": [
    "## Save exp_obj as pkl"
   ]
  },
  {
   "cell_type": "code",
   "execution_count": 34,
   "metadata": {},
   "outputs": [
    {
     "name": "stdout",
     "output_type": "stream",
     "text": [
      "Pkl saved to /home/pshah/mnt/qnap/Data/2020-03-18/J063/2020-03-18_J063_t-017/2020-03-18_t-017.pkl\n"
     ]
    }
   ],
   "source": [
    "## save exp_obj as pickle\n",
    "import pickle\n",
    "# Pickle the expobject output to save it for analysis\n",
    "pkl_path = '%s/2020-03-18_%s.pkl' % (tiffs_loc, trial)\n",
    "with open(pkl_path, 'wb') as f:\n",
    "        pickle.dump(exp_obj, f)\n",
    "print(\"Pkl saved to %s\" % pkl_path)"
   ]
  },
  {
   "cell_type": "markdown",
   "metadata": {},
   "source": [
    "## Run suite2p"
   ]
  },
  {
   "cell_type": "code",
   "execution_count": 22,
   "metadata": {},
   "outputs": [],
   "source": [
    "# tiffs to run s2p on\n",
    "to_suite2p = ['t-017']\n",
    "\n",
    "to_suite2p_tiffs = []\n",
    "for i in to_suite2p:\n",
    "    to_suite2p_tiffs.append('/home/pshah/mnt/qnap/Data/2020-03-18/J063/2020-03-18_J063_%s/2020-03-18_J063_%s_Cycle00001_Ch3.tif' % (i,i))"
   ]
  },
  {
   "cell_type": "code",
   "execution_count": 23,
   "metadata": {},
   "outputs": [],
   "source": [
    "import os\n",
    "\n",
    "data_path = []\n",
    "for i in to_suite2p:\n",
    "    data_path.append('/home/pshah/mnt/qnap/Data/2020-03-18/J063/2020-03-18_J063_%s/' % i)\n",
    "\n",
    "tiff_list = to_suite2p_tiffs\n",
    "\n",
    "# setup settings and run suite2p\n",
    "from suite2p.run_s2p import run_s2p\n",
    "\n",
    "ops = {\n",
    "        'batch_size': 2000, # reduce if running out of RAM\n",
    "        'fast_disk': os.path.expanduser('~/Documents/suite2p_binaries'), # used to store temporary binary file, defaults to save_path0 (set as a string NOT a list)\n",
    "         #'save_path0': '/media/jamesrowland/DATA/plab/suite_2p', # stores results, defaults to first item in data_path\n",
    "        'delete_bin': True, # whether to delete binary file after processing\n",
    "        # main settings\n",
    "        'nplanes' : 1, # each tiff has these many planes in sequence\n",
    "        'nchannels' : 1, # each tiff has these many channels per plane\n",
    "        'functional_chan' : 1, # this channel is used to extract functional ROIs (1-based)\n",
    "        'diameter': 5.5, # this is the main parameter for cell detection, 2-dimensional if Y and X are different (e.g. [6 12])\n",
    "        'tau':  1.26, # this is the main parameter for deconvolution (1.25-1.5 for gcamp6s)\n",
    "        'fs': 30.,  # sampling rate (total across planes)\n",
    "        # output settings\n",
    "        'save_mat': True, # whether to save output as matlab files\n",
    "        'combined': True, # combine multiple planes into a single result /single canvas for GUI\n",
    "        # parallel settings\n",
    "        'num_workers': 50, # 0 to select num_cores, -1 to disable parallelism, N to enforce value\n",
    "        'num_workers_roi': 50, # 0 to select number of planes, -1 to disable parallelism, N to enforce value\n",
    "        # registration settings\n",
    "        'do_registration': True, # whether to register data\n",
    "        'nimg_init': 200, # subsampled frames for finding reference image\n",
    "        'maxregshift': 0.1, # max allowed registration shift, as a fraction of frame max(width and height)\n",
    "        'align_by_chan' : 1, # when multi-channel, you can align by non-functional channel (1-based)\n",
    "        'reg_tif': False, # whether to save registered tiffs\n",
    "        'subpixel' : 10, # precision of subpixel registration (1/subpixel steps)\n",
    "        #'two_step_registration': True,\n",
    "        #'keep_movie_raw': True,\n",
    "        # cell detection settings\n",
    "        'connected': True, # whether or not to keep ROIs fully connected (set to 0 for dendrites)\n",
    "        'navg_frames_svd': 5000, # max number of binned frames for the SVD\n",
    "        'nsvd_for_roi': 1000, # max number of SVD components to keep for ROI detection\n",
    "        'max_iterations': 20, # maximum number of iterations to do cell detection\n",
    "        'ratio_neuropil': 6., # ratio between neuropil basis size and cell radius\n",
    "        'ratio_neuropil_to_cell': 3, # minimum ratio between neuropil radius and cell radius\n",
    "        'tile_factor': 1., # use finer (>1) or coarser (<1) tiles for neuropil estimation during cell detection\n",
    "        'threshold_scaling': 1., # adjust the automatically determined threshold by this scalar multiplier\n",
    "        'max_overlap': 0.75, # cells with more overlap than this get removed during triage, before refinement\n",
    "        'inner_neuropil_radius': 2, # number of pixels to keep between ROI and neuropil donut\n",
    "        'outer_neuropil_radius': np.inf, # maximum neuropil radius\n",
    "        'min_neuropil_pixels': 350, # minimum number of pixels in the neuropil\n",
    "        # deconvolution settings\n",
    "        'baseline': 'maximin', # baselining mode\n",
    "        'win_baseline': 60., # window for maximin\n",
    "        'sig_baseline': 10., # smoothing constant for gaussian filter\n",
    "        'prctile_baseline': 8.,# optional (whether to use a percentile baseline)\n",
    "        'neucoeff': .7,  # neuropil coefficient\n",
    "      }\n",
    "\n",
    "# make the local suite2p binaries file if it does not already exist\n",
    "if not os.path.exists(ops['fast_disk']):\n",
    "    os.mkdir(ops['fast_disk'])\n",
    "    \n",
    "# name of the folder to save results in (default = suite2p in data_path)\n",
    "save_folder = os.path.join('/home/pshah/mnt/qnap/Data/2020-03-18/J063/', 'suite2p/find_resp-4ap-t017')  \n",
    "\n",
    "\n",
    "diameter = 5  # the average diameter (in pixels) of a cell -- check in fiji\n",
    "fs = 30  # sampling rate of imaging (default 30 fps)\n",
    "nplanes = 1  # number of planes (default 1)\n",
    "nchannels = 1 # number of channels aquired (default 1)  \n",
    "\n",
    "db = {\n",
    "     'data_path': data_path,\n",
    "     'tiff_list': tiff_list, \n",
    "     'diameter': diameter, \n",
    "     'fs': fs,\n",
    "     'nplanes': nplanes,\n",
    "     'nchannels': nchannels,\n",
    "     'save_folder': save_folder\n",
    "     }"
   ]
  },
  {
   "cell_type": "code",
   "execution_count": 24,
   "metadata": {
    "scrolled": false
   },
   "outputs": [
    {
     "name": "stdout",
     "output_type": "stream",
     "text": [
      "{'data_path': ['/home/pshah/mnt/qnap/Data/2020-03-18/J063/2020-03-18_J063_t-017/'], 'tiff_list': ['/home/pshah/mnt/qnap/Data/2020-03-18/J063/2020-03-18_J063_t-017/2020-03-18_J063_t-017_Cycle00001_Ch3.tif'], 'diameter': 5, 'fs': 30, 'nplanes': 1, 'nchannels': 1, 'save_folder': '/home/pshah/mnt/qnap/Data/2020-03-18/J063/suite2p/find_resp-4ap-t017'}\n",
      "tif\n",
      "** Found 1 tifs - converting to binary **\n",
      "8000 frames of binary, time 260.64 sec.\n",
      "time 320.08 sec. Wrote tifs to binaries for 1 planes\n",
      ">>>>>>>>>>>>>>>>>>>>> PLANE 0 <<<<<<<<<<<<<<<<<<<<<<\n",
      "----------- REGISTRATION\n",
      "registering 10705 frames\n",
      "Reference frame, 5.52 sec.\n",
      "10000/10705 frames, 149.20 sec.\n",
      "10705/10705 frames, 159.66 sec.\n",
      "bad frames file path: /home/pshah/mnt/qnap/Data/2020-03-18/J063/2020-03-18_J063_t-017/bad_frames.npy\n",
      "number of badframes: 4617\n",
      "----------- Total 165.77 sec\n",
      "Registration metrics, 25.34 sec.\n",
      "----------- ROI DETECTION AND EXTRACTION\n",
      "Binning movie in chunks of length 38\n",
      "Binned movie [152,507,509], 6.00 sec.\n",
      "NOTE: estimated spatial scale ~6 pixels, time epochs 1.00, threshold 5.00 \n",
      "0 ROIs, score=131.02\n",
      "1000 ROIs, score=5.74\n",
      "2000 ROIs, score=5.01\n",
      "Found 2019 ROIs, 21.69 sec\n",
      "NOTE: applying classifier /home/pshah/anaconda3/lib/python3.7/site-packages/suite2p/extraction/../classifiers/classifier_user.npy\n"
     ]
    },
    {
     "name": "stderr",
     "output_type": "stream",
     "text": [
      "/home/pshah/anaconda3/lib/python3.7/site-packages/sklearn/linear_model/logistic.py:432: FutureWarning: Default solver will be changed to 'lbfgs' in 0.22. Specify a solver to silence this warning.\n",
      "  FutureWarning)\n"
     ]
    },
    {
     "name": "stdout",
     "output_type": "stream",
     "text": [
      "After removing overlaps, 1789 ROIs remain\n",
      "Masks made in 22.25 sec.\n",
      "Extracted fluorescence from 1789 ROIs in 10705 frames, 33.64 sec.\n",
      "----------- Total 86.38 sec.\n",
      "----------- SPIKE DECONVOLUTION\n",
      "----------- Total 45.21 sec.\n",
      "Plane 0 processed in 326.17 sec (can open in GUI).\n",
      "total = 160.40 sec.\n",
      "TOTAL RUNTIME 161.05 sec\n",
      "Total time this cell was running is 646.9133682250977\n"
     ]
    }
   ],
   "source": [
    "import time as time\n",
    "# run suite2p\n",
    "t1 = time.time()\n",
    "opsEnd=run_s2p(ops=ops,db=db)\n",
    "t2 = time.time()\n",
    "print('Total time this cell was running is {}'.format(t2-t1))\n",
    "\n",
    "%reset -f"
   ]
  },
  {
   "cell_type": "code",
   "execution_count": null,
   "metadata": {},
   "outputs": [],
   "source": []
  },
  {
   "cell_type": "code",
   "execution_count": 11,
   "metadata": {},
   "outputs": [
    {
     "name": "stdout",
     "output_type": "stream",
     "text": [
      "/home/pshah/mnt/qnap/Data/2020-03-19/2020-03-19_t-012/2020-03-19_t-012_Cycle00001_Ch3.tif\n",
      "(5259, 1024, 1024)\n"
     ]
    }
   ],
   "source": [
    "### make a new tiff file (not for suite2p) with the first photostim frame whitened, and save new tiff\n",
    "import tifffile as tf\n",
    "\n",
    "frames_to_remove = []\n",
    "for j in exp_obj.stim_start_frames[0]:\n",
    "    for i in range(0, exp_obj.duration_frames+1): # usually need to remove 1 more frame than the stim duration, as the stim isn't perfectly aligned with the start of the imaging frame\n",
    "        frames_to_remove.append(j+i)\n",
    "\n",
    "tiff_path = tiffs_loc2\n",
    "# tiff_path = '/home/pshah/mnt/qnap/Data/2020-03-19/photostim/2020-03-19_find_resp_001/Targets/FOVTargets_024_2020-03-19_find_resp_001.tif'\n",
    "# im_stack = tf.imread(tiff_path); print(im_stack.shape)\n",
    "print(tiff_path)\n",
    "im_stack = tf.imread(tiff_path, key=range(exp_obj.n_frames)); print(im_stack.shape)\n",
    "im_stack_2 = im_stack"
   ]
  },
  {
   "cell_type": "code",
   "execution_count": 20,
   "metadata": {
    "scrolled": true
   },
   "outputs": [
    {
     "name": "stdout",
     "output_type": "stream",
     "text": [
      "10\n"
     ]
    }
   ],
   "source": [
    "print(len(exp_obj.stim_start_frames[0][26::33]))\n",
    "stim = 5\n",
    "all_stim_start_frames = []\n",
    "for stim_frame in exp_obj.stim_start_frames[0][stim::exp_obj.n_groups]:\n",
    "    all_stim_start_frames.append(stim_frame)\n",
    "\n",
    "len(exp_obj.target_coords[stim])\n",
    "# exp_obj.target_areas[stim][0]\n",
    "# targets = np.floor_divide(exp_obj.target_areas[stim], 2)\n",
    "# targets\n",
    "\n",
    "b = np.full_like(im_stack_2[0], fill_value=0)\n",
    "targets = exp_obj.target_areas[stim]; len(targets)\n",
    "#b[[*targets[0]]]=5000\n",
    "for i in np.arange(len(targets)):\n",
    "    for j in targets[i]:\n",
    "        b[j]=5000\n"
   ]
  },
  {
   "cell_type": "code",
   "execution_count": 13,
   "metadata": {
    "scrolled": true
   },
   "outputs": [
    {
     "data": {
      "text/plain": [
       "20"
      ]
     },
     "execution_count": 13,
     "metadata": {},
     "output_type": "execute_result"
    }
   ],
   "source": [
    "stim=6\n",
    "len(exp_obj.target_areas[stim])"
   ]
  },
  {
   "cell_type": "code",
   "execution_count": 1,
   "metadata": {},
   "outputs": [
    {
     "ename": "NameError",
     "evalue": "name 'np' is not defined",
     "output_type": "error",
     "traceback": [
      "\u001b[0;31m---------------------------------------------------------------------------\u001b[0m",
      "\u001b[0;31mNameError\u001b[0m                                 Traceback (most recent call last)",
      "\u001b[0;32m<ipython-input-1-edb0cf296789>\u001b[0m in \u001b[0;36m<module>\u001b[0;34m\u001b[0m\n\u001b[0;32m----> 1\u001b[0;31m \u001b[0mb\u001b[0m \u001b[0;34m=\u001b[0m \u001b[0mnp\u001b[0m\u001b[0;34m.\u001b[0m\u001b[0mfull_like\u001b[0m\u001b[0;34m(\u001b[0m\u001b[0mexp_obj\u001b[0m\u001b[0;34m.\u001b[0m\u001b[0mframe_x\u001b[0m\u001b[0;34m,\u001b[0m \u001b[0mfill_value\u001b[0m\u001b[0;34m=\u001b[0m\u001b[0;36m0\u001b[0m\u001b[0;34m)\u001b[0m\u001b[0;34m\u001b[0m\u001b[0;34m\u001b[0m\u001b[0m\n\u001b[0m\u001b[1;32m      2\u001b[0m \u001b[0;32mfor\u001b[0m \u001b[0mstim\u001b[0m \u001b[0;32min\u001b[0m \u001b[0mrange\u001b[0m\u001b[0;34m(\u001b[0m\u001b[0mexp_obj\u001b[0m\u001b[0;34m.\u001b[0m\u001b[0mn_groups\u001b[0m\u001b[0;34m)\u001b[0m\u001b[0;34m:\u001b[0m\u001b[0;34m\u001b[0m\u001b[0;34m\u001b[0m\u001b[0m\n\u001b[1;32m      3\u001b[0m     \u001b[0;31m#targets = np.floor_divide(exp_obj.target_areas[stim], 2)\u001b[0m\u001b[0;34m\u001b[0m\u001b[0;34m\u001b[0m\u001b[0;34m\u001b[0m\u001b[0m\n\u001b[1;32m      4\u001b[0m     \u001b[0mtargets\u001b[0m \u001b[0;34m=\u001b[0m \u001b[0mexp_obj\u001b[0m\u001b[0;34m.\u001b[0m\u001b[0mtarget_areas\u001b[0m\u001b[0;34m[\u001b[0m\u001b[0mstim\u001b[0m\u001b[0;34m]\u001b[0m\u001b[0;34m\u001b[0m\u001b[0;34m\u001b[0m\u001b[0m\n\u001b[1;32m      5\u001b[0m     \u001b[0;32mfor\u001b[0m \u001b[0mi\u001b[0m \u001b[0;32min\u001b[0m \u001b[0mnp\u001b[0m\u001b[0;34m.\u001b[0m\u001b[0marange\u001b[0m\u001b[0;34m(\u001b[0m\u001b[0mlen\u001b[0m\u001b[0;34m(\u001b[0m\u001b[0mtargets\u001b[0m\u001b[0;34m)\u001b[0m\u001b[0;34m)\u001b[0m\u001b[0;34m:\u001b[0m\u001b[0;34m\u001b[0m\u001b[0;34m\u001b[0m\u001b[0m\n",
      "\u001b[0;31mNameError\u001b[0m: name 'np' is not defined"
     ]
    }
   ],
   "source": [
    "b = np.full_like(exp_obj.frame_x, fill_value=0)\n",
    "for stim in range(exp_obj.n_groups):\n",
    "    #targets = np.floor_divide(exp_obj.target_areas[stim], 2)\n",
    "    targets = exp_obj.target_areas[stim]\n",
    "    for i in np.arange(len(targets)):\n",
    "        for j in targets[i]:\n",
    "            b[j]=5000\n",
    "b.shape()"
   ]
  },
  {
   "cell_type": "code",
   "execution_count": 15,
   "metadata": {},
   "outputs": [
    {
     "data": {
      "text/plain": [
       "2.0"
      ]
     },
     "execution_count": 15,
     "metadata": {},
     "output_type": "execute_result"
    }
   ],
   "source": [
    "exp_obj.frame_x/512"
   ]
  },
  {
   "cell_type": "code",
   "execution_count": 18,
   "metadata": {
    "scrolled": true
   },
   "outputs": [
    {
     "data": {
      "image/png": "[encoded data removed]",
      "text/plain": [
       "<Figure size 432x288 with 1 Axes>"
      ]
     },
     "metadata": {
      "needs_background": "light"
     },
     "output_type": "display_data"
    }
   ],
   "source": [
    "import matplotlib.pyplot as plt\n",
    "plt.imshow(b); plt.show()"
   ]
  },
  {
   "cell_type": "code",
   "execution_count": 24,
   "metadata": {},
   "outputs": [
    {
     "data": {
      "text/plain": [
       "[(434.0, 594.0),\n",
       " (440.0, 566.0),\n",
       " (440.0, 624.0),\n",
       " (442.0, 606.0),\n",
       " (444.0, 580.0),\n",
       " (448.0, 634.0),\n",
       " (452.0, 598.0),\n",
       " (460.0, 560.0),\n",
       " (460.0, 626.0),\n",
       " (466.0, 650.0),\n",
       " (468.0, 580.0),\n",
       " (468.0, 612.0),\n",
       " (470.0, 590.0),\n",
       " (476.0, 626.0),\n",
       " (478.0, 572.0),\n",
       " (486.0, 620.0),\n",
       " (488.0, 654.0),\n",
       " (502.0, 546.0),\n",
       " (514.0, 578.0),\n",
       " (518.0, 624.0),\n",
       " (518.0, 662.0),\n",
       " (522.0, 678.0),\n",
       " (534.0, 666.0),\n",
       " (542.0, 602.0),\n",
       " (546.0, 620.0)]"
      ]
     },
     "execution_count": 24,
     "metadata": {},
     "output_type": "execute_result"
    }
   ],
   "source": [
    "exp_obj.target_coords[23]"
   ]
  },
  {
   "cell_type": "code",
   "execution_count": null,
   "metadata": {},
   "outputs": [],
   "source": []
  },
  {
   "cell_type": "code",
   "execution_count": null,
   "metadata": {},
   "outputs": [],
   "source": []
  },
  {
   "cell_type": "code",
   "execution_count": 28,
   "metadata": {},
   "outputs": [
    {
     "name": "stdout",
     "output_type": "stream",
     "text": [
      "/home/pshah/mnt/qnap/Data/2020-03-19/2020-03-19_t-002/2020-03-19_t-002_Cycle00001_Ch3.tif\n",
      "Processing naparm tiff of shape:  (4357, 1024, 1024)\n",
      "After delete shape targetcells (3007, 1024, 1024)\n",
      "done saving\n"
     ]
    }
   ],
   "source": [
    "### make a new tiff file (not for suite2p) with the first photostim frame whitened, and save new tiff\n",
    "import tifffile as tf\n",
    "\n",
    "tiff_path = tiffs_loc2\n",
    "print(tiff_path)\n",
    "im_stack = tf.imread(tiff_path, key=range(exp_obj.n_frames))\n",
    "\n",
    "print('Processing naparm tiff of shape: ',im_stack.shape) \n",
    "# draw areas on top of im_stack_1 where targets are:\n",
    "im_stack_2 = im_stack\n",
    "\n",
    "for stim in range(exp_obj.n_groups):\n",
    "    b = np.full_like(im_stack_2[0], fill_value=0)\n",
    "    targets = exp_obj.target_areas[stim]\n",
    "    for i in np.arange(len(targets)):\n",
    "        for j in targets[i]:\n",
    "            b[j]=5000\n",
    "    \n",
    "    all_stim_start_frames = []\n",
    "    for stim_frame in exp_obj.stim_start_frames[0][stim::exp_obj.n_groups]:\n",
    "        all_stim_start_frames.append(stim_frame)\n",
    "    for frame in all_stim_start_frames:\n",
    "#         im_stack_2[frame-4] = im_stack_2[frame-4]+b\n",
    "#         im_stack_2[frame-3] = im_stack_2[frame-3]+b\n",
    "#        im_stack_2[frame-2] = im_stack_2[frame-2]+b\n",
    "        im_stack_2[frame-1] = im_stack_2[frame-1]+b  \n",
    "\n",
    "        \n",
    "\n",
    "im_stack_2 = np.delete(im_stack_2, exp_obj.photostim_frames, axis=0)\n",
    "\n",
    "\n",
    "print('After delete shape targetcells',im_stack_2.shape)\n",
    "\n",
    "\n",
    "tf.imwrite(\"/home/pshah/mnt/qnap/Data/2020-03-19/2020-03-19_%s/2020-03-19_%s_targetcells.tif\" % (trial, trial),\n",
    "           im_stack_2, photometric='minisblack')\n",
    "\n",
    "print('done saving')\n",
    "\n",
    "del(im_stack_2)\n",
    "del(im_stack)\n",
    "\n"
   ]
  }
 ],
 "metadata": {
  "kernelspec": {
   "display_name": "Python 3",
   "language": "python",
   "name": "python3"
  },
  "language_info": {
   "codemirror_mode": {
    "name": "ipython",
    "version": 3
   },
   "file_extension": ".py",
   "mimetype": "text/x-python",
   "name": "python",
   "nbconvert_exporter": "python",
   "pygments_lexer": "ipython3",
   "version": "3.7.4"
  }
 },
 "nbformat": 4,
 "nbformat_minor": 2
}
