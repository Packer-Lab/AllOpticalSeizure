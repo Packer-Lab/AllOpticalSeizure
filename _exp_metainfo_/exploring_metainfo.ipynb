{
 "cells": [
  {
   "cell_type": "code",
   "execution_count": 1,
   "id": "initial_id",
   "metadata": {
    "collapsed": true,
    "ExecuteTime": {
     "end_time": "2024-03-30T16:11:28.734904Z",
     "start_time": "2024-03-30T16:11:27.014039Z"
    }
   },
   "outputs": [],
   "source": [
    "import sys\n",
    "\n",
    "sys.path.extend(['/home/pshah/Documents/code/AllOpticalSeizure', '/home/pshah/Documents/code/AllOpticalSeizure'])\n",
    "\n",
    "import reproducible_figures as rfv\n",
    "from _utils_.io import import_expobj\n",
    "\n",
    "from _main_.Post4apMain import Post4ap"
   ]
  },
  {
   "cell_type": "markdown",
   "source": [
    "## Get the FOV size for RL108 t-013"
   ],
   "metadata": {
    "collapsed": false
   },
   "id": "ad015be222c522b5"
  },
  {
   "cell_type": "code",
   "outputs": [
    {
     "name": "stdout",
     "output_type": "stream",
     "text": [
      "Loading Results Analysis object from /home/pshah/mnt/qnap/Analysis/analysis_export/analysis_quantification_classes/Results__ExpSeizure.pkl ... \n",
      "Python 3.9.7 (default, Sep 16 2021, 13:09:58) \n",
      "[GCC 7.5.0] on linux\n",
      "Loading Results Analysis object from /home/pshah/mnt/qnap/Analysis/analysis_export/analysis_quantification_classes/Results__PhotostimResponsesSLMtargets.pkl ... \n",
      "Loading Results Analysis object from /home/pshah/mnt/qnap/Analysis/analysis_export/analysis_quantification_classes/Results__PhotostimResponsesSLMtargets.pkl ... \n",
      "|- Loaded RL108 t-013 (from /home/pshah/mnt/qnap/Analysis/2020-12-18/RL108/2020-12-18_t-013/2020-12-18_t-013.pkl) ... DONE\n"
     ]
    }
   ],
   "source": [
    "# get the FOV size for RL108 t-013\n",
    "\n",
    "expobj: Post4ap = import_expobj(exp_prep='RL108 t-013')\n"
   ],
   "metadata": {
    "collapsed": false,
    "ExecuteTime": {
     "end_time": "2024-03-30T16:11:39.992072Z",
     "start_time": "2024-03-30T16:11:35.636610Z"
    }
   },
   "id": "cb037e7654e624f0",
   "execution_count": 2
  },
  {
   "cell_type": "code",
   "outputs": [
    {
     "name": "stdout",
     "output_type": "stream",
     "text": [
      "FOV size (microns x microns): (1398.134267293051, 1398.134267293051)\n"
     ]
    }
   ],
   "source": [
    "print(f\"FOV size (microns x microns): {expobj.fov_size}\")\n"
   ],
   "metadata": {
    "collapsed": false,
    "ExecuteTime": {
     "end_time": "2024-03-30T16:15:19.374878Z",
     "start_time": "2024-03-30T16:15:19.355429Z"
    }
   },
   "id": "3c9f5fbe45436f5a",
   "execution_count": 7
  }
 ],
 "metadata": {
  "kernelspec": {
   "display_name": "Python 3",
   "language": "python",
   "name": "python3"
  },
  "language_info": {
   "codemirror_mode": {
    "name": "ipython",
    "version": 2
   },
   "file_extension": ".py",
   "mimetype": "text/x-python",
   "name": "python",
   "nbconvert_exporter": "python",
   "pygments_lexer": "ipython2",
   "version": "2.7.6"
  }
 },
 "nbformat": 4,
 "nbformat_minor": 5
}
