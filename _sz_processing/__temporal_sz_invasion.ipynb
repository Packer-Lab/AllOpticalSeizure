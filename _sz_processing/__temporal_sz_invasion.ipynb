{
 "cells": [
  {
   "cell_type": "markdown",
   "id": "norman-nicholas",
   "metadata": {},
   "source": [
    "### notebook to work through calculating the delay to seizure invasion for each SLM target for each experiment\n",
    "\n",
    "- uses clicking extension and custom Klickers class to collect data across multiple axs"
   ]
  },
  {
   "cell_type": "code",
   "execution_count": 1,
   "id": "modular-elephant",
   "metadata": {},
   "outputs": [
    {
     "name": "stdout",
     "output_type": "stream",
     "text": [
      "['', '/Users/prajayshah/OneDrive/PycharmProjects/AllOpticalSeizure', '/Users/prajayshah/anaconda3/lib/python36.zip', '/Users/prajayshah/anaconda3/lib/python3.6', '/Users/prajayshah/anaconda3/lib/python3.6/lib-dynload', '/Users/prajayshah/.local/lib/python3.6/site-packages', '/Users/prajayshah/anaconda3/lib/python3.6/site-packages', '/Users/prajayshah/anaconda3/lib/python3.6/site-packages/aeosa', '/Users/prajayshah/OneDrive/PycharmProjects/packerlabimaging/src', '/Users/prajayshah/OneDrive/PycharmProjects/funcsforprajay/src', '/Users/prajayshah/anaconda3/lib/python3.6/site-packages/IPython/extensions', '/Users/prajayshah/.ipython', '/Users/prajayshah/OneDrive/PycharmProjects/AllOpticalSeizure/_sz_processing']\n"
     ]
    }
   ],
   "source": [
    "import sys\n",
    "sys.path.extend(['/Users/prajayshah/OneDrive/PycharmProjects/AllOpticalSeizure/_sz_processing'])\n",
    "print(sys.path)"
   ]
  },
  {
   "cell_type": "code",
   "execution_count": null,
   "id": "vanilla-oklahoma",
   "metadata": {
    "scrolled": false,
    "pycharm": {
     "is_executing": true
    }
   },
   "outputs": [],
   "source": [
    "%matplotlib notebook\n",
    "\n",
    "\n",
    "\n",
    "k = plot_klickers_photostim_traces(array=expobj.raw_SLMTargets[:4], expobj=expobj)"
   ]
  },
  {
   "cell_type": "code",
   "execution_count": null,
   "id": "corrected-international",
   "metadata": {},
   "outputs": [],
   "source": [
    "\n",
    "\n",
    "import matplotlib.pyplot as plt\n",
    "import numpy as np\n",
    "\n",
    "\n",
    "from mpl_point_clicker import clicker\n",
    "\n",
    "image = np.random.rand(512,512)\n",
    "\n",
    "fig, ax = plt.subplots()\n",
    "ax.imshow(image, cmap='gray')\n",
    "klicker = clicker(ax, ['cells', 'pdms', 'media'], markers=['o', 'x', '*'])\n",
    "plt.show()\n",
    "\n",
    "\n",
    "print(klicker.get_positions())"
   ]
  },
  {
   "cell_type": "code",
   "execution_count": null,
   "id": "secure-lender",
   "metadata": {},
   "outputs": [],
   "source": []
  }
 ],
 "metadata": {
  "kernelspec": {
   "display_name": "Python 3 (ipykernel)",
   "language": "python",
   "name": "python3"
  },
  "language_info": {
   "codemirror_mode": {
    "name": "ipython",
    "version": 3
   },
   "file_extension": ".py",
   "mimetype": "text/x-python",
   "name": "python",
   "nbconvert_exporter": "python",
   "pygments_lexer": "ipython3",
   "version": "3.8.12"
  }
 },
 "nbformat": 4,
 "nbformat_minor": 5
}
