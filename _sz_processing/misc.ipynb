{
 "cells": [
  {
   "cell_type": "code",
   "execution_count": 1,
   "metadata": {
    "collapsed": true
   },
   "outputs": [
    {
     "name": "stdout",
     "output_type": "stream",
     "text": [
      "\n",
      "importing resultsobj from: /Users/prajayshah/OneDrive/UTPhD/2022/OXFORD/expobj/alloptical_results_superobject.pkl ... \n"
     ]
    },
    {
     "name": "stderr",
     "output_type": "stream",
     "text": [
      "OMP: Info #271: omp_set_nested routine deprecated, please use omp_set_max_active_levels instead.\n"
     ]
    },
    {
     "name": "stdout",
     "output_type": "stream",
     "text": [
      "Warning: cellpose did not import\n",
      "No module named 'cellpose'\n",
      "cannot use anatomical mode, but otherwise suite2p will run normally\n",
      "\n",
      "importing resultsobj from: /Users/prajayshah/OneDrive/UTPhD/2022/OXFORD/expobj/alloptical_results_superobject.pkl ... \n",
      "|-DONE IMPORT of <class 'alloptical_utils_pj.AllOpticalResults'> resultsobj \n",
      "\n",
      "\n",
      "|-DONE IMPORT of <class 'alloptical_utils_pj.AllOpticalResults'> resultsobj \n",
      "\n",
      "\n",
      "|- Loaded RL109 t-016 (/Users/prajayshah/OneDrive/UTPhD/2022/OXFORD/expobj/2020-12-19_t-016.pkl) .. DONE\n",
      "\n",
      " .......... INITIATING FOR LOOP ACROSS EXPS ..........\n",
      "\n",
      "\n",
      " .......... [2] INITIATING FOR LOOP ACROSS EXPS ..........\n",
      "\n",
      "\n",
      " .......... INITIATING FOR LOOP ACROSS EXPS ..........\n",
      "\n",
      "\n",
      " .......... [2] INITIATING FOR LOOP ACROSS EXPS ..........\n",
      "\n"
     ]
    }
   ],
   "source": [
    "import sys\n",
    "sys.path.extend(['/Users/prajayshah/OneDrive/PycharmProjects/AllOpticalSeizure/_sz_processing'])\n",
    "sys.path.extend(['/Users/prajayshah/OneDrive/PycharmProjects/AllOpticalSeizure/'])\n",
    "# print(sys.path)\n",
    "\n",
    "\n",
    "import _utils_.io as _io\n",
    "%matplotlib notebook\n",
    "# %matplotlib inline\n",
    "from mpl_point_clicker import clicker\n",
    "from _sz_processing.temporal_delay_to_sz_invasion import *"
   ]
  },
  {
   "cell_type": "code",
   "execution_count": 8,
   "outputs": [
    {
     "name": "stdout",
     "output_type": "stream",
     "text": [
      "|- Loaded PS11 t-011 (/Users/prajayshah/OneDrive/UTPhD/2022/OXFORD/expobj/2021-01-24_t-011.pkl) .. DONE\n",
      "Total targets: 48\n"
     ]
    },
    {
     "data": {
      "text/plain": "   stim_start_frame wvfront in sz  seizure_num\n0                88         False           -1\n1               238         False           -1\n2               389         False           -1\n3               539         False           -1\n4               689         False           -1\n5               839         False           -1\n6               990         False           -1\n7              1140         False           -1\n8              1290         False           -1\n9              1440         False           -1\n10             1591         False           -1\n11             1741         False           -1\n12             1891         False           -1\n13             2041         False           -1\n14             2191         False           -1\n15             2342         False           -1\n16             2492         False           -1\n17             2642         False           -1\n18             2792          True            1\n19             2943         False           -1\n20             3093         False           -1\n21             3243          True            2\n22             3393         False           -1\n23             3544         False           -1\n24             3694         False           -1\n25             3844         False           -1\n26             3994          True            3\n27             4144         False           -1\n28             4295         False           -1\n29             4445         False           -1\n30             4595         False           -1\n31             4745          True            4\n32             4896         False           -1\n33             5046         False           -1\n34             5196         False           -1\n35             5346         False           -1\n36             5497          True            5\n37             5647          True            5\n38             5797         False           -1\n39             5947         False           -1\n40             6098         False           -1\n41             6248         False           -1\n42             6398         False           -1\n43             6548         False           -1\n44             6698         False           -1\n45             6849          True            7\n46             6999         False           -1\n47             7149         False           -1\n48             7299         False           -1\n49             7450         False           -1\n50             7600         False           -1\n51             7750         False           -1\n52             7900          True            8\n53             8051         False           -1\n54             8201         False           -1\n55             8351         False           -1\n56             8501         False           -1\n57             8652         False           -1\n58             8802          True            9\n59             8952          True            9\n60             9102         False           -1\n61             9252         False           -1\n62             9403         False           -1\n63             9553         False           -1\n64             9703         False           -1\n65             9853         False           -1\n66            10004          True           10\n67            10154         False           -1\n68            10304         False           -1\n69            10454         False           -1\n70            10605         False           -1\n71            10755          True           11\n72            10905          True           11\n73            11055         False           -1\n74            11205         False           -1\n75            11356         False           -1\n76            11506         False           -1\n77            11656         False           -1\n78            11806         False           -1\n79            11957          True           12\n80            12107          True           12\n81            12257          True           12\n82            12407          True           12\n83            12558          True           12\n84            12708          True           12\n85            12858         False           -1\n86            13008         False           -1\n87            13159         False           -1\n88            13309         False           -1\n89            13459         False           -1\n90            13609         False           -1\n91            13759         False           -1\n92            13910         False           -1\n93            14060          True           13\n94            14210          True           13\n95            14360         False           -1\n96            14511         False           -1\n97            14661         False           -1\n98            14811         False           -1\n99            14961         False           -1",
      "text/html": "<div>\n<style scoped>\n    .dataframe tbody tr th:only-of-type {\n        vertical-align: middle;\n    }\n\n    .dataframe tbody tr th {\n        vertical-align: top;\n    }\n\n    .dataframe thead th {\n        text-align: right;\n    }\n</style>\n<table border=\"1\" class=\"dataframe\">\n  <thead>\n    <tr style=\"text-align: right;\">\n      <th></th>\n      <th>stim_start_frame</th>\n      <th>wvfront in sz</th>\n      <th>seizure_num</th>\n    </tr>\n  </thead>\n  <tbody>\n    <tr>\n      <th>0</th>\n      <td>88</td>\n      <td>False</td>\n      <td>-1</td>\n    </tr>\n    <tr>\n      <th>1</th>\n      <td>238</td>\n      <td>False</td>\n      <td>-1</td>\n    </tr>\n    <tr>\n      <th>2</th>\n      <td>389</td>\n      <td>False</td>\n      <td>-1</td>\n    </tr>\n    <tr>\n      <th>3</th>\n      <td>539</td>\n      <td>False</td>\n      <td>-1</td>\n    </tr>\n    <tr>\n      <th>4</th>\n      <td>689</td>\n      <td>False</td>\n      <td>-1</td>\n    </tr>\n    <tr>\n      <th>5</th>\n      <td>839</td>\n      <td>False</td>\n      <td>-1</td>\n    </tr>\n    <tr>\n      <th>6</th>\n      <td>990</td>\n      <td>False</td>\n      <td>-1</td>\n    </tr>\n    <tr>\n      <th>7</th>\n      <td>1140</td>\n      <td>False</td>\n      <td>-1</td>\n    </tr>\n    <tr>\n      <th>8</th>\n      <td>1290</td>\n      <td>False</td>\n      <td>-1</td>\n    </tr>\n    <tr>\n      <th>9</th>\n      <td>1440</td>\n      <td>False</td>\n      <td>-1</td>\n    </tr>\n    <tr>\n      <th>10</th>\n      <td>1591</td>\n      <td>False</td>\n      <td>-1</td>\n    </tr>\n    <tr>\n      <th>11</th>\n      <td>1741</td>\n      <td>False</td>\n      <td>-1</td>\n    </tr>\n    <tr>\n      <th>12</th>\n      <td>1891</td>\n      <td>False</td>\n      <td>-1</td>\n    </tr>\n    <tr>\n      <th>13</th>\n      <td>2041</td>\n      <td>False</td>\n      <td>-1</td>\n    </tr>\n    <tr>\n      <th>14</th>\n      <td>2191</td>\n      <td>False</td>\n      <td>-1</td>\n    </tr>\n    <tr>\n      <th>15</th>\n      <td>2342</td>\n      <td>False</td>\n      <td>-1</td>\n    </tr>\n    <tr>\n      <th>16</th>\n      <td>2492</td>\n      <td>False</td>\n      <td>-1</td>\n    </tr>\n    <tr>\n      <th>17</th>\n      <td>2642</td>\n      <td>False</td>\n      <td>-1</td>\n    </tr>\n    <tr>\n      <th>18</th>\n      <td>2792</td>\n      <td>True</td>\n      <td>1</td>\n    </tr>\n    <tr>\n      <th>19</th>\n      <td>2943</td>\n      <td>False</td>\n      <td>-1</td>\n    </tr>\n    <tr>\n      <th>20</th>\n      <td>3093</td>\n      <td>False</td>\n      <td>-1</td>\n    </tr>\n    <tr>\n      <th>21</th>\n      <td>3243</td>\n      <td>True</td>\n      <td>2</td>\n    </tr>\n    <tr>\n      <th>22</th>\n      <td>3393</td>\n      <td>False</td>\n      <td>-1</td>\n    </tr>\n    <tr>\n      <th>23</th>\n      <td>3544</td>\n      <td>False</td>\n      <td>-1</td>\n    </tr>\n    <tr>\n      <th>24</th>\n      <td>3694</td>\n      <td>False</td>\n      <td>-1</td>\n    </tr>\n    <tr>\n      <th>25</th>\n      <td>3844</td>\n      <td>False</td>\n      <td>-1</td>\n    </tr>\n    <tr>\n      <th>26</th>\n      <td>3994</td>\n      <td>True</td>\n      <td>3</td>\n    </tr>\n    <tr>\n      <th>27</th>\n      <td>4144</td>\n      <td>False</td>\n      <td>-1</td>\n    </tr>\n    <tr>\n      <th>28</th>\n      <td>4295</td>\n      <td>False</td>\n      <td>-1</td>\n    </tr>\n    <tr>\n      <th>29</th>\n      <td>4445</td>\n      <td>False</td>\n      <td>-1</td>\n    </tr>\n    <tr>\n      <th>30</th>\n      <td>4595</td>\n      <td>False</td>\n      <td>-1</td>\n    </tr>\n    <tr>\n      <th>31</th>\n      <td>4745</td>\n      <td>True</td>\n      <td>4</td>\n    </tr>\n    <tr>\n      <th>32</th>\n      <td>4896</td>\n      <td>False</td>\n      <td>-1</td>\n    </tr>\n    <tr>\n      <th>33</th>\n      <td>5046</td>\n      <td>False</td>\n      <td>-1</td>\n    </tr>\n    <tr>\n      <th>34</th>\n      <td>5196</td>\n      <td>False</td>\n      <td>-1</td>\n    </tr>\n    <tr>\n      <th>35</th>\n      <td>5346</td>\n      <td>False</td>\n      <td>-1</td>\n    </tr>\n    <tr>\n      <th>36</th>\n      <td>5497</td>\n      <td>True</td>\n      <td>5</td>\n    </tr>\n    <tr>\n      <th>37</th>\n      <td>5647</td>\n      <td>True</td>\n      <td>5</td>\n    </tr>\n    <tr>\n      <th>38</th>\n      <td>5797</td>\n      <td>False</td>\n      <td>-1</td>\n    </tr>\n    <tr>\n      <th>39</th>\n      <td>5947</td>\n      <td>False</td>\n      <td>-1</td>\n    </tr>\n    <tr>\n      <th>40</th>\n      <td>6098</td>\n      <td>False</td>\n      <td>-1</td>\n    </tr>\n    <tr>\n      <th>41</th>\n      <td>6248</td>\n      <td>False</td>\n      <td>-1</td>\n    </tr>\n    <tr>\n      <th>42</th>\n      <td>6398</td>\n      <td>False</td>\n      <td>-1</td>\n    </tr>\n    <tr>\n      <th>43</th>\n      <td>6548</td>\n      <td>False</td>\n      <td>-1</td>\n    </tr>\n    <tr>\n      <th>44</th>\n      <td>6698</td>\n      <td>False</td>\n      <td>-1</td>\n    </tr>\n    <tr>\n      <th>45</th>\n      <td>6849</td>\n      <td>True</td>\n      <td>7</td>\n    </tr>\n    <tr>\n      <th>46</th>\n      <td>6999</td>\n      <td>False</td>\n      <td>-1</td>\n    </tr>\n    <tr>\n      <th>47</th>\n      <td>7149</td>\n      <td>False</td>\n      <td>-1</td>\n    </tr>\n    <tr>\n      <th>48</th>\n      <td>7299</td>\n      <td>False</td>\n      <td>-1</td>\n    </tr>\n    <tr>\n      <th>49</th>\n      <td>7450</td>\n      <td>False</td>\n      <td>-1</td>\n    </tr>\n    <tr>\n      <th>50</th>\n      <td>7600</td>\n      <td>False</td>\n      <td>-1</td>\n    </tr>\n    <tr>\n      <th>51</th>\n      <td>7750</td>\n      <td>False</td>\n      <td>-1</td>\n    </tr>\n    <tr>\n      <th>52</th>\n      <td>7900</td>\n      <td>True</td>\n      <td>8</td>\n    </tr>\n    <tr>\n      <th>53</th>\n      <td>8051</td>\n      <td>False</td>\n      <td>-1</td>\n    </tr>\n    <tr>\n      <th>54</th>\n      <td>8201</td>\n      <td>False</td>\n      <td>-1</td>\n    </tr>\n    <tr>\n      <th>55</th>\n      <td>8351</td>\n      <td>False</td>\n      <td>-1</td>\n    </tr>\n    <tr>\n      <th>56</th>\n      <td>8501</td>\n      <td>False</td>\n      <td>-1</td>\n    </tr>\n    <tr>\n      <th>57</th>\n      <td>8652</td>\n      <td>False</td>\n      <td>-1</td>\n    </tr>\n    <tr>\n      <th>58</th>\n      <td>8802</td>\n      <td>True</td>\n      <td>9</td>\n    </tr>\n    <tr>\n      <th>59</th>\n      <td>8952</td>\n      <td>True</td>\n      <td>9</td>\n    </tr>\n    <tr>\n      <th>60</th>\n      <td>9102</td>\n      <td>False</td>\n      <td>-1</td>\n    </tr>\n    <tr>\n      <th>61</th>\n      <td>9252</td>\n      <td>False</td>\n      <td>-1</td>\n    </tr>\n    <tr>\n      <th>62</th>\n      <td>9403</td>\n      <td>False</td>\n      <td>-1</td>\n    </tr>\n    <tr>\n      <th>63</th>\n      <td>9553</td>\n      <td>False</td>\n      <td>-1</td>\n    </tr>\n    <tr>\n      <th>64</th>\n      <td>9703</td>\n      <td>False</td>\n      <td>-1</td>\n    </tr>\n    <tr>\n      <th>65</th>\n      <td>9853</td>\n      <td>False</td>\n      <td>-1</td>\n    </tr>\n    <tr>\n      <th>66</th>\n      <td>10004</td>\n      <td>True</td>\n      <td>10</td>\n    </tr>\n    <tr>\n      <th>67</th>\n      <td>10154</td>\n      <td>False</td>\n      <td>-1</td>\n    </tr>\n    <tr>\n      <th>68</th>\n      <td>10304</td>\n      <td>False</td>\n      <td>-1</td>\n    </tr>\n    <tr>\n      <th>69</th>\n      <td>10454</td>\n      <td>False</td>\n      <td>-1</td>\n    </tr>\n    <tr>\n      <th>70</th>\n      <td>10605</td>\n      <td>False</td>\n      <td>-1</td>\n    </tr>\n    <tr>\n      <th>71</th>\n      <td>10755</td>\n      <td>True</td>\n      <td>11</td>\n    </tr>\n    <tr>\n      <th>72</th>\n      <td>10905</td>\n      <td>True</td>\n      <td>11</td>\n    </tr>\n    <tr>\n      <th>73</th>\n      <td>11055</td>\n      <td>False</td>\n      <td>-1</td>\n    </tr>\n    <tr>\n      <th>74</th>\n      <td>11205</td>\n      <td>False</td>\n      <td>-1</td>\n    </tr>\n    <tr>\n      <th>75</th>\n      <td>11356</td>\n      <td>False</td>\n      <td>-1</td>\n    </tr>\n    <tr>\n      <th>76</th>\n      <td>11506</td>\n      <td>False</td>\n      <td>-1</td>\n    </tr>\n    <tr>\n      <th>77</th>\n      <td>11656</td>\n      <td>False</td>\n      <td>-1</td>\n    </tr>\n    <tr>\n      <th>78</th>\n      <td>11806</td>\n      <td>False</td>\n      <td>-1</td>\n    </tr>\n    <tr>\n      <th>79</th>\n      <td>11957</td>\n      <td>True</td>\n      <td>12</td>\n    </tr>\n    <tr>\n      <th>80</th>\n      <td>12107</td>\n      <td>True</td>\n      <td>12</td>\n    </tr>\n    <tr>\n      <th>81</th>\n      <td>12257</td>\n      <td>True</td>\n      <td>12</td>\n    </tr>\n    <tr>\n      <th>82</th>\n      <td>12407</td>\n      <td>True</td>\n      <td>12</td>\n    </tr>\n    <tr>\n      <th>83</th>\n      <td>12558</td>\n      <td>True</td>\n      <td>12</td>\n    </tr>\n    <tr>\n      <th>84</th>\n      <td>12708</td>\n      <td>True</td>\n      <td>12</td>\n    </tr>\n    <tr>\n      <th>85</th>\n      <td>12858</td>\n      <td>False</td>\n      <td>-1</td>\n    </tr>\n    <tr>\n      <th>86</th>\n      <td>13008</td>\n      <td>False</td>\n      <td>-1</td>\n    </tr>\n    <tr>\n      <th>87</th>\n      <td>13159</td>\n      <td>False</td>\n      <td>-1</td>\n    </tr>\n    <tr>\n      <th>88</th>\n      <td>13309</td>\n      <td>False</td>\n      <td>-1</td>\n    </tr>\n    <tr>\n      <th>89</th>\n      <td>13459</td>\n      <td>False</td>\n      <td>-1</td>\n    </tr>\n    <tr>\n      <th>90</th>\n      <td>13609</td>\n      <td>False</td>\n      <td>-1</td>\n    </tr>\n    <tr>\n      <th>91</th>\n      <td>13759</td>\n      <td>False</td>\n      <td>-1</td>\n    </tr>\n    <tr>\n      <th>92</th>\n      <td>13910</td>\n      <td>False</td>\n      <td>-1</td>\n    </tr>\n    <tr>\n      <th>93</th>\n      <td>14060</td>\n      <td>True</td>\n      <td>13</td>\n    </tr>\n    <tr>\n      <th>94</th>\n      <td>14210</td>\n      <td>True</td>\n      <td>13</td>\n    </tr>\n    <tr>\n      <th>95</th>\n      <td>14360</td>\n      <td>False</td>\n      <td>-1</td>\n    </tr>\n    <tr>\n      <th>96</th>\n      <td>14511</td>\n      <td>False</td>\n      <td>-1</td>\n    </tr>\n    <tr>\n      <th>97</th>\n      <td>14661</td>\n      <td>False</td>\n      <td>-1</td>\n    </tr>\n    <tr>\n      <th>98</th>\n      <td>14811</td>\n      <td>False</td>\n      <td>-1</td>\n    </tr>\n    <tr>\n      <th>99</th>\n      <td>14961</td>\n      <td>False</td>\n      <td>-1</td>\n    </tr>\n  </tbody>\n</table>\n</div>"
     },
     "execution_count": 8,
     "metadata": {},
     "output_type": "execute_result"
    }
   ],
   "source": [
    "# expobj: Post4ap = _io.import_expobj(pkl_path='/Users/prajayshah/OneDrive/UTPhD/2022/OXFORD/expobj/2021-01-10_t-013.pkl')\n",
    "\n",
    "expobj: Post4ap = _io.import_expobj(prep='PS11', trial='t-011')\n",
    "\n",
    "print(f\"Total targets: {expobj.n_targets_total}\")\n",
    "expobj.slmtargets_data.var[['stim_start_frame', 'wvfront in sz', 'seizure_num']]\n"
   ],
   "metadata": {
    "collapsed": false,
    "pycharm": {
     "name": "#%%\n"
    }
   }
  },
  {
   "cell_type": "code",
   "execution_count": null,
   "outputs": [],
   "source": [],
   "metadata": {
    "collapsed": false,
    "pycharm": {
     "name": "#%%\n"
    }
   }
  }
 ],
 "metadata": {
  "kernelspec": {
   "display_name": "Python 3",
   "language": "python",
   "name": "python3"
  },
  "language_info": {
   "codemirror_mode": {
    "name": "ipython",
    "version": 2
   },
   "file_extension": ".py",
   "mimetype": "text/x-python",
   "name": "python",
   "nbconvert_exporter": "python",
   "pygments_lexer": "ipython2",
   "version": "2.7.6"
  }
 },
 "nbformat": 4,
 "nbformat_minor": 0
}
