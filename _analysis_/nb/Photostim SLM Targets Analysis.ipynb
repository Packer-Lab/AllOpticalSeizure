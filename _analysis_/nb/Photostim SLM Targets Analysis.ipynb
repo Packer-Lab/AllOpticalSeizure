{
 "cells": [
  {
   "cell_type": "code",
   "execution_count": 1,
   "id": "beautiful-pittsburgh",
   "metadata": {},
   "outputs": [
    {
     "data": {
      "text/plain": [
       "['/home/pshah/Documents/code/PackerLab_pycharm/_analysis_/nb',\n",
       " '/Applications/NEURON-7.6/nrn/lib/python',\n",
       " '/home/pshah/Documents/code/PackerLab_pycharm/_analysis_/nb',\n",
       " '/home/pshah/anaconda3/envs/2021/lib/python38.zip',\n",
       " '/home/pshah/anaconda3/envs/2021/lib/python3.8',\n",
       " '/home/pshah/anaconda3/envs/2021/lib/python3.8/lib-dynload',\n",
       " '',\n",
       " '/home/pshah/anaconda3/envs/2021/lib/python3.8/site-packages',\n",
       " '/home/pshah/anaconda3/envs/2021/lib/python3.8/site-packages/funcsforprajay/src',\n",
       " '/home/pshah/Documents/code/packerlabimaging/src',\n",
       " '/home/pshah/anaconda3/envs/2021/lib/python3.8/site-packages/locket-0.2.1-py3.8.egg',\n",
       " '/home/pshah/anaconda3/envs/2021/lib/python3.8/site-packages/IPython/extensions',\n",
       " '/home/pshah/.ipython',\n",
       " '/home/pshah/Documents/code/PackerLab_pycharm/',\n",
       " '/home/pshah/Documents/code/PackerLab_pycharm/_analysis_/']"
      ]
     },
     "execution_count": 1,
     "metadata": {},
     "output_type": "execute_result"
    }
   ],
   "source": [
    "import sys\n",
    "sys.path.extend(['/home/pshah/Documents/code/PackerLab_pycharm/', \n",
    "                 '/home/pshah/Documents/code/PackerLab_pycharm/_analysis_/'])\n",
    "sys.path"
   ]
  },
  {
   "cell_type": "code",
   "execution_count": 2,
   "id": "lesser-tolerance",
   "metadata": {},
   "outputs": [
    {
     "name": "stdout",
     "output_type": "stream",
     "text": [
      "\n",
      "importing resultsobj from: /home/pshah/mnt/qnap/Analysis/alloptical_results_superobject.pkl ... \n",
      "Warning: cellpose did not import\n",
      "No module named 'cellpose'\n",
      "cannot use anatomical mode, but otherwise suite2p will run normally\n",
      "\n",
      "importing resultsobj from: /home/pshah/mnt/qnap/Analysis/alloptical_results_superobject.pkl ... \n",
      "|-DONE IMPORT of <class 'alloptical_utils_pj.AllOpticalResults'> resultsobj \n",
      "\n",
      "\n",
      "|-DONE IMPORT of <class 'alloptical_utils_pj.AllOpticalResults'> resultsobj \n",
      "\n",
      "\n",
      "\n",
      " .......... [1] INITIATING FOR LOOP DECORATOR ..........\n",
      "\n",
      "\n",
      " .......... [2] RETURNING FOR LOOP DECORATOR ..........\n",
      "\n",
      "\n",
      " .......... [1] INITIATING FOR LOOP DECORATOR ..........\n",
      "\n",
      "\n",
      " .......... [2] RETURNING FOR LOOP DECORATOR ..........\n",
      "\n",
      "\n",
      " .......... [1] INITIATING FOR LOOP DECORATOR ..........\n",
      "\n",
      "\n",
      " .......... [2] RETURNING FOR LOOP DECORATOR ..........\n",
      "\n",
      "\n",
      " .......... [1] INITIATING FOR LOOP DECORATOR ..........\n",
      "\n",
      "\n",
      " .......... [2] RETURNING FOR LOOP DECORATOR ..........\n",
      "\n",
      "\n",
      " .......... [1] INITIATING FOR LOOP DECORATOR ..........\n",
      "\n",
      "\n",
      " .......... [2] RETURNING FOR LOOP DECORATOR ..........\n",
      "\n",
      "\n",
      " .......... [1] INITIATING FOR LOOP DECORATOR ..........\n",
      "\n",
      "\n",
      " .......... [2] RETURNING FOR LOOP DECORATOR ..........\n",
      "\n",
      "\n",
      " .......... [1] INITIATING FOR LOOP DECORATOR ..........\n",
      "\n",
      "\n",
      " .......... [2] RETURNING FOR LOOP DECORATOR ..........\n",
      "\n"
     ]
    }
   ],
   "source": [
    "from _analysis_._ClassPhotostimResponseQuantificationSLMtargets import PhotostimResponsesQuantificationSLMtargets as main\n",
    "\n",
    "from _analysis_.run__PhotostimResponseQuantificationSLMtargets import *"
   ]
  },
  {
   "cell_type": "code",
   "execution_count": 3,
   "id": "overall-birmingham",
   "metadata": {
    "scrolled": false
   },
   "outputs": [
    {
     "name": "stdout",
     "output_type": "stream",
     "text": [
      "\n",
      " .......... [3] INITIATING FOR LOOP ACROSS EXPS FOR func: <function run__initPhotostimResponseQuant at 0x7f0132ba83a0> ..........\n",
      "\n",
      "\n",
      "----- RUNNING PRE4AP TRIALS -----\n",
      "RL108 t-009 found in cache for func run__initPhotostimResponseQuant ... skipping repeat run.\n",
      "RL109 t-007 found in cache for func run__initPhotostimResponseQuant ... skipping repeat run.\n",
      "RL109 t-013 found in cache for func run__initPhotostimResponseQuant ... skipping repeat run.\n",
      "RL109 t-014 found in cache for func run__initPhotostimResponseQuant ... skipping repeat run.\n",
      "PS04 t-012 found in cache for func run__initPhotostimResponseQuant ... skipping repeat run.\n",
      "PS04 t-017 found in cache for func run__initPhotostimResponseQuant ... skipping repeat run.\n",
      "PS07 t-007 found in cache for func run__initPhotostimResponseQuant ... skipping repeat run.\n",
      "PS06 t-011 found in cache for func run__initPhotostimResponseQuant ... skipping repeat run.\n",
      "PS11 t-010 found in cache for func run__initPhotostimResponseQuant ... skipping repeat run.\n",
      "\n",
      "----- RUNNING POST4AP TRIALS -----\n",
      "RL108 t-013 found in cache for func run__initPhotostimResponseQuant ... skipping repeat run.\n",
      "RL109 t-020 found in cache for func run__initPhotostimResponseQuant ... skipping repeat run.\n",
      "RL109 t-018 found in cache for func run__initPhotostimResponseQuant ... skipping repeat run.\n",
      "RL109 t-016 found in cache for func run__initPhotostimResponseQuant ... skipping repeat run.\n",
      "PS04 t-018 found in cache for func run__initPhotostimResponseQuant ... skipping repeat run.\n",
      "PS07 t-011 found in cache for func run__initPhotostimResponseQuant ... skipping repeat run.\n",
      "PS06 t-013 found in cache for func run__initPhotostimResponseQuant ... skipping repeat run.\n",
      "PS11 t-011 found in cache for func run__initPhotostimResponseQuant ... skipping repeat run.\n",
      "00:00:00.02 hours, mins, seconds\n",
      " ---------- COMPLETED FOR LOOP ACROSS EXPS ----------\n",
      "\n",
      "\n",
      " .......... [3] INITIATING FOR LOOP ACROSS EXPS FOR func: <function run__collect_photostim_responses_exp at 0x7f0132ba8b80> ..........\n",
      "\n",
      "\n",
      "----- RUNNING PRE4AP TRIALS -----\n",
      "RL108 t-009 found in cache for func run__collect_photostim_responses_exp ... skipping repeat run.\n",
      "RL109 t-007 found in cache for func run__collect_photostim_responses_exp ... skipping repeat run.\n",
      "RL109 t-013 found in cache for func run__collect_photostim_responses_exp ... skipping repeat run.\n",
      "RL109 t-014 found in cache for func run__collect_photostim_responses_exp ... skipping repeat run.\n",
      "PS04 t-012 found in cache for func run__collect_photostim_responses_exp ... skipping repeat run.\n",
      "PS04 t-017 found in cache for func run__collect_photostim_responses_exp ... skipping repeat run.\n",
      "PS07 t-007 found in cache for func run__collect_photostim_responses_exp ... skipping repeat run.\n",
      "PS06 t-011 found in cache for func run__collect_photostim_responses_exp ... skipping repeat run.\n",
      "PS11 t-010 found in cache for func run__collect_photostim_responses_exp ... skipping repeat run.\n",
      "\n",
      "----- RUNNING POST4AP TRIALS -----\n",
      "RL108 t-013 found in cache for func run__collect_photostim_responses_exp ... skipping repeat run.\n",
      "RL109 t-020 found in cache for func run__collect_photostim_responses_exp ... skipping repeat run.\n",
      "RL109 t-018 found in cache for func run__collect_photostim_responses_exp ... skipping repeat run.\n",
      "RL109 t-016 found in cache for func run__collect_photostim_responses_exp ... skipping repeat run.\n",
      "PS04 t-018 found in cache for func run__collect_photostim_responses_exp ... skipping repeat run.\n",
      "PS07 t-011 found in cache for func run__collect_photostim_responses_exp ... skipping repeat run.\n",
      "PS06 t-013 found in cache for func run__collect_photostim_responses_exp ... skipping repeat run.\n",
      "PS11 t-011 found in cache for func run__collect_photostim_responses_exp ... skipping repeat run.\n",
      "00:00:00.03 hours, mins, seconds\n",
      " ---------- COMPLETED FOR LOOP ACROSS EXPS ----------\n",
      "\n",
      "\n",
      " .......... [3] INITIATING FOR LOOP ACROSS EXPS FOR func: <function run__create_anndata_SLMtargets at 0x7f0132ba8430> ..........\n",
      "\n",
      "\n",
      "----- RUNNING PRE4AP TRIALS -----\n",
      "|- Loaded RL108 t-009 (from /home/pshah/mnt/qnap/Analysis/2020-12-18/RL108/2020-12-18_t-009/2020-12-18_t-009.pkl) ... DONE\n",
      "STARTING on: pre 4ap 2p all optical RL108 t-009 ...............\n",
      "\t\\----- CREATING annotated data object using AnnData:\n",
      "Created: Annotated Data of n_obs × n_vars = 34 × 100 \n",
      "available attributes: \n",
      "\t.X (primary datamatrix) of .data_label: \n",
      "\t\t|- SLM Targets photostim responses delta(tracedFF)\n",
      "\t.obs (ROIs metadata): \n",
      "\t\t|- 'SLM group #', 'SLM target coord'\n",
      "\t.var (frames metadata): \n",
      "\t\t|- 'im_time_secs', 'stim_start_frame', 'wvfront in sz', 'seizure location'\n",
      "\t.obsm: \n",
      "\t\t|- 'SLM targets areas'\n",
      "\t.layers: \n",
      "\t\t|- 'SLM Targets photostim responses (dF/stdF)', 'SLM Targets photostim responses (dF/prestimF)'\n"
     ]
    },
    {
     "name": "stderr",
     "output_type": "stream",
     "text": [
      "/home/pshah/anaconda3/envs/2021/lib/python3.8/site-packages/anndata/_core/anndata.py:120: ImplicitModificationWarning: Transforming to str index.\n",
      "  warnings.warn(\"Transforming to str index.\", ImplicitModificationWarning)\n"
     ]
    },
    {
     "name": "stdout",
     "output_type": "stream",
     "text": [
      "\\- Saving expobj saved to /home/pshah/mnt/qnap/Analysis/2020-12-18/RL108/2020-12-18_t-009/2020-12-18_t-009.pkl -- \n",
      "................... pre 4ap 2p all optical RL108 t-009 FINISHED \n",
      "\n",
      "|- Loaded RL109 t-007 (from /home/pshah/mnt/qnap/Analysis/2020-12-19/RL109/2020-12-19_t-007/2020-12-19_t-007.pkl) ... DONE\n",
      "STARTING on: pre 4ap 2p all optical RL109 t-007 ...............\n",
      "\t\\----- CREATING annotated data object using AnnData:\n",
      "Created: Annotated Data of n_obs × n_vars = 50 × 100 \n",
      "available attributes: \n",
      "\t.X (primary datamatrix) of .data_label: \n",
      "\t\t|- SLM Targets photostim responses delta(tracedFF)\n",
      "\t.obs (ROIs metadata): \n",
      "\t\t|- 'SLM group #', 'SLM target coord'\n",
      "\t.var (frames metadata): \n",
      "\t\t|- 'im_time_secs', 'stim_start_frame', 'wvfront in sz', 'seizure location'\n",
      "\t.obsm: \n",
      "\t\t|- 'SLM targets areas'\n",
      "\t.layers: \n",
      "\t\t|- 'SLM Targets photostim responses (dF/stdF)', 'SLM Targets photostim responses (dF/prestimF)'\n"
     ]
    },
    {
     "name": "stderr",
     "output_type": "stream",
     "text": [
      "/home/pshah/anaconda3/envs/2021/lib/python3.8/site-packages/anndata/_core/anndata.py:120: ImplicitModificationWarning: Transforming to str index.\n",
      "  warnings.warn(\"Transforming to str index.\", ImplicitModificationWarning)\n"
     ]
    },
    {
     "name": "stdout",
     "output_type": "stream",
     "text": [
      "\\- Saving expobj saved to /home/pshah/mnt/qnap/Analysis/2020-12-19/RL109/2020-12-19_t-007/2020-12-19_t-007.pkl -- \n",
      "................... pre 4ap 2p all optical RL109 t-007 FINISHED \n",
      "\n",
      "|- Loaded RL109 t-013 (from /home/pshah/mnt/qnap/Analysis/2020-12-19/RL109/2020-12-19_t-013/2020-12-19_t-013.pkl) ... DONE\n",
      "STARTING on: pre 4ap 2p all optical RL109 t-013 ...............\n",
      "\t\\----- CREATING annotated data object using AnnData:\n",
      "Created: Annotated Data of n_obs × n_vars = 36 × 100 \n",
      "available attributes: \n",
      "\t.X (primary datamatrix) of .data_label: \n",
      "\t\t|- SLM Targets photostim responses delta(tracedFF)\n",
      "\t.obs (ROIs metadata): \n",
      "\t\t|- 'SLM group #', 'SLM target coord'\n",
      "\t.var (frames metadata): \n",
      "\t\t|- 'im_time_secs', 'stim_start_frame', 'wvfront in sz', 'seizure location'\n",
      "\t.obsm: \n",
      "\t\t|- 'SLM targets areas'\n",
      "\t.layers: \n",
      "\t\t|- 'SLM Targets photostim responses (dF/stdF)', 'SLM Targets photostim responses (dF/prestimF)'\n"
     ]
    },
    {
     "name": "stderr",
     "output_type": "stream",
     "text": [
      "/home/pshah/anaconda3/envs/2021/lib/python3.8/site-packages/anndata/_core/anndata.py:120: ImplicitModificationWarning: Transforming to str index.\n",
      "  warnings.warn(\"Transforming to str index.\", ImplicitModificationWarning)\n"
     ]
    },
    {
     "name": "stdout",
     "output_type": "stream",
     "text": [
      "\\- Saving expobj saved to /home/pshah/mnt/qnap/Analysis/2020-12-19/RL109/2020-12-19_t-013/2020-12-19_t-013.pkl -- \n",
      "................... pre 4ap 2p all optical RL109 t-013 FINISHED \n",
      "\n",
      "|- Loaded RL109 t-014 (from /home/pshah/mnt/qnap/Analysis/2020-12-19/RL109/2020-12-19_t-014/2020-12-19_t-014.pkl) ... DONE\n",
      "STARTING on: pre 4ap 2p all optical RL109 t-014 ...............\n",
      "\t\\----- CREATING annotated data object using AnnData:\n",
      "Created: Annotated Data of n_obs × n_vars = 40 × 100 \n",
      "available attributes: \n",
      "\t.X (primary datamatrix) of .data_label: \n",
      "\t\t|- SLM Targets photostim responses delta(tracedFF)\n",
      "\t.obs (ROIs metadata): \n",
      "\t\t|- 'SLM group #', 'SLM target coord'\n",
      "\t.var (frames metadata): \n",
      "\t\t|- 'im_time_secs', 'stim_start_frame', 'wvfront in sz', 'seizure location'\n",
      "\t.obsm: \n",
      "\t\t|- 'SLM targets areas'\n",
      "\t.layers: \n",
      "\t\t|- 'SLM Targets photostim responses (dF/stdF)', 'SLM Targets photostim responses (dF/prestimF)'\n"
     ]
    },
    {
     "name": "stderr",
     "output_type": "stream",
     "text": [
      "/home/pshah/anaconda3/envs/2021/lib/python3.8/site-packages/anndata/_core/anndata.py:120: ImplicitModificationWarning: Transforming to str index.\n",
      "  warnings.warn(\"Transforming to str index.\", ImplicitModificationWarning)\n"
     ]
    },
    {
     "name": "stdout",
     "output_type": "stream",
     "text": [
      "\\- Saving expobj saved to /home/pshah/mnt/qnap/Analysis/2020-12-19/RL109/2020-12-19_t-014/2020-12-19_t-014.pkl -- \n",
      "................... pre 4ap 2p all optical RL109 t-014 FINISHED \n",
      "\n",
      "|- Loaded PS04 t-012 (from /home/pshah/mnt/qnap/Analysis/2021-01-09/PS04/2021-01-09_t-012/2021-01-09_t-012.pkl) ... DONE\n",
      "STARTING on: pre 4ap 2p all optical PS04 t-012 ...............\n",
      "\t\\----- CREATING annotated data object using AnnData:\n",
      "Created: Annotated Data of n_obs × n_vars = 28 × 30 \n",
      "available attributes: \n",
      "\t.X (primary datamatrix) of .data_label: \n",
      "\t\t|- SLM Targets photostim responses delta(tracedFF)\n",
      "\t.obs (ROIs metadata): \n",
      "\t\t|- 'SLM group #', 'SLM target coord'\n",
      "\t.var (frames metadata): \n",
      "\t\t|- 'im_time_secs', 'stim_start_frame', 'wvfront in sz', 'seizure location'\n",
      "\t.obsm: \n",
      "\t\t|- 'SLM targets areas'\n",
      "\t.layers: \n",
      "\t\t|- 'SLM Targets photostim responses (dF/stdF)', 'SLM Targets photostim responses (dF/prestimF)'\n"
     ]
    },
    {
     "name": "stderr",
     "output_type": "stream",
     "text": [
      "/home/pshah/anaconda3/envs/2021/lib/python3.8/site-packages/anndata/_core/anndata.py:120: ImplicitModificationWarning: Transforming to str index.\n",
      "  warnings.warn(\"Transforming to str index.\", ImplicitModificationWarning)\n"
     ]
    },
    {
     "name": "stdout",
     "output_type": "stream",
     "text": [
      "\\- Saving expobj saved to /home/pshah/mnt/qnap/Analysis/2021-01-09/PS04/2021-01-09_t-012/2021-01-09_t-012.pkl -- \n",
      "................... pre 4ap 2p all optical PS04 t-012 FINISHED \n",
      "\n",
      "|- Loaded PS04 t-017 (from /home/pshah/mnt/qnap/Analysis/2021-01-09/PS04/2021-01-09_t-017/2021-01-09_t-017.pkl) ... DONE\n",
      "STARTING on: pre 4ap 2p all optical PS04 t-017 ...............\n",
      "\t\\----- CREATING annotated data object using AnnData:\n",
      "Created: Annotated Data of n_obs × n_vars = 28 × 30 \n",
      "available attributes: \n",
      "\t.X (primary datamatrix) of .data_label: \n",
      "\t\t|- SLM Targets photostim responses delta(tracedFF)\n",
      "\t.obs (ROIs metadata): \n",
      "\t\t|- 'SLM group #', 'SLM target coord'\n",
      "\t.var (frames metadata): \n",
      "\t\t|- 'im_time_secs', 'stim_start_frame', 'wvfront in sz', 'seizure location'\n",
      "\t.obsm: \n",
      "\t\t|- 'SLM targets areas'\n",
      "\t.layers: \n",
      "\t\t|- 'SLM Targets photostim responses (dF/stdF)', 'SLM Targets photostim responses (dF/prestimF)'\n"
     ]
    },
    {
     "name": "stderr",
     "output_type": "stream",
     "text": [
      "/home/pshah/anaconda3/envs/2021/lib/python3.8/site-packages/anndata/_core/anndata.py:120: ImplicitModificationWarning: Transforming to str index.\n",
      "  warnings.warn(\"Transforming to str index.\", ImplicitModificationWarning)\n"
     ]
    },
    {
     "name": "stdout",
     "output_type": "stream",
     "text": [
      "\\- Saving expobj saved to /home/pshah/mnt/qnap/Analysis/2021-01-09/PS04/2021-01-09_t-017/2021-01-09_t-017.pkl -- \n",
      "................... pre 4ap 2p all optical PS04 t-017 FINISHED \n",
      "\n",
      "|- Loaded PS07 t-007 (from /home/pshah/mnt/qnap/Analysis/2021-01-19/PS07/2021-01-19_t-007/2021-01-19_t-007.pkl) ... DONE\n",
      "STARTING on: pre 4ap 2p all optical PS07 t-007 ...............\n",
      "\t\\----- CREATING annotated data object using AnnData:\n",
      "Created: Annotated Data of n_obs × n_vars = 54 × 100 \n",
      "available attributes: \n",
      "\t.X (primary datamatrix) of .data_label: \n",
      "\t\t|- SLM Targets photostim responses delta(tracedFF)\n",
      "\t.obs (ROIs metadata): \n",
      "\t\t|- 'SLM group #', 'SLM target coord'\n",
      "\t.var (frames metadata): \n",
      "\t\t|- 'im_time_secs', 'stim_start_frame', 'wvfront in sz', 'seizure location'\n",
      "\t.obsm: \n",
      "\t\t|- 'SLM targets areas'\n",
      "\t.layers: \n",
      "\t\t|- 'SLM Targets photostim responses (dF/stdF)', 'SLM Targets photostim responses (dF/prestimF)'\n"
     ]
    },
    {
     "name": "stderr",
     "output_type": "stream",
     "text": [
      "/home/pshah/anaconda3/envs/2021/lib/python3.8/site-packages/anndata/_core/anndata.py:120: ImplicitModificationWarning: Transforming to str index.\n",
      "  warnings.warn(\"Transforming to str index.\", ImplicitModificationWarning)\n"
     ]
    },
    {
     "name": "stdout",
     "output_type": "stream",
     "text": [
      "\\- Saving expobj saved to /home/pshah/mnt/qnap/Analysis/2021-01-19/PS07/2021-01-19_t-007/2021-01-19_t-007.pkl -- \n",
      "................... pre 4ap 2p all optical PS07 t-007 FINISHED \n",
      "\n",
      "|- Loaded PS06 t-011 (from /home/pshah/mnt/qnap/Analysis/2021-01-10/PS06/2021-01-10_t-011/2021-01-10_t-011.pkl) ... DONE\n",
      "STARTING on: pre 4ap 2p all optical PS06 t-011 ...............\n",
      "\t\\----- CREATING annotated data object using AnnData:\n",
      "Created: Annotated Data of n_obs × n_vars = 50 × 100 \n",
      "available attributes: \n",
      "\t.X (primary datamatrix) of .data_label: \n",
      "\t\t|- SLM Targets photostim responses delta(tracedFF)\n",
      "\t.obs (ROIs metadata): \n",
      "\t\t|- 'SLM group #', 'SLM target coord'\n",
      "\t.var (frames metadata): \n",
      "\t\t|- 'im_time_secs', 'stim_start_frame', 'wvfront in sz', 'seizure location'\n",
      "\t.obsm: \n",
      "\t\t|- 'SLM targets areas'\n",
      "\t.layers: \n",
      "\t\t|- 'SLM Targets photostim responses (dF/stdF)', 'SLM Targets photostim responses (dF/prestimF)'\n"
     ]
    },
    {
     "name": "stderr",
     "output_type": "stream",
     "text": [
      "/home/pshah/anaconda3/envs/2021/lib/python3.8/site-packages/anndata/_core/anndata.py:120: ImplicitModificationWarning: Transforming to str index.\n",
      "  warnings.warn(\"Transforming to str index.\", ImplicitModificationWarning)\n"
     ]
    },
    {
     "name": "stdout",
     "output_type": "stream",
     "text": [
      "\\- Saving expobj saved to /home/pshah/mnt/qnap/Analysis/2021-01-10/PS06/2021-01-10_t-011/2021-01-10_t-011.pkl -- \n",
      "................... pre 4ap 2p all optical PS06 t-011 FINISHED \n",
      "\n",
      "|- Loaded PS11 t-010 (from /home/pshah/mnt/qnap/Analysis/2021-01-24/PS11/2021-01-24_t-010/2021-01-24_t-010.pkl) ... DONE\n",
      "STARTING on: pre 4ap 2p all optical PS11 t-010 ...............\n",
      "\t\\----- CREATING annotated data object using AnnData:\n",
      "Created: Annotated Data of n_obs × n_vars = 48 × 100 \n",
      "available attributes: \n",
      "\t.X (primary datamatrix) of .data_label: \n",
      "\t\t|- SLM Targets photostim responses delta(tracedFF)\n",
      "\t.obs (ROIs metadata): \n",
      "\t\t|- 'SLM group #', 'SLM target coord'\n",
      "\t.var (frames metadata): \n",
      "\t\t|- 'im_time_secs', 'stim_start_frame', 'wvfront in sz', 'seizure location'\n",
      "\t.obsm: \n",
      "\t\t|- 'SLM targets areas'\n",
      "\t.layers: \n",
      "\t\t|- 'SLM Targets photostim responses (dF/stdF)', 'SLM Targets photostim responses (dF/prestimF)'\n"
     ]
    },
    {
     "name": "stderr",
     "output_type": "stream",
     "text": [
      "/home/pshah/anaconda3/envs/2021/lib/python3.8/site-packages/anndata/_core/anndata.py:120: ImplicitModificationWarning: Transforming to str index.\n",
      "  warnings.warn(\"Transforming to str index.\", ImplicitModificationWarning)\n"
     ]
    },
    {
     "name": "stdout",
     "output_type": "stream",
     "text": [
      "\\- Saving expobj saved to /home/pshah/mnt/qnap/Analysis/2021-01-24/PS11/2021-01-24_t-010/2021-01-24_t-010.pkl -- \n",
      "................... pre 4ap 2p all optical PS11 t-010 FINISHED \n",
      "\n",
      "\n",
      "----- RUNNING POST4AP TRIALS -----\n",
      "\\- Loading /home/pshah/mnt/qnap/Analysis/2020-12-18/RL108/2020-12-18_t-013/2020-12-18_t-013.pkl\n",
      " .......... [1] INITIATING FOR LOOP DECORATOR ..........\n",
      "\n",
      "\n",
      " .......... [2] RETURNING FOR LOOP DECORATOR ..........\n",
      "\n",
      "\n",
      " .......... [1] INITIATING FOR LOOP DECORATOR ..........\n",
      "\n",
      "\n",
      " .......... [2] RETURNING FOR LOOP DECORATOR ..........\n",
      "\n",
      "\n",
      " .......... [1] INITIATING FOR LOOP DECORATOR ..........\n",
      "\n",
      "\n",
      " .......... [2] RETURNING FOR LOOP DECORATOR ..........\n",
      "\n",
      "\n",
      " .......... [1] INITIATING FOR LOOP DECORATOR ..........\n",
      "\n",
      "\n",
      " .......... [2] RETURNING FOR LOOP DECORATOR ..........\n",
      "\n",
      "\n",
      " .......... [1] INITIATING FOR LOOP DECORATOR ..........\n",
      "\n",
      "\n",
      " .......... [2] RETURNING FOR LOOP DECORATOR ..........\n",
      "\n",
      "\n",
      " .......... [1] INITIATING FOR LOOP DECORATOR ..........\n",
      "\n",
      "\n",
      " .......... [2] RETURNING FOR LOOP DECORATOR ..........\n",
      "\n",
      "\n",
      " .......... [1] INITIATING FOR LOOP DECORATOR ..........\n",
      "\n",
      "\n",
      " .......... [2] RETURNING FOR LOOP DECORATOR ..........\n",
      "\n",
      "\n",
      " .......... [1] INITIATING FOR LOOP DECORATOR ..........\n",
      "\n",
      "\n",
      " .......... [2] RETURNING FOR LOOP DECORATOR ..........\n",
      "\n",
      "\n",
      " .......... [1] INITIATING FOR LOOP DECORATOR ..........\n",
      "\n",
      "\n",
      " .......... [2] RETURNING FOR LOOP DECORATOR ..........\n",
      "\n",
      "|- Loaded RL108 t-013 (from /home/pshah/mnt/qnap/Analysis/2020-12-18/RL108/2020-12-18_t-013/2020-12-18_t-013.pkl) ... DONE\n",
      "STARTING on: post 4ap 2p all optical RL108 t-013 ...............\n",
      "\t\\----- CREATING annotated data object using AnnData:\n",
      "Created: Annotated Data of n_obs × n_vars = 34 × 99 \n",
      "available attributes: \n",
      "\t.X (primary datamatrix) of .data_label: \n",
      "\t\t|- SLM Targets photostim responses delta(tracedFF)\n",
      "\t.obs (ROIs metadata): \n",
      "\t\t|- 'SLM group #', 'SLM target coord'\n",
      "\t.var (frames metadata): \n",
      "\t\t|- 'im_time_secs', 'stim_start_frame', 'wvfront in sz', 'seizure location'\n",
      "\t.obsm: \n",
      "\t\t|- 'SLM targets areas'\n",
      "\t.layers: \n",
      "\t\t|- 'SLM Targets photostim responses (dF/stdF)', 'SLM Targets photostim responses (dF/prestimF)'\n"
     ]
    },
    {
     "name": "stderr",
     "output_type": "stream",
     "text": [
      "/home/pshah/anaconda3/envs/2021/lib/python3.8/site-packages/anndata/_core/anndata.py:120: ImplicitModificationWarning: Transforming to str index.\n",
      "  warnings.warn(\"Transforming to str index.\", ImplicitModificationWarning)\n"
     ]
    },
    {
     "name": "stdout",
     "output_type": "stream",
     "text": [
      "\\- Saving expobj saved to /home/pshah/mnt/qnap/Analysis/2020-12-18/RL108/2020-12-18_t-013/2020-12-18_t-013.pkl -- \n",
      "................... post 4ap 2p all optical RL108 t-013 FINISHED \n",
      "\n",
      "\t trying to recover from backup! ****sis/2020-12-19/RL109/2020-12-19_t-020/2020-12-19_t-020.pkl\n",
      "\\- Loading backup from: /home/pshah/mnt/qnap/Analysis/2020-12-19/RL109/2020-12-19_t-020/backups/2020-12-19_RL109_t-020.pkl\r"
     ]
    },
    {
     "ename": "ImportError",
     "evalue": "IMPORT ERROR IN RL109 t-020",
     "output_type": "error",
     "traceback": [
      "\u001b[0;31m---------------------------------------------------------------------------\u001b[0m",
      "\u001b[0;31mEOFError\u001b[0m                                  Traceback (most recent call last)",
      "\u001b[0;32m~/Documents/code/PackerLab_pycharm/_utils_/io.py\u001b[0m in \u001b[0;36mimport_expobj\u001b[0;34m(aoresults_map_id, trial, prep, date, pkl_path, exp_prep, verbose, load_backup_path)\u001b[0m\n\u001b[1;32m    179\u001b[0m             \u001b[0mprint\u001b[0m\u001b[0;34m(\u001b[0m\u001b[0;34mf'\\- Loading {pkl_path}'\u001b[0m\u001b[0;34m,\u001b[0m \u001b[0mend\u001b[0m\u001b[0;34m=\u001b[0m\u001b[0;34m'\\r'\u001b[0m\u001b[0;34m)\u001b[0m\u001b[0;34m\u001b[0m\u001b[0;34m\u001b[0m\u001b[0m\n\u001b[0;32m--> 180\u001b[0;31m             \u001b[0mexpobj\u001b[0m \u001b[0;34m=\u001b[0m \u001b[0mpickle\u001b[0m\u001b[0;34m.\u001b[0m\u001b[0mload\u001b[0m\u001b[0;34m(\u001b[0m\u001b[0mf\u001b[0m\u001b[0;34m)\u001b[0m\u001b[0;34m\u001b[0m\u001b[0;34m\u001b[0m\u001b[0m\n\u001b[0m\u001b[1;32m    181\u001b[0m             \u001b[0mprint\u001b[0m\u001b[0;34m(\u001b[0m\u001b[0;34mf'|- Loaded {expobj.t_series_name} (from {pkl_path}) ... DONE'\u001b[0m\u001b[0;34m)\u001b[0m\u001b[0;34m\u001b[0m\u001b[0;34m\u001b[0m\u001b[0m\n",
      "\u001b[0;31mEOFError\u001b[0m: Ran out of input",
      "\nDuring handling of the above exception, another exception occurred:\n",
      "\u001b[0;31mUnpicklingError\u001b[0m                           Traceback (most recent call last)",
      "\u001b[0;32m~/Documents/code/PackerLab_pycharm/_utils_/io.py\u001b[0m in \u001b[0;36mload_from_backup\u001b[0;34m(prep, trial, date, original_path, backup_path)\u001b[0m\n\u001b[1;32m     22\u001b[0m             \u001b[0mprint\u001b[0m\u001b[0;34m(\u001b[0m\u001b[0;34mf'\\- Loading backup from: {load_backup_path}'\u001b[0m\u001b[0;34m,\u001b[0m \u001b[0mend\u001b[0m\u001b[0;34m=\u001b[0m\u001b[0;34m'\\r'\u001b[0m\u001b[0;34m)\u001b[0m\u001b[0;34m\u001b[0m\u001b[0;34m\u001b[0m\u001b[0m\n\u001b[0;32m---> 23\u001b[0;31m             \u001b[0mexpobj\u001b[0m \u001b[0;34m=\u001b[0m \u001b[0mpickle\u001b[0m\u001b[0;34m.\u001b[0m\u001b[0mload\u001b[0m\u001b[0;34m(\u001b[0m\u001b[0mf\u001b[0m\u001b[0;34m)\u001b[0m\u001b[0;34m\u001b[0m\u001b[0;34m\u001b[0m\u001b[0m\n\u001b[0m\u001b[1;32m     24\u001b[0m     \u001b[0;32mexcept\u001b[0m\u001b[0;34m:\u001b[0m\u001b[0;34m\u001b[0m\u001b[0;34m\u001b[0m\u001b[0m\n",
      "\u001b[0;31mUnpicklingError\u001b[0m: invalid load key, '\\x00'.",
      "\nDuring handling of the above exception, another exception occurred:\n",
      "\u001b[0;31mImportError\u001b[0m                               Traceback (most recent call last)",
      "\u001b[0;32m~/Documents/code/PackerLab_pycharm/_alloptical_utils.py\u001b[0m in \u001b[0;36minner\u001b[0;34m(*args, **kwargs)\u001b[0m\n\u001b[1;32m    149\u001b[0m                                 \u001b[0;32mtry\u001b[0m\u001b[0;34m:\u001b[0m\u001b[0;34m\u001b[0m\u001b[0;34m\u001b[0m\u001b[0m\n\u001b[0;32m--> 150\u001b[0;31m                                     \u001b[0mexpobj\u001b[0m \u001b[0;34m=\u001b[0m \u001b[0mimport_expobj\u001b[0m\u001b[0;34m(\u001b[0m\u001b[0mprep\u001b[0m\u001b[0;34m=\u001b[0m\u001b[0mprep\u001b[0m\u001b[0;34m,\u001b[0m \u001b[0mtrial\u001b[0m\u001b[0;34m=\u001b[0m\u001b[0mpost4aptrial\u001b[0m\u001b[0;34m,\u001b[0m \u001b[0mverbose\u001b[0m\u001b[0;34m=\u001b[0m\u001b[0;32mFalse\u001b[0m\u001b[0;34m)\u001b[0m\u001b[0;34m\u001b[0m\u001b[0;34m\u001b[0m\u001b[0m\n\u001b[0m\u001b[1;32m    151\u001b[0m                                 \u001b[0;32mexcept\u001b[0m\u001b[0;34m:\u001b[0m\u001b[0;34m\u001b[0m\u001b[0;34m\u001b[0m\u001b[0m\n",
      "\u001b[0;32m~/Documents/code/PackerLab_pycharm/_utils_/io.py\u001b[0m in \u001b[0;36mimport_expobj\u001b[0;34m(aoresults_map_id, trial, prep, date, pkl_path, exp_prep, verbose, load_backup_path)\u001b[0m\n\u001b[1;32m    182\u001b[0m     \u001b[0;32mexcept\u001b[0m \u001b[0mEOFError\u001b[0m\u001b[0;34m:\u001b[0m\u001b[0;34m\u001b[0m\u001b[0;34m\u001b[0m\u001b[0m\n\u001b[0;32m--> 183\u001b[0;31m         \u001b[0mload_from_backup\u001b[0m\u001b[0;34m(\u001b[0m\u001b[0mprep\u001b[0m\u001b[0;34m,\u001b[0m \u001b[0mtrial\u001b[0m\u001b[0;34m,\u001b[0m \u001b[0mdate\u001b[0m\u001b[0;34m,\u001b[0m \u001b[0moriginal_path\u001b[0m\u001b[0;34m=\u001b[0m\u001b[0mpkl_path\u001b[0m\u001b[0;34m)\u001b[0m\u001b[0;34m\u001b[0m\u001b[0;34m\u001b[0m\u001b[0m\n\u001b[0m\u001b[1;32m    184\u001b[0m     \u001b[0;32mexcept\u001b[0m \u001b[0mpickle\u001b[0m\u001b[0;34m.\u001b[0m\u001b[0mUnpicklingError\u001b[0m\u001b[0;34m:\u001b[0m\u001b[0;34m\u001b[0m\u001b[0;34m\u001b[0m\u001b[0m\n",
      "\u001b[0;32m~/Documents/code/PackerLab_pycharm/_utils_/io.py\u001b[0m in \u001b[0;36mload_from_backup\u001b[0;34m(prep, trial, date, original_path, backup_path)\u001b[0m\n\u001b[1;32m     24\u001b[0m     \u001b[0;32mexcept\u001b[0m\u001b[0;34m:\u001b[0m\u001b[0;34m\u001b[0m\u001b[0;34m\u001b[0m\u001b[0m\n\u001b[0;32m---> 25\u001b[0;31m         \u001b[0;32mraise\u001b[0m \u001b[0mImportError\u001b[0m\u001b[0;34m(\u001b[0m\u001b[0;34mf\"\\n** FAILED IMPORT OF * {prep} {trial} * from {original_path}\\n\"\u001b[0m\u001b[0;34m)\u001b[0m\u001b[0;34m\u001b[0m\u001b[0;34m\u001b[0m\u001b[0m\n\u001b[0m\u001b[1;32m     26\u001b[0m     \u001b[0mprint\u001b[0m\u001b[0;34m(\u001b[0m\u001b[0;34mf'|- Loaded backup of: {expobj.t_series_name} ({load_backup_path}) ... DONE'\u001b[0m\u001b[0;34m)\u001b[0m\u001b[0;34m\u001b[0m\u001b[0;34m\u001b[0m\u001b[0m\n",
      "\u001b[0;31mImportError\u001b[0m: \n** FAILED IMPORT OF * RL109 t-020 * from /home/pshah/mnt/qnap/Analysis/2020-12-19/RL109/2020-12-19_t-020/2020-12-19_t-020.pkl\n",
      "\nDuring handling of the above exception, another exception occurred:\n",
      "\u001b[0;31mImportError\u001b[0m                               Traceback (most recent call last)",
      "\u001b[0;32m/tmp/ipykernel_40665/2396946654.py\u001b[0m in \u001b[0;36m<module>\u001b[0;34m\u001b[0m\n\u001b[1;32m      1\u001b[0m \u001b[0mrun__initPhotostimResponseQuant\u001b[0m\u001b[0;34m(\u001b[0m\u001b[0;34m)\u001b[0m\u001b[0;34m\u001b[0m\u001b[0;34m\u001b[0m\u001b[0m\n\u001b[1;32m      2\u001b[0m \u001b[0mrun__collect_photostim_responses_exp\u001b[0m\u001b[0;34m(\u001b[0m\u001b[0;34m)\u001b[0m\u001b[0;34m\u001b[0m\u001b[0;34m\u001b[0m\u001b[0m\n\u001b[0;32m----> 3\u001b[0;31m \u001b[0mrun__create_anndata_SLMtargets\u001b[0m\u001b[0;34m(\u001b[0m\u001b[0;34m)\u001b[0m\u001b[0;34m\u001b[0m\u001b[0;34m\u001b[0m\u001b[0m\n\u001b[0m\u001b[1;32m      4\u001b[0m \u001b[0mrun__add_stim_group_anndata\u001b[0m\u001b[0;34m(\u001b[0m\u001b[0;34m)\u001b[0m\u001b[0;34m\u001b[0m\u001b[0;34m\u001b[0m\u001b[0m\n\u001b[1;32m      5\u001b[0m \u001b[0;34m\u001b[0m\u001b[0m\n",
      "\u001b[0;32m~/Documents/code/PackerLab_pycharm/_alloptical_utils.py\u001b[0m in \u001b[0;36minner\u001b[0;34m(*args, **kwargs)\u001b[0m\n\u001b[1;32m    150\u001b[0m                                     \u001b[0mexpobj\u001b[0m \u001b[0;34m=\u001b[0m \u001b[0mimport_expobj\u001b[0m\u001b[0;34m(\u001b[0m\u001b[0mprep\u001b[0m\u001b[0;34m=\u001b[0m\u001b[0mprep\u001b[0m\u001b[0;34m,\u001b[0m \u001b[0mtrial\u001b[0m\u001b[0;34m=\u001b[0m\u001b[0mpost4aptrial\u001b[0m\u001b[0;34m,\u001b[0m \u001b[0mverbose\u001b[0m\u001b[0;34m=\u001b[0m\u001b[0;32mFalse\u001b[0m\u001b[0;34m)\u001b[0m\u001b[0;34m\u001b[0m\u001b[0;34m\u001b[0m\u001b[0m\n\u001b[1;32m    151\u001b[0m                                 \u001b[0;32mexcept\u001b[0m\u001b[0;34m:\u001b[0m\u001b[0;34m\u001b[0m\u001b[0;34m\u001b[0m\u001b[0m\n\u001b[0;32m--> 152\u001b[0;31m                                     \u001b[0;32mraise\u001b[0m \u001b[0mImportError\u001b[0m\u001b[0;34m(\u001b[0m\u001b[0;34mf\"IMPORT ERROR IN {prep} {post4aptrial}\"\u001b[0m\u001b[0;34m)\u001b[0m\u001b[0;34m\u001b[0m\u001b[0;34m\u001b[0m\u001b[0m\n\u001b[0m\u001b[1;32m    153\u001b[0m \u001b[0;34m\u001b[0m\u001b[0m\n\u001b[1;32m    154\u001b[0m                                 \u001b[0mworking_on\u001b[0m\u001b[0;34m(\u001b[0m\u001b[0mexpobj\u001b[0m\u001b[0;34m)\u001b[0m \u001b[0;32mif\u001b[0m \u001b[0;32mnot\u001b[0m \u001b[0msupress_print\u001b[0m \u001b[0;32melse\u001b[0m \u001b[0;32mNone\u001b[0m\u001b[0;34m\u001b[0m\u001b[0;34m\u001b[0m\u001b[0m\n",
      "\u001b[0;31mImportError\u001b[0m: IMPORT ERROR IN RL109 t-020"
     ]
    }
   ],
   "source": [
    "\n",
    "\n",
    "run__initPhotostimResponseQuant()\n",
    "run__collect_photostim_responses_exp()\n",
    "run__create_anndata_SLMtargets()\n",
    "run__add_stim_group_anndata()\n",
    "\n",
    "main.allexps_plot_photostim_responses_magnitude()\n",
    "main.mean_photostim_responses_baseline, main.mean_photostim_responses_interictal, main.mean_photostim_responses_ictal = full_plot_mean_responses_magnitudes()\n",
    "\n",
    "\n"
   ]
  },
  {
   "cell_type": "code",
   "execution_count": null,
   "id": "authorized-newspaper",
   "metadata": {
    "scrolled": true
   },
   "outputs": [],
   "source": [
    "run__z_score_photostim_responses_and_interictalzscores()\n",
    "main.allexps_plot_photostim_responses_magnitude_zscored()\n",
    "\n",
    "main.mean_photostim_responses_baseline_zscored, main.mean_photostim_responses_interictal_zscored, main.mean_photostim_responses_ictal_zscored = full_plot_mean_responses_magnitudes_zscored()\n",
    "\n",
    "# make plot\n",
    "# plot zscored responses\n",
    "data = full_plot_mean_responses_magnitudes_zscored()\n",
    "pplot.plot_bar_with_points(\n",
    "    data=data,\n",
    "    x_tick_labels=['baseline', 'interictal', 'ictal'], bar=False, colors=['navy', 'green', 'purple'],\n",
    "    expand_size_x=0.4, title='Average Photostim responses (zscored to baseline?)', y_label='dFF (zscored)')\n",
    "\n",
    "pplot.plot_hist_density(data=data, mean_line=False, figsize=[4, 5], title='photostim responses (zscored)',\n",
    "                        show_legend=True, num_bins=35, line_colors=['navy', 'green', 'purple'],\n",
    "                        fill_color=['lightgray', 'lightgray', 'lightgray'], alpha=0.2, show_bins=True,\n",
    "                        legend_labels=['baseline', 'interictal', 'ictal'])\n",
    "\n"
   ]
  },
  {
   "cell_type": "code",
   "execution_count": null,
   "id": "intellectual-reserve",
   "metadata": {
    "scrolled": false
   },
   "outputs": [],
   "source": [
    "main.saveclass()"
   ]
  },
  {
   "cell_type": "code",
   "execution_count": null,
   "id": "essential-regression",
   "metadata": {},
   "outputs": [],
   "source": []
  }
 ],
 "metadata": {
  "kernelspec": {
   "display_name": "Python 3 (ipykernel)",
   "language": "python",
   "name": "python3"
  },
  "language_info": {
   "codemirror_mode": {
    "name": "ipython",
    "version": 3
   },
   "file_extension": ".py",
   "mimetype": "text/x-python",
   "name": "python",
   "nbconvert_exporter": "python",
   "pygments_lexer": "ipython3",
   "version": "3.8.12"
  }
 },
 "nbformat": 4,
 "nbformat_minor": 5
}
