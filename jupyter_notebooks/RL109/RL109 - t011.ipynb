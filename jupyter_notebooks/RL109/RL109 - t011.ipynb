{
 "cells": [
  {
   "cell_type": "markdown",
   "id": "first-disaster",
   "metadata": {},
   "source": [
    "RL109 - t011\n",
    "- all optical\n",
    "- pre 4ap\n",
    "\n",
    "t11 - photostim experiment #3 (NAPARM export: 2020-12-19_RL109_ps_012); \t\n",
    "9 cells x 4 groups; 5mW per cell\n",
    "\n",
    "preset: 2020-11-25_PS_250ms-stim-50hz (approach #1)\n",
    "\n",
    "change every: 250ms\n",
    "\n",
    "shots per pattern: 10\n",
    "\n",
    "inter-shot interval (ms): 25\n",
    "\n",
    "spiral duration (ms): 20\n",
    "\n",
    "delay first spiral (ms): 5\n",
    "\n",
    "trial length (s): 5\n",
    "\n",
    "number of trials: 100\n",
    "\n",
    "paq: 2020-12-19_RL109_010.paq\n"
   ]
  },
  {
   "cell_type": "markdown",
   "id": "fallen-fighter",
   "metadata": {},
   "source": [
    "## RL109 - t011 - alloptical photostim processing"
   ]
  },
  {
   "cell_type": "code",
   "execution_count": 1,
   "id": "timely-attitude",
   "metadata": {},
   "outputs": [
    {
     "name": "stdout",
     "output_type": "stream",
     "text": [
      "importing expobj for \"2020-12-19, t-011\" from: /home/pshah/mnt/qnap/Analysis/2020-12-19/2020-12-19_t-011/2020-12-19_t-011.pkl\n",
      "DONE IMPORT of RL109: t-011, pre 4ap 2p all optical\n",
      "\n",
      "Experiment information:\n",
      " {'animal prep.': 'RL109', 'trial': 't-011', 'date': '2020-12-19', 'exptype': 'pre 4ap 2p all optical', 'data_path_base': '/home/pshah/mnt/qnap/Data/2020-12-19', 'comments': 'photostim: 9 cells x 4 groups; 5mW per cell; preset: 2020-11-25_PS_250ms-stim-50hz (approach #1); clumps of cells fired together - classic_naparm style'}\n"
     ]
    }
   ],
   "source": [
    "import sys; sys.path.append('/home/pshah/Documents/code/PackerLab_pycharm/')\n",
    "import os\n",
    "import pickle\n",
    "import alloptical_utils_pj as aoutils\n",
    "import alloptical_plotting as aoplot\n",
    "import matplotlib.pyplot as plt\n",
    "import pandas as pd\n",
    "import numpy as np\n",
    "import utils.funcs_pj as pj\n",
    "\n",
    "###### IMPORT pkl file containing expobj\n",
    "trial = 't-011'\n",
    "date = '2020-12-19'\n",
    "pkl_path = \"/home/pshah/mnt/qnap/Analysis/%s/%s_%s/%s_%s.pkl\" % (date, date, trial, date, trial)\n",
    "\n",
    "expobj, experiment = aoutils.import_expobj(trial=trial, date=date, pkl_path=pkl_path)\n",
    "\n",
    "cont_inue = True  # i know this is a rather very precarious thing here...\n",
    "\n",
    "s2p_path = '/home/pshah/mnt/qnap/Analysis/2020-12-19/suite2p/alloptical-2p-1x-alltrials/plane0'  # (most recent run for RL108 -- contains all trials including post4ap all optical trials)\n",
    "\n",
    "print('\\nExperiment information:\\n', expobj.metainfo)"
   ]
  },
  {
   "cell_type": "code",
   "execution_count": 2,
   "id": "parallel-excellence",
   "metadata": {},
   "outputs": [
    {
     "name": "stdout",
     "output_type": "stream",
     "text": [
      "Loading 561 traces labelled as cells\n",
      "Subtracting neuropil with a coefficient of 0.7\n",
      "\n",
      "searching for targeted cells...\n",
      "(255, 242)\n",
      "(250, 424)\n",
      "(267, 311)\n",
      "(226, 369)\n",
      "(276, 233)\n",
      "(286, 235)\n",
      "(189, 278)\n",
      "(256, 250)\n",
      "(192, 287)\n",
      "------- Search completed.\n",
      "Number of targeted cells:  9\n",
      "Target cells found in suite2p:  [52, 96, 130, 226, 377, 429, 512, 574, 738]  -- 9 cells (out of 36 target coords)\n"
     ]
    },
    {
     "data": {
      "image/png": "[encoded data removed]",
      "text/plain": [
       "<Figure size 432x288 with 1 Axes>"
      ]
     },
     "metadata": {},
     "output_type": "display_data"
    },
    {
     "name": "stdout",
     "output_type": "stream",
     "text": [
      "Retrieving s2p masks for: /home/pshah/mnt/qnap/Analysis/2020-12-19/2020-12-19_t-011/2020-12-19_t-011.pkl              \n",
      "s2p ROI + photostim targets masks saved to:  /home/pshah/mnt/qnap/Analysis/2020-12-18/2020-12-19_t-011_s2p_masks.tif\n"
     ]
    }
   ],
   "source": [
    "# %% prep for importing data from suite2p for this whole experiment\n",
    "# determine which frames to retrieve from the overall total s2p output\n",
    "trials = ['t-005', 't-006', 't-007', 't-008', 't-011', 't-012', 't-013', 't-014', 't-016',\n",
    "              't-017', 't-018', 't-019', 't-020', 't-021']  # specify all trials that were used in the suite2p run\n",
    "baseline_trials = ['t-005', 't-006']  # specify which trials to use as spont baseline\n",
    "# note ^^^ this only works currently when the spont baseline trials all come first, and also back to back\n",
    "total_frames_stitched = 0\n",
    "curr_trial_frames = None\n",
    "baseline_frames = [0, 0]\n",
    "for t in trials:\n",
    "    pkl_path_2 = \"/home/pshah/mnt/qnap/Analysis/%s/%s_%s/%s_%s.pkl\" % (date, date, t, date, t)\n",
    "    with open(pkl_path_2, 'rb') as f:\n",
    "        _expobj = pickle.load(f)\n",
    "        # import suite2p data\n",
    "    total_frames_stitched += _expobj.n_frames\n",
    "    if t == trial:\n",
    "        expobj.curr_trial_frames = [total_frames_stitched - _expobj.n_frames, total_frames_stitched]\n",
    "    if t in baseline_trials:\n",
    "        baseline_frames[1] = total_frames_stitched\n",
    "\n",
    "\n",
    "\n",
    "# suite2p processing on expobj; import suite2p data, flu, spks, cell coordinates and make s2p masks images stack\n",
    "# s2p_path = '/Users/prajayshah/Documents/data-to-process/2020-12-18/suite2p/alloptical-2p-pre-4ap-08x/plane0'\n",
    "# flu, spks, stat = uf.s2p_loader(s2p_path, subtract_neuropil=True)\n",
    "\n",
    "\n",
    "# s2p_path = '/Volumes/Extreme SSD/oxford-data/2020-03-18/suite2p/photostim-4ap_stitched/plane0'\n",
    "\n",
    "# main function that imports suite2p data and adds attributes to the expobj\n",
    "expobj.s2pProcessing(s2p_path=s2p_path, subset_frames=expobj.curr_trial_frames, subtract_neuropil=True,\n",
    "                     baseline_frames=baseline_frames)\n",
    "\n",
    "expobj.target_coords_all = expobj.target_coords\n",
    "expobj.s2p_targets()\n",
    "\n",
    "# expobj.target_coords_all = expobj.target_coords\n",
    "\n",
    "# flu, expobj.spks, expobj.stat = uf.s2p_loader(s2p_path, subtract_neuropil=True)\n",
    "\n",
    "aoutils.s2pMaskStack(obj=expobj, pkl_list=[pkl_path], s2p_path=s2p_path,\n",
    "                     parent_folder='/home/pshah/mnt/qnap/Analysis/2020-12-18/')\n"
   ]
  },
  {
   "cell_type": "code",
   "execution_count": 3,
   "id": "turned-hydrogen",
   "metadata": {
    "scrolled": true
   },
   "outputs": [
    {
     "data": {
      "image/png": "[encoded data removed]",
      "text/plain": [
       "<Figure size 432x288 with 1 Axes>"
      ]
     },
     "metadata": {},
     "output_type": "display_data"
    }
   ],
   "source": [
    "# %% plotting the distribution of radius and aspect ratios - should this be running before the filtering step which is right below????????\n",
    "\n",
    "radius_list = aoplot.plot_cell_radius_aspectr(expobj, expobj.stat, to_plot='radius')"
   ]
  },
  {
   "cell_type": "code",
   "execution_count": 4,
   "id": "clinical-factory",
   "metadata": {
    "scrolled": true
   },
   "outputs": [
    {
     "name": "stderr",
     "output_type": "stream",
     "text": [
      "/home/pshah/Documents/code/PackerLab_pycharm/alloptical_utils_pj.py:1870: NumbaPendingDeprecationWarning: \n",
      "Encountered the use of a type that is scheduled for deprecation: type 'reflected list' found for argument 'a' of function 'np_asarray.<locals>.impl'.\n",
      "\n",
      "For more information visit http://numba.pydata.org/numba-doc/latest/reference/deprecation.html#deprecation-of-reflection-for-list-and-set-types\n",
      "\n",
      "File \"../../../../../../../anaconda3/envs/2021/lib/python3.8/site-packages/numba/np/arraymath.py\", line 3873:\n",
      "        if is_nonelike(dtype):\n",
      "            def impl(a, dtype=None):\n",
      "            ^\n",
      "\n",
      "  raw_ = np.delete(raw, photostim_frames)\n",
      "/home/pshah/Documents/code/PackerLab_pycharm/alloptical_utils_pj.py:1870: NumbaPendingDeprecationWarning: \n",
      "Encountered the use of a type that is scheduled for deprecation: type 'reflected list' found for argument 'obj' of function 'np_delete.<locals>.np_delete_impl'.\n",
      "\n",
      "For more information visit http://numba.pydata.org/numba-doc/latest/reference/deprecation.html#deprecation-of-reflection-for-list-and-set-types\n",
      "\n",
      "File \"../../../../../../../anaconda3/envs/2021/lib/python3.8/site-packages/numba/np/arraymath.py\", line 3183:\n",
      "\n",
      "        def np_delete_impl(arr, obj):\n",
      "        ^\n",
      "\n",
      "  raw_ = np.delete(raw, photostim_frames)\n",
      "/home/pshah/Documents/code/PackerLab_pycharm/alloptical_utils_pj.py:1870: NumbaPendingDeprecationWarning: \n",
      "Encountered the use of a type that is scheduled for deprecation: type 'reflected list' found for argument 'x' of function '<lambda>'.\n",
      "\n",
      "For more information visit http://numba.pydata.org/numba-doc/latest/reference/deprecation.html#deprecation-of-reflection-for-list-and-set-types\n",
      "\n",
      "File \"../../../../../../../anaconda3/envs/2021/lib/python3.8/site-packages/numba/np/arraymath.py\", line 3168:\n",
      "@overload(np.delete)\n",
      "def np_delete(arr, obj):\n",
      "^\n",
      "\n",
      "  raw_ = np.delete(raw, photostim_frames)\n",
      "/home/pshah/anaconda3/envs/2021/lib/python3.8/site-packages/numba/core/ir_utils.py:2031: NumbaPendingDeprecationWarning: \n",
      "Encountered the use of a type that is scheduled for deprecation: type 'reflected list' found for argument 'cell_ids' of function '_good_cells'.\n",
      "\n",
      "For more information visit http://numba.pydata.org/numba-doc/latest/reference/deprecation.html#deprecation-of-reflection-for-list-and-set-types\n",
      "\n",
      "File \"../../../../../../../Documents/code/PackerLab_pycharm/alloptical_utils_pj.py\", line 1863:\n",
      "@njit\n",
      "def _good_cells(cell_ids, raws, photostim_frames, radiuses, std_thresh, min_radius_pix, max_radius_pix):\n",
      "^\n",
      "\n",
      "  warnings.warn(NumbaPendingDeprecationWarning(msg, loc=loc))\n",
      "/home/pshah/anaconda3/envs/2021/lib/python3.8/site-packages/numba/core/ir_utils.py:2031: NumbaPendingDeprecationWarning: \n",
      "Encountered the use of a type that is scheduled for deprecation: type 'reflected list' found for argument 'photostim_frames' of function '_good_cells'.\n",
      "\n",
      "For more information visit http://numba.pydata.org/numba-doc/latest/reference/deprecation.html#deprecation-of-reflection-for-list-and-set-types\n",
      "\n",
      "File \"../../../../../../../Documents/code/PackerLab_pycharm/alloptical_utils_pj.py\", line 1863:\n",
      "@njit\n",
      "def _good_cells(cell_ids, raws, photostim_frames, radiuses, std_thresh, min_radius_pix, max_radius_pix):\n",
      "^\n",
      "\n",
      "  warnings.warn(NumbaPendingDeprecationWarning(msg, loc=loc))\n",
      "/home/pshah/anaconda3/envs/2021/lib/python3.8/site-packages/numba/core/ir_utils.py:2031: NumbaPendingDeprecationWarning: \n",
      "Encountered the use of a type that is scheduled for deprecation: type 'reflected list' found for argument 'radiuses' of function '_good_cells'.\n",
      "\n",
      "For more information visit http://numba.pydata.org/numba-doc/latest/reference/deprecation.html#deprecation-of-reflection-for-list-and-set-types\n",
      "\n",
      "File \"../../../../../../../Documents/code/PackerLab_pycharm/alloptical_utils_pj.py\", line 1863:\n",
      "@njit\n",
      "def _good_cells(cell_ids, raws, photostim_frames, radiuses, std_thresh, min_radius_pix, max_radius_pix):\n",
      "^\n",
      "\n",
      "  warnings.warn(NumbaPendingDeprecationWarning(msg, loc=loc))\n"
     ]
    },
    {
     "name": "stdout",
     "output_type": "stream",
     "text": [
      "0  out of  3  cells done\n",
      "# of good cells found:  3  (out of  3  ROIs)\n",
      "0  out of  561  cells done\n",
      "100  out of  561  cells done\n",
      "200  out of  561  cells done\n",
      "300  out of  561  cells done\n",
      "400  out of  561  cells done\n",
      "500  out of  561  cells done\n",
      "# of good cells found:  524  (out of  561  ROIs)\n"
     ]
    }
   ],
   "source": [
    "# %% FILTER ALL CELLS THAT ARE ACTIVE AT LEAST ONCE FOR >2.5*std\n",
    "\n",
    "# pull out needed variables because numba doesn't work with custom classes (such as this all-optical class object)\n",
    "cell_ids = expobj.cell_id\n",
    "raws = expobj.raw\n",
    "# expobj.append_seizure_frames(bad_frames=None)\n",
    "photostim_frames = expobj.photostim_frames\n",
    "radiuses = expobj.radius\n",
    "\n",
    "# initial quick run to allow numba to compile the function - not sure if this is actually creating time savings\n",
    "_ = aoutils._good_cells(cell_ids=cell_ids[:3], raws=raws, photostim_frames=expobj.photostim_frames, radiuses=radiuses,\n",
    "                        std_thresh=2, min_radius_pix=2.5, max_radius_pix=8.5)\n",
    "expobj.good_cells = aoutils._good_cells(cell_ids=cell_ids, raws=raws, photostim_frames=expobj.photostim_frames,\n",
    "                                        radiuses=radiuses,\n",
    "                                        std_thresh=2, min_radius_pix=2.5, max_radius_pix=8.5)\n"
   ]
  },
  {
   "cell_type": "code",
   "execution_count": 5,
   "id": "southeast-storm",
   "metadata": {},
   "outputs": [
    {
     "name": "stdout",
     "output_type": "stream",
     "text": [
      "pkl saved to /home/pshah/mnt/qnap/Analysis/2020-12-19/2020-12-19_t-011/2020-12-19_t-011.pkl\n",
      "\n",
      " COMPLETED RUNNING ALL OPTICAL PROCESSING PHOTOSTIM.\n"
     ]
    }
   ],
   "source": [
    "# %% SAVE THE UPDATED expobj OBJECT IN THE ORIGINAL PKL PATH TO USE NEXT\n",
    "\n",
    "# make the necessary Analysis saving subfolder as well\n",
    "expobj.analysis_save_path = expobj.tiff_path[:21] + 'Analysis/' + expobj.tiff_path[26:-35]\n",
    "if os.path.exists(expobj.analysis_save_path):\n",
    "    pass\n",
    "elif os.path.exists(expobj.analysis_save_path[:-17]):\n",
    "    os.mkdir(expobj.analysis_save_path)\n",
    "elif os.path.exists(expobj.analysis_save_path[:-27]):\n",
    "    os.mkdir(expobj.analysis_save_path[:-17])\n",
    "\n",
    "\n",
    "expobj.save_pkl(pkl_path=pkl_path)\n",
    "\n",
    "\n",
    "print(\"\\n COMPLETED RUNNING ALL OPTICAL PROCESSING PHOTOSTIM.\")\n"
   ]
  },
  {
   "cell_type": "markdown",
   "id": "anonymous-resort",
   "metadata": {},
   "source": [
    "#### processing steps for ALL OPTICAL PHOTOSTIM related stuff"
   ]
  },
  {
   "cell_type": "code",
   "execution_count": 6,
   "id": "determined-nebraska",
   "metadata": {},
   "outputs": [
    {
     "name": "stdout",
     "output_type": "stream",
     "text": [
      "Cell #52 - dFF post-stim: 13.293171 (threshold value = 2.4045353730519707)\n",
      "Cell #96 - dFF post-stim: 12.092711 (threshold value = 7.266536204020181)\n",
      "Cell #130 - dFF post-stim: 32.329823 (threshold value = 4.202337066332504)\n",
      "Cell #226 - dFF post-stim: 21.711817 (threshold value = 4.70204140345254)\n",
      "Cell #377 - dFF post-stim: 12.355449 (threshold value = 3.3256302833557356)\n",
      "Cell #512 - dFF post-stim: 43.7773 (threshold value = 5.249564639727282)\n",
      "Cell #574 - dFF post-stim: 28.097727 (threshold value = 2.533781496683755)\n",
      "Cell #738 - dFF post-stim: 15.986546 (threshold value = 6.234208838144923)\n",
      "[std threshold of 1 std]\n",
      "|- 8 cells out of 8 s2p target cells photostim. responses above threshold\n",
      "|- Total number of good photostim responsive cells found: 8 (out of 8 s2p photostim target cells)\n",
      "\n",
      "Completed collecting pre to post stim traces -- normalized to pre-stim stdF -- for 516 cells\n"
     ]
    }
   ],
   "source": [
    "# %% Collect pre to post stim traces for PHOTOSTIM TARGETED CELLS, FILTER FOR GOOD PHOTOSTIM. TARGETED CELLS with responses above threshold = 1 std of the prestim std\n",
    "\n",
    "expobj.pre_stim = 15  # specify pre-stim and post-stim periods of analysis and plotting\n",
    "expobj.post_stim = 150\n",
    "\n",
    "# function for gathering all good photostim cells who respond on average across all trials to the photostim\n",
    "# note that the threshold for this is 1 * std of the prestim raw flu (fluorescence trace)\n",
    "expobj.targets_dff, expobj.targets_dff_avg, expobj.targets_dfstdF, \\\n",
    "    expobj.targets_dfstdF_avg, expobj.targets_raw, expobj.targets_raw_avg = \\\n",
    "    aoutils.get_targets_stim_traces_norm(expobj=expobj, normalize_to='pre-stim', pre_stim=expobj.pre_stim,\n",
    "                                         post_stim=expobj.post_stim)\n",
    "\n",
    "aoutils._good_photostim_cells(expobj=expobj, pre_stim=expobj.pre_stim, post_stim=expobj.post_stim, dff_threshold=None)\n",
    "\n",
    "# what does threshold value mean? add more descriptive print output for that\n",
    "\n",
    "# Collect pre to post stim traces for NON-TARGETS\n",
    "\n",
    "expobj.dff_traces, expobj.dff_traces_avg, expobj.dfstdF_traces, \\\n",
    "    expobj.dfstdF_traces_avg, expobj.raw_traces, expobj.raw_traces_avg = \\\n",
    "    aoutils.get_nontargets_stim_traces_norm(expobj=expobj, normalize_to='pre-stim', pre_stim=expobj.pre_stim,\n",
    "                                            post_stim=expobj.post_stim)\n"
   ]
  },
  {
   "cell_type": "code",
   "execution_count": 7,
   "id": "consistent-fever",
   "metadata": {},
   "outputs": [],
   "source": [
    "#%% turn important cell x time arrays into pandas dataframes\n",
    "\n",
    "# raw Flu traces of all good cells\n",
    "columns = [f'{num}' for num in range(expobj.curr_trial_frames[0], expobj.curr_trial_frames[1])]\n",
    "index = [f'{num}' for num in expobj.good_cells]\n",
    "idxs = [expobj.cell_id.index(cell) for cell in expobj.good_cells]\n",
    "expobj.raw_df = pd.DataFrame(expobj.raw[idxs, :], columns=columns, index=index)\n",
    "\n",
    "\n",
    "# raw baseline Flu traces of all good cells\n",
    "columns = [f'{num}' for num in range(baseline_frames[0], baseline_frames[1])]\n",
    "index = [f'{num}' for num in expobj.good_cells]\n",
    "idxs = [expobj.cell_id.index(cell) for cell in expobj.good_cells]\n",
    "expobj.baseline_raw_df = pd.DataFrame(expobj.baseline_raw[idxs, :], columns=columns, index=index)\n",
    "\n"
   ]
  },
  {
   "cell_type": "code",
   "execution_count": 8,
   "id": "streaming-estate",
   "metadata": {},
   "outputs": [
    {
     "name": "stdout",
     "output_type": "stream",
     "text": [
      "Completed gathering dFF responses to photostim for 525 cells\n",
      "risky cells (with low Flu values to normalize with):  [20, 147, 165, 178, 197, 203, 217, 247, 253, 268, 276, 284, 290, 299, 353, 365, 404, 411, 423, 429, 439, 459, 477, 489, 519, 528, 530, 531, 568, 578, 585, 586, 605, 664, 691, 697, 764, 765, 771, 795, 829, 861, 881, 937, 944, 946, 1037, 1055, 1061, 1066, 1099, 1104, 1189, 1199, 1203, 1220, 1221, 1227, 1228]\n",
      "\n",
      "The avg. dF/F responses of photostim targets is: 22.455560455322264\n"
     ]
    }
   ],
   "source": [
    "# %% calculate dFF responses of all cells to photostimulation trials expobj\n",
    "\n",
    "# non-targeted cells: calculate response of non-targeted cells in response to photostim. trials\n",
    "# - make a pandas dataframe that contains the post-stim response of all cells at each stim timepoint\n",
    "#   give group name 'non_targets' to the non-targetted cells, and the appropriate SLM group number to targetted cells\n",
    "\n",
    "\n",
    "expobj.dff_responses_all_cells = aoutils.all_cell_responses_dff(expobj, normalize_to='pre-stim')\n",
    "\n",
    "# calculate the avg response values for all cells across all stims\n",
    "average_responses = np.mean(expobj.dff_responses_all_cells[expobj.dff_responses_all_cells.columns[1:]], axis=1)\n",
    "responses = {'cell_id': [], 'group': [], 'Avg. dFF response': []}\n",
    "for cell in expobj.good_cells:\n",
    "    if cell in expobj.s2p_cell_targets:\n",
    "        responses['cell_id'].append(cell)\n",
    "        responses['group'].append('photostim target')\n",
    "        responses['Avg. dFF response'].append(average_responses[cell])\n",
    "    else:\n",
    "        responses['cell_id'].append(cell)\n",
    "        responses['group'].append('non-target')\n",
    "        responses['Avg. dFF response'].append(average_responses[cell])\n",
    "\n",
    "expobj.average_responses_df = pd.DataFrame(responses)\n",
    "\n",
    "print('\\nThe avg. dF/F responses of photostim targets is: %s' % np.mean(\n",
    "    expobj.average_responses_df[expobj.average_responses_df.group == 'photostim target'])[1])\n"
   ]
  },
  {
   "cell_type": "code",
   "execution_count": 9,
   "id": "signed-arbitration",
   "metadata": {},
   "outputs": [
    {
     "name": "stdout",
     "output_type": "stream",
     "text": [
      "Completed gathering dF/stdF responses to photostim for 525 cells\n",
      "\n",
      "The avg. dF/stdF responses of photostim targets is: 0.7188897228240967\n",
      "pkl saved to /home/pshah/mnt/qnap/Analysis/2020-12-19/2020-12-19_t-011/2020-12-19_t-011.pkl\n"
     ]
    }
   ],
   "source": [
    "# %% calculate dF_stdF responses of all cells to photostimulation trials expobj\n",
    "\n",
    "expobj.dfstdf_all_cells = aoutils.all_cell_responses_dFstdF(expobj)\n",
    "\n",
    "# calculate the avg response values for all cells across all stims\n",
    "average_responses_dfstdf = np.mean(expobj.dfstdf_all_cells[expobj.dfstdf_all_cells.columns[1:]], axis=1)\n",
    "responses = {'cell_id': [], 'group': [], 'Avg. dF/stdF response': []}\n",
    "for cell in expobj.good_cells:\n",
    "    if cell in expobj.s2p_cell_targets:\n",
    "        responses['cell_id'].append(cell)\n",
    "        responses['group'].append('photostim target')\n",
    "        responses['Avg. dF/stdF response'].append(average_responses_dfstdf[cell])\n",
    "    else:\n",
    "        responses['cell_id'].append(cell)\n",
    "        responses['group'].append('non-target')\n",
    "        responses['Avg. dF/stdF response'].append(average_responses_dfstdf[cell])\n",
    "\n",
    "expobj.average_responses_dfstdf = pd.DataFrame(responses)\n",
    "\n",
    "print('\\nThe avg. dF/stdF responses of photostim targets is: %s' % np.mean(\n",
    "    expobj.average_responses_dfstdf[expobj.average_responses_dfstdf.group == 'photostim target'])[1])\n",
    "\n",
    "expobj.save()"
   ]
  },
  {
   "cell_type": "code",
   "execution_count": 10,
   "id": "concrete-example",
   "metadata": {},
   "outputs": [
    {
     "ename": "SystemExit",
     "evalue": "",
     "output_type": "error",
     "traceback": [
      "An exception has occurred, use %tb to see the full traceback.\n",
      "\u001b[0;31mSystemExit\u001b[0m\n"
     ]
    },
    {
     "name": "stderr",
     "output_type": "stream",
     "text": [
      "/home/pshah/anaconda3/envs/2021/lib/python3.8/site-packages/IPython/core/interactiveshell.py:3445: UserWarning: To exit: use 'exit', 'quit', or Ctrl-D.\n",
      "  warn(\"To exit: use 'exit', 'quit', or Ctrl-D.\", stacklevel=1)\n"
     ]
    }
   ],
   "source": [
    "sys.exit()"
   ]
  },
  {
   "cell_type": "markdown",
   "id": "commercial-invite",
   "metadata": {},
   "source": [
    "## alloptical photostim analysis - t-011\n",
    "\n",
    "trials: ['t-011'] -- pre 4ap all optical\n",
    "\n",
    "naparm export: 2020-12-19_RL109_ps_012 --multi"
   ]
  },
  {
   "cell_type": "code",
   "execution_count": null,
   "id": "revolutionary-shade",
   "metadata": {},
   "outputs": [],
   "source": []
  },
  {
   "cell_type": "code",
   "execution_count": null,
   "id": "unusual-upgrade",
   "metadata": {},
   "outputs": [],
   "source": [
    "# %% IMPORT MODULES AND TRIAL expobj OBJECT\n",
    "import sys\n",
    "\n",
    "sys.path.append('/home/pshah/Documents/code/PackerLab_pycharm/')\n",
    "sys.path.append('/home/pshah/Documents/code/')\n",
    "import alloptical_utils_pj as aoutils\n",
    "import alloptical_plotting as aoplot\n",
    "import utils.funcs_pj as pj\n",
    "\n",
    "import numpy as np\n",
    "import pandas as pd\n",
    "import matplotlib.pyplot as plt\n",
    "import seaborn as sns\n",
    "\n",
    "from skimage import draw\n",
    "\n",
    "###### IMPORT pkl file containing data in form of expobj\n",
    "trial = 't-007'\n",
    "date = '2020-12-19'\n",
    "pkl_path = \"/home/pshah/mnt/qnap/Analysis/%s/%s_%s/%s_%s.pkl\" % (date, date, trial, date, trial)\n",
    "# pkl_path = \"/home/pshah/mnt/qnap/Data/%s/%s_%s/%s_%s.pkl\" % (date, date, trial, date, trial)\n",
    "\n",
    "expobj, experiment = aoutils.import_expobj(trial=trial, date=date, pkl_path=pkl_path)\n"
   ]
  },
  {
   "cell_type": "code",
   "execution_count": null,
   "id": "random-loading",
   "metadata": {},
   "outputs": [],
   "source": [
    "# %% PLOT AVG PHOTOSTIM PRE- POST- TRACE AVGed OVER ALL PHOTOSTIM. TRIALS - PHOTOSTIM TARGETTED cells\n",
    "\n",
    "# x = np.asarray([i for i in expobj.good_photostim_cells_stim_responses_dFF[0]])\n",
    "x = np.asarray([i for i in expobj.targets_dfstdF_avg])\n",
    "# y_label = 'pct. dFF (normalized to prestim period)'\n",
    "y_label = 'dFstdF (normalized to prestim period)'\n",
    "\n",
    "aoplot.plot_photostim_avg(dff_array=x, expobj=expobj, stim_duration=expobj.duration_frames, pre_stim=expobj.pre_stim,\n",
    "                          post_stim=expobj.post_stim,\n",
    "                          title=(experiment + '- responses of all photostim targets'),\n",
    "                          y_label=y_label, x_label='Time post-stimulation (seconds)')\n"
   ]
  },
  {
   "cell_type": "code",
   "execution_count": null,
   "id": "human-sheet",
   "metadata": {},
   "outputs": [],
   "source": [
    "# %% PLOT ENTIRE TRIAL - targeted cells plotted individually as subplots\n",
    "\n",
    "expobj.raw_targets = [expobj.raw[expobj.cell_id.index(i)] for i in expobj.s2p_cell_targets]\n",
    "expobj.dff_targets = aoutils.normalize_dff(np.array(expobj.raw_targets))\n",
    "# expobj.targets_dff_base = aoutils.normalize_dff_baseline(\n",
    "#     arr=expobj.raw_df.loc[[str(x) for x in expobj.s2p_cell_targets]],\n",
    "#     baseline_array=expobj.baseline_raw_df)\n",
    "# plot_photostim_subplots(dff_array=dff_targets,\n",
    "#                 title=(experiment + '%s responses of responsive cells' % len(expobj.good_photostim_cells_stim_responses_dFF)))\n",
    "to_plot = expobj.dff_targets\n",
    "\n",
    "\n",
    "aoplot.plot_photostim_overlap_plots(dff_array=to_plot, expobj=expobj,\n",
    "                                    y_lims=[0, 5000], title=(experiment + '-'))\n",
    "\n",
    "aoplot.plot_photostim_subplots(dff_array=to_plot, expobj=expobj, x_label='Frames',\n",
    "                               y_label='Raw Flu',\n",
    "                               title=(experiment))\n"
   ]
  },
  {
   "cell_type": "code",
   "execution_count": null,
   "id": "corresponding-detail",
   "metadata": {},
   "outputs": [],
   "source": [
    "# %% RELIABILITY MEASUREMENTS and PLOT - PHOTOSTIM TARGETED CELLS\n",
    "# measure, for each cell, the pct of trials in which the dFF > 20% post stim (normalized to pre-stim avgF for the trial and cell)\n",
    "# can plot this as a bar plot for now showing the distribution of the reliability measurement\n",
    "\n",
    "expobj.reliability = aoutils.calculate_reliability(expobj=expobj, dfstdf_threshold=0.3)\n",
    "pj.bar_with_points(data=[list(expobj.reliability.values())], x_tick_labels=['t-013'], ylims=[0, 100], bar=False,\n",
    "                   title='%s reliability of stim responses' % trial, expand_size_x=2)\n"
   ]
  },
  {
   "cell_type": "code",
   "execution_count": null,
   "id": "enclosed-immunology",
   "metadata": {},
   "outputs": [],
   "source": [
    "# %% PLOT AVG PHOTOSTIM PRE- POST- TRACE AVGed OVER ALL PHOTOSTIM. TRIALS - NON - TARGETS\n",
    "x = np.asarray([i for i in expobj.dfstdF_traces_avg])\n",
    "# y_label = 'pct. dFF (normalized to prestim period)'\n",
    "y_label = 'dFstdF (normalized to prestim period)'\n",
    "\n",
    "aoplot.plot_photostim_avg(dff_array=x, expobj=expobj, stim_duration=expobj.duration_frames, pre_stim=expobj.pre_stim,\n",
    "                          post_stim=expobj.post_stim,\n",
    "                          title=(experiment + '- responses of all photostim targets'),\n",
    "                          y_label=y_label, x_label='Time post-stimulation (seconds)')"
   ]
  },
  {
   "cell_type": "code",
   "execution_count": null,
   "id": "empty-computer",
   "metadata": {},
   "outputs": [],
   "source": [
    "# %% PLOT HEATMAP OF AVG PRE- POST TRACE AVGed OVER ALL PHOTOSTIM. TRIALS - ALL CELLS (photostim targets at top) - Lloyd style :D\n",
    "\n",
    "x = np.asarray([i for i in expobj.targets_dfstdF_avg])\n",
    "aoplot.plot_traces_heatmap(x, vmin=-1, vmax=1, stim_on=expobj.pre_stim, stim_off=expobj.pre_stim + expobj.duration_frames - 1,\n",
    "                           title=(experiment + ' - targets only'))\n",
    "\n",
    "x = np.asarray([i for i in expobj.dfstdF_traces_avg])\n",
    "aoplot.plot_traces_heatmap(x, vmin=-0.5, vmax=0.5, stim_on=expobj.pre_stim, stim_off=expobj.pre_stim + expobj.duration_frames - 1,\n",
    "                           title=(experiment + ' - nontargets'))\n"
   ]
  },
  {
   "cell_type": "code",
   "execution_count": null,
   "id": "incorrect-accounting",
   "metadata": {},
   "outputs": [],
   "source": [
    "# %% BAR PLOT PHOTOSTIM RESPONSES SIZE - TARGETS vs. NON-TARGETS\n",
    "# collect photostim timed average dff traces\n",
    "all_cells_dff = []\n",
    "good_std_cells = []\n",
    "\n",
    "\n",
    "## using pj.bar_with_points() for a nice bar graph\n",
    "group1 = list(expobj.average_responses_dfstdf[expobj.average_responses_dfstdf['group'] == 'photostim target'][\n",
    "                  'Avg. dF/stdF response'])\n",
    "group2 = list(\n",
    "    expobj.average_responses_dfstdf[expobj.average_responses_dfstdf['group'] == 'non-target']['Avg. dF/stdF response'])\n",
    "pj.bar_with_points(data=[group1, group2], x_tick_labels=['photostim target', 'non-target'], xlims=[0, 0.6],\n",
    "                   ylims=[0, 1.5], bar=False,\n",
    "                   colors=['red', 'black'], title=experiment, y_label='Avg dF/stdF response', expand_size_y=1.3,\n",
    "                   expand_size_x=1.4)\n"
   ]
  },
  {
   "cell_type": "code",
   "execution_count": null,
   "id": "amino-corner",
   "metadata": {},
   "outputs": [],
   "source": [
    "# %% PLOT HEATMAP OF PHOTOSTIM. RESPONSES TO PHOTOSTIM FOR ALL CELLS\n",
    "# - need to find a way to sort these responses that similar cells are sorted together\n",
    "# - implement a heirarchical clustering method\n",
    "\n",
    "stim_timings = [str(i) for i in expobj.stim_start_frames]  # need each stim start frame as a str type for pandas slicing\n",
    "\n",
    "# make heatmap of responses across all cells across all stims\n",
    "df_ = expobj.dfstdf_all_cells[stim_timings]  # select appropriate stim time reponses from the pandas df\n",
    "df_ = df_[df_.columns].astype(float)\n",
    "\n",
    "plt.figure(figsize=(5, 15));\n",
    "sns.heatmap(df_, cmap='seismic', vmin=-5, vmax=5, cbar_kws={\"shrink\": 0.25});\n",
    "plt.show()\n"
   ]
  },
  {
   "cell_type": "code",
   "execution_count": null,
   "id": "upset-alias",
   "metadata": {},
   "outputs": [],
   "source": [
    "# %% PLOT imshow() XY locations with COLORS AS average response of ALL cells in FOV\n",
    "aoplot.xyloc_responses(expobj, to_plot='dfstdf', clim=[-0.5, +0.5], plot_target_coords=True)\n"
   ]
  },
  {
   "cell_type": "code",
   "execution_count": null,
   "id": "going-effects",
   "metadata": {},
   "outputs": [],
   "source": []
  },
  {
   "cell_type": "code",
   "execution_count": null,
   "id": "heated-ability",
   "metadata": {},
   "outputs": [],
   "source": []
  },
  {
   "cell_type": "code",
   "execution_count": null,
   "id": "lined-extraction",
   "metadata": {},
   "outputs": [],
   "source": []
  },
  {
   "cell_type": "code",
   "execution_count": null,
   "id": "encouraging-reliance",
   "metadata": {},
   "outputs": [],
   "source": []
  }
 ],
 "metadata": {
  "kernelspec": {
   "display_name": "Python 3",
   "language": "python",
   "name": "python3"
  },
  "language_info": {
   "codemirror_mode": {
    "name": "ipython",
    "version": 3
   },
   "file_extension": ".py",
   "mimetype": "text/x-python",
   "name": "python",
   "nbconvert_exporter": "python",
   "pygments_lexer": "ipython3",
   "version": "3.8.5"
  }
 },
 "nbformat": 4,
 "nbformat_minor": 5
}
