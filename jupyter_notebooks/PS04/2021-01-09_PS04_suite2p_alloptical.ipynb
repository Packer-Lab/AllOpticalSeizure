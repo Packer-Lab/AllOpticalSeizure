{
 "cells": [
  {
   "cell_type": "markdown",
   "metadata": {},
   "source": [
    "### PS04 - \n",
    "\n",
    "    experiment: 2021-01-09, s2p run: 2021-05-01\n",
    "\n",
    "    all optical experiment pre and post 4ap"
   ]
  },
  {
   "cell_type": "code",
   "execution_count": 1,
   "metadata": {},
   "outputs": [],
   "source": [
    "# imports general modules, runs ipython magic commands\n",
    "# change path in this notebook to point to repo locally\n",
    "# n.b. sometimes need to run this cell twice to init the plotting paramters\n",
    "# sys.path.append('/home/pshah/Documents/code/Vape/jupyter/')\n",
    "\n",
    "import sys\n",
    "\n",
    "sys.path.append('/home/pshah/Documents/code/PackerLab_pycharm/')\n",
    "import alloptical_utils_pj as aoutils\n",
    "import alloptical_plotting as aoplot\n",
    "import utils.funcs_pj as pj\n",
    "\n",
    "import pickle\n",
    "import numpy as np\n",
    "import pandas as pd\n",
    "import matplotlib.pyplot as plt\n",
    "import seaborn as sns\n",
    "\n",
    "from numba import njit\n",
    "from skimage import draw"
   ]
  },
  {
   "cell_type": "code",
   "execution_count": 2,
   "metadata": {},
   "outputs": [],
   "source": [
    "import sys\n",
    "sys.path.append('/home/pshah/Documents/code/PackerLab_pycharm/')\n",
    "import os\n",
    "import numpy as np\n",
    "from suite2p.run_s2p import run_s2p"
   ]
  },
  {
   "cell_type": "markdown",
   "metadata": {},
   "source": [
    "## Run suite2p\n",
    "2021-05-01 - PS04 (alloptical analysis, all trials ran together, reg_tiff=True)"
   ]
  },
  {
   "cell_type": "code",
   "execution_count": 3,
   "metadata": {},
   "outputs": [],
   "source": [
    "# MAKING A BIG bad_frames.npy FILE FOR ALL TRIALS STITCHED TOGETHER\n",
    "# -- After running photostim processing for all trials needed for this experiment\n",
    "# -- (RUN THIS BEFORE RUNNING SUITE2P FOR ALL OPTICAL EXPERIMENTS)"
   ]
  },
  {
   "cell_type": "code",
   "execution_count": 4,
   "metadata": {},
   "outputs": [
    {
     "name": "stdout",
     "output_type": "stream",
     "text": [
      "t-012 :  [31488, 31489, 31490, 31491, 31492]\n",
      "t-013 :  [36021, 36022, 36023, 36024, 36025]\n",
      "t-014 :  [41099, 41100, 41101, 41102, 41103]\n",
      "t-015 :  [46239, 46240, 46241, 46242, 46243]\n",
      "t-017 :  [50958, 50959, 50960, 50961, 50962]\n",
      "t-018 :  [56444, 56445, 56446, 56447, 56448]\n",
      "# of bad_frames saved to bad_frames.npy:  6078\n"
     ]
    }
   ],
   "source": [
    "# define base path for data and saving results\n",
    "base_path_data = '/home/pshah/mnt/qnap/Data/2021-01-09'\n",
    "date = base_path_data[-10:]\n",
    "base_path_save = '/home/pshah/mnt/qnap/Analysis/%s/suite2p/' % date\n",
    "\n",
    "\n",
    "to_suite2p = ['t-004', 't-006', 't-012', 't-013', 't-014', 't-015', 't-017', 't-018'\n",
    "                  ]  # specify all trials that were used in the suite2p run\n",
    "\n",
    "total_frames_stitched = 0\n",
    "curr_trial_frames = None\n",
    "baseline_frames = [0, 0]\n",
    "bad_frames = []\n",
    "to_suite2p_tiffs = []\n",
    "for t in to_suite2p:\n",
    "    pkl_path_2 = \"/home/pshah/mnt/qnap/Analysis/%s/%s_%s/%s_%s.pkl\" % (date, date, t, date, t)\n",
    "    with open(pkl_path_2, 'rb') as f:\n",
    "        _expobj = pickle.load(f)\n",
    "        # import suite2p data\n",
    "    if hasattr(_expobj, 'bad_frames'):\n",
    "        bad_frames.extend([(int(frame) + total_frames_stitched) for frame in _expobj.bad_frames])\n",
    "        print(t, ': ' ,bad_frames[-5:])\n",
    "    total_frames_stitched += _expobj.n_frames\n",
    "\n",
    "    to_suite2p_tiffs.append('%s/%s_%s/%s_%s_Cycle00001_Ch3.tif' % (base_path_data, date, t, date, t))\n",
    "\n",
    "print('# of bad_frames saved to bad_frames.npy: ', len(bad_frames))\n",
    "np.save(base_path_data + '/bad_frames.npy', np.array(bad_frames))  # save to npy file and remember to move npy file to tiff folder before running with suite2p\n",
    "\n",
    "    \n",
    "# name of the folder to save results in (default = suite2p in data_path)\n",
    "save_folder = os.path.join(base_path_save, 'alloptical-2p-1_25x-alltrials')  \n",
    "if not os.path.exists(base_path_save[:-1]):\n",
    "    os.mkdir(base_path_save)\n",
    "if not os.path.exists(save_folder):\n",
    "    print('making the save folder at %s' % save_folder)\n",
    "    os.mkdir(save_folder)\n"
   ]
  },
  {
   "cell_type": "code",
   "execution_count": 5,
   "metadata": {},
   "outputs": [],
   "source": [
    "data_path = [os.path.expanduser(base_path_data)]\n",
    "tiff_list = to_suite2p_tiffs\n",
    "\n",
    "# setup settings and run suite2p\n",
    "diameter = 12  # the average diameter (in pixels) of a cell -- check in fiji\n",
    "fs = 15.  # sampling rate of imaging (default 30 fps)\n",
    "nplanes = 1  # number of planes (default 1)\n",
    "nchannels = 1 # number of channels aquired (default 1)  \n",
    "\n",
    "\n",
    "ops = {\n",
    "        'batch_size': 2000, # reduce if running out of RAM\n",
    "        'fast_disk': os.path.expanduser('/mnt/sandbox/pshah/suite2p_tmp'), # used to store temporary binary file, defaults to save_path0 (set as a string NOT a list)\n",
    "         #'save_path0': '/media/jamesrowland/DATA/plab/suite_2p', # stores results, defaults to first item in data_path\n",
    "        'delete_bin': True, # whether to delete binary file after processing\n",
    "        # main settings\n",
    "        'nplanes' : 1, # each tiff has these many planes in sequence\n",
    "        'nchannels' : 1, # each tiff has these many channels per plane\n",
    "        'functional_chan' : 1, # this channel is used to extract functional ROIs (1-based)\n",
    "        'diameter': diameter, # this is the main parameter for cell detection, 2-dimensional if Y and X are different (e.g. [6 12])\n",
    "        'tau':  1.26, # this is the main parameter for deconvolution (1.25-1.5 for gcamp6s)\n",
    "        'fs': fs,  # sampling rate (total across planes)\n",
    "        # output settings\n",
    "        'save_mat': True, # whether to save output as matlab files\n",
    "        'combined': True, # combine multiple planes into a single result /single canvas for GUI\n",
    "        # parallel settings\n",
    "        'num_workers': 50, # 0 to select num_cores, -1 to disable parallelism, N to enforce value\n",
    "        'num_workers_roi': 0, # 0 to select number of planes, -1 to disable parallelism, N to enforce value\n",
    "        # registration settings\n",
    "        'do_registration': True, # whether to register data\n",
    "        'nimg_init': 200, # subsampled frames for finding reference image\n",
    "        'maxregshift': 0.1, # max allowed registration shift, as a fraction of frame max(width and height)\n",
    "        'align_by_chan' : 1, # when multi-channel, you can align by non-functional channel (1-based)\n",
    "        'reg_tif': True, # whether to save registered tiffs\n",
    "        'subpixel' : 10, # precision of subpixel registration (1/subpixel steps)\n",
    "        # cell detection settings\n",
    "        'connected': True, # whether or not to keep ROIs fully connected (set to 0 for dendrites)\n",
    "        'navg_frames_svd': 5000, # max number of binned frames for the SVD\n",
    "        'nsvd_for_roi': 1000, # max number of SVD components to keep for ROI detection\n",
    "        'max_iterations': 20, # maximum number of iterations to do cell detection\n",
    "        'ratio_neuropil': 6., # ratio between neuropil basis size and cell radius\n",
    "        'ratio_neuropil_to_cell': 3, # minimum ratio between neuropil radius and cell radius\n",
    "        'tile_factor': 1., # use finer (>1) or coarser (<1) tiles for neuropil estimation during cell detection\n",
    "        'threshold_scaling': 1., # adjust the automatically determined threshold by this scalar multiplier\n",
    "        'max_overlap': 0.75, # cells with more overlap than this get removed during triage, before refinement\n",
    "        'inner_neuropil_radius': 2, # number of pixels to keep between ROI and neuropil donut\n",
    "        'outer_neuropil_radius': np.inf, # maximum neuropil radius\n",
    "        'min_neuropil_pixels': 350, # minimum number of pixels in the neuropil\n",
    "        # deconvolution settings\n",
    "        'baseline': 'maximin', # baselining mode\n",
    "        'win_baseline': 60., # window for maximin\n",
    "        'sig_baseline': 10., # smoothing constant for gaussian filter\n",
    "        'prctile_baseline': 8.,# optional (whether to use a percentile baseline)\n",
    "        'neucoeff': .7,  # neuropil coefficient\n",
    "      }\n",
    "\n",
    "# # make the local suite2p binaries file if it does not already exist\n",
    "# if not os.path.exists(ops['fast_disk']):\n",
    "#     os.mkdir(ops['fast_disk'])\n",
    "    \n",
    "# # name of the folder to save results in (default = suite2p in data_path)\n",
    "# save_folder = os.path.join('/home/pshah/mnt/qnap/Data/2020-12-18/', 'suite2p/spont-2p-LFP-08x')  \n",
    "# if not os.path.exists(save_folder):\n",
    "#     os.mkdir(save_folder)\n",
    "\n",
    "\n",
    "\n",
    "db = {\n",
    "     'data_path': data_path,\n",
    "     'tiff_list': tiff_list, \n",
    "     'diameter': diameter, \n",
    "     'fs': fs,\n",
    "     'nplanes': nplanes,\n",
    "     'nchannels': nchannels,\n",
    "     'save_folder': save_folder\n",
    "     }"
   ]
  },
  {
   "cell_type": "code",
   "execution_count": null,
   "metadata": {},
   "outputs": [
    {
     "name": "stdout",
     "output_type": "stream",
     "text": [
      "{'data_path': ['/home/pshah/mnt/qnap/Data/2021-01-09'], 'tiff_list': ['/home/pshah/mnt/qnap/Data/2021-01-09/2021-01-09_t-004/2021-01-09_t-004_Cycle00001_Ch3.tif', '/home/pshah/mnt/qnap/Data/2021-01-09/2021-01-09_t-006/2021-01-09_t-006_Cycle00001_Ch3.tif', '/home/pshah/mnt/qnap/Data/2021-01-09/2021-01-09_t-012/2021-01-09_t-012_Cycle00001_Ch3.tif', '/home/pshah/mnt/qnap/Data/2021-01-09/2021-01-09_t-013/2021-01-09_t-013_Cycle00001_Ch3.tif', '/home/pshah/mnt/qnap/Data/2021-01-09/2021-01-09_t-014/2021-01-09_t-014_Cycle00001_Ch3.tif', '/home/pshah/mnt/qnap/Data/2021-01-09/2021-01-09_t-015/2021-01-09_t-015_Cycle00001_Ch3.tif', '/home/pshah/mnt/qnap/Data/2021-01-09/2021-01-09_t-017/2021-01-09_t-017_Cycle00001_Ch3.tif', '/home/pshah/mnt/qnap/Data/2021-01-09/2021-01-09_t-018/2021-01-09_t-018_Cycle00001_Ch3.tif'], 'diameter': 12, 'fs': 15.0, 'nplanes': 1, 'nchannels': 1, 'save_folder': '/home/pshah/mnt/qnap/Analysis/2021-01-09/suite2p/alloptical-2p-1_25x-alltrials'}\n",
      "tif\n",
      "** Found 8 tifs - converting to binary **\n",
      "8000 frames of binary, time 365.03 sec.\n",
      "time 2388.37 sec. Wrote 56449 frames per binary for 1 planes\n",
      ">>>>>>>>>>>>>>>>>>>>> PLANE 0 <<<<<<<<<<<<<<<<<<<<<<\n",
      "NOTE: not registered / registration forced with ops['do_registration']>1\n",
      "      (no previous offsets to delete)\n",
      "----------- REGISTRATION\n",
      "registering 56449 frames\n",
      "Reference frame, 81.92 sec.\n",
      "Registered 8000/56449 in 2906.40s\n",
      "Registered 16000/56449 in 5027.57s\n",
      "Registered 24000/56449 in 7105.00s\n",
      "Registered 32000/56449 in 9249.44s\n",
      "Registered 40000/56449 in 11382.16s\n",
      "Registered 48000/56449 in 13520.45s\n"
     ]
    }
   ],
   "source": [
    "import time as time\n",
    "# run suite2p\n",
    "t1 = time.time()\n",
    "opsEnd=run_s2p(ops=ops,db=db)\n",
    "t2 = time.time()\n",
    "print('Total time this cell was running is {}'.format(t2-t1))"
   ]
  },
  {
   "cell_type": "code",
   "execution_count": null,
   "metadata": {},
   "outputs": [],
   "source": []
  },
  {
   "cell_type": "code",
   "execution_count": null,
   "metadata": {},
   "outputs": [],
   "source": []
  }
 ],
 "metadata": {
  "kernelspec": {
   "display_name": "Python 3",
   "language": "python",
   "name": "python3"
  },
  "language_info": {
   "codemirror_mode": {
    "name": "ipython",
    "version": 3
   },
   "file_extension": ".py",
   "mimetype": "text/x-python",
   "name": "python",
   "nbconvert_exporter": "python",
   "pygments_lexer": "ipython3",
   "version": "3.8.5"
  }
 },
 "nbformat": 4,
 "nbformat_minor": 4
}
