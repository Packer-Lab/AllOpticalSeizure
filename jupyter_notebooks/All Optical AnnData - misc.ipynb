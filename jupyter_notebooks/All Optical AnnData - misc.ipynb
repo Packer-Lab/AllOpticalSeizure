{
 "cells": [
  {
   "cell_type": "markdown",
   "source": "## Notebook for anndata functions",
   "metadata": {
    "collapsed": false,
    "pycharm": {
     "name": "#%% md\n"
    }
   }
  },
  {
   "cell_type": "code",
   "execution_count": 1,
   "outputs": [
    {
     "name": "stdout",
     "output_type": "stream",
     "text": "['/home/pshah/Documents/code/PackerLab_pycharm/jupyter_notebooks', '/Applications/NEURON-7.6/nrn/lib/python', '/home/pshah/Documents/code/PackerLab_pycharm/jupyter_notebooks', '/home/pshah/anaconda3/envs/2021/lib/python38.zip', '/home/pshah/anaconda3/envs/2021/lib/python3.8', '/home/pshah/anaconda3/envs/2021/lib/python3.8/lib-dynload', '', '/home/pshah/anaconda3/envs/2021/lib/python3.8/site-packages', '/home/pshah/anaconda3/envs/2021/lib/python3.8/site-packages/funcsforprajay/src', '/home/pshah/Documents/code/packerlabimaging/src', '/home/pshah/anaconda3/envs/2021/lib/python3.8/site-packages/locket-0.2.1-py3.8.egg', '/home/pshah/anaconda3/envs/2021/lib/python3.8/site-packages/IPython/extensions', '/home/pshah/.ipython', '/home/pshah/Documents/code/PackerLab_pycharm']\n"
    }
   ],
   "source": "import os\nos.getcwd()\n\nimport sys\nsys.path.extend([\"/home/pshah/Documents/code/PackerLab_pycharm\"])\nprint(sys.path)",
   "metadata": {
    "collapsed": false,
    "pycharm": {
     "name": "#%%\n"
    },
    "trusted": false
   }
  },
  {
   "cell_type": "code",
   "execution_count": 2,
   "outputs": [
    {
     "name": "stdout",
     "output_type": "stream",
     "text": "Warning: cellpose did not import\nNo module named 'cellpose'\ncannot use anatomical mode, but otherwise suite2p will run normally\n\nimported packerlabimaging\n\tversion: under...alpha...development\n\n\nimporting resultsobj from: /home/pshah/mnt/qnap/Analysis/alloptical_results_superobject.pkl ... \n|-DONE IMPORT of <class 'alloptical_utils_pj.AllOpticalResults'> resultsobj \n\n\n\nimporting resultsobj from: /home/pshah/mnt/qnap/Analysis/alloptical_results_superobject.pkl ... \n|-DONE IMPORT of <class 'alloptical_utils_pj.AllOpticalResults'> resultsobj \n\n\n\nimporting resultsobj from: /home/pshah/mnt/qnap/Analysis/alloptical_results_superobject.pkl ... \n|-DONE IMPORT of <class 'alloptical_utils_pj.AllOpticalResults'> resultsobj \n\n\n|- Loaded PS04 t-018 (/home/pshah/mnt/qnap/Analysis/2021-01-09/PS04/2021-01-09_t-018/2021-01-09_t-018.pkl) .. DONE\n"
    }
   ],
   "source": "import pickle\nfrom typing import Union\nimport pandas as pd\n\nimport alloptical_utils_pj as aoutils\nimport _utils_.alloptical_plotting_utils as aoplot\nimport _utils_._anndata as ad\nimport matplotlib.pyplot as plt\nimport numpy as np\nfrom funcsforprajay import funcs as pj\n\n# import results superobject that will collect analyses from various individual experiments\nresults_object_path = '/home/pshah/mnt/qnap/Analysis/alloptical_results_superobject.pkl'\nallopticalResults = aoutils.import_resultsobj(pkl_path=results_object_path)\n\nimport tifffile as tf\n\nimport _alloptical_utils as Utils\nexpobj = Utils.import_expobj(prep='PS04', trial='t-018')",
   "metadata": {
    "collapsed": false,
    "pycharm": {
     "name": "#%%\n"
    },
    "trusted": false
   }
  },
  {
   "cell_type": "markdown",
   "source": "#### modifying the anndata storage",
   "metadata": {
    "collapsed": false,
    "pycharm": {
     "name": "#%% md\n"
    }
   }
  },
  {
   "cell_type": "code",
   "execution_count": null,
   "outputs": [],
   "source": "## add variable for im_time_sec\n@Utils.run_for_loop_across_exps(run_pre4ap_trials=True, run_post4ap_trials=True)\ndef modifyanndata(**kwargs):\n\n    expobj: Union[alloptical_utils_pj.alloptical, alloptical_utils_pj.Post4ap] = kwargs['expobj']\n\n    if not hasattr(expobj, 'slmtargets_data'):\n        expobj.slm\n        expobj.save()\n",
   "metadata": {
    "collapsed": false,
    "pycharm": {
     "name": "#%%\n"
    },
    "trusted": false
   }
  },
  {
   "cell_type": "code",
   "execution_count": null,
   "outputs": [],
   "source": "",
   "metadata": {
    "collapsed": false,
    "pycharm": {
     "name": "#%%\n"
    },
    "trusted": false
   }
  },
  {
   "cell_type": "code",
   "execution_count": null,
   "outputs": [],
   "source": "",
   "metadata": {
    "collapsed": false,
    "pycharm": {
     "name": "#%%\n"
    },
    "trusted": false
   }
  },
  {
   "cell_type": "markdown",
   "source": "#### creating anndata storage",
   "metadata": {
    "collapsed": false,
    "pycharm": {
     "name": "#%% md\n"
    }
   }
  },
  {
   "cell_type": "code",
   "execution_count": 3,
   "outputs": [
    {
     "name": "stdout",
     "output_type": "stream",
     "text": "\n .......... INITIATING FOR LOOP ACROSS EXPS ..........\n\n\n .......... [2] INITIATING FOR LOOP ACROSS EXPS ..........\n\n\n .......... [3] INITIATING FOR LOOP ACROSS EXPS ..........\n\n\n----- RUNNING PRE4AP TRIALS -----\n|- Loaded RL108 t-009 (/home/pshah/mnt/qnap/Analysis/2020-12-18/RL108/2020-12-18_t-009/2020-12-18_t-009.pkl) .. DONE\nSTARTING on: pre 4ap 2p all optical RL108 t-009 ...............\n\n\\----- CREATING annotated data object using AnnData:\n\nAnnotated Data of n_obs × n_vars = 34 × 100 \navailable attributes: \n\t.X (primary datamatrix) of .data_label: \n\t\t|- SLM Targets photostim responses (tracedFF)\n\t.obs (ROIs metadata): \n\t\t|- 'SLM group #', 'SLM target coord'\n\t.var (frames metadata): \n\t\t|- 'im_time_secs', 'stim_start_frame', 'wvfront in sz', 'seizure location'\n\t.obsm: \n\t\t|- 'SLM targets areas'\n\t.layers: \n\t\t|- 'SLM Targets photostim responses (dFstdF)'\n\\- Saving expobj saved to /home/pshah/mnt/qnap/Analysis/2020-12-18/RL108/2020-12-18_t-009/2020-12-18_t-009.pkl -- \n\\- Saving expobj saved to /home/pshah/mnt/qnap/Analysis/2020-12-18/RL108/2020-12-18_t-009/2020-12-18_t-009.pkl -- \n................... pre 4ap 2p all optical RL108 t-009 FINISHED \n\n|- Loaded RL109 t-007 (/home/pshah/mnt/qnap/Analysis/2020-12-19/RL109/2020-12-19_t-007/2020-12-19_t-007.pkl) .. DONE\nSTARTING on: pre 4ap 2p all optical RL109 t-007 ...............\n\n\\----- CREATING annotated data object using AnnData:\n\nAnnotated Data of n_obs × n_vars = 50 × 100 \navailable attributes: \n\t.X (primary datamatrix) of .data_label: \n\t\t|- SLM Targets photostim responses (tracedFF)\n\t.obs (ROIs metadata): \n\t\t|- 'SLM group #', 'SLM target coord'\n\t.var (frames metadata): \n\t\t|- 'im_time_secs', 'stim_start_frame', 'wvfront in sz', 'seizure location'\n\t.obsm: \n\t\t|- 'SLM targets areas'\n\t.layers: \n\t\t|- 'SLM Targets photostim responses (dFstdF)'\n\\- Saving expobj saved to /home/pshah/mnt/qnap/Analysis/2020-12-19/RL109/2020-12-19_t-007/2020-12-19_t-007.pkl -- \n\\- Saving expobj saved to /home/pshah/mnt/qnap/Analysis/2020-12-19/RL109/2020-12-19_t-007/2020-12-19_t-007.pkl -- \n................... pre 4ap 2p all optical RL109 t-007 FINISHED \n\n|- Loaded RL109 t-013 (/home/pshah/mnt/qnap/Analysis/2020-12-19/RL109/2020-12-19_t-013/2020-12-19_t-013.pkl) .. DONE\nSTARTING on: pre 4ap 2p all optical RL109 t-013 ...............\n\n\\----- CREATING annotated data object using AnnData:\n\nAnnotated Data of n_obs × n_vars = 36 × 100 \navailable attributes: \n\t.X (primary datamatrix) of .data_label: \n\t\t|- SLM Targets photostim responses (tracedFF)\n\t.obs (ROIs metadata): \n\t\t|- 'SLM group #', 'SLM target coord'\n\t.var (frames metadata): \n\t\t|- 'im_time_secs', 'stim_start_frame', 'wvfront in sz', 'seizure location'\n\t.obsm: \n\t\t|- 'SLM targets areas'\n\t.layers: \n\t\t|- 'SLM Targets photostim responses (dFstdF)'\n\\- Saving expobj saved to /home/pshah/mnt/qnap/Analysis/2020-12-19/RL109/2020-12-19_t-013/2020-12-19_t-013.pkl -- \n\\- Saving expobj saved to /home/pshah/mnt/qnap/Analysis/2020-12-19/RL109/2020-12-19_t-013/2020-12-19_t-013.pkl -- \n................... pre 4ap 2p all optical RL109 t-013 FINISHED \n\n|- Loaded RL109 t-014 (/home/pshah/mnt/qnap/Analysis/2020-12-19/RL109/2020-12-19_t-014/2020-12-19_t-014.pkl) .. DONE\nSTARTING on: pre 4ap 2p all optical RL109 t-014 ...............\n\n\\----- CREATING annotated data object using AnnData:\n\nAnnotated Data of n_obs × n_vars = 40 × 100 \navailable attributes: \n\t.X (primary datamatrix) of .data_label: \n\t\t|- SLM Targets photostim responses (tracedFF)\n\t.obs (ROIs metadata): \n\t\t|- 'SLM group #', 'SLM target coord'\n\t.var (frames metadata): \n\t\t|- 'im_time_secs', 'stim_start_frame', 'wvfront in sz', 'seizure location'\n\t.obsm: \n\t\t|- 'SLM targets areas'\n\t.layers: \n\t\t|- 'SLM Targets photostim responses (dFstdF)'\n\\- Saving expobj saved to /home/pshah/mnt/qnap/Analysis/2020-12-19/RL109/2020-12-19_t-014/2020-12-19_t-014.pkl -- \n\\- Saving expobj saved to /home/pshah/mnt/qnap/Analysis/2020-12-19/RL109/2020-12-19_t-014/2020-12-19_t-014.pkl -- \n................... pre 4ap 2p all optical RL109 t-014 FINISHED \n\n|- Loaded PS04 t-012 (/home/pshah/mnt/qnap/Analysis/2021-01-09/PS04/2021-01-09_t-012/2021-01-09_t-012.pkl) .. DONE\nSTARTING on: pre 4ap 2p all optical PS04 t-012 ...............\n\n\\----- CREATING annotated data object using AnnData:\n\nAnnotated Data of n_obs × n_vars = 28 × 30 \navailable attributes: \n\t.X (primary datamatrix) of .data_label: \n\t\t|- SLM Targets photostim responses (tracedFF)\n\t.obs (ROIs metadata): \n\t\t|- 'SLM group #', 'SLM target coord'\n\t.var (frames metadata): \n\t\t|- 'im_time_secs', 'stim_start_frame', 'wvfront in sz', 'seizure location'\n\t.obsm: \n\t\t|- 'SLM targets areas'\n\t.layers: \n\t\t|- 'SLM Targets photostim responses (dFstdF)'\n\\- Saving expobj saved to /home/pshah/mnt/qnap/Analysis/2021-01-09/PS04/2021-01-09_t-012/2021-01-09_t-012.pkl -- \n\\- Saving expobj saved to /home/pshah/mnt/qnap/Analysis/2021-01-09/PS04/2021-01-09_t-012/2021-01-09_t-012.pkl -- \n................... pre 4ap 2p all optical PS04 t-012 FINISHED \n\n|- Loaded PS04 t-017 (/home/pshah/mnt/qnap/Analysis/2021-01-09/PS04/2021-01-09_t-017/2021-01-09_t-017.pkl) .. DONE\nSTARTING on: pre 4ap 2p all optical PS04 t-017 ...............\n\n\\----- CREATING annotated data object using AnnData:\n\nAnnotated Data of n_obs × n_vars = 28 × 30 \navailable attributes: \n\t.X (primary datamatrix) of .data_label: \n\t\t|- SLM Targets photostim responses (tracedFF)\n\t.obs (ROIs metadata): \n\t\t|- 'SLM group #', 'SLM target coord'\n\t.var (frames metadata): \n\t\t|- 'im_time_secs', 'stim_start_frame', 'wvfront in sz', 'seizure location'\n\t.obsm: \n\t\t|- 'SLM targets areas'\n\t.layers: \n\t\t|- 'SLM Targets photostim responses (dFstdF)'\n\\- Saving expobj saved to /home/pshah/mnt/qnap/Analysis/2021-01-09/PS04/2021-01-09_t-017/2021-01-09_t-017.pkl -- \n\\- Saving expobj saved to /home/pshah/mnt/qnap/Analysis/2021-01-09/PS04/2021-01-09_t-017/2021-01-09_t-017.pkl -- \n................... pre 4ap 2p all optical PS04 t-017 FINISHED \n\n|- Loaded PS07 t-007 (/home/pshah/mnt/qnap/Analysis/2021-01-19/PS07/2021-01-19_t-007/2021-01-19_t-007.pkl) .. DONE\nSTARTING on: pre 4ap 2p all optical PS07 t-007 ...............\n\n\\----- CREATING annotated data object using AnnData:\n\nAnnotated Data of n_obs × n_vars = 54 × 100 \navailable attributes: \n\t.X (primary datamatrix) of .data_label: \n\t\t|- SLM Targets photostim responses (tracedFF)\n\t.obs (ROIs metadata): \n\t\t|- 'SLM group #', 'SLM target coord'\n\t.var (frames metadata): \n\t\t|- 'im_time_secs', 'stim_start_frame', 'wvfront in sz', 'seizure location'\n\t.obsm: \n\t\t|- 'SLM targets areas'\n\t.layers: \n\t\t|- 'SLM Targets photostim responses (dFstdF)'\n\\- Saving expobj saved to /home/pshah/mnt/qnap/Analysis/2021-01-19/PS07/2021-01-19_t-007/2021-01-19_t-007.pkl -- \n\\- Saving expobj saved to /home/pshah/mnt/qnap/Analysis/2021-01-19/PS07/2021-01-19_t-007/2021-01-19_t-007.pkl -- \n................... pre 4ap 2p all optical PS07 t-007 FINISHED \n\n|- Loaded PS06 t-011 (/home/pshah/mnt/qnap/Analysis/2021-01-10/PS06/2021-01-10_t-011/2021-01-10_t-011.pkl) .. DONE\nSTARTING on: pre 4ap 2p all optical PS06 t-011 ...............\n\n\\----- CREATING annotated data object using AnnData:\n\nAnnotated Data of n_obs × n_vars = 50 × 100 \navailable attributes: \n\t.X (primary datamatrix) of .data_label: \n\t\t|- SLM Targets photostim responses (tracedFF)\n\t.obs (ROIs metadata): \n\t\t|- 'SLM group #', 'SLM target coord'\n\t.var (frames metadata): \n\t\t|- 'im_time_secs', 'stim_start_frame', 'wvfront in sz', 'seizure location'\n\t.obsm: \n\t\t|- 'SLM targets areas'\n\t.layers: \n\t\t|- 'SLM Targets photostim responses (dFstdF)'\n\\- Saving expobj saved to /home/pshah/mnt/qnap/Analysis/2021-01-10/PS06/2021-01-10_t-011/2021-01-10_t-011.pkl -- \n\\- Saving expobj saved to /home/pshah/mnt/qnap/Analysis/2021-01-10/PS06/2021-01-10_t-011/2021-01-10_t-011.pkl -- \n................... pre 4ap 2p all optical PS06 t-011 FINISHED \n\n|- Loaded PS11 t-010 (/home/pshah/mnt/qnap/Analysis/2021-01-24/PS11/2021-01-24_t-010/2021-01-24_t-010.pkl) .. DONE\nSTARTING on: pre 4ap 2p all optical PS11 t-010 ...............\n\n\\----- CREATING annotated data object using AnnData:\n\nAnnotated Data of n_obs × n_vars = 48 × 100 \navailable attributes: \n\t.X (primary datamatrix) of .data_label: \n\t\t|- SLM Targets photostim responses (tracedFF)\n\t.obs (ROIs metadata): \n\t\t|- 'SLM group #', 'SLM target coord'\n\t.var (frames metadata): \n\t\t|- 'im_time_secs', 'stim_start_frame', 'wvfront in sz', 'seizure location'\n\t.obsm: \n\t\t|- 'SLM targets areas'\n\t.layers: \n\t\t|- 'SLM Targets photostim responses (dFstdF)'\n\\- Saving expobj saved to /home/pshah/mnt/qnap/Analysis/2021-01-24/PS11/2021-01-24_t-010/2021-01-24_t-010.pkl -- \n\\- Saving expobj saved to /home/pshah/mnt/qnap/Analysis/2021-01-24/PS11/2021-01-24_t-010/2021-01-24_t-010.pkl -- \n................... pre 4ap 2p all optical PS11 t-010 FINISHED \n\n\n----- RUNNING POST4AP TRIALS -----\n|- Loaded RL108 t-013 (/home/pshah/mnt/qnap/Analysis/2020-12-18/RL108/2020-12-18_t-013/2020-12-18_t-013.pkl) .. DONE\nSTARTING on: post 4ap 2p all optical RL108 t-013 ...............\n\n\\----- CREATING annotated data object using AnnData:\n\nAnnotated Data of n_obs × n_vars = 34 × 99 \navailable attributes: \n\t.X (primary datamatrix) of .data_label: \n\t\t|- SLM Targets photostim responses (tracedFF)\n\t.obs (ROIs metadata): \n\t\t|- 'SLM group #', 'SLM target coord'\n\t.var (frames metadata): \n\t\t|- 'im_time_secs', 'stim_start_frame', 'wvfront in sz', 'seizure location'\n\t.obsm: \n\t\t|- 'SLM targets areas'\n\t.layers: \n\t\t|- 'SLM Targets photostim responses (dFstdF)'\n\\- Saving expobj saved to /home/pshah/mnt/qnap/Analysis/2020-12-18/RL108/2020-12-18_t-013/2020-12-18_t-013.pkl -- \n\\- Saving expobj saved to /home/pshah/mnt/qnap/Analysis/2020-12-18/RL108/2020-12-18_t-013/2020-12-18_t-013.pkl -- \n................... post 4ap 2p all optical RL108 t-013 FINISHED \n\n|- Loaded RL109 t-020 (/home/pshah/mnt/qnap/Analysis/2020-12-19/RL109/2020-12-19_t-020/2020-12-19_t-020.pkl) .. DONE\nSTARTING on: post 4ap 2p all optical RL109 t-020 ...............\n\n\\----- CREATING annotated data object using AnnData:\n\nAnnotated Data of n_obs × n_vars = 50 × 100 \navailable attributes: \n\t.X (primary datamatrix) of .data_label: \n\t\t|- SLM Targets photostim responses (tracedFF)\n\t.obs (ROIs metadata): \n\t\t|- 'SLM group #', 'SLM target coord'\n\t.var (frames metadata): \n\t\t|- 'im_time_secs', 'stim_start_frame', 'wvfront in sz', 'seizure location'\n\t.obsm: \n\t\t|- 'SLM targets areas'\n\t.layers: \n\t\t|- 'SLM Targets photostim responses (dFstdF)'\n\\- Saving expobj saved to /home/pshah/mnt/qnap/Analysis/2020-12-19/RL109/2020-12-19_t-020/2020-12-19_t-020.pkl -- \n\\- Saving expobj saved to /home/pshah/mnt/qnap/Analysis/2020-12-19/RL109/2020-12-19_t-020/2020-12-19_t-020.pkl -- \n................... post 4ap 2p all optical RL109 t-020 FINISHED \n\n|- Loaded RL109 t-018 (/home/pshah/mnt/qnap/Analysis/2020-12-19/RL109/2020-12-19_t-018/2020-12-19_t-018.pkl) .. DONE\nSTARTING on: post 4ap 2p all optical RL109 t-018 ...............\n\n\\----- CREATING annotated data object using AnnData:\n\nAnnotated Data of n_obs × n_vars = 36 × 100 \navailable attributes: \n\t.X (primary datamatrix) of .data_label: \n\t\t|- SLM Targets photostim responses (tracedFF)\n\t.obs (ROIs metadata): \n\t\t|- 'SLM group #', 'SLM target coord'\n\t.var (frames metadata): \n\t\t|- 'im_time_secs', 'stim_start_frame', 'wvfront in sz', 'seizure location'\n\t.obsm: \n\t\t|- 'SLM targets areas'\n\t.layers: \n\t\t|- 'SLM Targets photostim responses (dFstdF)'\n\\- Saving expobj saved to /home/pshah/mnt/qnap/Analysis/2020-12-19/RL109/2020-12-19_t-018/2020-12-19_t-018.pkl -- \n\\- Saving expobj saved to /home/pshah/mnt/qnap/Analysis/2020-12-19/RL109/2020-12-19_t-018/2020-12-19_t-018.pkl -- \n................... post 4ap 2p all optical RL109 t-018 FINISHED \n\n|- Loaded RL109 t-016 (/home/pshah/mnt/qnap/Analysis/2020-12-19/RL109/2020-12-19_t-016/2020-12-19_t-016.pkl) .. DONE\nSTARTING on: post 4ap 2p all optical RL109 t-016 ...............\n\n\\----- CREATING annotated data object using AnnData:\n\nAnnotated Data of n_obs × n_vars = 40 × 100 \navailable attributes: \n\t.X (primary datamatrix) of .data_label: \n\t\t|- SLM Targets photostim responses (tracedFF)\n\t.obs (ROIs metadata): \n\t\t|- 'SLM group #', 'SLM target coord'\n\t.var (frames metadata): \n\t\t|- 'im_time_secs', 'stim_start_frame', 'wvfront in sz', 'seizure location'\n\t.obsm: \n\t\t|- 'SLM targets areas'\n\t.layers: \n\t\t|- 'SLM Targets photostim responses (dFstdF)'\n\\- Saving expobj saved to /home/pshah/mnt/qnap/Analysis/2020-12-19/RL109/2020-12-19_t-016/2020-12-19_t-016.pkl -- \n\\- Saving expobj saved to /home/pshah/mnt/qnap/Analysis/2020-12-19/RL109/2020-12-19_t-016/2020-12-19_t-016.pkl -- \n................... post 4ap 2p all optical RL109 t-016 FINISHED \n\n|- Loaded PS04 t-018 (/home/pshah/mnt/qnap/Analysis/2021-01-09/PS04/2021-01-09_t-018/2021-01-09_t-018.pkl) .. DONE\nSTARTING on: post 4ap 2p all optical PS04 t-018 ...............\n\n\\----- CREATING annotated data object using AnnData:\n\nAnnotated Data of n_obs × n_vars = 28 × 30 \navailable attributes: \n\t.X (primary datamatrix) of .data_label: \n\t\t|- SLM Targets photostim responses (tracedFF)\n\t.obs (ROIs metadata): \n\t\t|- 'SLM group #', 'SLM target coord'\n\t.var (frames metadata): \n\t\t|- 'im_time_secs', 'stim_start_frame', 'wvfront in sz', 'seizure location'\n\t.obsm: \n\t\t|- 'SLM targets areas'\n\t.layers: \n\t\t|- 'SLM Targets photostim responses (dFstdF)'\n\\- Saving expobj saved to /home/pshah/mnt/qnap/Analysis/2021-01-09/PS04/2021-01-09_t-018/2021-01-09_t-018.pkl -- \n\\- Saving expobj saved to /home/pshah/mnt/qnap/Analysis/2021-01-09/PS04/2021-01-09_t-018/2021-01-09_t-018.pkl -- \n................... post 4ap 2p all optical PS04 t-018 FINISHED \n\n|- Loaded PS07 t-011 (/home/pshah/mnt/qnap/Analysis/2021-01-19/PS07/2021-01-19_t-011/2021-01-19_t-011.pkl) .. DONE\nSTARTING on: post 4ap 2p all optical PS07 t-011 ...............\n\n\\----- CREATING annotated data object using AnnData:\n\nAnnotated Data of n_obs × n_vars = 54 × 100 \navailable attributes: \n\t.X (primary datamatrix) of .data_label: \n\t\t|- SLM Targets photostim responses (tracedFF)\n\t.obs (ROIs metadata): \n\t\t|- 'SLM group #', 'SLM target coord'\n\t.var (frames metadata): \n\t\t|- 'im_time_secs', 'stim_start_frame', 'wvfront in sz', 'seizure location'\n\t.obsm: \n\t\t|- 'SLM targets areas'\n\t.layers: \n\t\t|- 'SLM Targets photostim responses (dFstdF)'\n\\- Saving expobj saved to /home/pshah/mnt/qnap/Analysis/2021-01-19/PS07/2021-01-19_t-011/2021-01-19_t-011.pkl -- \n\\- Saving expobj saved to /home/pshah/mnt/qnap/Analysis/2021-01-19/PS07/2021-01-19_t-011/2021-01-19_t-011.pkl -- \n................... post 4ap 2p all optical PS07 t-011 FINISHED \n\n|- Loaded PS06 t-013 (/home/pshah/mnt/qnap/Analysis/2021-01-10/PS06/2021-01-10_t-013/2021-01-10_t-013.pkl) .. DONE\nSTARTING on: post 4ap 2p all optical PS06 t-013 ...............\n\n\\----- CREATING annotated data object using AnnData:\n\nAnnotated Data of n_obs × n_vars = 50 × 100 \navailable attributes: \n\t.X (primary datamatrix) of .data_label: \n\t\t|- SLM Targets photostim responses (tracedFF)\n\t.obs (ROIs metadata): \n\t\t|- 'SLM group #', 'SLM target coord'\n\t.var (frames metadata): \n\t\t|- 'im_time_secs', 'stim_start_frame', 'wvfront in sz', 'seizure location'\n\t.obsm: \n\t\t|- 'SLM targets areas'\n\t.layers: \n\t\t|- 'SLM Targets photostim responses (dFstdF)'\n\\- Saving expobj saved to /home/pshah/mnt/qnap/Analysis/2021-01-10/PS06/2021-01-10_t-013/2021-01-10_t-013.pkl -- \n\\- Saving expobj saved to /home/pshah/mnt/qnap/Analysis/2021-01-10/PS06/2021-01-10_t-013/2021-01-10_t-013.pkl -- \n................... post 4ap 2p all optical PS06 t-013 FINISHED \n\n|- Loaded PS11 t-011 (/home/pshah/mnt/qnap/Analysis/2021-01-24/PS11/2021-01-24_t-011/2021-01-24_t-011.pkl) .. DONE\nSTARTING on: post 4ap 2p all optical PS11 t-011 ...............\n\n\\----- CREATING annotated data object using AnnData:\n\nAnnotated Data of n_obs × n_vars = 48 × 100 \navailable attributes: \n\t.X (primary datamatrix) of .data_label: \n\t\t|- SLM Targets photostim responses (tracedFF)\n\t.obs (ROIs metadata): \n\t\t|- 'SLM group #', 'SLM target coord'\n\t.var (frames metadata): \n\t\t|- 'im_time_secs', 'stim_start_frame', 'wvfront in sz', 'seizure location'\n\t.obsm: \n\t\t|- 'SLM targets areas'\n\t.layers: \n\t\t|- 'SLM Targets photostim responses (dFstdF)'\n\\- Saving expobj saved to /home/pshah/mnt/qnap/Analysis/2021-01-24/PS11/2021-01-24_t-011/2021-01-24_t-011.pkl -- \n\\- Saving expobj saved to /home/pshah/mnt/qnap/Analysis/2021-01-24/PS11/2021-01-24_t-011/2021-01-24_t-011.pkl -- \n................... post 4ap 2p all optical PS11 t-011 FINISHED \n\n00:16:33.51 hours, mins, seconds\n ---------- COMPLETED FOR LOOP ACROSS EXPS ----------\n\n"
    }
   ],
   "source": "## create anndata object if not created yet\n@Utils.run_for_loop_across_exps(run_pre4ap_trials=True, run_post4ap_trials=True, ignore_cache=True)\ndef tempcreateanndata(**kwargs):\n    expobj = kwargs['expobj']\n\n    if not hasattr(expobj, 'responses_SLMtargets_dfprestimf'):\n        aoprocess.run_alloptical_processing_photostim(expobj)\n        # expobj.save()\n\n    # if not hasattr(expobj, 'slmtargets_data'):\n    ad.create_anndata_SLMtargets(expobj=expobj)\n    expobj.save()\n\ntempcreateanndata()\n\n# adata object\n# expobj.slmtargets_data",
   "metadata": {
    "collapsed": false,
    "pycharm": {
     "name": "#%%\n"
    },
    "trusted": false
   }
  },
  {
   "cell_type": "code",
   "execution_count": null,
   "outputs": [],
   "source": "",
   "metadata": {
    "collapsed": false,
    "pycharm": {
     "name": "#%%\n"
    },
    "trusted": false
   }
  }
 ],
 "metadata": {
  "kernelspec": {
   "display_name": "Python 3",
   "language": "python",
   "name": "python3"
  },
  "language_info": {
   "codemirror_mode": {
    "name": "ipython",
    "version": 2
   },
   "file_extension": ".py",
   "mimetype": "text/x-python",
   "name": "python",
   "nbconvert_exporter": "python",
   "pygments_lexer": "ipython2",
   "version": "2.7.6"
  }
 },
 "nbformat": 4,
 "nbformat_minor": 0
}
