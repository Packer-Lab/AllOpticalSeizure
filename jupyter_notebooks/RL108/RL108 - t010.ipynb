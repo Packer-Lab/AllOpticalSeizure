{
 "cells": [
  {
   "cell_type": "markdown",
   "id": "appointed-occasion",
   "metadata": {},
   "source": [
    "RL108 - t010\n",
    "- all optical\n",
    "- pre 4ap"
   ]
  },
  {
   "cell_type": "markdown",
   "id": "driving-updating",
   "metadata": {},
   "source": [
    "## RL108 - t010 - alloptical photostim processing"
   ]
  },
  {
   "cell_type": "code",
   "execution_count": 1,
   "id": "dietary-secondary",
   "metadata": {},
   "outputs": [
    {
     "name": "stdout",
     "output_type": "stream",
     "text": [
      "importing expobj for \"2020-12-18, t-010\" from: /home/pshah/mnt/qnap/Analysis/2020-12-18/2020-12-18_t-010/2020-12-18_t-010.pkl\n",
      "DONE IMPORT of RL108: t-010, pre 4ap all optical\n"
     ]
    }
   ],
   "source": [
    "import sys; sys.path.append('/home/pshah/Documents/code/PackerLab_pycharm/')\n",
    "import os\n",
    "import pickle\n",
    "import alloptical_utils_pj as aoutils\n",
    "import alloptical_plotting as aoplot\n",
    "import matplotlib.pyplot as plt\n",
    "import pandas as pd\n",
    "import numpy as np\n",
    "import utils.funcs_pj as pj\n",
    "\n",
    "###### IMPORT pkl file containing expobj\n",
    "trial = 't-010'\n",
    "date = '2020-12-18'\n",
    "pkl_path = \"/home/pshah/mnt/qnap/Analysis/%s/%s_%s/%s_%s.pkl\" % (date, date, trial, date, trial)\n",
    "\n",
    "expobj, experiment = aoutils.import_expobj(trial=trial, date=date, pkl_path=pkl_path)\n",
    "\n",
    "cont_inue = True  # i know this is a rather very precarious thing here...\n",
    "\n",
    "s2p_path = '/home/pshah/mnt/qnap/Analysis/2020-12-18/suite2p/alloptical-2p-1x-alltrials/plane0'  # (most recent run for RL108 -- contains all trials including post4ap all optical trials)\n"
   ]
  },
  {
   "cell_type": "code",
   "execution_count": 2,
   "id": "pleased-candy",
   "metadata": {},
   "outputs": [
    {
     "name": "stdout",
     "output_type": "stream",
     "text": [
      "Loading 692 traces labelled as cells\n",
      "Subtracting neuropil with a coefficient of 0.7\n",
      "\n",
      "searching for targeted cells...\n",
      "(144, 251)\n",
      "(350, 331)\n",
      "(336, 322)\n",
      "(177, 324)\n",
      "(130, 285)\n",
      "(329, 94)\n",
      "(262, 292)\n",
      "(312, 286)\n",
      "(130, 358)\n",
      "(272, 351)\n",
      "(319, 202)\n",
      "(355, 178)\n",
      "(375, 284)\n",
      "(165, 139)\n",
      "(354, 316)\n",
      "(306, 85)\n",
      "(166, 87)\n",
      "(338, 384)\n",
      "(271, 267)\n",
      "(299, 273)\n",
      "(134, 259)\n",
      "(108, 114)\n",
      "(165, 191)\n",
      "(312, 47)\n",
      "(354, 316)\n",
      "(134, 259)\n",
      "(432, 240)\n",
      "------- Search completed.\n",
      "Number of targeted cells:  27\n",
      "Target cells found in suite2p:  [0, 1, 2, 5, 7, 17, 27, 31, 47, 51, 54, 60, 63, 137, 140, 143, 170, 176, 187, 274, 328, 375, 461, 641, 783, 802, 2272]  -- 27 cells (out of 34 target coords)\n"
     ]
    },
    {
     "data": {
      "image/png": "[encoded data removed]",
      "text/plain": [
       "<Figure size 432x288 with 1 Axes>"
      ]
     },
     "metadata": {},
     "output_type": "display_data"
    },
    {
     "name": "stdout",
     "output_type": "stream",
     "text": [
      "Retrieving s2p masks for: /home/pshah/mnt/qnap/Analysis/2020-12-18/2020-12-18_t-010/2020-12-18_t-010.pkl              \n",
      "s2p ROI + photostim targets masks saved to:  /home/pshah/mnt/qnap/Analysis/2020-12-18/2020-12-18_t-010_s2p_masks.tif\n"
     ]
    }
   ],
   "source": [
    "# %% prep for importing data from suite2p for this whole experiment\n",
    "# determine which frames to retrieve from the overall total s2p output\n",
    "trials = ['t-005', 't-006', 't-008', 't-009', 't-010', 't-011', 't-012', 't-013']  # specify all trials that were used in the suite2p run\n",
    "baseline_trials = ['t-005', 't-006']  # specify which trials to use as spont baseline\n",
    "# note ^^^ this only works currently when the spont baseline trials all come first, and also back to back\n",
    "total_frames_stitched = 0\n",
    "curr_trial_frames = None\n",
    "baseline_frames = [0, 0]\n",
    "for t in trials:\n",
    "    pkl_path_2 = \"/home/pshah/mnt/qnap/Analysis/%s/%s_%s/%s_%s.pkl\" % (date, date, t, date, t)\n",
    "    with open(pkl_path_2, 'rb') as f:\n",
    "        _expobj = pickle.load(f)\n",
    "        # import suite2p data\n",
    "    total_frames_stitched += _expobj.n_frames\n",
    "    if t == trial:\n",
    "        expobj.curr_trial_frames = [total_frames_stitched - _expobj.n_frames, total_frames_stitched]\n",
    "    if t in baseline_trials:\n",
    "        baseline_frames[1] = total_frames_stitched\n",
    "\n",
    "\n",
    "\n",
    "# suite2p processing on expobj; import suite2p data, flu, spks, cell coordinates and make s2p masks images stack\n",
    "# s2p_path = '/Users/prajayshah/Documents/data-to-process/2020-12-18/suite2p/alloptical-2p-pre-4ap-08x/plane0'\n",
    "# flu, spks, stat = uf.s2p_loader(s2p_path, subtract_neuropil=True)\n",
    "\n",
    "\n",
    "# s2p_path = '/Volumes/Extreme SSD/oxford-data/2020-03-18/suite2p/photostim-4ap_stitched/plane0'\n",
    "\n",
    "# main function that imports suite2p data and adds attributes to the expobj\n",
    "expobj.s2pProcessing(s2p_path=s2p_path, subset_frames=expobj.curr_trial_frames, subtract_neuropil=True,\n",
    "                     baseline_frames=baseline_frames)\n",
    "\n",
    "expobj.target_coords_all = expobj.target_coords\n",
    "expobj.s2p_targets()\n",
    "\n",
    "# expobj.target_coords_all = expobj.target_coords\n",
    "\n",
    "# flu, expobj.spks, expobj.stat = uf.s2p_loader(s2p_path, subtract_neuropil=True)\n",
    "\n",
    "aoutils.s2pMaskStack(obj=expobj, pkl_list=[pkl_path], s2p_path=s2p_path,\n",
    "                     parent_folder='/home/pshah/mnt/qnap/Analysis/2020-12-18/')\n"
   ]
  },
  {
   "cell_type": "code",
   "execution_count": 3,
   "id": "previous-belarus",
   "metadata": {},
   "outputs": [
    {
     "data": {
      "image/png": "[encoded data removed]",
      "text/plain": [
       "<Figure size 432x288 with 1 Axes>"
      ]
     },
     "metadata": {},
     "output_type": "display_data"
    }
   ],
   "source": [
    "# %% plotting the distribution of radius and aspect ratios - should this be running before the filtering step which is right below????????\n",
    "\n",
    "radius_list = aoplot.plot_cell_radius_aspectr(expobj, expobj.stat, to_plot='radius')"
   ]
  },
  {
   "cell_type": "code",
   "execution_count": 4,
   "id": "passive-sigma",
   "metadata": {},
   "outputs": [
    {
     "name": "stderr",
     "output_type": "stream",
     "text": [
      "/home/pshah/Documents/code/PackerLab_pycharm/alloptical_utils_pj.py:1870: NumbaPendingDeprecationWarning: \n",
      "Encountered the use of a type that is scheduled for deprecation: type 'reflected list' found for argument 'a' of function 'np_asarray.<locals>.impl'.\n",
      "\n",
      "For more information visit http://numba.pydata.org/numba-doc/latest/reference/deprecation.html#deprecation-of-reflection-for-list-and-set-types\n",
      "\n",
      "File \"../../../../../../../anaconda3/envs/2021/lib/python3.8/site-packages/numba/np/arraymath.py\", line 3873:\n",
      "        if is_nonelike(dtype):\n",
      "            def impl(a, dtype=None):\n",
      "            ^\n",
      "\n",
      "  raw_ = np.delete(raw, photostim_frames)\n",
      "/home/pshah/Documents/code/PackerLab_pycharm/alloptical_utils_pj.py:1870: NumbaPendingDeprecationWarning: \n",
      "Encountered the use of a type that is scheduled for deprecation: type 'reflected list' found for argument 'obj' of function 'np_delete.<locals>.np_delete_impl'.\n",
      "\n",
      "For more information visit http://numba.pydata.org/numba-doc/latest/reference/deprecation.html#deprecation-of-reflection-for-list-and-set-types\n",
      "\n",
      "File \"../../../../../../../anaconda3/envs/2021/lib/python3.8/site-packages/numba/np/arraymath.py\", line 3183:\n",
      "\n",
      "        def np_delete_impl(arr, obj):\n",
      "        ^\n",
      "\n",
      "  raw_ = np.delete(raw, photostim_frames)\n",
      "/home/pshah/Documents/code/PackerLab_pycharm/alloptical_utils_pj.py:1870: NumbaPendingDeprecationWarning: \n",
      "Encountered the use of a type that is scheduled for deprecation: type 'reflected list' found for argument 'x' of function '<lambda>'.\n",
      "\n",
      "For more information visit http://numba.pydata.org/numba-doc/latest/reference/deprecation.html#deprecation-of-reflection-for-list-and-set-types\n",
      "\n",
      "File \"../../../../../../../anaconda3/envs/2021/lib/python3.8/site-packages/numba/np/arraymath.py\", line 3168:\n",
      "@overload(np.delete)\n",
      "def np_delete(arr, obj):\n",
      "^\n",
      "\n",
      "  raw_ = np.delete(raw, photostim_frames)\n",
      "/home/pshah/anaconda3/envs/2021/lib/python3.8/site-packages/numba/core/ir_utils.py:2031: NumbaPendingDeprecationWarning: \n",
      "Encountered the use of a type that is scheduled for deprecation: type 'reflected list' found for argument 'cell_ids' of function '_good_cells'.\n",
      "\n",
      "For more information visit http://numba.pydata.org/numba-doc/latest/reference/deprecation.html#deprecation-of-reflection-for-list-and-set-types\n",
      "\n",
      "File \"../../../../../../../Documents/code/PackerLab_pycharm/alloptical_utils_pj.py\", line 1863:\n",
      "@njit\n",
      "def _good_cells(cell_ids, raws, photostim_frames, radiuses, std_thresh, min_radius_pix, max_radius_pix):\n",
      "^\n",
      "\n",
      "  warnings.warn(NumbaPendingDeprecationWarning(msg, loc=loc))\n",
      "/home/pshah/anaconda3/envs/2021/lib/python3.8/site-packages/numba/core/ir_utils.py:2031: NumbaPendingDeprecationWarning: \n",
      "Encountered the use of a type that is scheduled for deprecation: type 'reflected list' found for argument 'photostim_frames' of function '_good_cells'.\n",
      "\n",
      "For more information visit http://numba.pydata.org/numba-doc/latest/reference/deprecation.html#deprecation-of-reflection-for-list-and-set-types\n",
      "\n",
      "File \"../../../../../../../Documents/code/PackerLab_pycharm/alloptical_utils_pj.py\", line 1863:\n",
      "@njit\n",
      "def _good_cells(cell_ids, raws, photostim_frames, radiuses, std_thresh, min_radius_pix, max_radius_pix):\n",
      "^\n",
      "\n",
      "  warnings.warn(NumbaPendingDeprecationWarning(msg, loc=loc))\n",
      "/home/pshah/anaconda3/envs/2021/lib/python3.8/site-packages/numba/core/ir_utils.py:2031: NumbaPendingDeprecationWarning: \n",
      "Encountered the use of a type that is scheduled for deprecation: type 'reflected list' found for argument 'radiuses' of function '_good_cells'.\n",
      "\n",
      "For more information visit http://numba.pydata.org/numba-doc/latest/reference/deprecation.html#deprecation-of-reflection-for-list-and-set-types\n",
      "\n",
      "File \"../../../../../../../Documents/code/PackerLab_pycharm/alloptical_utils_pj.py\", line 1863:\n",
      "@njit\n",
      "def _good_cells(cell_ids, raws, photostim_frames, radiuses, std_thresh, min_radius_pix, max_radius_pix):\n",
      "^\n",
      "\n",
      "  warnings.warn(NumbaPendingDeprecationWarning(msg, loc=loc))\n"
     ]
    },
    {
     "name": "stdout",
     "output_type": "stream",
     "text": [
      "0  out of  3  cells done\n",
      "# of good cells found:  3  (out of  3  ROIs)\n",
      "0  out of  692  cells done\n",
      "100  out of  692  cells done\n",
      "200  out of  692  cells done\n",
      "300  out of  692  cells done\n",
      "400  out of  692  cells done\n",
      "500  out of  692  cells done\n",
      "600  out of  692  cells done\n",
      "# of good cells found:  640  (out of  692  ROIs)\n"
     ]
    }
   ],
   "source": [
    "# %% FILTER ALL CELLS THAT ARE ACTIVE AT LEAST ONCE FOR >2.5*std\n",
    "\n",
    "# pull out needed variables because numba doesn't work with custom classes (such as this all-optical class object)\n",
    "cell_ids = expobj.cell_id\n",
    "raws = expobj.raw\n",
    "# expobj.append_seizure_frames(bad_frames=None)\n",
    "photostim_frames = expobj.photostim_frames\n",
    "radiuses = expobj.radius\n",
    "\n",
    "# initial quick run to allow numba to compile the function - not sure if this is actually creating time savings\n",
    "_ = aoutils._good_cells(cell_ids=cell_ids[:3], raws=raws, photostim_frames=expobj.photostim_frames, radiuses=radiuses,\n",
    "                        std_thresh=2, min_radius_pix=2.5, max_radius_pix=8.5)\n",
    "expobj.good_cells = aoutils._good_cells(cell_ids=cell_ids, raws=raws, photostim_frames=expobj.photostim_frames,\n",
    "                                        radiuses=radiuses,\n",
    "                                        std_thresh=2, min_radius_pix=2.5, max_radius_pix=8.5)\n"
   ]
  },
  {
   "cell_type": "code",
   "execution_count": 5,
   "id": "distant-arbitration",
   "metadata": {},
   "outputs": [
    {
     "name": "stdout",
     "output_type": "stream",
     "text": [
      "pkl saved to /home/pshah/mnt/qnap/Analysis/2020-12-18/2020-12-18_t-010/2020-12-18_t-010.pkl\n",
      "\n",
      " COMPLETED RUNNING ALL OPTICAL PROCESSING PHOTOSTIM.\n"
     ]
    }
   ],
   "source": [
    "# %% SAVE THE UPDATED expobj OBJECT IN THE ORIGINAL PKL PATH TO USE NEXT\n",
    "\n",
    "# make the necessary Analysis saving subfolder as well\n",
    "expobj.analysis_save_path = expobj.tiff_path[:21] + 'Analysis/' + expobj.tiff_path[26:-35]\n",
    "if os.path.exists(expobj.analysis_save_path):\n",
    "    pass\n",
    "elif os.path.exists(expobj.analysis_save_path[:-17]):\n",
    "    os.mkdir(expobj.analysis_save_path)\n",
    "elif os.path.exists(expobj.analysis_save_path[:-27]):\n",
    "    os.mkdir(expobj.analysis_save_path[:-17])\n",
    "\n",
    "\n",
    "expobj.save_pkl(pkl_path=pkl_path)\n",
    "\n",
    "\n",
    "print(\"\\n COMPLETED RUNNING ALL OPTICAL PROCESSING PHOTOSTIM.\")\n"
   ]
  },
  {
   "cell_type": "markdown",
   "id": "jewish-anime",
   "metadata": {},
   "source": [
    "#### processing steps for ALL OPTICAL PHOTOSTIM related stuff"
   ]
  },
  {
   "cell_type": "code",
   "execution_count": 6,
   "id": "discrete-documentary",
   "metadata": {},
   "outputs": [
    {
     "name": "stdout",
     "output_type": "stream",
     "text": [
      "Cell #0 - dFF post-stim: 3.596281 (threshold value = 2.467598179976145)\n",
      "Cell #1 - dFF post-stim: 6.445814 (threshold value = 2.460505692164105)\n",
      "Cell #2 - dFF post-stim: 4.150921 (threshold value = 2.8494965553283578)\n",
      "Cell #5 - dFF post-stim: 17.514856 (threshold value = 2.0196242551008865)\n",
      "Cell #7 - dFF post-stim: 8.985236 (threshold value = 5.702215703328477)\n",
      "Cell #17 - dFF post-stim: 8.471037 (threshold value = 7.062117290496829)\n",
      "Cell #27 - dFF post-stim: 10.604317 (threshold value = 2.8289945363998186)\n",
      "Cell #31 - dFF post-stim: 5.6330614 (threshold value = 5.248900667826334)\n",
      "Cell #47 - dFF post-stim: 18.152493 (threshold value = 4.195866266886384)\n",
      "Cell #51 - dFF post-stim: 9.805362 (threshold value = 4.092281357447291)\n",
      "Cell #54 - dFF post-stim: 5.1369934 (threshold value = 2.8010432004928703)\n",
      "Cell #60 - dFF post-stim: 7.3694053 (threshold value = 4.268924792607628)\n",
      "Cell #63 - dFF post-stim: 13.109273 (threshold value = 10.711501884460446)\n",
      "Cell #137 - dFF post-stim: 7.380288 (threshold value = 3.8202707846959356)\n",
      "Cell #143 - dFF post-stim: 18.0984 (threshold value = 3.9414478302001896)\n",
      "Cell #170 - dFF post-stim: 10.849298 (threshold value = 3.206498273213697)\n",
      "Cell #187 - dFF post-stim: 3.7834709 (threshold value = 3.56211484273274)\n",
      "Cell #274 - dFF post-stim: 6.640873 (threshold value = 3.4087330579757804)\n",
      "Cell #375 - dFF post-stim: 5.7806945 (threshold value = 3.6762475490570523)\n",
      "Cell #461 - dFF post-stim: 18.435175 (threshold value = 3.5239706357319847)\n",
      "Cell #641 - dFF post-stim: 4.9603577 (threshold value = 4.206950791676832)\n",
      "Cell #783 - dFF post-stim: 4.123177 (threshold value = 3.8083315054575735)\n",
      "Cell #802 - dFF post-stim: 28.826897 (threshold value = 8.238143539428705)\n",
      "[std threshold of 1 std]\n",
      "|- 23 cells out of 27 s2p target cells photostim. responses above threshold\n",
      "|- Total number of good photostim responsive cells found: 23 (out of 27 s2p photostim target cells)\n",
      "\n",
      "Completed collecting pre to post stim traces -- normalized to pre-stim stdF -- for 613 cells\n"
     ]
    }
   ],
   "source": [
    "# %% Collect pre to post stim traces for PHOTOSTIM TARGETED CELLS, FILTER FOR GOOD PHOTOSTIM. TARGETED CELLS with responses above threshold = 1 std of the prestim std\n",
    "\n",
    "expobj.pre_stim = 15  # specify pre-stim and post-stim periods of analysis and plotting\n",
    "expobj.post_stim = 150\n",
    "\n",
    "# function for gathering all good photostim cells who respond on average across all trials to the photostim\n",
    "# note that the threshold for this is 1 * std of the prestim raw flu (fluorescence trace)\n",
    "expobj.targets_dff, expobj.targets_dff_avg, expobj.targets_dfstdF, \\\n",
    "    expobj.targets_dfstdF_avg, expobj.targets_raw, expobj.targets_raw_avg = \\\n",
    "    aoutils.get_targets_stim_traces_norm(expobj=expobj, normalize_to='pre-stim', pre_stim=expobj.pre_stim,\n",
    "                                         post_stim=expobj.post_stim)\n",
    "\n",
    "aoutils._good_photostim_cells(expobj=expobj, pre_stim=expobj.pre_stim, post_stim=expobj.post_stim, dff_threshold=None)\n",
    "\n",
    "# what does threshold value mean? add more descriptive print output for that\n",
    "\n",
    "# Collect pre to post stim traces for NON-TARGETS\n",
    "\n",
    "expobj.dff_traces, expobj.dff_traces_avg, expobj.dfstdF_traces, \\\n",
    "    expobj.dfstdF_traces_avg, expobj.raw_traces, expobj.raw_traces_avg = \\\n",
    "    aoutils.get_nontargets_stim_traces_norm(expobj=expobj, normalize_to='pre-stim', pre_stim=expobj.pre_stim,\n",
    "                                            post_stim=expobj.post_stim)\n"
   ]
  },
  {
   "cell_type": "code",
   "execution_count": 7,
   "id": "covered-mount",
   "metadata": {},
   "outputs": [],
   "source": [
    "#%% turn important cell x time arrays into pandas dataframes\n",
    "\n",
    "# raw Flu traces of all good cells\n",
    "columns = [f'{num}' for num in range(expobj.curr_trial_frames[0], expobj.curr_trial_frames[1])]\n",
    "index = [f'{num}' for num in expobj.good_cells]\n",
    "idxs = [expobj.cell_id.index(cell) for cell in expobj.good_cells]\n",
    "expobj.raw_df = pd.DataFrame(expobj.raw[idxs, :], columns=columns, index=index)\n",
    "\n",
    "\n",
    "# raw baseline Flu traces of all good cells\n",
    "columns = [f'{num}' for num in range(baseline_frames[0], baseline_frames[1])]\n",
    "index = [f'{num}' for num in expobj.good_cells]\n",
    "idxs = [expobj.cell_id.index(cell) for cell in expobj.good_cells]\n",
    "expobj.baseline_raw_df = pd.DataFrame(expobj.baseline_raw[idxs, :], columns=columns, index=index)\n",
    "\n"
   ]
  },
  {
   "cell_type": "code",
   "execution_count": 8,
   "id": "narrative-chemical",
   "metadata": {},
   "outputs": [
    {
     "name": "stdout",
     "output_type": "stream",
     "text": [
      "Completed gathering dFF responses to photostim for 640 cells\n",
      "risky cells (with low Flu values to normalize with):  [9, 120, 146, 175, 333, 346, 347, 444, 478, 484, 500, 502, 523, 559, 560, 685, 758, 778, 820, 881, 896, 912, 943, 1004, 1196, 1243, 1352, 1395, 1445, 1632, 1678, 1805, 1836, 1925, 2011, 2061, 2087, 2128, 2288, 2309]\n",
      "\n",
      "The avg. dF/F responses of photostim targets is: 8.74724671823007\n"
     ]
    }
   ],
   "source": [
    "# %% calculate dFF responses of all cells to photostimulation trials expobj\n",
    "\n",
    "# non-targeted cells: calculate response of non-targeted cells in response to photostim. trials\n",
    "# - make a pandas dataframe that contains the post-stim response of all cells at each stim timepoint\n",
    "#   give group name 'non_targets' to the non-targetted cells, and the appropriate SLM group number to targetted cells\n",
    "\n",
    "\n",
    "expobj.dff_responses_all_cells = aoutils.all_cell_responses_dff(expobj, normalize_to='pre-stim')\n",
    "\n",
    "# calculate the avg response values for all cells across all stims\n",
    "average_responses = np.mean(expobj.dff_responses_all_cells[expobj.dff_responses_all_cells.columns[1:]], axis=1)\n",
    "responses = {'cell_id': [], 'group': [], 'Avg. dFF response': []}\n",
    "for cell in expobj.good_cells:\n",
    "    if cell in expobj.s2p_cell_targets:\n",
    "        responses['cell_id'].append(cell)\n",
    "        responses['group'].append('photostim target')\n",
    "        responses['Avg. dFF response'].append(average_responses[cell])\n",
    "    else:\n",
    "        responses['cell_id'].append(cell)\n",
    "        responses['group'].append('non-target')\n",
    "        responses['Avg. dFF response'].append(average_responses[cell])\n",
    "\n",
    "expobj.average_responses_df = pd.DataFrame(responses)\n",
    "\n",
    "print('\\nThe avg. dF/F responses of photostim targets is: %s' % np.mean(\n",
    "    expobj.average_responses_df[expobj.average_responses_df.group == 'photostim target'])[1])\n"
   ]
  },
  {
   "cell_type": "code",
   "execution_count": 9,
   "id": "dried-parameter",
   "metadata": {},
   "outputs": [
    {
     "name": "stdout",
     "output_type": "stream",
     "text": [
      "Completed gathering dF/stdF responses to photostim for 640 cells\n",
      "\n",
      "The avg. dF/stdF responses of photostim targets is: 0.20173778529520392\n",
      "pkl saved to /home/pshah/mnt/qnap/Analysis/2020-12-18/2020-12-18_t-010/2020-12-18_t-010.pkl\n"
     ]
    }
   ],
   "source": [
    "# %% calculate dF_stdF responses of all cells to photostimulation trials expobj\n",
    "\n",
    "expobj.dfstdf_all_cells = aoutils.all_cell_responses_dFstdF(expobj)\n",
    "\n",
    "# calculate the avg response values for all cells across all stims\n",
    "average_responses_dfstdf = np.mean(expobj.dfstdf_all_cells[expobj.dfstdf_all_cells.columns[1:]], axis=1)\n",
    "responses = {'cell_id': [], 'group': [], 'Avg. dF/stdF response': []}\n",
    "for cell in expobj.good_cells:\n",
    "    if cell in expobj.s2p_cell_targets:\n",
    "        responses['cell_id'].append(cell)\n",
    "        responses['group'].append('photostim target')\n",
    "        responses['Avg. dF/stdF response'].append(average_responses_dfstdf[cell])\n",
    "    else:\n",
    "        responses['cell_id'].append(cell)\n",
    "        responses['group'].append('non-target')\n",
    "        responses['Avg. dF/stdF response'].append(average_responses_dfstdf[cell])\n",
    "\n",
    "expobj.average_responses_dfstdf = pd.DataFrame(responses)\n",
    "\n",
    "print('\\nThe avg. dF/stdF responses of photostim targets is: %s' % np.mean(\n",
    "    expobj.average_responses_dfstdf[expobj.average_responses_dfstdf.group == 'photostim target'])[1])\n",
    "\n",
    "expobj.save()"
   ]
  },
  {
   "cell_type": "code",
   "execution_count": 10,
   "id": "numerous-parliament",
   "metadata": {},
   "outputs": [
    {
     "ename": "SystemExit",
     "evalue": "",
     "output_type": "error",
     "traceback": [
      "An exception has occurred, use %tb to see the full traceback.\n",
      "\u001b[0;31mSystemExit\u001b[0m\n"
     ]
    },
    {
     "name": "stderr",
     "output_type": "stream",
     "text": [
      "/home/pshah/anaconda3/envs/2021/lib/python3.8/site-packages/IPython/core/interactiveshell.py:3445: UserWarning: To exit: use 'exit', 'quit', or Ctrl-D.\n",
      "  warn(\"To exit: use 'exit', 'quit', or Ctrl-D.\", stacklevel=1)\n"
     ]
    }
   ],
   "source": [
    "sys.exit()"
   ]
  },
  {
   "cell_type": "markdown",
   "id": "solar-moisture",
   "metadata": {},
   "source": [
    "## alloptical photostim analysis - t-010\n",
    "\n",
    "trials: ['t-010'] -- pre 4ap all optical -- no seizures, discard all frames = true\n",
    "\n",
    "naparm export: 2020-12-18_RL108_ps_009 --interleaved"
   ]
  },
  {
   "cell_type": "code",
   "execution_count": null,
   "id": "orange-meaning",
   "metadata": {},
   "outputs": [],
   "source": [
    "# %% IMPORT MODULES AND TRIAL expobj OBJECT\n",
    "import sys\n",
    "\n",
    "sys.path.append('/home/pshah/Documents/code/PackerLab_pycharm/')\n",
    "sys.path.append('/home/pshah/Documents/code/')\n",
    "import alloptical_utils_pj as aoutils\n",
    "import alloptical_plotting as aoplot\n",
    "import utils.funcs_pj as pj\n",
    "\n",
    "import numpy as np\n",
    "import pandas as pd\n",
    "import matplotlib.pyplot as plt\n",
    "import seaborn as sns\n",
    "\n",
    "from skimage import draw\n",
    "\n",
    "###### IMPORT pkl file containing data in form of expobj\n",
    "trial = 't-010'\n",
    "date = '2020-12-18'\n",
    "pkl_path = \"/home/pshah/mnt/qnap/Analysis/%s/%s_%s/%s_%s.pkl\" % (date, date, trial, date, trial)\n",
    "# pkl_path = \"/home/pshah/mnt/qnap/Data/%s/%s_%s/%s_%s.pkl\" % (date, date, trial, date, trial)\n",
    "\n",
    "expobj, experiment = aoutils.import_expobj(trial=trial, date=date, pkl_path=pkl_path)\n"
   ]
  },
  {
   "cell_type": "code",
   "execution_count": null,
   "id": "annoying-worth",
   "metadata": {},
   "outputs": [],
   "source": [
    "# %% PLOT AVG PHOTOSTIM PRE- POST- TRACE AVGed OVER ALL PHOTOSTIM. TRIALS - PHOTOSTIM TARGETTED cells\n",
    "\n",
    "# x = np.asarray([i for i in expobj.good_photostim_cells_stim_responses_dFF[0]])\n",
    "x = np.asarray([i for i in expobj.targets_dfstdF_avg])\n",
    "# y_label = 'pct. dFF (normalized to prestim period)'\n",
    "y_label = 'dFstdF (normalized to prestim period)'\n",
    "\n",
    "aoplot.plot_photostim_avg(dff_array=x, expobj=expobj, stim_duration=expobj.duration_frames, pre_stim=expobj.pre_stim,\n",
    "                          post_stim=expobj.post_stim,\n",
    "                          title=(experiment + '- responses of all photostim targets'),\n",
    "                          y_label=y_label, x_label='Time post-stimulation (seconds)')\n"
   ]
  },
  {
   "cell_type": "code",
   "execution_count": null,
   "id": "handled-valentine",
   "metadata": {},
   "outputs": [],
   "source": [
    "# %% PLOT ENTIRE TRIAL - targeted cells plotted individually as subplots\n",
    "\n",
    "expobj.raw_targets = [expobj.raw[expobj.cell_id.index(i)] for i in expobj.s2p_cell_targets]\n",
    "expobj.dff_targets = aoutils.normalize_dff(np.array(expobj.raw_targets))\n",
    "# expobj.targets_dff_base = aoutils.normalize_dff_baseline(\n",
    "#     arr=expobj.raw_df.loc[[str(x) for x in expobj.s2p_cell_targets]],\n",
    "#     baseline_array=expobj.baseline_raw_df)\n",
    "# plot_photostim_subplots(dff_array=dff_targets,\n",
    "#                 title=(experiment + '%s responses of responsive cells' % len(expobj.good_photostim_cells_stim_responses_dFF)))\n",
    "to_plot = expobj.dff_targets\n",
    "\n",
    "\n",
    "aoplot.plot_photostim_overlap_plots(dff_array=to_plot, expobj=expobj,\n",
    "                                    y_lims=[0, 5000], title=(experiment + '-'))\n",
    "\n",
    "aoplot.plot_photostim_subplots(dff_array=to_plot, expobj=expobj, x_label='Frames',\n",
    "                               y_label='Raw Flu',\n",
    "                               title=(experiment))\n"
   ]
  },
  {
   "cell_type": "code",
   "execution_count": null,
   "id": "descending-suffering",
   "metadata": {},
   "outputs": [],
   "source": [
    "# %% RELIABILITY MEASUREMENTS and PLOT - PHOTOSTIM TARGETED CELLS\n",
    "# measure, for each cell, the pct of trials in which the dFF > 20% post stim (normalized to pre-stim avgF for the trial and cell)\n",
    "# can plot this as a bar plot for now showing the distribution of the reliability measurement\n",
    "\n",
    "expobj.reliability = aoutils.calculate_reliability(expobj=expobj, dfstdf_threshold=0.3)\n",
    "pj.bar_with_points(data=[list(expobj.reliability.values())], x_tick_labels=['t-013'], ylims=[0, 100], bar=False,\n",
    "                   title='%s reliability of stim responses' % trial, expand_size_x=2)"
   ]
  },
  {
   "cell_type": "code",
   "execution_count": null,
   "id": "arctic-official",
   "metadata": {},
   "outputs": [],
   "source": [
    "# %% PLOT AVG PHOTOSTIM PRE- POST- TRACE AVGed OVER ALL PHOTOSTIM. TRIALS - NON - TARGETS\n",
    "x = np.asarray([i for i in expobj.dfstdF_traces_avg])\n",
    "# y_label = 'pct. dFF (normalized to prestim period)'\n",
    "y_label = 'dFstdF (normalized to prestim period)'\n",
    "\n",
    "aoplot.plot_photostim_avg(dff_array=x, expobj=expobj, stim_duration=expobj.duration_frames, pre_stim=expobj.pre_stim,\n",
    "                          post_stim=expobj.post_stim,\n",
    "                          title=(experiment + '- responses of all photostim targets'),\n",
    "                          y_label=y_label, x_label='Time post-stimulation (seconds)')"
   ]
  },
  {
   "cell_type": "code",
   "execution_count": null,
   "id": "future-virgin",
   "metadata": {},
   "outputs": [],
   "source": [
    "# %% PLOT HEATMAP OF AVG PRE- POST TRACE AVGed OVER ALL PHOTOSTIM. TRIALS - ALL CELLS (photostim targets at top) - Lloyd style :D\n",
    "\n",
    "x = np.asarray([i for i in expobj.targets_dfstdF_avg])\n",
    "aoplot.plot_traces_heatmap(x, vmin=-1, vmax=1, stim_on=expobj.pre_stim, stim_off=expobj.pre_stim + expobj.duration_frames - 1,\n",
    "                           title=(experiment + ' - targets only'))\n",
    "\n",
    "x = np.asarray([i for i in expobj.dfstdF_traces_avg])\n",
    "aoplot.plot_traces_heatmap(x, vmin=-0.5, vmax=0.5, stim_on=expobj.pre_stim, stim_off=expobj.pre_stim + expobj.duration_frames - 1,\n",
    "                           title=(experiment + ' - nontargets'))\n"
   ]
  },
  {
   "cell_type": "code",
   "execution_count": null,
   "id": "atmospheric-yacht",
   "metadata": {},
   "outputs": [],
   "source": [
    "# %% BAR PLOT PHOTOSTIM RESPONSES SIZE - TARGETS vs. NON-TARGETS\n",
    "# collect photostim timed average dff traces\n",
    "all_cells_dff = []\n",
    "good_std_cells = []\n",
    "\n",
    "\n",
    "## using pj.bar_with_points() for a nice bar graph\n",
    "group1 = list(expobj.average_responses_dfstdf[expobj.average_responses_dfstdf['group'] == 'photostim target'][\n",
    "                  'Avg. dF/stdF response'])\n",
    "group2 = list(\n",
    "    expobj.average_responses_dfstdf[expobj.average_responses_dfstdf['group'] == 'non-target']['Avg. dF/stdF response'])\n",
    "pj.bar_with_points(data=[group1, group2], x_tick_labels=['photostim target', 'non-target'], xlims=[0, 0.6],\n",
    "                   ylims=[0, 1.5], bar=False,\n",
    "                   colors=['red', 'black'], title=experiment, y_label='Avg dF/stdF response', expand_size_y=1.3,\n",
    "                   expand_size_x=1.4)\n"
   ]
  },
  {
   "cell_type": "code",
   "execution_count": null,
   "id": "split-penetration",
   "metadata": {},
   "outputs": [],
   "source": [
    "# %% PLOT HEATMAP OF PHOTOSTIM. RESPONSES TO PHOTOSTIM FOR ALL CELLS\n",
    "# - need to find a way to sort these responses that similar cells are sorted together\n",
    "# - implement a heirarchical clustering method\n",
    "\n",
    "stim_timings = [str(i) for i in expobj.stim_start_frames]  # need each stim start frame as a str type for pandas slicing\n",
    "\n",
    "# make heatmap of responses across all cells across all stims\n",
    "df_ = expobj.dfstdf_all_cells[stim_timings]  # select appropriate stim time reponses from the pandas df\n",
    "df_ = df_[df_.columns].astype(float)\n",
    "\n",
    "plt.figure(figsize=(5, 15));\n",
    "sns.heatmap(df_, cmap='seismic', vmin=-5, vmax=5, cbar_kws={\"shrink\": 0.25});\n",
    "plt.show()\n"
   ]
  },
  {
   "cell_type": "code",
   "execution_count": null,
   "id": "legal-fifth",
   "metadata": {},
   "outputs": [],
   "source": []
  }
 ],
 "metadata": {
  "kernelspec": {
   "display_name": "Python 3",
   "language": "python",
   "name": "python3"
  },
  "language_info": {
   "codemirror_mode": {
    "name": "ipython",
    "version": 3
   },
   "file_extension": ".py",
   "mimetype": "text/x-python",
   "name": "python",
   "nbconvert_exporter": "python",
   "pygments_lexer": "ipython3",
   "version": "3.8.5"
  }
 },
 "nbformat": 4,
 "nbformat_minor": 5
}
