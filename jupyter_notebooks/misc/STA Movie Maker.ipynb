{
 "cells": [
  {
   "cell_type": "code",
   "execution_count": 1,
   "metadata": {},
   "outputs": [],
   "source": [
    "import os\n",
    "import sys; sys.path.append('/home/pshah/Documents/code/Vape/utils')\n",
    "sys.path.append('/home/pshah/Documents/code/PackerLab_pycharm/')\n",
    "import alloptical_utils_pj as aoutils\n",
    "import glob\n",
    "import STAMovieMaker_noGUI as STAMM"
   ]
  },
  {
   "cell_type": "code",
   "execution_count": 2,
   "metadata": {},
   "outputs": [
    {
     "name": "stdout",
     "output_type": "stream",
     "text": [
      "\n",
      "importing expobj for \"2021-01-08, t-010\" from: /home/pshah/mnt/qnap/Analysis/2021-01-08/2021-01-08_t-010/2021-01-08_t-010.pkl\n",
      "\n",
      "\n",
      "DONE IMPORT of PS05: t-010, pre 4ap 2p all optical, moved FOV back to original location. 32 cells x 1 groups; 7mW per cell, 250ms stim (prot. #1b)\n"
     ]
    }
   ],
   "source": [
    "## import expobj\n",
    "\n",
    "###### IMPORT pkl file containing expobj\n",
    "trial = 't-010'\n",
    "date = '2021-01-08'\n",
    "pkl_path = \"/home/pshah/mnt/qnap/Analysis/%s/%s_%s/%s_%s.pkl\" % (date, date, trial, date, trial)\n",
    "# pkl_path = \"/home/pshah/mnt/qnap/Data/%s/%s_%s/%s_%s.pkl\" % (date, date, trial, date, trial)\n",
    "\n",
    "expobj, experiment = aoutils.import_expobj(trial=trial, date=date, pkl_path=pkl_path)"
   ]
  },
  {
   "cell_type": "markdown",
   "metadata": {},
   "source": [
    "## Define QNAP and save path"
   ]
  },
  {
   "cell_type": "code",
   "execution_count": 3,
   "metadata": {},
   "outputs": [
    {
     "data": {
      "text/plain": [
       "{'animal prep.': 'PS05',\n",
       " 'trial': 't-010',\n",
       " 'date': '2021-01-08',\n",
       " 'exptype': 'pre 4ap 2p all optical',\n",
       " 'data_path_base': '/home/pshah/mnt/qnap/Data/2021-01-08',\n",
       " 'comments': 'moved FOV back to original location. 32 cells x 1 groups; 7mW per cell, 250ms stim (prot. #1b)'}"
      ]
     },
     "execution_count": 3,
     "metadata": {},
     "output_type": "execute_result"
    }
   ],
   "source": [
    "expobj.metainfo"
   ]
  },
  {
   "cell_type": "code",
   "execution_count": 4,
   "metadata": {},
   "outputs": [
    {
     "name": "stdout",
     "output_type": "stream",
     "text": [
      "QNAP_path: /home/pshah/mnt/qnap \n",
      "data path: /home/pshah/mnt/qnap/Data/2021-01-08/2021-01-08_t-010/2021-01-08_t-010_Cycle00001_Ch3.tif \n",
      "sync path: /home/pshah/mnt/qnap/Data/2021-01-08/2021-01-08_PS05_010.paq \n",
      "STA movie save path: /home/pshah/mnt/qnap/Analysis/2021-01-08/STA_Movies/2021-01-08_PS05_t-010\n"
     ]
    }
   ],
   "source": [
    "qnap_path = os.path.expanduser('/home/pshah/mnt/qnap')\n",
    "\n",
    "## data path\n",
    "movie_path = expobj.tiff_path \n",
    "sync_path = expobj.paq_path\n",
    "\n",
    "## stamm save path\n",
    "stam_save_path = os.path.join(qnap_path, 'Analysis', expobj.metainfo['date'], 'STA_Movies', '%s_%s_%s' % (expobj.metainfo['date'],\n",
    "                                                                                expobj.metainfo['animal prep.'],\n",
    "                                                                                expobj.metainfo['trial']))\n",
    "os.makedirs(stam_save_path, exist_ok=True)\n",
    "\n",
    "\n",
    "##\n",
    "assert os.path.exists(stam_save_path)\n",
    "\n",
    "print('QNAP_path:', qnap_path,\n",
    "      '\\ndata path:', movie_path,\n",
    "      '\\nsync path:', sync_path,\n",
    "      '\\nSTA movie save path:', stam_save_path)"
   ]
  },
  {
   "cell_type": "markdown",
   "metadata": {},
   "source": [
    "## Define settings and check image/paq paths for STAMovieMaker"
   ]
  },
  {
   "cell_type": "code",
   "execution_count": 5,
   "metadata": {},
   "outputs": [],
   "source": [
    "numDiffStims = 2\n",
    "startOnStim = 1\n",
    "everyXStims = 2\n",
    "preSeconds = 0.75\n",
    "postSeconds = 2.25\n",
    "frameRate = int(expobj.fps)\n",
    "\n",
    "\n",
    "\n",
    "arg_dict = {'moviePath' : movie_path, # hard-code this\n",
    "            'savePath' : stam_save_path,\n",
    "            'syncFrameChannel' : 'frame_clock',\n",
    "            'syncStimChannel' : 'packio2markpoints',\n",
    "            'syncStartSec' : 0,\n",
    "            'syncStopSec' : 0,\n",
    "            'numDiffStims' : numDiffStims,\n",
    "            'startOnStim' : startOnStim,\n",
    "            'everyXStims' : everyXStims,\n",
    "            'preSeconds' : preSeconds,\n",
    "            'postSeconds' : postSeconds,\n",
    "            'frameRate' : frameRate,\n",
    "            'averageImageStart' : 0.5,\n",
    "            'averageImageStop' : 1.5,\n",
    "            'methodDF' : False,\n",
    "            'methodDFF' : True,\n",
    "            'methodZscore' : False,\n",
    "            'syncPath' : sync_path,\n",
    "            'zPlanes' : 1,\n",
    "            'useStimOrder' : False,\n",
    "            'stimOrder' : [],\n",
    "            'useSingleTrials' : False,\n",
    "            'doThreshold' : False,\n",
    "            'threshold' : 0,\n",
    "            'colourByTime' : False,\n",
    "            'useCorrelationImage' : False,\n",
    "            'blurHandS' : False,\n",
    "            'makeMaxImage' : True,\n",
    "            'makeColourImage' : False\n",
    "           }"
   ]
  },
  {
   "cell_type": "markdown",
   "metadata": {},
   "source": [
    "## Run STA Movie Maker"
   ]
  },
  {
   "cell_type": "code",
   "execution_count": 6,
   "metadata": {},
   "outputs": [
    {
     "name": "stdout",
     "output_type": "stream",
     "text": [
      "Loading sync file\n",
      "Loading movie\n",
      "Plane 1 of 1. Stim 1 of 2 (50 trials)\n",
      "Plane 1 of 1. Stim 1 of 2 (50 trials) - Raw\n",
      "Plane 1 of 1. Stim 1 of 2 (50 trials) - dFF\n",
      "Plane 1 of 1. Stim 2 of 2 (50 trials)\n",
      "Plane 1 of 1. Stim 2 of 2 (50 trials) - Raw\n",
      "Plane 1 of 1. Stim 2 of 2 (50 trials) - dFF\n"
     ]
    }
   ],
   "source": [
    "STAMM.STAMovieMaker(arg_dict);"
   ]
  },
  {
   "cell_type": "code",
   "execution_count": null,
   "metadata": {},
   "outputs": [],
   "source": []
  },
  {
   "cell_type": "markdown",
   "metadata": {},
   "source": [
    "## Load STA Images"
   ]
  },
  {
   "cell_type": "code",
   "execution_count": 7,
   "metadata": {},
   "outputs": [],
   "source": [
    "img = glob.glob(stam_save_path+'/*MaxResponseImage.tif')[0]"
   ]
  },
  {
   "cell_type": "code",
   "execution_count": 8,
   "metadata": {},
   "outputs": [
    {
     "data": {
      "image/png": "[encoded data removed]",
      "text/plain": [
       "<Figure size 432x288 with 1 Axes>"
      ]
     },
     "metadata": {},
     "output_type": "display_data"
    },
    {
     "data": {
      "text/plain": [
       "array([[ 10.019731 ,   0.4995279,   1.6475985, ...,   5.5761766,\n",
       "          4.356878 ,  11.628178 ],\n",
       "       [ -0.8186494,   4.0406947,   4.6368027, ...,   1.1760145,\n",
       "         32.99858  ,  10.191082 ],\n",
       "       [  7.9871974,  11.075018 ,  18.635885 , ...,  19.704317 ,\n",
       "         41.858986 ,  24.382488 ],\n",
       "       ...,\n",
       "       [-79.582    , -77.1913   , -80.37381  , ..., -27.954916 ,\n",
       "        -41.305103 , -28.587719 ],\n",
       "       [-68.9329   , -81.76561  , -75.9089   , ..., -30.020662 ,\n",
       "        -33.656796 , -36.109627 ],\n",
       "       [-83.33131  , -81.46988  , -72.45516  , ..., -19.591583 ,\n",
       "        -25.716759 , -34.991825 ]], dtype=float32)"
      ]
     },
     "execution_count": 8,
     "metadata": {},
     "output_type": "execute_result"
    }
   ],
   "source": [
    "aoutils.plot_single_tiff(img)"
   ]
  },
  {
   "cell_type": "markdown",
   "metadata": {},
   "source": [
    "## Troubleshooting"
   ]
  },
  {
   "cell_type": "code",
   "execution_count": 9,
   "metadata": {},
   "outputs": [
    {
     "name": "stdout",
     "output_type": "stream",
     "text": [
      "/home/pshah/mnt/qnap/Data/2021-01-08/2021-01-08_PS05_010.paq\n"
     ]
    }
   ],
   "source": [
    "sys.path.append('/home/pshah/Documents/code/PackerLab_pycharm/')\n",
    "from utils import paq_utils\n",
    "print(sync_path)"
   ]
  },
  {
   "cell_type": "code",
   "execution_count": 10,
   "metadata": {},
   "outputs": [],
   "source": [
    "paq, _ = paq_utils.paq_read(sync_path, plot=False)"
   ]
  },
  {
   "cell_type": "code",
   "execution_count": 11,
   "metadata": {},
   "outputs": [
    {
     "data": {
      "text/plain": [
       "['frame_clock',\n",
       " 'x_galvo_uncaging',\n",
       " 'slm2packio',\n",
       " 'markpoints2packio',\n",
       " 'packio2slm',\n",
       " 'packio2markpoints',\n",
       " 'pycontrol_rsync',\n",
       " 'voltage']"
      ]
     },
     "execution_count": 11,
     "metadata": {},
     "output_type": "execute_result"
    }
   ],
   "source": [
    "paq['chan_names']"
   ]
  },
  {
   "cell_type": "code",
   "execution_count": null,
   "metadata": {},
   "outputs": [],
   "source": []
  }
 ],
 "metadata": {
  "kernelspec": {
   "display_name": "Python 3",
   "language": "python",
   "name": "python3"
  },
  "language_info": {
   "codemirror_mode": {
    "name": "ipython",
    "version": 3
   },
   "file_extension": ".py",
   "mimetype": "text/x-python",
   "name": "python",
   "nbconvert_exporter": "python",
   "pygments_lexer": "ipython3",
   "version": "3.8.5"
  }
 },
 "nbformat": 4,
 "nbformat_minor": 4
}
