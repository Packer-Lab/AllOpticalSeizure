{
 "cells": [
  {
   "cell_type": "markdown",
   "metadata": {
    "collapsed": true,
    "pycharm": {
     "name": "#%% md\n"
    }
   },
   "source": [
    "a notebook for misc. data analysis code running of all optical seizures experiments."
   ]
  },
  {
   "cell_type": "code",
   "execution_count": 1,
   "outputs": [
    {
     "name": "stdout",
     "output_type": "stream",
     "text": [
      "['/home/pshah/Documents/code/PackerLab_pycharm/jupyter_notebooks', '/Applications/NEURON-7.6/nrn/lib/python', '/home/pshah/Documents/code/PackerLab_pycharm/jupyter_notebooks', '/home/pshah/anaconda3/envs/2021/lib/python38.zip', '/home/pshah/anaconda3/envs/2021/lib/python3.8', '/home/pshah/anaconda3/envs/2021/lib/python3.8/lib-dynload', '', '/home/pshah/anaconda3/envs/2021/lib/python3.8/site-packages', '/home/pshah/anaconda3/envs/2021/lib/python3.8/site-packages/funcsforprajay/src', '/home/pshah/Documents/code/packerlabimaging/src', '/home/pshah/anaconda3/envs/2021/lib/python3.8/site-packages/locket-0.2.1-py3.8.egg', '/home/pshah/anaconda3/envs/2021/lib/python3.8/site-packages/IPython/extensions', '/home/pshah/.ipython', '/home/pshah/Documents/code/PackerLab_pycharm']\n"
     ]
    }
   ],
   "source": [
    "import os\n",
    "os.getcwd()\n",
    "\n",
    "import sys\n",
    "sys.path.extend([\"/home/pshah/Documents/code/PackerLab_pycharm\"])\n",
    "print(sys.path)"
   ],
   "metadata": {
    "collapsed": false,
    "pycharm": {
     "name": "#%%\n"
    }
   }
  },
  {
   "cell_type": "code",
   "execution_count": 2,
   "outputs": [
    {
     "name": "stderr",
     "output_type": "stream",
     "text": [
      "/home/pshah/anaconda3/envs/2021/lib/python3.8/site-packages/statsmodels/compat/pandas.py:65: FutureWarning: pandas.Int64Index is deprecated and will be removed from pandas in a future version. Use pandas.Index with the appropriate dtype instead.\n",
      "  from pandas import Int64Index as NumericIndex\n"
     ]
    },
    {
     "name": "stdout",
     "output_type": "stream",
     "text": [
      "Warning: cellpose did not import\n",
      "No module named 'cellpose'\n",
      "cannot use anatomical mode, but otherwise suite2p will run normally\n",
      "\n",
      "importing resultsobj from: /home/pshah/mnt/qnap/Analysis/alloptical_results_superobject.pkl ... \n",
      "|-DONE IMPORT of <class 'alloptical_utils_pj.AllOpticalResults'> resultsobj \n",
      "\n",
      "\n",
      "\n",
      "importing resultsobj from: /home/pshah/mnt/qnap/Analysis/alloptical_results_superobject.pkl ... \n",
      "|-DONE IMPORT of <class 'alloptical_utils_pj.AllOpticalResults'> resultsobj \n",
      "\n",
      "\n",
      "\n",
      "importing resultsobj from: /home/pshah/mnt/qnap/Analysis/alloptical_results_superobject.pkl ... \n",
      "|-DONE IMPORT of <class 'alloptical_utils_pj.AllOpticalResults'> resultsobj \n",
      "\n",
      "\n",
      "|- Loaded PS04 t-018 (/home/pshah/mnt/qnap/Analysis/2021-01-09/PS04/2021-01-09_t-018/2021-01-09_t-018.pkl) .. DONE\n"
     ]
    }
   ],
   "source": [
    "import pickle\n",
    "\n",
    "import pandas as pd\n",
    "\n",
    "import alloptical_utils_pj as aoutils\n",
    "import alloptical_plotting_utils as aoplot\n",
    "import matplotlib.pyplot as plt\n",
    "import numpy as np\n",
    "from funcsforprajay import funcs as pj\n",
    "\n",
    "# import results superobject that will collect analyses from various individual experiments\n",
    "results_object_path = '/home/pshah/mnt/qnap/Analysis/alloptical_results_superobject.pkl'\n",
    "allopticalResults = aoutils.import_resultsobj(pkl_path=results_object_path)\n",
    "\n",
    "import tifffile as tf\n",
    "\n",
    "import _alloptical_utils as Utils\n",
    "expobj = Utils.import_expobj(prep='PS04', trial='t-018')"
   ],
   "metadata": {
    "collapsed": false,
    "pycharm": {
     "name": "#%%\n"
    }
   }
  },
  {
   "cell_type": "markdown",
   "source": [
    "## Time to seizure delay - random code for visualizing data"
   ],
   "metadata": {
    "collapsed": false
   }
  },
  {
   "cell_type": "code",
   "execution_count": 3,
   "outputs": [
    {
     "name": "stdout",
     "output_type": "stream",
     "text": [
      "|- Loaded RL108 t-013 (/home/pshah/mnt/qnap/Analysis/2020-12-18/RL108/2020-12-18_t-013/2020-12-18_t-013.pkl) .. DONE\n"
     ]
    }
   ],
   "source": [
    "expobj = Utils.import_expobj(prep='RL108', trial='t-013')"
   ],
   "metadata": {
    "collapsed": false,
    "pycharm": {
     "name": "#%%\n"
    }
   }
  },
  {
   "cell_type": "code",
   "execution_count": 5,
   "outputs": [
    {
     "data": {
      "text/plain": "   stim_start_frame wvfront in sz          seizure location delay_from_sz_onset_sec  seizure_num\n0               328         False                      None                      -1           -1\n1               476          True  ([504, 308], [241, 507])                      -1           -1\n2               624          True    ([9, 408], [496, 417])                      -1           -1\n3               772          True  ([512, 306], [257, 507])                      -1           -1\n4               921          True  ([510, 315], [202, 509])                      -1           -1\n5              1069          True    ([512, 352], [4, 436])                      -1           -1\n6              1217          True   ([464, 289], [39, 374])                      -1           -1\n7              1365          True  ([508, 308], [274, 509])                      -1           -1\n8              1514          True  ([504, 316], [200, 503])                      -1           -1\n9              1662          True   ([47, 358], [485, 378])                      -1           -1\n10             1810          True   ([68, 268], [467, 270])                      -1           -1\n11             1958          True   ([68, 268], [467, 270])                      -1           -1\n12             2107         False                      None                      -1           -1\n13             2255         False                      None                      -1           -1\n14             2403         False                      None                      -1           -1\n15             2551         False                      None                      -1           -1\n16             2699         False                      None                      -1           -1\n17             2848         False                      None                      -1           -1\n18             2996         False                      None                      -1           -1\n19             3144         False                      None                      -1           -1\n20             3292         False                      None                      -1           -1\n21             3441         False                      None                      -1           -1\n22             3589         False                      None                      -1           -1\n23             3737         False                      None                      -1           -1\n24             3885         False                      None                      -1           -1\n25             4034         False                      None                      -1           -1\n26             4182         False                      None                      -1           -1\n27             4330         False                      None                      -1           -1\n28             4478         False                      None                      -1           -1\n29             4627         False                      None                      -1           -1\n30             4775         False                      None                      -1           -1\n31             4923          True   ([97, 330], [488, 383])                   4.626            1\n32             5071          True   ([66, 341], [484, 360])                   9.552            1\n33             5219          True  ([464, 303], [170, 457])                  14.478            1\n34             5368         False                      None                      -1           -1\n35             5516         False                      None                      -1           -1\n36             5664         False                      None                      -1           -1\n37             5812         False                      None                      -1           -1\n38             5961         False                      None                      -1           -1\n39             6109         False                      None                      -1           -1\n40             6257         False                      None                      -1           -1\n41             6405         False                      None                      -1           -1\n42             6554         False                      None                      -1           -1\n43             6702         False                      None                      -1           -1\n44             6850          True  ([512, 300], [261, 508])                   1.098            2\n45             6998          True   ([57, 336], [446, 384])                   6.024            2\n46             7146          True   ([53, 249], [407, 338])                   10.95            2\n47             7295         False                      None                      -1           -1\n48             7443         False                      None                      -1           -1\n49             7591         False                      None                      -1           -1\n50             7739         False                      None                      -1           -1\n51             7888         False                      None                      -1           -1\n52             8036         False                      None                      -1           -1\n53             8184         False                      None                      -1           -1\n54             8332         False                      None                      -1           -1\n55             8481         False                      None                      -1           -1\n56             8629         False                      None                      -1           -1\n57             8777         False                      None                      -1           -1\n58             8925          True  ([507, 318], [266, 506])                   3.062            3\n59             9074          True   ([487, 321], [44, 363])                   8.021            3\n60             9222          True  ([170, 220], [129, 250])                  12.947            3\n61             9370          True  ([385, 257], [140, 375])                  17.872            3\n62             9518          True   ([423, 280], [67, 370])                  22.798            3\n63             9666          True   ([46, 220], [496, 268])                  27.724            3\n64             9815         False                      None                      -1           -1\n65             9963         False                      None                      -1           -1\n66            10111         False                      None                      -1           -1\n67            10259         False                      None                      -1           -1\n68            10408         False                      None                      -1           -1\n69            10556         False                      None                      -1           -1\n70            10704         False                      None                      -1           -1\n71            10852         False                      None                      -1           -1\n72            11001         False                      None                      -1           -1\n73            11149         False                      None                      -1           -1\n74            11297         False                      None                      -1           -1\n75            11445         False                      None                      -1           -1\n76            11594         False                      None                      -1           -1\n77            11742         False                      None                      -1           -1\n78            11890         False                      None                      -1           -1\n79            12038         False                      None                      -1           -1\n80            12186          True  ([469, 336], [172, 492])                   4.327            4\n81            12335          True   ([76, 346], [504, 375])                   9.286            4\n82            12483          True  ([112, 284], [469, 336])                  14.211            4\n83            12631          True   ([427, 273], [95, 369])                  19.137            4\n84            12779          True   ([80, 242], [446, 262])                  24.063            4\n85            12928          True   ([82, 204], [442, 274])                  29.022            4\n86            13076          True    ([43, 75], [486, 208])                  33.947            4\n87            13224          True    ([454, 65], [36, 104])                  38.873            4\n88            13372         False                      None             af invasion            4\n89            13521         False                      None             af invasion            4\n90            13669         False                      None                      -1           -1\n91            13817         False                      None                      -1           -1\n92            13965         False                      None                      -1           -1\n93            14113         False                      None                      -1           -1\n94            14262         False                      None                      -1           -1\n95            14410         False                      None                      -1           -1\n96            14558         False                      None                      -1           -1\n97            14706         False                      None                      -1           -1\n98            14855         False                      None                      -1           -1",
      "text/html": "<div>\n<style scoped>\n    .dataframe tbody tr th:only-of-type {\n        vertical-align: middle;\n    }\n\n    .dataframe tbody tr th {\n        vertical-align: top;\n    }\n\n    .dataframe thead th {\n        text-align: right;\n    }\n</style>\n<table border=\"1\" class=\"dataframe\">\n  <thead>\n    <tr style=\"text-align: right;\">\n      <th></th>\n      <th>stim_start_frame</th>\n      <th>wvfront in sz</th>\n      <th>seizure location</th>\n      <th>delay_from_sz_onset_sec</th>\n      <th>seizure_num</th>\n    </tr>\n  </thead>\n  <tbody>\n    <tr>\n      <th>0</th>\n      <td>328</td>\n      <td>False</td>\n      <td>None</td>\n      <td>-1</td>\n      <td>-1</td>\n    </tr>\n    <tr>\n      <th>1</th>\n      <td>476</td>\n      <td>True</td>\n      <td>([504, 308], [241, 507])</td>\n      <td>-1</td>\n      <td>-1</td>\n    </tr>\n    <tr>\n      <th>2</th>\n      <td>624</td>\n      <td>True</td>\n      <td>([9, 408], [496, 417])</td>\n      <td>-1</td>\n      <td>-1</td>\n    </tr>\n    <tr>\n      <th>3</th>\n      <td>772</td>\n      <td>True</td>\n      <td>([512, 306], [257, 507])</td>\n      <td>-1</td>\n      <td>-1</td>\n    </tr>\n    <tr>\n      <th>4</th>\n      <td>921</td>\n      <td>True</td>\n      <td>([510, 315], [202, 509])</td>\n      <td>-1</td>\n      <td>-1</td>\n    </tr>\n    <tr>\n      <th>5</th>\n      <td>1069</td>\n      <td>True</td>\n      <td>([512, 352], [4, 436])</td>\n      <td>-1</td>\n      <td>-1</td>\n    </tr>\n    <tr>\n      <th>6</th>\n      <td>1217</td>\n      <td>True</td>\n      <td>([464, 289], [39, 374])</td>\n      <td>-1</td>\n      <td>-1</td>\n    </tr>\n    <tr>\n      <th>7</th>\n      <td>1365</td>\n      <td>True</td>\n      <td>([508, 308], [274, 509])</td>\n      <td>-1</td>\n      <td>-1</td>\n    </tr>\n    <tr>\n      <th>8</th>\n      <td>1514</td>\n      <td>True</td>\n      <td>([504, 316], [200, 503])</td>\n      <td>-1</td>\n      <td>-1</td>\n    </tr>\n    <tr>\n      <th>9</th>\n      <td>1662</td>\n      <td>True</td>\n      <td>([47, 358], [485, 378])</td>\n      <td>-1</td>\n      <td>-1</td>\n    </tr>\n    <tr>\n      <th>10</th>\n      <td>1810</td>\n      <td>True</td>\n      <td>([68, 268], [467, 270])</td>\n      <td>-1</td>\n      <td>-1</td>\n    </tr>\n    <tr>\n      <th>11</th>\n      <td>1958</td>\n      <td>True</td>\n      <td>([68, 268], [467, 270])</td>\n      <td>-1</td>\n      <td>-1</td>\n    </tr>\n    <tr>\n      <th>12</th>\n      <td>2107</td>\n      <td>False</td>\n      <td>None</td>\n      <td>-1</td>\n      <td>-1</td>\n    </tr>\n    <tr>\n      <th>13</th>\n      <td>2255</td>\n      <td>False</td>\n      <td>None</td>\n      <td>-1</td>\n      <td>-1</td>\n    </tr>\n    <tr>\n      <th>14</th>\n      <td>2403</td>\n      <td>False</td>\n      <td>None</td>\n      <td>-1</td>\n      <td>-1</td>\n    </tr>\n    <tr>\n      <th>15</th>\n      <td>2551</td>\n      <td>False</td>\n      <td>None</td>\n      <td>-1</td>\n      <td>-1</td>\n    </tr>\n    <tr>\n      <th>16</th>\n      <td>2699</td>\n      <td>False</td>\n      <td>None</td>\n      <td>-1</td>\n      <td>-1</td>\n    </tr>\n    <tr>\n      <th>17</th>\n      <td>2848</td>\n      <td>False</td>\n      <td>None</td>\n      <td>-1</td>\n      <td>-1</td>\n    </tr>\n    <tr>\n      <th>18</th>\n      <td>2996</td>\n      <td>False</td>\n      <td>None</td>\n      <td>-1</td>\n      <td>-1</td>\n    </tr>\n    <tr>\n      <th>19</th>\n      <td>3144</td>\n      <td>False</td>\n      <td>None</td>\n      <td>-1</td>\n      <td>-1</td>\n    </tr>\n    <tr>\n      <th>20</th>\n      <td>3292</td>\n      <td>False</td>\n      <td>None</td>\n      <td>-1</td>\n      <td>-1</td>\n    </tr>\n    <tr>\n      <th>21</th>\n      <td>3441</td>\n      <td>False</td>\n      <td>None</td>\n      <td>-1</td>\n      <td>-1</td>\n    </tr>\n    <tr>\n      <th>22</th>\n      <td>3589</td>\n      <td>False</td>\n      <td>None</td>\n      <td>-1</td>\n      <td>-1</td>\n    </tr>\n    <tr>\n      <th>23</th>\n      <td>3737</td>\n      <td>False</td>\n      <td>None</td>\n      <td>-1</td>\n      <td>-1</td>\n    </tr>\n    <tr>\n      <th>24</th>\n      <td>3885</td>\n      <td>False</td>\n      <td>None</td>\n      <td>-1</td>\n      <td>-1</td>\n    </tr>\n    <tr>\n      <th>25</th>\n      <td>4034</td>\n      <td>False</td>\n      <td>None</td>\n      <td>-1</td>\n      <td>-1</td>\n    </tr>\n    <tr>\n      <th>26</th>\n      <td>4182</td>\n      <td>False</td>\n      <td>None</td>\n      <td>-1</td>\n      <td>-1</td>\n    </tr>\n    <tr>\n      <th>27</th>\n      <td>4330</td>\n      <td>False</td>\n      <td>None</td>\n      <td>-1</td>\n      <td>-1</td>\n    </tr>\n    <tr>\n      <th>28</th>\n      <td>4478</td>\n      <td>False</td>\n      <td>None</td>\n      <td>-1</td>\n      <td>-1</td>\n    </tr>\n    <tr>\n      <th>29</th>\n      <td>4627</td>\n      <td>False</td>\n      <td>None</td>\n      <td>-1</td>\n      <td>-1</td>\n    </tr>\n    <tr>\n      <th>30</th>\n      <td>4775</td>\n      <td>False</td>\n      <td>None</td>\n      <td>-1</td>\n      <td>-1</td>\n    </tr>\n    <tr>\n      <th>31</th>\n      <td>4923</td>\n      <td>True</td>\n      <td>([97, 330], [488, 383])</td>\n      <td>4.626</td>\n      <td>1</td>\n    </tr>\n    <tr>\n      <th>32</th>\n      <td>5071</td>\n      <td>True</td>\n      <td>([66, 341], [484, 360])</td>\n      <td>9.552</td>\n      <td>1</td>\n    </tr>\n    <tr>\n      <th>33</th>\n      <td>5219</td>\n      <td>True</td>\n      <td>([464, 303], [170, 457])</td>\n      <td>14.478</td>\n      <td>1</td>\n    </tr>\n    <tr>\n      <th>34</th>\n      <td>5368</td>\n      <td>False</td>\n      <td>None</td>\n      <td>-1</td>\n      <td>-1</td>\n    </tr>\n    <tr>\n      <th>35</th>\n      <td>5516</td>\n      <td>False</td>\n      <td>None</td>\n      <td>-1</td>\n      <td>-1</td>\n    </tr>\n    <tr>\n      <th>36</th>\n      <td>5664</td>\n      <td>False</td>\n      <td>None</td>\n      <td>-1</td>\n      <td>-1</td>\n    </tr>\n    <tr>\n      <th>37</th>\n      <td>5812</td>\n      <td>False</td>\n      <td>None</td>\n      <td>-1</td>\n      <td>-1</td>\n    </tr>\n    <tr>\n      <th>38</th>\n      <td>5961</td>\n      <td>False</td>\n      <td>None</td>\n      <td>-1</td>\n      <td>-1</td>\n    </tr>\n    <tr>\n      <th>39</th>\n      <td>6109</td>\n      <td>False</td>\n      <td>None</td>\n      <td>-1</td>\n      <td>-1</td>\n    </tr>\n    <tr>\n      <th>40</th>\n      <td>6257</td>\n      <td>False</td>\n      <td>None</td>\n      <td>-1</td>\n      <td>-1</td>\n    </tr>\n    <tr>\n      <th>41</th>\n      <td>6405</td>\n      <td>False</td>\n      <td>None</td>\n      <td>-1</td>\n      <td>-1</td>\n    </tr>\n    <tr>\n      <th>42</th>\n      <td>6554</td>\n      <td>False</td>\n      <td>None</td>\n      <td>-1</td>\n      <td>-1</td>\n    </tr>\n    <tr>\n      <th>43</th>\n      <td>6702</td>\n      <td>False</td>\n      <td>None</td>\n      <td>-1</td>\n      <td>-1</td>\n    </tr>\n    <tr>\n      <th>44</th>\n      <td>6850</td>\n      <td>True</td>\n      <td>([512, 300], [261, 508])</td>\n      <td>1.098</td>\n      <td>2</td>\n    </tr>\n    <tr>\n      <th>45</th>\n      <td>6998</td>\n      <td>True</td>\n      <td>([57, 336], [446, 384])</td>\n      <td>6.024</td>\n      <td>2</td>\n    </tr>\n    <tr>\n      <th>46</th>\n      <td>7146</td>\n      <td>True</td>\n      <td>([53, 249], [407, 338])</td>\n      <td>10.95</td>\n      <td>2</td>\n    </tr>\n    <tr>\n      <th>47</th>\n      <td>7295</td>\n      <td>False</td>\n      <td>None</td>\n      <td>-1</td>\n      <td>-1</td>\n    </tr>\n    <tr>\n      <th>48</th>\n      <td>7443</td>\n      <td>False</td>\n      <td>None</td>\n      <td>-1</td>\n      <td>-1</td>\n    </tr>\n    <tr>\n      <th>49</th>\n      <td>7591</td>\n      <td>False</td>\n      <td>None</td>\n      <td>-1</td>\n      <td>-1</td>\n    </tr>\n    <tr>\n      <th>50</th>\n      <td>7739</td>\n      <td>False</td>\n      <td>None</td>\n      <td>-1</td>\n      <td>-1</td>\n    </tr>\n    <tr>\n      <th>51</th>\n      <td>7888</td>\n      <td>False</td>\n      <td>None</td>\n      <td>-1</td>\n      <td>-1</td>\n    </tr>\n    <tr>\n      <th>52</th>\n      <td>8036</td>\n      <td>False</td>\n      <td>None</td>\n      <td>-1</td>\n      <td>-1</td>\n    </tr>\n    <tr>\n      <th>53</th>\n      <td>8184</td>\n      <td>False</td>\n      <td>None</td>\n      <td>-1</td>\n      <td>-1</td>\n    </tr>\n    <tr>\n      <th>54</th>\n      <td>8332</td>\n      <td>False</td>\n      <td>None</td>\n      <td>-1</td>\n      <td>-1</td>\n    </tr>\n    <tr>\n      <th>55</th>\n      <td>8481</td>\n      <td>False</td>\n      <td>None</td>\n      <td>-1</td>\n      <td>-1</td>\n    </tr>\n    <tr>\n      <th>56</th>\n      <td>8629</td>\n      <td>False</td>\n      <td>None</td>\n      <td>-1</td>\n      <td>-1</td>\n    </tr>\n    <tr>\n      <th>57</th>\n      <td>8777</td>\n      <td>False</td>\n      <td>None</td>\n      <td>-1</td>\n      <td>-1</td>\n    </tr>\n    <tr>\n      <th>58</th>\n      <td>8925</td>\n      <td>True</td>\n      <td>([507, 318], [266, 506])</td>\n      <td>3.062</td>\n      <td>3</td>\n    </tr>\n    <tr>\n      <th>59</th>\n      <td>9074</td>\n      <td>True</td>\n      <td>([487, 321], [44, 363])</td>\n      <td>8.021</td>\n      <td>3</td>\n    </tr>\n    <tr>\n      <th>60</th>\n      <td>9222</td>\n      <td>True</td>\n      <td>([170, 220], [129, 250])</td>\n      <td>12.947</td>\n      <td>3</td>\n    </tr>\n    <tr>\n      <th>61</th>\n      <td>9370</td>\n      <td>True</td>\n      <td>([385, 257], [140, 375])</td>\n      <td>17.872</td>\n      <td>3</td>\n    </tr>\n    <tr>\n      <th>62</th>\n      <td>9518</td>\n      <td>True</td>\n      <td>([423, 280], [67, 370])</td>\n      <td>22.798</td>\n      <td>3</td>\n    </tr>\n    <tr>\n      <th>63</th>\n      <td>9666</td>\n      <td>True</td>\n      <td>([46, 220], [496, 268])</td>\n      <td>27.724</td>\n      <td>3</td>\n    </tr>\n    <tr>\n      <th>64</th>\n      <td>9815</td>\n      <td>False</td>\n      <td>None</td>\n      <td>-1</td>\n      <td>-1</td>\n    </tr>\n    <tr>\n      <th>65</th>\n      <td>9963</td>\n      <td>False</td>\n      <td>None</td>\n      <td>-1</td>\n      <td>-1</td>\n    </tr>\n    <tr>\n      <th>66</th>\n      <td>10111</td>\n      <td>False</td>\n      <td>None</td>\n      <td>-1</td>\n      <td>-1</td>\n    </tr>\n    <tr>\n      <th>67</th>\n      <td>10259</td>\n      <td>False</td>\n      <td>None</td>\n      <td>-1</td>\n      <td>-1</td>\n    </tr>\n    <tr>\n      <th>68</th>\n      <td>10408</td>\n      <td>False</td>\n      <td>None</td>\n      <td>-1</td>\n      <td>-1</td>\n    </tr>\n    <tr>\n      <th>69</th>\n      <td>10556</td>\n      <td>False</td>\n      <td>None</td>\n      <td>-1</td>\n      <td>-1</td>\n    </tr>\n    <tr>\n      <th>70</th>\n      <td>10704</td>\n      <td>False</td>\n      <td>None</td>\n      <td>-1</td>\n      <td>-1</td>\n    </tr>\n    <tr>\n      <th>71</th>\n      <td>10852</td>\n      <td>False</td>\n      <td>None</td>\n      <td>-1</td>\n      <td>-1</td>\n    </tr>\n    <tr>\n      <th>72</th>\n      <td>11001</td>\n      <td>False</td>\n      <td>None</td>\n      <td>-1</td>\n      <td>-1</td>\n    </tr>\n    <tr>\n      <th>73</th>\n      <td>11149</td>\n      <td>False</td>\n      <td>None</td>\n      <td>-1</td>\n      <td>-1</td>\n    </tr>\n    <tr>\n      <th>74</th>\n      <td>11297</td>\n      <td>False</td>\n      <td>None</td>\n      <td>-1</td>\n      <td>-1</td>\n    </tr>\n    <tr>\n      <th>75</th>\n      <td>11445</td>\n      <td>False</td>\n      <td>None</td>\n      <td>-1</td>\n      <td>-1</td>\n    </tr>\n    <tr>\n      <th>76</th>\n      <td>11594</td>\n      <td>False</td>\n      <td>None</td>\n      <td>-1</td>\n      <td>-1</td>\n    </tr>\n    <tr>\n      <th>77</th>\n      <td>11742</td>\n      <td>False</td>\n      <td>None</td>\n      <td>-1</td>\n      <td>-1</td>\n    </tr>\n    <tr>\n      <th>78</th>\n      <td>11890</td>\n      <td>False</td>\n      <td>None</td>\n      <td>-1</td>\n      <td>-1</td>\n    </tr>\n    <tr>\n      <th>79</th>\n      <td>12038</td>\n      <td>False</td>\n      <td>None</td>\n      <td>-1</td>\n      <td>-1</td>\n    </tr>\n    <tr>\n      <th>80</th>\n      <td>12186</td>\n      <td>True</td>\n      <td>([469, 336], [172, 492])</td>\n      <td>4.327</td>\n      <td>4</td>\n    </tr>\n    <tr>\n      <th>81</th>\n      <td>12335</td>\n      <td>True</td>\n      <td>([76, 346], [504, 375])</td>\n      <td>9.286</td>\n      <td>4</td>\n    </tr>\n    <tr>\n      <th>82</th>\n      <td>12483</td>\n      <td>True</td>\n      <td>([112, 284], [469, 336])</td>\n      <td>14.211</td>\n      <td>4</td>\n    </tr>\n    <tr>\n      <th>83</th>\n      <td>12631</td>\n      <td>True</td>\n      <td>([427, 273], [95, 369])</td>\n      <td>19.137</td>\n      <td>4</td>\n    </tr>\n    <tr>\n      <th>84</th>\n      <td>12779</td>\n      <td>True</td>\n      <td>([80, 242], [446, 262])</td>\n      <td>24.063</td>\n      <td>4</td>\n    </tr>\n    <tr>\n      <th>85</th>\n      <td>12928</td>\n      <td>True</td>\n      <td>([82, 204], [442, 274])</td>\n      <td>29.022</td>\n      <td>4</td>\n    </tr>\n    <tr>\n      <th>86</th>\n      <td>13076</td>\n      <td>True</td>\n      <td>([43, 75], [486, 208])</td>\n      <td>33.947</td>\n      <td>4</td>\n    </tr>\n    <tr>\n      <th>87</th>\n      <td>13224</td>\n      <td>True</td>\n      <td>([454, 65], [36, 104])</td>\n      <td>38.873</td>\n      <td>4</td>\n    </tr>\n    <tr>\n      <th>88</th>\n      <td>13372</td>\n      <td>False</td>\n      <td>None</td>\n      <td>af invasion</td>\n      <td>4</td>\n    </tr>\n    <tr>\n      <th>89</th>\n      <td>13521</td>\n      <td>False</td>\n      <td>None</td>\n      <td>af invasion</td>\n      <td>4</td>\n    </tr>\n    <tr>\n      <th>90</th>\n      <td>13669</td>\n      <td>False</td>\n      <td>None</td>\n      <td>-1</td>\n      <td>-1</td>\n    </tr>\n    <tr>\n      <th>91</th>\n      <td>13817</td>\n      <td>False</td>\n      <td>None</td>\n      <td>-1</td>\n      <td>-1</td>\n    </tr>\n    <tr>\n      <th>92</th>\n      <td>13965</td>\n      <td>False</td>\n      <td>None</td>\n      <td>-1</td>\n      <td>-1</td>\n    </tr>\n    <tr>\n      <th>93</th>\n      <td>14113</td>\n      <td>False</td>\n      <td>None</td>\n      <td>-1</td>\n      <td>-1</td>\n    </tr>\n    <tr>\n      <th>94</th>\n      <td>14262</td>\n      <td>False</td>\n      <td>None</td>\n      <td>-1</td>\n      <td>-1</td>\n    </tr>\n    <tr>\n      <th>95</th>\n      <td>14410</td>\n      <td>False</td>\n      <td>None</td>\n      <td>-1</td>\n      <td>-1</td>\n    </tr>\n    <tr>\n      <th>96</th>\n      <td>14558</td>\n      <td>False</td>\n      <td>None</td>\n      <td>-1</td>\n      <td>-1</td>\n    </tr>\n    <tr>\n      <th>97</th>\n      <td>14706</td>\n      <td>False</td>\n      <td>None</td>\n      <td>-1</td>\n      <td>-1</td>\n    </tr>\n    <tr>\n      <th>98</th>\n      <td>14855</td>\n      <td>False</td>\n      <td>None</td>\n      <td>-1</td>\n      <td>-1</td>\n    </tr>\n  </tbody>\n</table>\n</div>"
     },
     "execution_count": 5,
     "metadata": {},
     "output_type": "execute_result"
    }
   ],
   "source": [
    "expobj.slmtargets_data.var"
   ],
   "metadata": {
    "collapsed": false,
    "pycharm": {
     "name": "#%%\n"
    }
   }
  },
  {
   "cell_type": "code",
   "execution_count": null,
   "outputs": [],
   "source": [],
   "metadata": {
    "collapsed": false,
    "pycharm": {
     "name": "#%%\n"
    }
   }
  },
  {
   "cell_type": "code",
   "execution_count": null,
   "outputs": [],
   "source": [],
   "metadata": {
    "collapsed": false,
    "pycharm": {
     "name": "#%%\n"
    }
   }
  },
  {
   "cell_type": "code",
   "execution_count": null,
   "outputs": [],
   "source": [],
   "metadata": {
    "collapsed": false,
    "pycharm": {
     "name": "#%%\n"
    }
   }
  },
  {
   "cell_type": "markdown",
   "source": [
    "## Time to seizure delay - random code for troubleshooting"
   ],
   "metadata": {
    "collapsed": false,
    "pycharm": {
     "name": "#%% md\n"
    }
   }
  },
  {
   "cell_type": "code",
   "execution_count": null,
   "outputs": [],
   "source": [
    "# %%\n",
    "sz_nums = np.unique([i for i in list(expobj.slmtargets_data.var.seizure_num) if type(i) is int and i > 0])\n",
    "ncols = 3\n",
    "nrows = int(np.ceil(len(sz_nums) / ncols)) if int(np.ceil(len(sz_nums) / ncols)) > 1 else 2\n",
    "fig, axs = plt.subplots(nrows=nrows, ncols=ncols, figsize=(ncols * 4, nrows * 4))\n",
    "counter = 0\n",
    "for sz in sz_nums:\n",
    "    idx = np.where(expobj.slmtargets_data.var.seizure_num == sz)[0][0]  # first seizure invasion frame\n",
    "    stim_frm = expobj.slmtargets_data.var.stim_start_frame[idx]\n",
    "    time_del = expobj.slmtargets_data.var.delay_from_sz_onset_sec[idx]\n",
    "\n",
    "    # plotting\n",
    "    avg_stim_img_path = f'{expobj.analysis_save_path[:-1]}avg_stim_images/{expobj.metainfo[\"date\"]}_{expobj.metainfo[\"trial\"]}_stim-{stim_frm}.tif'\n",
    "    bg_img = tf.imread(avg_stim_img_path)\n",
    "    # aoplot.plot_SLMtargets_Locs(self, targets_coords=coords_to_plot_insz, cells=in_sz, edgecolors='yellowgreen', background=bg_img)\n",
    "    # aoplot.plot_SLMtargets_Locs(self, targets_coords=coords_to_plot_outsz, cells=out_sz, edgecolors='white', background=bg_img)\n",
    "    ax = axs[counter // ncols, counter % ncols]\n",
    "    fig, ax = aoplot.plot_SLMtargets_Locs(expobj, fig=fig, ax=ax,\n",
    "                                          title=f\"sz #: {sz}, stim_fr: {stim_frm}, time inv.: {time_del}s\", show=False,\n",
    "                                          background=bg_img)\n",
    "\n",
    "    try:\n",
    "        inframe_coord1_x = expobj.slmtargets_data.var[\"seizure location\"][idx][0][0]\n",
    "        inframe_coord1_y = expobj.slmtargets_data.var[\"seizure location\"][idx][0][1]\n",
    "        inframe_coord2_x = expobj.slmtargets_data.var[\"seizure location\"][idx][1][0]\n",
    "        inframe_coord2_y = expobj.slmtargets_data.var[\"seizure location\"][idx][1][1]\n",
    "    except TypeError:\n",
    "        print('hitting nonetype error')\n",
    "    ax.plot([inframe_coord1_x, inframe_coord2_x], [inframe_coord1_y, inframe_coord2_y], c='darkorange',\n",
    "            linestyle='dashed', alpha=1, lw=2)\n",
    "\n",
    "    counter += 1\n",
    "\n",
    "fig.suptitle(f\"{expobj.t_series_name} {expobj.date}\")\n",
    "fig.show()\n"
   ],
   "metadata": {
    "collapsed": false,
    "pycharm": {
     "name": "#%%\n"
    }
   }
  },
  {
   "cell_type": "markdown",
   "source": [
    "## testing which pkl objects are corrupted (if any)"
   ],
   "metadata": {
    "collapsed": false,
    "pycharm": {
     "name": "#%% md\n"
    }
   }
  },
  {
   "cell_type": "code",
   "execution_count": null,
   "outputs": [],
   "source": [
    "\n",
    "pre_4ap_trials = [\n",
    "    ['RL108 t-009'],\n",
    "    ['RL108 t-010'],\n",
    "    ['RL109 t-007'],\n",
    "    ['RL109 t-008'],\n",
    "    ['RL109 t-013'],\n",
    "    ['RL109 t-014'],\n",
    "    ['PS04 t-012', 'PS04 t-014',\n",
    "     'PS04 t-017'],\n",
    "    ['PS05 t-010'],\n",
    "    ['PS07 t-007'],\n",
    "    ['PS07 t-009'],\n",
    "    ['PS06 t-008', 'PS06 t-009', 'PS06 t-010'],\n",
    "    ['PS06 t-011'],\n",
    "    ['PS06 t-012'],\n",
    "    ['PS11 t-007'],\n",
    "    ['PS11 t-010'],\n",
    "    ['PS17 t-005'],\n",
    "    ['PS17 t-006', 'PS17 t-007'],\n",
    "    ['PS18 t-006']\n",
    "]\n",
    "\n",
    "post_4ap_trials = [\n",
    "    ['RL108 t-013'],\n",
    "    ['RL108 t-011'],\n",
    "    ['RL109 t-020'],\n",
    "    ['RL109 t-021'],\n",
    "    ['RL109 t-018'],\n",
    "    ['RL109 t-016',  'RL109 t-017'],\n",
    "    ['PS04 t-018'],\n",
    "    ['PS05 t-012'],\n",
    "    ['PS07 t-011'],\n",
    "    ['PS07 t-017'],\n",
    "    ['PS06 t-014', 'PS06 t-015'],\n",
    "    ['PS06 t-013'],\n",
    "    ['PS06 t-016'],\n",
    "    ['PS11 t-016'],\n",
    "    ['PS11 t-011'],\n",
    "    ['PS17 t-011'],\n",
    "    ['PS17 t-009'],\n",
    "    ['PS18 t-008']\n",
    "]\n",
    "\n",
    "\n",
    "for key in pj.flattenOnce(post_4ap_trials)[-3:]:\n",
    "    prep = key[:-6]\n",
    "    trial = key[-5:]\n",
    "    try:\n",
    "        expobj, _ = aoutils.import_expobj(prep=prep, trial=trial, verbose=False)\n",
    "    except pickle.UnpicklingError:\n",
    "        print(f\"\\n** FAILED IMPORT OF * {prep} {trial}\")\n",
    "    aoplot.plot_lfp_stims(expobj)\n",
    "\n",
    "# for key in ['RL109 t-020']:\n",
    "#     prep = key[:-6]\n",
    "#     trial = key[-5:]\n",
    "#     expobj, _ = aoutils.import_expobj(prep=prep, trial=trial, verbose=False)\n",
    "#     expobj.metainfo['pre4ap_trials'] = ['t-007', 't-008', 't-011', 't-012', 't-013', 't-014']\n",
    "#     expobj.metainfo['post4ap_trials'] = ['t-016', 't-017', 't-018', 't-019', 't-020', 't-021']\n",
    "#     expobj.save()\n"
   ],
   "metadata": {
    "collapsed": false,
    "pycharm": {
     "name": "#%%\n"
    }
   }
  },
  {
   "cell_type": "markdown",
   "source": [
    "## updating the non-targets exclusion region to 15um from the center of the spiral coordinate"
   ],
   "metadata": {
    "collapsed": false,
    "pycharm": {
     "name": "#%% md\n"
    }
   }
  },
  {
   "cell_type": "code",
   "execution_count": null,
   "outputs": [],
   "source": [
    "\n",
    "ls = ['pre', 'post']\n",
    "for i in ls:\n",
    "    ncols = 5\n",
    "    nrows = 5\n",
    "    fig, axs = plt.subplots(ncols=ncols, nrows=nrows, figsize=(30, 30))\n",
    "    fig.tight_layout()\n",
    "    counter = 0\n",
    "\n",
    "    for key in list(allopticalResults.trial_maps[i].keys()):\n",
    "        for j in range(len(allopticalResults.trial_maps[i][key])):\n",
    "            # import expobj\n",
    "            expobj, experiment = aoutils.import_expobj(aoresults_map_id=f'{i} {key}.{j}')\n",
    "\n",
    "            expobj._parseNAPARMgpl()\n",
    "            expobj._findTargetsAreas()\n",
    "            expobj._findTargetedS2pROIs(force_redo=False, plot=False)\n",
    "\n",
    "            ax = axs[counter // ncols, counter % ncols]\n",
    "\n",
    "            fig, ax = aoplot.plot_cells_loc(expobj, cells=expobj.s2p_cell_targets, show=False, fig=fig, ax=ax,\n",
    "                                            show_s2p_targets=True, title=None, invert_y=True)\n",
    "\n",
    "            targ_img = np.zeros([expobj.frame_x, expobj.frame_y], dtype='uint16')\n",
    "            target_areas = np.array(expobj.target_areas)\n",
    "            targ_img[target_areas[:, :, 1], target_areas[:, :, 0]] = 1\n",
    "            ax.imshow(targ_img, cmap='Greys_r', zorder=0)\n",
    "            ax.set_title(f\"{expobj.metainfo['animal prep.']}, {expobj.metainfo['trial']}\")\n",
    "\n",
    "            counter += 1\n",
    "\n",
    "    title = f\"s2p cell targets (red-filled) and target areas (white) - {i}4ap trials\"\n",
    "    save_path = f'/home/pshah/mnt/qnap/Analysis/Results_figs/{title}.png'\n",
    "    plt.suptitle(title, y=0.90)\n",
    "    plt.savefig(save_path)\n",
    "    # fig.show()"
   ],
   "metadata": {
    "collapsed": false,
    "pycharm": {
     "name": "#%%\n"
    }
   }
  },
  {
   "cell_type": "code",
   "execution_count": null,
   "outputs": [],
   "source": [],
   "metadata": {
    "collapsed": false,
    "pycharm": {
     "name": "#%%\n"
    }
   }
  },
  {
   "cell_type": "code",
   "execution_count": null,
   "outputs": [],
   "source": [
    "# %% add 100ms to the stim dur for expobj which need it (i.e. trials where the stim end is just after the stim_dur and traces are still coming down)\n",
    "ls = ['PS05 t-010', 'PS06 t-011', 'PS11 t-010', 'PS17 t-005', 'PS17 t-006', 'PS17 t-007', 'PS18 t-006']\n",
    "for i in ls:\n",
    "    prep, trial = re.split(' ', i)\n",
    "    expobj, experiment = aoutils.import_expobj(trial=trial, prep=prep, verbose=False)\n",
    "    expobj.stim_dur = expobj.stim_dur + 100\n",
    "    expobj.save()\n",
    "\n",
    "# %% plot signals of suite2p outputs of a cell with F-neuropil and neuropil -- trying to see if neuropil signal contains anything of predictive value for the cell's spiking activity?\n",
    "\n",
    "i = allopticalResults.post_4ap_trials[0]\n",
    "j = 0\n",
    "prep = i[j][:-6]\n",
    "trial = i[j][-5:]\n",
    "print('\\nLoading up... ', prep, trial)\n",
    "expobj, experiment = aoutils.import_expobj(trial=trial, prep=prep, verbose=False)\n",
    "\n",
    "cell = 10\n",
    "# window = [0, expobj.n_frames]\n",
    "fig, ax = plt.subplots(figsize=(10, 3))\n",
    "ax2 = ax.twinx()\n",
    "ax.plot(expobj.frame_clock_actual[:expobj.n_frames], expobj.raw[cell], color='black', lw=0.2)\n",
    "# ax.plot(expobj.spks[cell], color='blue')\n",
    "ax.plot(expobj.frame_clock_actual[:expobj.n_frames], expobj.neuropil[cell], color='red', lw=0.2)\n",
    "ax2.plot(expobj.lfp_signal[expobj.frame_start_time_actual: expobj.frame_end_time_actual], color='steelblue', lw=0.2)\n",
    "# ax.set_xlim(window[0], window[1])\n",
    "fig.show()\n",
    "\n",
    "\n",
    "\n",
    "\n",
    "# %% running processing of SLM targets responses outsz\n",
    "\n",
    "prep = 'RL108'\n",
    "trial = 't-013'\n",
    "date = ls(allopticalResults.metainfo.loc[allopticalResults.metainfo['prep_trial'] == (prep + ' ' + trial), 'date'])[0]\n",
    "\n",
    "expobj, experiment = aoutils.import_expobj(trial=trial, date=date, prep=prep, verbose=False)\n",
    "hasattr(expobj, 'outsz_responses_SLMtargets')"
   ],
   "metadata": {
    "collapsed": false,
    "pycharm": {
     "name": "#%%\n"
    }
   }
  },
  {
   "cell_type": "code",
   "execution_count": null,
   "outputs": [],
   "source": [],
   "metadata": {
    "collapsed": false,
    "pycharm": {
     "name": "#%%\n"
    }
   }
  },
  {
   "cell_type": "markdown",
   "source": [
    "## checking number of frames in paq file and the 2p tiff path"
   ],
   "metadata": {
    "collapsed": false,
    "pycharm": {
     "name": "#%% md\n"
    }
   }
  },
  {
   "cell_type": "code",
   "execution_count": null,
   "outputs": [],
   "source": [
    "\n",
    "\n",
    "prep = 'PS18'\n",
    "date = '2021-02-02'\n",
    "trials = ['t-008', 't-009']\n",
    "\n",
    "for trial in trials:\n",
    "    ###### IMPORT pkl file containing data in form of expobj\n",
    "    save_path = \"/home/pshah/mnt/qnap/Analysis/%s/%s/%s_%s/%s_%s.pkl\" % (date, prep, date, trial, date, trial)\n",
    "\n",
    "    expobj, experiment = aoutils.import_expobj(trial=trial, date=date, save_path=save_path, verbose=False)\n",
    "    pj.plot_single_tiff(expobj.tiff_path, frame_num=238, title='%s - frame 238' % trial)\n",
    "    # open tiff file\n",
    "    print('\\nWorking on... %s' % expobj.tiff_path)\n",
    "    tiffstack = tf.imread(expobj.tiff_path)\n",
    "    n_frames_tiff = len(tiffstack)\n",
    "    if not hasattr(expobj, 'frame_clock_actual'):\n",
    "        expobj.paqProcessing()\n",
    "    n_frames_paq = len(expobj.frame_clock_actual)\n",
    "\n",
    "    print('|- n_frames_tiff: %s      n_frames_paq: %s' % (n_frames_tiff, n_frames_paq))"
   ],
   "metadata": {
    "collapsed": false,
    "pycharm": {
     "name": "#%%\n"
    }
   }
  },
  {
   "cell_type": "code",
   "execution_count": null,
   "outputs": [],
   "source": [
    "prep = 'PS06'\n",
    "date = '2021-01-10'\n",
    "trials = ['t-008', 't-009', 't-010', 't-011']\n",
    "\n",
    "for trial in trials:\n",
    "    ###### IMPORT pkl file containing data in form of expobj\n",
    "    save_path = \"/home/pshah/mnt/qnap/Analysis/%s/%s/%s_%s/%s_%s.pkl\" % (date, prep, date, trial, date, trial)\n",
    "\n",
    "    expobj, experiment = aoutils.import_expobj(trial=trial, date=date, save_path=save_path, verbose=False)\n",
    "\n",
    "    print('\\n%s' % trial)\n",
    "    print('frame clock count: ', len(expobj.frame_clock_actual))\n",
    "    print('raw Flu trace count: ', len(expobj.meanRawFluTrace))\n",
    "    print('xml nframes', expobj.n_frames)\n",
    "\n",
    "# paq_read(expobj.paq_path, plot=True)"
   ],
   "metadata": {
    "collapsed": false,
    "pycharm": {
     "name": "#%%\n"
    }
   }
  },
  {
   "cell_type": "code",
   "execution_count": null,
   "outputs": [],
   "source": [],
   "metadata": {
    "collapsed": false,
    "pycharm": {
     "name": "#%%\n"
    }
   }
  },
  {
   "cell_type": "code",
   "execution_count": null,
   "outputs": [],
   "source": [
    "# CREATE AND SAVE DOWNSAMPLED TIFF\n",
    "prep = 'PS06'\n",
    "date = '2021-01-10'\n",
    "trials = ['t-008']\n",
    "\n",
    "for trial in trials:\n",
    "    ###### IMPORT pkl file containing data in form of expobj\n",
    "    save_path = \"/home/pshah/mnt/qnap/Analysis/%s/%s/%s_%s/%s_%s.pkl\" % (date, prep, date, trial, date, trial)\n",
    "\n",
    "    expobj, experiment = aoutils.import_expobj(trial=trial, date=date, save_path=save_path, verbose=False)\n",
    "    stack = pj.subselect_tiff(\n",
    "        tiff_path=expobj.tiff_path, select_frames=(-500, -1))\n",
    "    # stack = pj.subselect_tiff(tiff_path=\"/home/pshah/mnt/qnap/Data/%s/%s_%s/%s_%s_Cycle00001_Ch3.tif\" % (date, date, trial, date, trial),\n",
    "    #                           select_frames=(-2000, -1))\n",
    "    pj.SaveDownsampledTiff(stack=stack,\n",
    "                           save_as=\"/home/pshah/mnt/qnap/Analysis/%s/%s/%s_%s/%s_%s_Cycle00001_Ch3_cropped_downsampled1.tif\" % (\n",
    "                           date, prep, date, trial, date, trial))\n",
    "\n",
    "trial = 't-015'\n",
    "date = '2021-01-19'\n",
    "\n",
    "pj.ZProfile(movie=\"/home/pshah/mnt/qnap/Data/%s/%s_%s/%s_%s_Cycle00001_Ch3.tif\" % (date, date, trial, date, trial),\n",
    "            plot_image=True, figsize=[20, 4], title=(date + trial))\n",
    "\n",
    "# %% PLOT LFP WITH STIM TIMINGS FOR ALL-OPTICAL EXPERIMENT\n",
    "\n",
    "prep = 'PS07'\n",
    "trial = 't-017'\n",
    "date = ls(allopticalResults.metainfo.loc[allopticalResults.metainfo['prep_trial'] == (prep + ' ' + trial), 'date'])[0]\n",
    "\n",
    "expobj, experiment = aoutils.import_expobj(trial=trial, date=date, prep=prep)\n",
    "aoplot.plot_lfp_stims(expobj)\n"
   ],
   "metadata": {
    "collapsed": false,
    "pycharm": {
     "name": "#%%\n"
    }
   }
  }
 ],
 "metadata": {
  "kernelspec": {
   "display_name": "Python 3",
   "language": "python",
   "name": "python3"
  },
  "language_info": {
   "codemirror_mode": {
    "name": "ipython",
    "version": 2
   },
   "file_extension": ".py",
   "mimetype": "text/x-python",
   "name": "python",
   "nbconvert_exporter": "python",
   "pygments_lexer": "ipython2",
   "version": "2.7.6"
  }
 },
 "nbformat": 4,
 "nbformat_minor": 0
}
