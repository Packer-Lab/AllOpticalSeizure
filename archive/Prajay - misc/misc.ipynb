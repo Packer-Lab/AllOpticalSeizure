{
 "cells": [
  {
   "cell_type": "code",
   "execution_count": 4,
   "metadata": {},
   "outputs": [
    {
     "name": "stdout",
     "output_type": "stream",
     "text": [
      "['/home/pshah/Documents/code/Vape/jupyter/Prajay - misc', '/home/pshah/anaconda3/lib/python37.zip', '/home/pshah/anaconda3/lib/python3.7', '/home/pshah/anaconda3/lib/python3.7/lib-dynload', '', '/home/pshah/anaconda3/lib/python3.7/site-packages', '/home/pshah/anaconda3/lib/python3.7/site-packages/IPython/extensions', '/home/pshah/.ipython', '/home/pshah/Documents/code/Vape/utils', '/home/pshah/Documents/code/Vape/', '/home/pshah/Documents/code/Vape/utils']\n"
     ]
    }
   ],
   "source": [
    "# %run ./setup_notebook.ipynb\n",
    "import sys; sys.path.append('/home/pshah/Documents/code/Vape/utils')\n",
    "print(sys.path)\n",
    "import glob\n",
    "import numpy as np\n",
    "from skimage.external import tifffile\n",
    "import tifffile as tf\n",
    "import os\n",
    "import alloptical_utils_pj as ao\n",
    "import utils_funcs_pj as pjf"
   ]
  },
  {
   "cell_type": "markdown",
   "metadata": {},
   "source": [
    "## convert single tiff frames into tiff stack"
   ]
  },
  {
   "cell_type": "code",
   "execution_count": 2,
   "metadata": {},
   "outputs": [
    {
     "name": "stdout",
     "output_type": "stream",
     "text": [
      " -- Writing frame: 16075 out of 50319\r"
     ]
    },
    {
     "name": "stderr",
     "output_type": "stream",
     "text": [
      "IOPub message rate exceeded.\n",
      "The notebook server will temporarily stop sending output\n",
      "to the client in order to avoid crashing it.\n",
      "To change this limit, set the config variable\n",
      "`--NotebookApp.iopub_msg_rate_limit`.\n",
      "\n",
      "Current values:\n",
      "NotebookApp.iopub_msg_rate_limit=1000.0 (msgs/sec)\n",
      "NotebookApp.rate_limit_window=3.0 (secs)\n",
      "\n"
     ]
    },
    {
     "name": "stdout",
     "output_type": "stream",
     "text": [
      " -- Writing frame: 50319 out of 50319\r"
     ]
    }
   ],
   "source": [
    "tiff_paths = '/Volumes/Extreme SSD/oxford-data/2020-03-06/t06/*.tif'\n",
    "ao.make_tiff_stack(tiff_paths, save_as='/Volumes/Extreme SSD/oxford-data/2020-03-06/t06.tif')"
   ]
  },
  {
   "cell_type": "markdown",
   "metadata": {},
   "source": [
    "## remove artifact from alloptical experiments"
   ]
  },
  {
   "cell_type": "code",
   "execution_count": 5,
   "metadata": {},
   "outputs": [
    {
     "ename": "NameError",
     "evalue": "name 'exp_obj' is not defined",
     "output_type": "error",
     "traceback": [
      "\u001b[0;31m---------------------------------------------------------------------------\u001b[0m",
      "\u001b[0;31mNameError\u001b[0m                                 Traceback (most recent call last)",
      "\u001b[0;32m<ipython-input-5-6d3fe2dc8d0f>\u001b[0m in \u001b[0;36m<module>\u001b[0;34m\u001b[0m\n\u001b[1;32m      2\u001b[0m \u001b[0mtiff_path\u001b[0m \u001b[0;34m=\u001b[0m \u001b[0;34m'/home/pshah/mnt/qnap/Data/2020-03-04/2020-03-04_t-014/2020-03-04_t-014_Cycle00001_Ch3.tif'\u001b[0m\u001b[0;34m\u001b[0m\u001b[0;34m\u001b[0m\u001b[0m\n\u001b[1;32m      3\u001b[0m \u001b[0;34m\u001b[0m\u001b[0m\n\u001b[0;32m----> 4\u001b[0;31m \u001b[0mim_stack\u001b[0m \u001b[0;34m=\u001b[0m \u001b[0mtf\u001b[0m\u001b[0;34m.\u001b[0m\u001b[0mimread\u001b[0m\u001b[0;34m(\u001b[0m\u001b[0mtiff_path\u001b[0m\u001b[0;34m,\u001b[0m \u001b[0mkey\u001b[0m\u001b[0;34m=\u001b[0m\u001b[0mrange\u001b[0m\u001b[0;34m(\u001b[0m\u001b[0mexp_obj\u001b[0m\u001b[0;34m.\u001b[0m\u001b[0mn_frames\u001b[0m\u001b[0;34m)\u001b[0m\u001b[0;34m)\u001b[0m\u001b[0;34m\u001b[0m\u001b[0;34m\u001b[0m\u001b[0m\n\u001b[0m\u001b[1;32m      5\u001b[0m \u001b[0;34m\u001b[0m\u001b[0m\n\u001b[1;32m      6\u001b[0m \u001b[0;34m\u001b[0m\u001b[0m\n",
      "\u001b[0;31mNameError\u001b[0m: name 'exp_obj' is not defined"
     ]
    }
   ],
   "source": [
    "## DOESN't WORK INDEPENDENTLY OF THE EXPOBJECT CURRENTLY\n",
    "\n",
    "### make a new tiff file (not for suite2p) with the first photostim frame whitened, and save new tiff\n",
    "tiff_path = '/home/pshah/mnt/qnap/Data/2020-03-04/2020-03-04_t-014/2020-03-04_t-014_Cycle00001_Ch3.tif'\n",
    "\n",
    "im_stack = tf.imread(tiff_path, key=range(exp_obj.n_frames))\n",
    "\n",
    "\n",
    "frames_to_whiten = []\n",
    "for j in exp_obj.stim_start_frames[0]:\n",
    "        frames_to_whiten.append(j)\n",
    "\n",
    "im_stack_1 = im_stack\n",
    "a = np.full_like(im_stack_1[0], fill_value=0)\n",
    "a[0:100,0:100] = 5000.\n",
    "for frame in frames_to_whiten:\n",
    "    im_stack_1[frame-3:frame-1] = a\n",
    "\n",
    "frames_to_remove = []\n",
    "for j in exp_obj.stim_start_frames[0]:\n",
    "    for i in range(0, exp_obj.duration_frames+1): # usually need to remove 1 more frame than the stim duration, as the stim isn't perfectly aligned with the start of the imaging frame\n",
    "        frames_to_remove.append(j+i)\n",
    "\n",
    "im_stack_1 = np.delete(im_stack, frames_to_remove, axis=0)\n",
    "\n",
    "tf.imwrite(\"/home/pshah/mnt/qnap/Data/2020-03-04/2020-03-04_t-014/2020-03-04_t014_artifactrem.tif\",\n",
    "           im_stack_1, photometric='minisblack')\n",
    "\n",
    "# find the frames which are now photostim frames (relative to the new length after frames removed)\n",
    "new_tiff = \"/home/pshah/mnt/qnap/Data/2020-03-04/2020-03-04_t-014/2020-03-04_t014_artifactrem.tif\"\n",
    "new_stack = tf.imread(new_tiff, key=(range(len(im_stack_1))))\n",
    "\n",
    "new_photostim_frames = []\n",
    "for i in range(len(new_stack)):\n",
    "    if new_stack[i][0][0]==1001:\n",
    "        new_photostim_frames.append(i)"
   ]
  },
  {
   "cell_type": "code",
   "execution_count": null,
   "metadata": {},
   "outputs": [],
   "source": []
  }
 ],
 "metadata": {
  "kernelspec": {
   "display_name": "Python 3",
   "language": "python",
   "name": "python3"
  },
  "language_info": {
   "codemirror_mode": {
    "name": "ipython",
    "version": 3
   },
   "file_extension": ".py",
   "mimetype": "text/x-python",
   "name": "python",
   "nbconvert_exporter": "python",
   "pygments_lexer": "ipython3",
   "version": "3.7.4"
  }
 },
 "nbformat": 4,
 "nbformat_minor": 2
}
