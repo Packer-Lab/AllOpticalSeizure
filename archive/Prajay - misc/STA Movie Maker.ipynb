{
 "cells": [
  {
   "cell_type": "code",
   "execution_count": 2,
   "metadata": {},
   "outputs": [
    {
     "name": "stderr",
     "output_type": "stream",
     "text": [
      "/home/pshah/anaconda3/lib/python3.7/site-packages/tensorflow/python/framework/dtypes.py:526: FutureWarning: Passing (type, 1) or '1type' as a synonym of type is deprecated; in a future version of numpy, it will be understood as (type, (1,)) / '(1,)type'.\n",
      "  _np_qint8 = np.dtype([(\"qint8\", np.int8, 1)])\n",
      "/home/pshah/anaconda3/lib/python3.7/site-packages/tensorflow/python/framework/dtypes.py:527: FutureWarning: Passing (type, 1) or '1type' as a synonym of type is deprecated; in a future version of numpy, it will be understood as (type, (1,)) / '(1,)type'.\n",
      "  _np_quint8 = np.dtype([(\"quint8\", np.uint8, 1)])\n",
      "/home/pshah/anaconda3/lib/python3.7/site-packages/tensorflow/python/framework/dtypes.py:528: FutureWarning: Passing (type, 1) or '1type' as a synonym of type is deprecated; in a future version of numpy, it will be understood as (type, (1,)) / '(1,)type'.\n",
      "  _np_qint16 = np.dtype([(\"qint16\", np.int16, 1)])\n",
      "/home/pshah/anaconda3/lib/python3.7/site-packages/tensorflow/python/framework/dtypes.py:529: FutureWarning: Passing (type, 1) or '1type' as a synonym of type is deprecated; in a future version of numpy, it will be understood as (type, (1,)) / '(1,)type'.\n",
      "  _np_quint16 = np.dtype([(\"quint16\", np.uint16, 1)])\n",
      "/home/pshah/anaconda3/lib/python3.7/site-packages/tensorflow/python/framework/dtypes.py:530: FutureWarning: Passing (type, 1) or '1type' as a synonym of type is deprecated; in a future version of numpy, it will be understood as (type, (1,)) / '(1,)type'.\n",
      "  _np_qint32 = np.dtype([(\"qint32\", np.int32, 1)])\n",
      "/home/pshah/anaconda3/lib/python3.7/site-packages/tensorflow/python/framework/dtypes.py:535: FutureWarning: Passing (type, 1) or '1type' as a synonym of type is deprecated; in a future version of numpy, it will be understood as (type, (1,)) / '(1,)type'.\n",
      "  np_resource = np.dtype([(\"resource\", np.ubyte, 1)])\n"
     ]
    }
   ],
   "source": [
    "import os\n",
    "import sys; sys.path.append('/home/pshah/Documents/code/Vape/utils')\n",
    "\n",
    "import STAMovieMaker_noGUI as STAMM"
   ]
  },
  {
   "cell_type": "markdown",
   "metadata": {},
   "source": [
    "## Define QNAP and save path"
   ]
  },
  {
   "cell_type": "code",
   "execution_count": 6,
   "metadata": {},
   "outputs": [
    {
     "name": "stdout",
     "output_type": "stream",
     "text": [
      "QNAP_path: /home/pshah/mnt/qnap \n",
      "STA movie save path: /home/pshah/mnt/qnap/Analysis/STA_Movies/2020-03-16_XM07_t006\n"
     ]
    }
   ],
   "source": [
    "qnap_path = os.path.expanduser('/home/pshah/mnt/qnap')\n",
    "\n",
    "stam_save_path = os.path.join(qnap_path, 'Analysis', 'STA_Movies', '2020-03-16_XM07_t006')\n",
    "\n",
    "os.makedirs(stam_save_path, exist_ok=True)\n",
    "\n",
    "\n",
    "print('QNAP_path:', qnap_path,\n",
    "      '\\nSTA movie save path:', stam_save_path)"
   ]
  },
  {
   "cell_type": "markdown",
   "metadata": {},
   "source": [
    "## Define settings and check image/paq paths for STAMovieMaker"
   ]
  },
  {
   "cell_type": "code",
   "execution_count": 7,
   "metadata": {},
   "outputs": [
    {
     "name": "stdout",
     "output_type": "stream",
     "text": [
      "Movie_path: /home/pshah/mnt/qnap/Analysis/STA_Movies/temp_folder/2020-03-16_t-006.bin \n",
      "Sync_path: /home/pshah/mnt/qnap/Analysis/STA_Movies/temp_folder/2020-03-16_t-006.paq\n"
     ]
    }
   ],
   "source": [
    "temp_folder = os.path.join(qnap_path, 'Analysis', 'STA_Movies', 'temp_folder')\n",
    "temp_file_list = os.listdir(temp_folder)\n",
    "\n",
    "for file in temp_file_list:\n",
    "    if any(s in file for s in ['.bin', '.tif']):\n",
    "        movie_path = os.path.join(temp_folder, file)\n",
    "    elif '.paq' in file:\n",
    "        sync_path = os.path.join(temp_folder, file)\n",
    "        \n",
    "print('Movie_path:', movie_path,\n",
    "      '\\nSync_path:', sync_path)\n",
    "\n",
    "arg_dict = {'moviePath' : movie_path, # hard-code this\n",
    "            'savePath' : stam_save_path,\n",
    "            'syncFrameChannel' : 'frame_clock',\n",
    "            'syncStimChannel' : 'packio2slm',\n",
    "            'syncStartSec' : 0,\n",
    "            'syncStopSec' : 0,\n",
    "            'numDiffStims' : 2,\n",
    "            'startOnStim' : 1,\n",
    "            'everyXStims' : 2,\n",
    "            'preSeconds' : 1,\n",
    "            'postSeconds' : 3,\n",
    "            'frameRate' : 30,\n",
    "            'averageImageStart' : 0.5,\n",
    "            'averageImageStop' : 1.5,\n",
    "            'methodDF' : False,\n",
    "            'methodDFF' : True,\n",
    "            'methodZscore' : False,\n",
    "            'syncPath' : sync_path,\n",
    "            'zPlanes' : 1,\n",
    "            'useStimOrder' : False,\n",
    "            'stimOrder' : [],\n",
    "            'useSingleTrials' : False,\n",
    "            'doThreshold' : False,\n",
    "            'threshold' : 0,\n",
    "            'colourByTime' : False,\n",
    "            'useCorrelationImage' : False,\n",
    "            'blurHandS' : False,\n",
    "            'makeMaxImage' : True,\n",
    "            'makeColourImage' : False\n",
    "           }"
   ]
  },
  {
   "cell_type": "markdown",
   "metadata": {},
   "source": [
    "## Run STA Movie Maker"
   ]
  },
  {
   "cell_type": "code",
   "execution_count": 8,
   "metadata": {},
   "outputs": [
    {
     "name": "stdout",
     "output_type": "stream",
     "text": [
      "Loading sync file\n",
      "Loading movie\n",
      "Plane 1 of 1. Stim 1 of 2 (30 trials)\n",
      "Plane 1 of 1. Stim 1 of 2 (30 trials) - Raw\n",
      "Plane 1 of 1. Stim 1 of 2 (30 trials) - dFF\n",
      "Plane 1 of 1. Stim 2 of 2 (30 trials)\n",
      "Plane 1 of 1. Stim 2 of 2 (30 trials) - Raw\n",
      "Plane 1 of 1. Stim 2 of 2 (30 trials) - dFF\n"
     ]
    }
   ],
   "source": [
    "STAMM.STAMovieMaker(arg_dict);"
   ]
  },
  {
   "cell_type": "markdown",
   "metadata": {},
   "source": [
    "## Troubleshooting"
   ]
  },
  {
   "cell_type": "code",
   "execution_count": 56,
   "metadata": {},
   "outputs": [
    {
     "name": "stdout",
     "output_type": "stream",
     "text": [
      "/home/pshah/mnt/qnap/Analysis/STA_Movies/2020-03-18_J063_t-021.paq\n"
     ]
    }
   ],
   "source": [
    "import paq2py\n",
    "print(sync_path)"
   ]
  },
  {
   "cell_type": "code",
   "execution_count": 58,
   "metadata": {},
   "outputs": [],
   "source": [
    "paq = paq2py.paq_read(sync_path, plot=False)"
   ]
  },
  {
   "cell_type": "code",
   "execution_count": 28,
   "metadata": {},
   "outputs": [
    {
     "data": {
      "text/plain": [
       "['frame_clock',\n",
       " 'x_galvo_uncaging',\n",
       " 'slm2packio',\n",
       " 'markpoints2packio',\n",
       " 'packio2slm',\n",
       " 'packio2markpoints',\n",
       " 'pycontrol_rsync']"
      ]
     },
     "execution_count": 28,
     "metadata": {},
     "output_type": "execute_result"
    }
   ],
   "source": [
    "paq['chan_names']"
   ]
  },
  {
   "cell_type": "code",
   "execution_count": null,
   "metadata": {},
   "outputs": [],
   "source": []
  }
 ],
 "metadata": {
  "kernelspec": {
   "display_name": "Python 3",
   "language": "python",
   "name": "python3"
  },
  "language_info": {
   "codemirror_mode": {
    "name": "ipython",
    "version": 3
   },
   "file_extension": ".py",
   "mimetype": "text/x-python",
   "name": "python",
   "nbconvert_exporter": "python",
   "pygments_lexer": "ipython3",
   "version": "3.7.4"
  }
 },
 "nbformat": 4,
 "nbformat_minor": 2
}
