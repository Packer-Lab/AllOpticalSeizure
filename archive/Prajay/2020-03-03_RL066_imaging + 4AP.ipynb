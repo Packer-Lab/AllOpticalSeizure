{
 "cells": [
  {
   "cell_type": "code",
   "execution_count": 5,
   "metadata": {
    "scrolled": false
   },
   "outputs": [
    {
     "name": "stderr",
     "output_type": "stream",
     "text": [
      "ERROR:root:File `'./setup_notebook.ipynb.py'` not found.\n"
     ]
    },
    {
     "name": "stdout",
     "output_type": "stream",
     "text": [
      "['/home/pshah/Documents/code/Vape/jupyter/Prajay', '/Applications/NEURON-7.6/nrn/lib/python', '/home/pshah/Documents/code/Vape/jupyter/Prajay', '/home/pshah/anaconda3/lib/python37.zip', '/home/pshah/anaconda3/lib/python3.7', '/home/pshah/anaconda3/lib/python3.7/lib-dynload', '', '/home/pshah/anaconda3/lib/python3.7/site-packages', '/home/pshah/anaconda3/lib/python3.7/site-packages/IPython/extensions', '/home/pshah/.ipython', '/home/pshah/Documents/code/Vape/utils/', '/home/pshah/Documents/code/Vape/', '/home/pshah/Documents/code/Vape/utils/']\n"
     ]
    }
   ],
   "source": [
    "# imports general modules, runs ipython magic commands\n",
    "# change path in this notebook to point to repo locally\n",
    "# n.b. sometimes need to run this cell twice to init the plotting paramters\n",
    "import sys; sys.path.append('/home/pshah/Documents/code/Vape/utils/')\n",
    "import alloptical_utils_pj as ao\n",
    "import numpy as np\n",
    "import utils_funcs as uf\n",
    "import matplotlib.pyplot as plt\n",
    "%run ./setup_notebook.ipynb\n",
    "print(sys.path)\n",
    "import funcs_pj as pjf\n",
    "\n",
    "plt.rcParams['figure.figsize'] = [20.0, 3.0]"
   ]
  },
  {
   "cell_type": "code",
   "execution_count": 6,
   "metadata": {},
   "outputs": [],
   "source": [
    "# tiffs to run s2p on\n",
    "to_suite2p = ['t-005']\n",
    "\n",
    "to_suite2p_tiffs = []\n",
    "for i in to_suite2p:\n",
    "    to_suite2p_tiffs.append('/home/pshah/mnt/qnap/Data/2020-03-03/2020-03-03_%s/2020-03-03_%s_Cycle00001_Ch3.tif' % (i,i))"
   ]
  },
  {
   "cell_type": "code",
   "execution_count": 13,
   "metadata": {},
   "outputs": [],
   "source": [
    "import os\n",
    "\n",
    "data_path = os.path.expanduser('/home/pshah/mnt/qnap/Data/2020-03-03/')\n",
    "tiff_list = to_suite2p_tiffs\n",
    "\n",
    "# setup settings and run suite2p\n",
    "from suite2p.run_s2p import run_s2p\n",
    "\n",
    "ops = {\n",
    "        'batch_size': 2000, # reduce if running out of RAM\n",
    "        'fast_disk': os.path.expanduser('~/Documents/suite2p_binaries'), # used to store temporary binary file, defaults to save_path0 (set as a string NOT a list)\n",
    "         #'save_path0': '/media/jamesrowland/DATA/plab/suite_2p', # stores results, defaults to first item in data_path\n",
    "        'delete_bin': True, # whether to delete binary file after processing\n",
    "        # main settings\n",
    "        'nplanes' : 1, # each tiff has these many planes in sequence\n",
    "        'nchannels' : 1, # each tiff has these many channels per plane\n",
    "        'functional_chan' : 1, # this channel is used to extract functional ROIs (1-based)\n",
    "        'diameter': 8, # this is the main parameter for cell detection, 2-dimensional if Y and X are different (e.g. [6 12])\n",
    "        'tau':  1.26, # this is the main parameter for deconvolution (1.25-1.5 for gcamp6s)\n",
    "        'fs': 15.,  # sampling rate (total across planes)\n",
    "        # output settings\n",
    "        'save_mat': True, # whether to save output as matlab files\n",
    "        'combined': True, # combine multiple planes into a single result /single canvas for GUI\n",
    "        # parallel settings\n",
    "        'num_workers': 50, # 0 to select num_cores, -1 to disable parallelism, N to enforce value\n",
    "        'num_workers_roi': 0, # 0 to select number of planes, -1 to disable parallelism, N to enforce value\n",
    "        # registration settings\n",
    "        'do_registration': True, # whether to register data\n",
    "        'nimg_init': 200, # subsampled frames for finding reference image\n",
    "        'maxregshift': 0.1, # max allowed registration shift, as a fraction of frame max(width and height)\n",
    "        'align_by_chan' : 1, # when multi-channel, you can align by non-functional channel (1-based)\n",
    "        'reg_tif': False, # whether to save registered tiffs\n",
    "        'subpixel' : 10, # precision of subpixel registration (1/subpixel steps)\n",
    "        # cell detection settings\n",
    "        'connected': True, # whether or not to keep ROIs fully connected (set to 0 for dendrites)\n",
    "        'navg_frames_svd': 5000, # max number of binned frames for the SVD\n",
    "        'nsvd_for_roi': 1000, # max number of SVD components to keep for ROI detection\n",
    "        'max_iterations': 20, # maximum number of iterations to do cell detection\n",
    "        'ratio_neuropil': 6., # ratio between neuropil basis size and cell radius\n",
    "        'ratio_neuropil_to_cell': 3, # minimum ratio between neuropil radius and cell radius\n",
    "        'tile_factor': 1., # use finer (>1) or coarser (<1) tiles for neuropil estimation during cell detection\n",
    "        'threshold_scaling': 1., # adjust the automatically determined threshold by this scalar multiplier\n",
    "        'max_overlap': 0.75, # cells with more overlap than this get removed during triage, before refinement\n",
    "        'inner_neuropil_radius': 2, # number of pixels to keep between ROI and neuropil donut\n",
    "        'outer_neuropil_radius': np.inf, # maximum neuropil radius\n",
    "        'min_neuropil_pixels': 350, # minimum number of pixels in the neuropil\n",
    "        # deconvolution settings\n",
    "        'baseline': 'maximin', # baselining mode\n",
    "        'win_baseline': 60., # window for maximin\n",
    "        'sig_baseline': 10., # smoothing constant for gaussian filter\n",
    "        'prctile_baseline': 8.,# optional (whether to use a percentile baseline)\n",
    "        'neucoeff': .7,  # neuropil coefficient\n",
    "      }\n",
    "\n",
    "# make the local suite2p binaries file if it does not already exist\n",
    "if not os.path.exists(ops['fast_disk']):\n",
    "    os.mkdir(ops['fast_disk'])\n",
    "    \n",
    "# name of the folder to save results in (default = suite2p in data_path)\n",
    "save_folder = os.path.join('/home/pshah/mnt/qnap/Data/2020-03-03/', 'suite2p/spont-4ap-08x')  \n",
    "\n",
    "\n",
    "diameter = 8  # the average diameter (in pixels) of a cell -- check in fiji\n",
    "fs = 15  # sampling rate of imaging (default 30 fps)\n",
    "nplanes = 1  # number of planes (default 1)\n",
    "nchannels = 1 # number of channels aquired (default 1)  \n",
    "\n",
    "db = {\n",
    "     'data_path': data_path,\n",
    "     'tiff_list': tiff_list, \n",
    "     'diameter': diameter, \n",
    "     'fs': fs,\n",
    "     'nplanes': nplanes,\n",
    "     'nchannels': nchannels,\n",
    "     'save_folder': save_folder\n",
    "     }"
   ]
  },
  {
   "cell_type": "code",
   "execution_count": 14,
   "metadata": {
    "scrolled": false
   },
   "outputs": [
    {
     "name": "stdout",
     "output_type": "stream",
     "text": [
      "{'data_path': '/home/pshah/mnt/qnap/Data/2020-03-03/', 'tiff_list': ['/home/pshah/mnt/qnap/Data/2020-03-03/2020-03-03_t-005/2020-03-03_t-005_Cycle00001_Ch3.tif'], 'diameter': 8, 'fs': 15, 'nplanes': 1, 'nchannels': 1, 'save_folder': '/home/pshah/mnt/qnap/Data/2020-03-03/suite2p/spont-4ap-08x'}\n",
      "tif\n",
      "** Found 1 tifs - converting to binary **\n",
      "time 478.14 sec. Wrote tifs to binaries for 1 planes\n",
      ">>>>>>>>>>>>>>>>>>>>> PLANE 0 <<<<<<<<<<<<<<<<<<<<<<\n",
      "----------- REGISTRATION\n",
      "registering 3005 frames\n",
      "Reference frame, 16.74 sec.\n",
      "3005/3005 frames, 816.49 sec.\n",
      "bad frames file path: /bad_frames.npy\n",
      "----------- Total 834.67 sec\n",
      "Registration metrics, 89.68 sec.\n",
      "----------- ROI DETECTION AND EXTRACTION\n",
      "Binning movie in chunks of length 19\n",
      "Binned movie [158,1021,1021], 8.47 sec.\n",
      "NOTE: estimated spatial scale ~6 pixels, time epochs 1.00, threshold 5.00 \n",
      "0 ROIs, score=59.03\n",
      "1000 ROIs, score=5.81\n",
      "2000 ROIs, score=5.39\n",
      "3000 ROIs, score=5.19\n",
      "4000 ROIs, score=5.05\n",
      "Found 4423 ROIs, 43.03 sec\n",
      "NOTE: applying classifier /home/pshah/anaconda3/lib/python3.7/site-packages/suite2p/extraction/../classifiers/classifier_user.npy\n"
     ]
    },
    {
     "name": "stderr",
     "output_type": "stream",
     "text": [
      "/home/pshah/anaconda3/lib/python3.7/site-packages/sklearn/linear_model/logistic.py:432: FutureWarning: Default solver will be changed to 'lbfgs' in 0.22. Specify a solver to silence this warning.\n",
      "  FutureWarning)\n"
     ]
    },
    {
     "name": "stdout",
     "output_type": "stream",
     "text": [
      "After removing overlaps, 4195 ROIs remain\n",
      "Masks made in 53.94 sec.\n",
      "Extracted fluorescence from 4195 ROIs in 3005 frames, 41.50 sec.\n",
      "----------- Total 164.69 sec.\n",
      "----------- SPIKE DECONVOLUTION\n",
      "----------- Total 155.47 sec.\n",
      "Plane 0 processed in 1250.73 sec (can open in GUI).\n",
      "total = 416.06 sec.\n",
      "TOTAL RUNTIME 419.17 sec\n",
      "Total time this cell was running is 1732.0329678058624\n"
     ]
    }
   ],
   "source": [
    "import time as time\n",
    "# run suite2p\n",
    "t1 = time.time()\n",
    "opsEnd=run_s2p(ops=ops,db=db)\n",
    "t2 = time.time()\n",
    "print('Total time this cell was running is {}'.format(t2-t1))"
   ]
  },
  {
   "cell_type": "code",
   "execution_count": null,
   "metadata": {},
   "outputs": [],
   "source": []
  },
  {
   "cell_type": "code",
   "execution_count": null,
   "metadata": {},
   "outputs": [],
   "source": []
  },
  {
   "cell_type": "code",
   "execution_count": null,
   "metadata": {},
   "outputs": [],
   "source": [
    "import time as time\n",
    "# run suite2p\n",
    "t1 = time.time()\n",
    "opsEnd=run_s2p(ops=ops,db=db)\n",
    "t2 = time.time()\n",
    "print('Total time this cell was running is {}'.format(t2-t1))"
   ]
  },
  {
   "cell_type": "code",
   "execution_count": null,
   "metadata": {},
   "outputs": [],
   "source": []
  },
  {
   "cell_type": "code",
   "execution_count": null,
   "metadata": {},
   "outputs": [],
   "source": []
  },
  {
   "cell_type": "code",
   "execution_count": null,
   "metadata": {},
   "outputs": [],
   "source": []
  },
  {
   "cell_type": "code",
   "execution_count": null,
   "metadata": {},
   "outputs": [],
   "source": []
  },
  {
   "cell_type": "markdown",
   "metadata": {},
   "source": [
    "#### Exp: after 4AP - classic_naparm_001 - trial 1/3"
   ]
  },
  {
   "cell_type": "code",
   "execution_count": null,
   "metadata": {},
   "outputs": [],
   "source": [
    "paths = []\n",
    "tiffs_loc = '/home/pshah/mnt/qnap/Data/2020-03-04/2020-03-04_t-012'\n",
    "tiffs_loc2 = '/home/pshah/mnt/qnap/Data/2020-03-04/2020-03-04_t-012/2020-03-04_t-012_Cycle00001_Ch3.tif'\n",
    "naparms_loc = '/home/pshah/mnt/qnap/Data/2020-03-04/2020-03-04_classic_naparm_001'\n",
    "paqs_loc = '/home/pshah/mnt/qnap/Data/2020-03-04/2020-03-04_t-012.paq'\n",
    "\n",
    "paths.append([tiffs_loc, naparms_loc, paqs_loc])\n",
    "paths"
   ]
  },
  {
   "cell_type": "code",
   "execution_count": null,
   "metadata": {},
   "outputs": [],
   "source": [
    "exp_obj = ao.alloptical(paths[0], stim='2pstim')\n",
    "for key, values in vars(exp_obj).items():\n",
    "    print(key)\n",
    "\n",
    "exp_obj._parseNAPARMgpl()\n",
    "exp_obj._parseNAPARMxml()\n",
    "exp_obj._parsePVMetadata()\n",
    "exp_obj.stimProcessing(stim_channel='markpoints2packio')"
   ]
  },
  {
   "cell_type": "code",
   "execution_count": 40,
   "metadata": {},
   "outputs": [
    {
     "name": "stdout",
     "output_type": "stream",
     "text": [
      "/// New frame total: 1619 frames ///\n"
     ]
    }
   ],
   "source": [
    "photostim_frames = []\n",
    "for j in exp_obj.stim_start_frames[0]:\n",
    "    for i in range(exp_obj.duration_frames+1): # usually need to remove 1 more frame than the stim duration, as the stim isn't perfectly aligned with the start of the imaging frame\n",
    "        photostim_frames.append(j+i)\n",
    "\n",
    "np.save('%s/bad_frames.npy' % tiffs_loc, photostim_frames)   # save to npy file and remember to move npy file to tiff folder before running with suite2p\n",
    "\n",
    "print('/// New frame total:', exp_obj.n_frames-len(photostim_frames), 'frames ///')\n"
   ]
  },
  {
   "cell_type": "code",
   "execution_count": 41,
   "metadata": {},
   "outputs": [
    {
     "ename": "FileNotFoundError",
     "evalue": "[Errno 2] No such file or directory: '/home/pshah/mnt/qnap/Data/2020-03-04/2020-03-04_t-009/2020-03-04_t-012_Cycle00001_Ch3.tif'",
     "output_type": "error",
     "traceback": [
      "\u001b[0;31m---------------------------------------------------------------------------\u001b[0m",
      "\u001b[0;31mFileNotFoundError\u001b[0m                         Traceback (most recent call last)",
      "\u001b[0;32m<ipython-input-41-76f587d18c11>\u001b[0m in \u001b[0;36m<module>\u001b[0;34m\u001b[0m\n\u001b[1;32m      3\u001b[0m \u001b[0;34m\u001b[0m\u001b[0m\n\u001b[1;32m      4\u001b[0m \u001b[0;32mimport\u001b[0m \u001b[0mtifffile\u001b[0m \u001b[0;32mas\u001b[0m \u001b[0mtf\u001b[0m\u001b[0;34m\u001b[0m\u001b[0;34m\u001b[0m\u001b[0m\n\u001b[0;32m----> 5\u001b[0;31m \u001b[0mim_stack\u001b[0m \u001b[0;34m=\u001b[0m \u001b[0mtf\u001b[0m\u001b[0;34m.\u001b[0m\u001b[0mimread\u001b[0m\u001b[0;34m(\u001b[0m\u001b[0mtiff_path\u001b[0m\u001b[0;34m,\u001b[0m \u001b[0mkey\u001b[0m\u001b[0;34m=\u001b[0m\u001b[0mrange\u001b[0m\u001b[0;34m(\u001b[0m\u001b[0mexp_obj\u001b[0m\u001b[0;34m.\u001b[0m\u001b[0mn_frames\u001b[0m\u001b[0;34m)\u001b[0m\u001b[0;34m)\u001b[0m\u001b[0;34m\u001b[0m\u001b[0;34m\u001b[0m\u001b[0m\n\u001b[0m\u001b[1;32m      6\u001b[0m \u001b[0;34m\u001b[0m\u001b[0m\n\u001b[1;32m      7\u001b[0m \u001b[0;34m\u001b[0m\u001b[0m\n",
      "\u001b[0;32m~/anaconda3/lib/python3.7/site-packages/tifffile/tifffile.py\u001b[0m in \u001b[0;36mimread\u001b[0;34m(files, **kwargs)\u001b[0m\n\u001b[1;32m    713\u001b[0m \u001b[0;34m\u001b[0m\u001b[0m\n\u001b[1;32m    714\u001b[0m     \u001b[0;32mif\u001b[0m \u001b[0misinstance\u001b[0m\u001b[0;34m(\u001b[0m\u001b[0mfiles\u001b[0m\u001b[0;34m,\u001b[0m \u001b[0mbasestring\u001b[0m\u001b[0;34m)\u001b[0m \u001b[0;32mor\u001b[0m \u001b[0mhasattr\u001b[0m\u001b[0;34m(\u001b[0m\u001b[0mfiles\u001b[0m\u001b[0;34m,\u001b[0m \u001b[0;34m'seek'\u001b[0m\u001b[0;34m)\u001b[0m\u001b[0;34m:\u001b[0m\u001b[0;34m\u001b[0m\u001b[0;34m\u001b[0m\u001b[0m\n\u001b[0;32m--> 715\u001b[0;31m         \u001b[0;32mwith\u001b[0m \u001b[0mTiffFile\u001b[0m\u001b[0;34m(\u001b[0m\u001b[0mfiles\u001b[0m\u001b[0;34m,\u001b[0m \u001b[0;34m**\u001b[0m\u001b[0mkwargs_file\u001b[0m\u001b[0;34m)\u001b[0m \u001b[0;32mas\u001b[0m \u001b[0mtif\u001b[0m\u001b[0;34m:\u001b[0m\u001b[0;34m\u001b[0m\u001b[0;34m\u001b[0m\u001b[0m\n\u001b[0m\u001b[1;32m    716\u001b[0m             \u001b[0;32mreturn\u001b[0m \u001b[0mtif\u001b[0m\u001b[0;34m.\u001b[0m\u001b[0masarray\u001b[0m\u001b[0;34m(\u001b[0m\u001b[0;34m**\u001b[0m\u001b[0mkwargs\u001b[0m\u001b[0;34m)\u001b[0m\u001b[0;34m\u001b[0m\u001b[0;34m\u001b[0m\u001b[0m\n\u001b[1;32m    717\u001b[0m     \u001b[0;32melse\u001b[0m\u001b[0;34m:\u001b[0m\u001b[0;34m\u001b[0m\u001b[0;34m\u001b[0m\u001b[0m\n",
      "\u001b[0;32m~/anaconda3/lib/python3.7/site-packages/tifffile/tifffile.py\u001b[0m in \u001b[0;36m__init__\u001b[0;34m(self, arg, name, offset, size, multifile, _useframes, **kwargs)\u001b[0m\n\u001b[1;32m   2226\u001b[0m                     \u001b[0;32mraise\u001b[0m \u001b[0mTypeError\u001b[0m\u001b[0;34m(\u001b[0m\u001b[0;34m'unexpected keyword argument: %s'\u001b[0m \u001b[0;34m%\u001b[0m \u001b[0mkey\u001b[0m\u001b[0;34m)\u001b[0m\u001b[0;34m\u001b[0m\u001b[0;34m\u001b[0m\u001b[0m\n\u001b[1;32m   2227\u001b[0m \u001b[0;34m\u001b[0m\u001b[0m\n\u001b[0;32m-> 2228\u001b[0;31m         \u001b[0mfh\u001b[0m \u001b[0;34m=\u001b[0m \u001b[0mFileHandle\u001b[0m\u001b[0;34m(\u001b[0m\u001b[0marg\u001b[0m\u001b[0;34m,\u001b[0m \u001b[0mmode\u001b[0m\u001b[0;34m=\u001b[0m\u001b[0;34m'rb'\u001b[0m\u001b[0;34m,\u001b[0m \u001b[0mname\u001b[0m\u001b[0;34m=\u001b[0m\u001b[0mname\u001b[0m\u001b[0;34m,\u001b[0m \u001b[0moffset\u001b[0m\u001b[0;34m=\u001b[0m\u001b[0moffset\u001b[0m\u001b[0;34m,\u001b[0m \u001b[0msize\u001b[0m\u001b[0;34m=\u001b[0m\u001b[0msize\u001b[0m\u001b[0;34m)\u001b[0m\u001b[0;34m\u001b[0m\u001b[0;34m\u001b[0m\u001b[0m\n\u001b[0m\u001b[1;32m   2229\u001b[0m         \u001b[0mself\u001b[0m\u001b[0;34m.\u001b[0m\u001b[0m_fh\u001b[0m \u001b[0;34m=\u001b[0m \u001b[0mfh\u001b[0m\u001b[0;34m\u001b[0m\u001b[0;34m\u001b[0m\u001b[0m\n\u001b[1;32m   2230\u001b[0m         \u001b[0mself\u001b[0m\u001b[0;34m.\u001b[0m\u001b[0m_multifile\u001b[0m \u001b[0;34m=\u001b[0m \u001b[0mbool\u001b[0m\u001b[0;34m(\u001b[0m\u001b[0mmultifile\u001b[0m\u001b[0;34m)\u001b[0m\u001b[0;34m\u001b[0m\u001b[0;34m\u001b[0m\u001b[0m\n",
      "\u001b[0;32m~/anaconda3/lib/python3.7/site-packages/tifffile/tifffile.py\u001b[0m in \u001b[0;36m__init__\u001b[0;34m(self, file, mode, name, offset, size)\u001b[0m\n\u001b[1;32m   6029\u001b[0m         \u001b[0mself\u001b[0m\u001b[0;34m.\u001b[0m\u001b[0mis_file\u001b[0m \u001b[0;34m=\u001b[0m \u001b[0;32mFalse\u001b[0m\u001b[0;34m\u001b[0m\u001b[0;34m\u001b[0m\u001b[0m\n\u001b[1;32m   6030\u001b[0m         \u001b[0mself\u001b[0m\u001b[0;34m.\u001b[0m\u001b[0m_lock\u001b[0m \u001b[0;34m=\u001b[0m \u001b[0mNullContext\u001b[0m\u001b[0;34m(\u001b[0m\u001b[0;34m)\u001b[0m\u001b[0;34m\u001b[0m\u001b[0;34m\u001b[0m\u001b[0m\n\u001b[0;32m-> 6031\u001b[0;31m         \u001b[0mself\u001b[0m\u001b[0;34m.\u001b[0m\u001b[0mopen\u001b[0m\u001b[0;34m(\u001b[0m\u001b[0;34m)\u001b[0m\u001b[0;34m\u001b[0m\u001b[0;34m\u001b[0m\u001b[0m\n\u001b[0m\u001b[1;32m   6032\u001b[0m \u001b[0;34m\u001b[0m\u001b[0m\n\u001b[1;32m   6033\u001b[0m     \u001b[0;32mdef\u001b[0m \u001b[0mopen\u001b[0m\u001b[0;34m(\u001b[0m\u001b[0mself\u001b[0m\u001b[0;34m)\u001b[0m\u001b[0;34m:\u001b[0m\u001b[0;34m\u001b[0m\u001b[0;34m\u001b[0m\u001b[0m\n",
      "\u001b[0;32m~/anaconda3/lib/python3.7/site-packages/tifffile/tifffile.py\u001b[0m in \u001b[0;36mopen\u001b[0;34m(self)\u001b[0m\n\u001b[1;32m   6042\u001b[0m             \u001b[0mself\u001b[0m\u001b[0;34m.\u001b[0m\u001b[0m_file\u001b[0m \u001b[0;34m=\u001b[0m \u001b[0mos\u001b[0m\u001b[0;34m.\u001b[0m\u001b[0mpath\u001b[0m\u001b[0;34m.\u001b[0m\u001b[0mrealpath\u001b[0m\u001b[0;34m(\u001b[0m\u001b[0mself\u001b[0m\u001b[0;34m.\u001b[0m\u001b[0m_file\u001b[0m\u001b[0;34m)\u001b[0m\u001b[0;34m\u001b[0m\u001b[0;34m\u001b[0m\u001b[0m\n\u001b[1;32m   6043\u001b[0m             \u001b[0mself\u001b[0m\u001b[0;34m.\u001b[0m\u001b[0m_dir\u001b[0m\u001b[0;34m,\u001b[0m \u001b[0mself\u001b[0m\u001b[0;34m.\u001b[0m\u001b[0m_name\u001b[0m \u001b[0;34m=\u001b[0m \u001b[0mos\u001b[0m\u001b[0;34m.\u001b[0m\u001b[0mpath\u001b[0m\u001b[0;34m.\u001b[0m\u001b[0msplit\u001b[0m\u001b[0;34m(\u001b[0m\u001b[0mself\u001b[0m\u001b[0;34m.\u001b[0m\u001b[0m_file\u001b[0m\u001b[0;34m)\u001b[0m\u001b[0;34m\u001b[0m\u001b[0;34m\u001b[0m\u001b[0m\n\u001b[0;32m-> 6044\u001b[0;31m             \u001b[0mself\u001b[0m\u001b[0;34m.\u001b[0m\u001b[0m_fh\u001b[0m \u001b[0;34m=\u001b[0m \u001b[0mopen\u001b[0m\u001b[0;34m(\u001b[0m\u001b[0mself\u001b[0m\u001b[0;34m.\u001b[0m\u001b[0m_file\u001b[0m\u001b[0;34m,\u001b[0m \u001b[0mself\u001b[0m\u001b[0;34m.\u001b[0m\u001b[0m_mode\u001b[0m\u001b[0;34m)\u001b[0m\u001b[0;34m\u001b[0m\u001b[0;34m\u001b[0m\u001b[0m\n\u001b[0m\u001b[1;32m   6045\u001b[0m             \u001b[0mself\u001b[0m\u001b[0;34m.\u001b[0m\u001b[0m_close\u001b[0m \u001b[0;34m=\u001b[0m \u001b[0;32mTrue\u001b[0m\u001b[0;34m\u001b[0m\u001b[0;34m\u001b[0m\u001b[0m\n\u001b[1;32m   6046\u001b[0m             \u001b[0;32mif\u001b[0m \u001b[0mself\u001b[0m\u001b[0;34m.\u001b[0m\u001b[0m_offset\u001b[0m \u001b[0;32mis\u001b[0m \u001b[0;32mNone\u001b[0m\u001b[0;34m:\u001b[0m\u001b[0;34m\u001b[0m\u001b[0;34m\u001b[0m\u001b[0m\n",
      "\u001b[0;31mFileNotFoundError\u001b[0m: [Errno 2] No such file or directory: '/home/pshah/mnt/qnap/Data/2020-03-04/2020-03-04_t-009/2020-03-04_t-012_Cycle00001_Ch3.tif'"
     ]
    }
   ],
   "source": [
    "### make a new tiff file (not for suite2p) with the first photostim frame whitened, and save new tiff\n",
    "tiff_path = '/home/pshah/mnt/qnap/Data/2020-03-04/2020-03-04_t-012/2020-03-04_t-012_Cycle00001_Ch3.tif'\n",
    "\n",
    "import tifffile as tf\n",
    "im_stack = tf.imread(tiff_path, key=range(exp_obj.n_frames))\n",
    "\n",
    "\n",
    "frames_to_whiten = []\n",
    "for j in exp_obj.stim_start_frames[0]:\n",
    "        frames_to_whiten.append(j)\n",
    "\n",
    "im_stack_1 = im_stack\n",
    "a = np.full_like(im_stack_1[0], fill_value=0)\n",
    "a[0:100,0:100] = 5000.\n",
    "for frame in frames_to_whiten:\n",
    "    im_stack_1[frame-3] = im_stack_1[frame-3]+a\n",
    "    im_stack_1[frame-2] = im_stack_1[frame-2]+a\n",
    "    im_stack_1[frame-1] = im_stack_1[frame-1]+a    \n",
    "    \n",
    "frames_to_remove = []\n",
    "for j in exp_obj.stim_start_frames[0]:\n",
    "    for i in range(0, exp_obj.duration_frames+1): # usually need to remove 1 more frame than the stim duration, as the stim isn't perfectly aligned with the start of the imaging frame\n",
    "        frames_to_remove.append(j+i)\n",
    "\n",
    "im_stack_1 = np.delete(im_stack, frames_to_remove, axis=0)\n",
    "\n",
    "tf.imwrite(\"/home/pshah/mnt/qnap/Data/2020-03-04/2020-03-04_t-012/2020-03-04_t012_artifactrem2.tif\",\n",
    "           im_stack_1, photometric='minisblack')\n",
    "\n",
    "# # find the frames which are now photostim frames (relative to the new length after frames removed)\n",
    "# new_tiff = \"/home/pshah/mnt/qnap/Data/2020-03-04/2020-03-04_t-012/2020-03-04_t012_artifactrem2.tif\"\n",
    "# new_stack = tf.imread(new_tiff, key=(range(len(im_stack_1))))\n",
    "\n",
    "# new_photostim_frames = []\n",
    "# for i in range(len(new_stack)):\n",
    "#     if new_stack[i][0][0]==1001:\n",
    "#         new_photostim_frames.append(i)"
   ]
  },
  {
   "cell_type": "markdown",
   "metadata": {},
   "source": [
    "#### Exp: smash_11 trials"
   ]
  },
  {
   "cell_type": "code",
   "execution_count": 20,
   "metadata": {},
   "outputs": [
    {
     "data": {
      "text/plain": [
       "[['/home/pshah/mnt/qnap/Data/2020-03-04/2020-03-04_t-009',\n",
       "  '/home/pshah/mnt/qnap/Data/2020-03-04/2020-03-04_smash_011',\n",
       "  '/home/pshah/mnt/qnap/Data/2020-03-04/2020-03-04_t-009.paq']]"
      ]
     },
     "execution_count": 20,
     "metadata": {},
     "output_type": "execute_result"
    }
   ],
   "source": [
    "trial = 't-009'\n",
    "\n",
    "paths = []\n",
    "tiffs_loc = '/home/pshah/mnt/qnap/Data/2020-03-04/2020-03-04_%s' % trial\n",
    "tiffs_loc2 = '/home/pshah/mnt/qnap/Data/2020-03-04/2020-03-04_%s/2020-03-04_%s_Cycle00001_Ch3.tif' % (trial, trial)\n",
    "naparms_loc = '/home/pshah/mnt/qnap/Data/2020-03-04/2020-03-04_smash_011'\n",
    "paqs_loc = '/home/pshah/mnt/qnap/Data/2020-03-04/2020-03-04_%s.paq' % trial\n",
    "\n",
    "paths.append([tiffs_loc, naparms_loc, paqs_loc])\n",
    "paths"
   ]
  },
  {
   "cell_type": "code",
   "execution_count": 21,
   "metadata": {},
   "outputs": [
    {
     "name": "stdout",
     "output_type": "stream",
     "text": [
      "n planes: 1 \n",
      "n frames: 3801 \n",
      "fps: 15.224634920866917 \n",
      "frame size (px): 1024 x 1024 \n",
      "zoom: 0.795378456 \n",
      "pixel size (um): 1.37329894729094 1.37329894729094 \n",
      "scan centre (V): 0.0 0.0\n",
      "tiff_path\n",
      "naparm_path\n",
      "paq_path\n",
      "fps\n",
      "frame_x\n",
      "frame_y\n",
      "n_planes\n",
      "pix_sz_x\n",
      "pix_sz_y\n",
      "scan_x\n",
      "scan_y\n",
      "zoom\n",
      "n_frames\n",
      "stim_type\n",
      "['/home/pshah/mnt/qnap/Data/2020-03-04/2020-03-04_smash_011/2020-03-04_smash_011.gpl']\n",
      "/home/pshah/mnt/qnap/Data/2020-03-04/2020-03-04_smash_011/2020-03-04_smash_011.gpl\n",
      "Single stim dur (ms): 10\n",
      "Spiral size (um): 0.047535\n",
      "['/home/pshah/mnt/qnap/Data/2020-03-04/2020-03-04_smash_011/2020-03-04_smash_011.xml']\n",
      "/home/pshah/mnt/qnap/Data/2020-03-04/2020-03-04_smash_011/2020-03-04_smash_011.xml\n",
      "Numbers of trials: 10 \n",
      "Number of groups: 2 \n",
      "Number of shots: 1 \n",
      "Number of sequence reps: 67 \n",
      "Inter-group delay: 5\n",
      "n planes: 1 \n",
      "n frames: 3801 \n",
      "fps: 15.224634920866917 \n",
      "frame size (px): 1024 x 1024 \n",
      "zoom: 0.795378456 \n",
      "pixel size (um): 1.37329894729094 1.37329894729094 \n",
      "scan centre (V): 0.0 0.0\n",
      "['/home/pshah/mnt/qnap/Data/2020-03-04/2020-03-04_smash_011/2020-03-04_smash_011.xml']\n",
      "/home/pshah/mnt/qnap/Data/2020-03-04/2020-03-04_smash_011/2020-03-04_smash_011.xml\n",
      "Numbers of trials: 10 \n",
      "Number of groups: 2 \n",
      "Number of shots: 1 \n",
      "Number of sequence reps: 67 \n",
      "Inter-group delay: 5\n",
      "['/home/pshah/mnt/qnap/Data/2020-03-04/2020-03-04_smash_011/2020-03-04_smash_011.gpl']\n",
      "/home/pshah/mnt/qnap/Data/2020-03-04/2020-03-04_smash_011/2020-03-04_smash_011.gpl\n",
      "Single stim dur (ms): 10\n",
      "Spiral size (um): 0.047535\n",
      "/home/pshah/mnt/qnap/Data/2020-03-04/2020-03-04_t-009.paq\n"
     ]
    },
    {
     "data": {
      "image/png": "[encoded data removed]",
      "text/plain": [
       "<Figure size 720x360 with 1 Axes>"
      ]
     },
     "metadata": {
      "needs_background": "light"
     },
     "output_type": "display_data"
    },
    {
     "data": {
      "image/png": "[encoded data removed]",
      "text/plain": [
       "<Figure size 720x360 with 1 Axes>"
      ]
     },
     "metadata": {
      "needs_background": "light"
     },
     "output_type": "display_data"
    }
   ],
   "source": [
    "exp_obj = ao.alloptical(paths[0], stim='2pstim')\n",
    "for key, values in vars(exp_obj).items():\n",
    "    print(key)\n",
    "\n",
    "exp_obj._parseNAPARMgpl()\n",
    "exp_obj._parseNAPARMxml()\n",
    "exp_obj._parsePVMetadata()\n",
    "exp_obj.stimProcessing(stim_channel='markpoints2packio')"
   ]
  },
  {
   "cell_type": "code",
   "execution_count": 22,
   "metadata": {},
   "outputs": [
    {
     "name": "stdout",
     "output_type": "stream",
     "text": [
      "/// New frame total: 3481 frames ///\n"
     ]
    }
   ],
   "source": [
    "photostim_frames = []\n",
    "for j in exp_obj.stim_start_frames[0]:\n",
    "    for i in range(exp_obj.duration_frames+1): # usually need to remove 1 more frame than the stim duration, as the stim isn't perfectly aligned with the start of the imaging frame\n",
    "        photostim_frames.append(j+i)\n",
    "\n",
    "np.save('%s/bad_frames.npy' % tiffs_loc, photostim_frames)   # save to npy file and remember to move npy file to tiff folder before running with suite2p\n",
    "\n",
    "print('/// New frame total:', exp_obj.n_frames-len(photostim_frames), 'frames ///')\n"
   ]
  },
  {
   "cell_type": "code",
   "execution_count": 23,
   "metadata": {},
   "outputs": [],
   "source": [
    "### make a new tiff file (not for suite2p) with the first photostim frame whitened, and save new tiff\n",
    "import tifffile as tf\n",
    "\n",
    "tiff_path = tiffs_loc2\n",
    "\n",
    "im_stack = tf.imread(tiff_path, key=range(exp_obj.n_frames))\n",
    "\n",
    "\n",
    "frames_to_whiten = []\n",
    "for j in exp_obj.stim_start_frames[0]:\n",
    "        frames_to_whiten.append(j)\n",
    "\n",
    "im_stack_1 = im_stack\n",
    "a = np.full_like(im_stack_1[0], fill_value=0)\n",
    "a[0:100,0:100] = 5000.\n",
    "for frame in frames_to_whiten:\n",
    "    im_stack_1[frame-3] = im_stack_1[frame-3]+a\n",
    "    im_stack_1[frame-2] = im_stack_1[frame-2]+a\n",
    "    im_stack_1[frame-1] = im_stack_1[frame-1]+a    \n",
    "    \n",
    "frames_to_remove = []\n",
    "for j in exp_obj.stim_start_frames[0]:\n",
    "    for i in range(0, exp_obj.duration_frames+1): # usually need to remove 1 more frame than the stim duration, as the stim isn't perfectly aligned with the start of the imaging frame\n",
    "        frames_to_remove.append(j+i)\n",
    "\n",
    "im_stack_1 = np.delete(im_stack, frames_to_remove, axis=0)\n",
    "\n",
    "tf.imwrite(\"/home/pshah/mnt/qnap/Data/2020-03-04/2020-03-04_%s/2020-03-04_%s_artifactrem.tif\" % (trial, trial),\n",
    "           im_stack_1, photometric='minisblack')\n",
    "\n",
    "# find the frames which are now photostim frames (relative to the new length after frames removed)\n",
    "new_tiff = \"/home/pshah/mnt/qnap/Data/2020-03-04/2020-03-04_%s/2020-03-04_%s_artifactrem.tif\" % (trial, trial)\n",
    "new_stack = tf.imread(new_tiff, key=(range(len(im_stack_1))))\n",
    "\n",
    "new_photostim_frames = []\n",
    "for i in range(len(new_stack)):\n",
    "    if new_stack[i][0][0]==1001:\n",
    "        new_photostim_frames.append(i)"
   ]
  },
  {
   "cell_type": "code",
   "execution_count": null,
   "metadata": {},
   "outputs": [],
   "source": []
  },
  {
   "cell_type": "code",
   "execution_count": null,
   "metadata": {},
   "outputs": [],
   "source": []
  },
  {
   "cell_type": "code",
   "execution_count": null,
   "metadata": {},
   "outputs": [],
   "source": []
  }
 ],
 "metadata": {
  "kernelspec": {
   "display_name": "Python 3",
   "language": "python",
   "name": "python3"
  },
  "language_info": {
   "codemirror_mode": {
    "name": "ipython",
    "version": 3
   },
   "file_extension": ".py",
   "mimetype": "text/x-python",
   "name": "python",
   "nbconvert_exporter": "python",
   "pygments_lexer": "ipython3",
   "version": "3.7.4"
  }
 },
 "nbformat": 4,
 "nbformat_minor": 2
}
