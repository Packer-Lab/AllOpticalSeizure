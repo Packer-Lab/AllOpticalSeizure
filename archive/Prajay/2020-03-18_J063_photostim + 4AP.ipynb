{
 "cells": [
  {
   "cell_type": "code",
   "execution_count": 19,
   "metadata": {},
   "outputs": [
    {
     "name": "stdout",
     "output_type": "stream",
     "text": [
      "The autoreload extension is already loaded. To reload it, use:\n",
      "  %reload_ext autoreload\n",
      "['/home/pshah/Documents/code/Vape/jupyter/Prajay', '/Applications/NEURON-7.6/nrn/lib/python', '/home/pshah/Documents/code/Vape/jupyter/Prajay', '/home/pshah/anaconda3/lib/python37.zip', '/home/pshah/anaconda3/lib/python3.7', '/home/pshah/anaconda3/lib/python3.7/lib-dynload', '', '/home/pshah/anaconda3/lib/python3.7/site-packages', '/home/pshah/anaconda3/lib/python3.7/site-packages/IPython/extensions', '/home/pshah/.ipython', '/home/pshah/Documents/code/Vape/utils/', '/home/pshah/Documents/code/Vape/utils/', '/home/pshah/Documents/code/Vape/', '/home/pshah/Documents/code/Vape/utils/', '/home/pshah/Documents/code/Vape/', '/home/pshah/Documents/code/Vape/utils', '/home/pshah/Documents/code/Vape/utils/', '/home/pshah/Documents/code/Vape/', '/home/pshah/Documents/code/Vape/utils']\n"
     ]
    }
   ],
   "source": [
    "# imports general modules, runs ipython magic commands\n",
    "# change path in this notebook to point to repo locally\n",
    "# n.b. sometimes need to run this cell twice to init the plotting paramters\n",
    "import sys; sys.path.append('/home/pshah/Documents/code/Vape/utils/')\n",
    "import alloptical_utils_pj as ao\n",
    "import numpy as np\n",
    "import utils_funcs as uf\n",
    "import matplotlib.pyplot as plt\n",
    "%run ~/Documents/code/Vape/jupyter/setup_notebook.ipynb\n",
    "print(sys.path)\n",
    "import funcs_pj as pjf\n",
    "\n",
    "plt.rcParams['figure.figsize'] = [20.0, 3.0]"
   ]
  },
  {
   "cell_type": "markdown",
   "metadata": {},
   "source": [
    "### suite2p run"
   ]
  },
  {
   "cell_type": "code",
   "execution_count": 20,
   "metadata": {},
   "outputs": [],
   "source": [
    "# tiffs to run s2p on\n",
    "#to_suite2p = ['t-015', 't-016', 't-018']\n",
    "to_suite2p = ['t-019', 't-020', 't-021']\n",
    "#to_suite2p = ['t-002']\n",
    "#to_suite2p = ['t-007', 't-008', 't-011']\n",
    "\n",
    "to_suite2p_tiffs = []\n",
    "for i in to_suite2p:\n",
    "    to_suite2p_tiffs.append('/home/pshah/mnt/qnap/Data/2020-03-18/J063/2020-03-18_J063_%s/2020-03-18_J063_%s_Cycle00001_Ch3.tif' % (i,i))"
   ]
  },
  {
   "cell_type": "code",
   "execution_count": 21,
   "metadata": {},
   "outputs": [],
   "source": [
    "import os\n",
    "\n",
    "# data_path = [os.path.expanduser('/home/pshah/mnt/qnap/Data/2020-03-19/2020-03-19_%s/' % to_suite2p[0],\n",
    "#                                 '/home/pshah/mnt/qnap/Data/2020-03-19/2020-03-19_%s/' % to_suite2p[1],\n",
    "#                                 '/home/pshah/mnt/qnap/Data/2020-03-19/2020-03-19_%s/' % to_suite2p[2])]\n",
    "data_path = []\n",
    "for i in to_suite2p:\n",
    "    data_path.append('/home/pshah/mnt/qnap/Data/2020-03-18/J063/2020-03-18_J063_%s/' % i)\n",
    "\n",
    "\n",
    "tiff_list = to_suite2p_tiffs\n",
    "\n",
    "# setup settings and run suite2p\n",
    "from suite2p.run_s2p import run_s2p\n",
    "\n",
    "cell_diameter = 5.5\n",
    "imaging_fps = 30.\n",
    "save_folder = os.path.join('/home/pshah/mnt/qnap/Data/2020-03-18/J063', 'suite2p/photostim-4ap-stitched')  # name of the folder to save results in (default = suite2p in data_path)\n",
    "\n",
    "ops = {\n",
    "    'batch_size': 2000,  # reduce if running out of RAM\n",
    "    'fast_disk': os.path.expanduser('~/Documents/suite2p_binaries'),\n",
    "    # used to store temporary binary file, defaults to save_path0 (set as a string NOT a list)\n",
    "    # 'save_path0': '/media/jamesrowland/DATA/plab/suite_2p', # stores results, defaults to first item in data_path\n",
    "    'delete_bin': True,  # whether to delete binary file after processing\n",
    "    # main settings\n",
    "    'nplanes': 1,  # each tiff has these many planes in sequence\n",
    "    'nchannels': 1,  # each tiff has these many channels per plane\n",
    "    'functional_chan': 1,  # this channel is used to extract functional ROIs (1-based)\n",
    "    'diameter': cell_diameter,\n",
    "    # this is the main parameter for cell detection, 2-dimensional if Y and X are different (e.g. [6 12])\n",
    "    'tau': 1.26,  # this is the main parameter for deconvolution (1.25-1.5 for gcamp6s)\n",
    "    'fs': imaging_fps,  # sampling rate (total across planes)\n",
    "    # output settings\n",
    "    'save_mat': True,  # whether to save output as matlab files\n",
    "    'combined': True,  # combine multiple planes into a single result /single canvas for GUI\n",
    "    # parallel settings\n",
    "    'num_workers': 50,  # 0 to select num_cores, -1 to disable parallelism, N to enforce value\n",
    "    'num_workers_roi': 0,  # 0 to select number of planes, -1 to disable parallelism, N to enforce value\n",
    "    # registration settings\n",
    "    'do_registration': True,  # whether to register data\n",
    "    'nimg_init': 200,  # subsampled frames for finding reference image\n",
    "    'maxregshift': 0.1,  # max allowed registration shift, as a fraction of frame max(width and height)\n",
    "    'align_by_chan': 1,  # when multi-channel, you can align by non-functional channel (1-based)\n",
    "    'reg_tif': False,  # whether to save registered tiffs\n",
    "    'subpixel': 10,  # precision of subpixel registration (1/subpixel steps)\n",
    "    # 'two_step_registration': True,\n",
    "    # 'keep_movie_raw': True,\n",
    "    # cell detection settings\n",
    "    'connected': True,  # whether or not to keep ROIs fully connected (set to 0 for dendrites)\n",
    "    'navg_frames_svd': 5000,  # max number of binned frames for the SVD\n",
    "    'nsvd_for_roi': 1000,  # max number of SVD components to keep for ROI detection\n",
    "    'max_iterations': 20,  # maximum number of iterations to do cell detection\n",
    "    'ratio_neuropil': 6.,  # ratio between neuropil basis size and cell radius\n",
    "    'ratio_neuropil_to_cell': 3,  # minimum ratio between neuropil radius and cell radius\n",
    "    'tile_factor': 1.,  # use finer (>1) or coarser (<1) tiles for neuropil estimation during cell detection\n",
    "    'threshold_scaling': 1.,  # adjust the automatically determined threshold by this scalar multiplier\n",
    "    'max_overlap': 0.75,  # cells with more overlap than this get removed during triage, before refinement\n",
    "    'inner_neuropil_radius': 2,  # number of pixels to keep between ROI and neuropil donut\n",
    "    'outer_neuropil_radius': np.inf,  # maximum neuropil radius\n",
    "    'min_neuropil_pixels': 350,  # minimum number of pixels in the neuropil\n",
    "    # deconvolution settings\n",
    "    'baseline': 'maximin',  # baselining mode\n",
    "    'win_baseline': 60.,  # window for maximin\n",
    "    'sig_baseline': 10.,  # smoothing constant for gaussian filter\n",
    "    'prctile_baseline': 8.,  # optional (whether to use a percentile baseline)\n",
    "    'neucoeff': .7,  # neuropil coefficient\n",
    "}\n",
    "\n",
    "# make the local suite2p binaries file if it does not already exist\n",
    "if not os.path.exists(ops['fast_disk']):\n",
    "    os.mkdir(ops['fast_disk'])\n",
    "\n",
    "diameter = cell_diameter  # the average diameter (in pixels) of a cell -- check in fiji\n",
    "fs = int(imaging_fps)  # sampling rate of imaging (default 30 fps)\n",
    "nplanes = 1  # number of planes (default 1)\n",
    "nchannels = 1  # number of channels aquired (default 1)\n",
    "\n",
    "db = {\n",
    "    'data_path': data_path,\n",
    "    'tiff_list': tiff_list,\n",
    "    'diameter': diameter,\n",
    "    'fs': fs,\n",
    "    'nplanes': nplanes,\n",
    "    'nchannels': nchannels,\n",
    "    'save_folder': save_folder\n",
    "}"
   ]
  },
  {
   "cell_type": "code",
   "execution_count": 22,
   "metadata": {},
   "outputs": [
    {
     "name": "stdout",
     "output_type": "stream",
     "text": [
      "{'data_path': ['/home/pshah/mnt/qnap/Data/2020-03-18/J063/2020-03-18_J063_t-019/', '/home/pshah/mnt/qnap/Data/2020-03-18/J063/2020-03-18_J063_t-020/', '/home/pshah/mnt/qnap/Data/2020-03-18/J063/2020-03-18_J063_t-021/'], 'tiff_list': ['/home/pshah/mnt/qnap/Data/2020-03-18/J063/2020-03-18_J063_t-019/2020-03-18_J063_t-019_Cycle00001_Ch3.tif', '/home/pshah/mnt/qnap/Data/2020-03-18/J063/2020-03-18_J063_t-020/2020-03-18_J063_t-020_Cycle00001_Ch3.tif', '/home/pshah/mnt/qnap/Data/2020-03-18/J063/2020-03-18_J063_t-021/2020-03-18_J063_t-021_Cycle00001_Ch3.tif'], 'diameter': 5.5, 'fs': 30, 'nplanes': 1, 'nchannels': 1, 'save_folder': '/home/pshah/mnt/qnap/Data/2020-03-18/J063/suite2p/photostim-4ap-stitched'}\n",
      "tif\n",
      "** Found 3 tifs - converting to binary **\n",
      "8000 frames of binary, time 269.29 sec.\n",
      "16000 frames of binary, time 512.33 sec.\n",
      "time 2760.04 sec. Wrote tifs to binaries for 1 planes\n",
      ">>>>>>>>>>>>>>>>>>>>> PLANE 0 <<<<<<<<<<<<<<<<<<<<<<\n",
      "----------- REGISTRATION\n",
      "registering 91032 frames\n",
      "Reference frame, 5.49 sec.\n",
      "10000/91032 frames, 242.27 sec.\n",
      "20000/91032 frames, 513.33 sec.\n",
      "30000/91032 frames, 792.31 sec.\n",
      "40000/91032 frames, 1044.94 sec.\n",
      "50000/91032 frames, 1291.84 sec.\n",
      "60000/91032 frames, 1589.48 sec.\n",
      "70000/91032 frames, 1913.10 sec.\n",
      "80000/91032 frames, 2145.28 sec.\n",
      "90000/91032 frames, 2383.83 sec.\n",
      "91032/91032 frames, 2407.11 sec.\n",
      "bad frames file path: /home/pshah/mnt/qnap/Data/2020-03-18/J063/2020-03-18_J063_t-019/bad_frames.npy\n",
      "number of badframes: 3012\n",
      "----------- Total 2415.26 sec\n",
      "Registration metrics, 38.55 sec.\n",
      "----------- ROI DETECTION AND EXTRACTION\n",
      "Binning movie in chunks of length 38\n",
      "Binned movie [2299,507,506], 124.25 sec.\n",
      "NOTE: estimated spatial scale ~6 pixels, time epochs 1.92, threshold 9.58 \n",
      "0 ROIs, score=507.93\n",
      "1000 ROIs, score=33.54\n",
      "2000 ROIs, score=17.12\n",
      "3000 ROIs, score=12.20\n",
      "4000 ROIs, score=9.80\n",
      "Found 4164 ROIs, 234.31 sec\n",
      "NOTE: applying classifier /home/pshah/anaconda3/lib/python3.7/site-packages/suite2p/extraction/../classifiers/classifier_user.npy\n"
     ]
    },
    {
     "name": "stderr",
     "output_type": "stream",
     "text": [
      "/home/pshah/anaconda3/lib/python3.7/site-packages/sklearn/linear_model/logistic.py:432: FutureWarning: Default solver will be changed to 'lbfgs' in 0.22. Specify a solver to silence this warning.\n",
      "  FutureWarning)\n"
     ]
    },
    {
     "name": "stdout",
     "output_type": "stream",
     "text": [
      "After removing overlaps, 3086 ROIs remain\n",
      "Masks made in 68.09 sec.\n",
      "Extracted fluorescence from 3086 ROIs in 91032 frames, 366.02 sec.\n",
      "----------- Total 722.83 sec.\n",
      "----------- SPIKE DECONVOLUTION\n",
      "----------- Total 148.15 sec.\n",
      "Plane 0 processed in 3344.52 sec (can open in GUI).\n",
      "total = 929.26 sec.\n",
      "TOTAL RUNTIME 933.04 sec\n",
      "Total time this cell was running is 6108.36708521843\n"
     ]
    }
   ],
   "source": [
    "import time as time\n",
    "# run suite2p\n",
    "t1 = time.time()\n",
    "opsEnd=run_s2p(ops=ops,db=db)\n",
    "t2 = time.time()\n",
    "print('Total time this cell was running is {}'.format(t2-t1))"
   ]
  },
  {
   "cell_type": "code",
   "execution_count": null,
   "metadata": {},
   "outputs": [],
   "source": []
  },
  {
   "cell_type": "code",
   "execution_count": null,
   "metadata": {},
   "outputs": [],
   "source": []
  },
  {
   "cell_type": "code",
   "execution_count": null,
   "metadata": {},
   "outputs": [],
   "source": []
  },
  {
   "cell_type": "code",
   "execution_count": null,
   "metadata": {},
   "outputs": [],
   "source": []
  },
  {
   "cell_type": "code",
   "execution_count": null,
   "metadata": {},
   "outputs": [],
   "source": [
    "to_vape = ['t-012', 't-013', 't-014', 't-016']"
   ]
  },
  {
   "cell_type": "markdown",
   "metadata": {},
   "source": [
    "#### Exp: after 4AP - classic_naparm_001 - trial 1/3"
   ]
  },
  {
   "cell_type": "code",
   "execution_count": null,
   "metadata": {},
   "outputs": [],
   "source": [
    "paths = []\n",
    "tiffs_loc = '/home/pshah/mnt/qnap/Data/2020-03-04/2020-03-04_t-012'\n",
    "tiffs_loc2 = '/home/pshah/mnt/qnap/Data/2020-03-04/2020-03-04_t-012/2020-03-04_t-012_Cycle00001_Ch3.tif'\n",
    "naparms_loc = '/home/pshah/mnt/qnap/Data/2020-03-04/2020-03-04_classic_naparm_001'\n",
    "paqs_loc = '/home/pshah/mnt/qnap/Data/2020-03-04/2020-03-04_t-012.paq'\n",
    "\n",
    "paths.append([tiffs_loc, naparms_loc, paqs_loc])\n",
    "paths"
   ]
  },
  {
   "cell_type": "code",
   "execution_count": null,
   "metadata": {},
   "outputs": [],
   "source": [
    "exp_obj = ao.alloptical(paths[0], stim='2pstim')\n",
    "for key, values in vars(exp_obj).items():\n",
    "    print(key)\n",
    "\n",
    "exp_obj._parseNAPARMgpl()\n",
    "exp_obj._parseNAPARMxml()\n",
    "exp_obj._parsePVMetadata()\n",
    "exp_obj.stimProcessing(stim_channel='markpoints2packio')"
   ]
  },
  {
   "cell_type": "code",
   "execution_count": 40,
   "metadata": {},
   "outputs": [
    {
     "name": "stdout",
     "output_type": "stream",
     "text": [
      "/// New frame total: 1619 frames ///\n"
     ]
    }
   ],
   "source": [
    "photostim_frames = []\n",
    "for j in exp_obj.stim_start_frames[0]:\n",
    "    for i in range(exp_obj.duration_frames+1): # usually need to remove 1 more frame than the stim duration, as the stim isn't perfectly aligned with the start of the imaging frame\n",
    "        photostim_frames.append(j+i)\n",
    "\n",
    "np.save('%s/bad_frames.npy' % tiffs_loc, photostim_frames)   # save to npy file and remember to move npy file to tiff folder before running with suite2p\n",
    "\n",
    "print('/// New frame total:', exp_obj.n_frames-len(photostim_frames), 'frames ///')\n"
   ]
  },
  {
   "cell_type": "code",
   "execution_count": 41,
   "metadata": {},
   "outputs": [
    {
     "ename": "FileNotFoundError",
     "evalue": "[Errno 2] No such file or directory: '/home/pshah/mnt/qnap/Data/2020-03-04/2020-03-04_t-009/2020-03-04_t-012_Cycle00001_Ch3.tif'",
     "output_type": "error",
     "traceback": [
      "\u001b[0;31m---------------------------------------------------------------------------\u001b[0m",
      "\u001b[0;31mFileNotFoundError\u001b[0m                         Traceback (most recent call last)",
      "\u001b[0;32m<ipython-input-41-76f587d18c11>\u001b[0m in \u001b[0;36m<module>\u001b[0;34m\u001b[0m\n\u001b[1;32m      3\u001b[0m \u001b[0;34m\u001b[0m\u001b[0m\n\u001b[1;32m      4\u001b[0m \u001b[0;32mimport\u001b[0m \u001b[0mtifffile\u001b[0m \u001b[0;32mas\u001b[0m \u001b[0mtf\u001b[0m\u001b[0;34m\u001b[0m\u001b[0;34m\u001b[0m\u001b[0m\n\u001b[0;32m----> 5\u001b[0;31m \u001b[0mim_stack\u001b[0m \u001b[0;34m=\u001b[0m \u001b[0mtf\u001b[0m\u001b[0;34m.\u001b[0m\u001b[0mimread\u001b[0m\u001b[0;34m(\u001b[0m\u001b[0mtiff_path\u001b[0m\u001b[0;34m,\u001b[0m \u001b[0mkey\u001b[0m\u001b[0;34m=\u001b[0m\u001b[0mrange\u001b[0m\u001b[0;34m(\u001b[0m\u001b[0mexp_obj\u001b[0m\u001b[0;34m.\u001b[0m\u001b[0mn_frames\u001b[0m\u001b[0;34m)\u001b[0m\u001b[0;34m)\u001b[0m\u001b[0;34m\u001b[0m\u001b[0;34m\u001b[0m\u001b[0m\n\u001b[0m\u001b[1;32m      6\u001b[0m \u001b[0;34m\u001b[0m\u001b[0m\n\u001b[1;32m      7\u001b[0m \u001b[0;34m\u001b[0m\u001b[0m\n",
      "\u001b[0;32m~/anaconda3/lib/python3.7/site-packages/tifffile/tifffile.py\u001b[0m in \u001b[0;36mimread\u001b[0;34m(files, **kwargs)\u001b[0m\n\u001b[1;32m    713\u001b[0m \u001b[0;34m\u001b[0m\u001b[0m\n\u001b[1;32m    714\u001b[0m     \u001b[0;32mif\u001b[0m \u001b[0misinstance\u001b[0m\u001b[0;34m(\u001b[0m\u001b[0mfiles\u001b[0m\u001b[0;34m,\u001b[0m \u001b[0mbasestring\u001b[0m\u001b[0;34m)\u001b[0m \u001b[0;32mor\u001b[0m \u001b[0mhasattr\u001b[0m\u001b[0;34m(\u001b[0m\u001b[0mfiles\u001b[0m\u001b[0;34m,\u001b[0m \u001b[0;34m'seek'\u001b[0m\u001b[0;34m)\u001b[0m\u001b[0;34m:\u001b[0m\u001b[0;34m\u001b[0m\u001b[0;34m\u001b[0m\u001b[0m\n\u001b[0;32m--> 715\u001b[0;31m         \u001b[0;32mwith\u001b[0m \u001b[0mTiffFile\u001b[0m\u001b[0;34m(\u001b[0m\u001b[0mfiles\u001b[0m\u001b[0;34m,\u001b[0m \u001b[0;34m**\u001b[0m\u001b[0mkwargs_file\u001b[0m\u001b[0;34m)\u001b[0m \u001b[0;32mas\u001b[0m \u001b[0mtif\u001b[0m\u001b[0;34m:\u001b[0m\u001b[0;34m\u001b[0m\u001b[0;34m\u001b[0m\u001b[0m\n\u001b[0m\u001b[1;32m    716\u001b[0m             \u001b[0;32mreturn\u001b[0m \u001b[0mtif\u001b[0m\u001b[0;34m.\u001b[0m\u001b[0masarray\u001b[0m\u001b[0;34m(\u001b[0m\u001b[0;34m**\u001b[0m\u001b[0mkwargs\u001b[0m\u001b[0;34m)\u001b[0m\u001b[0;34m\u001b[0m\u001b[0;34m\u001b[0m\u001b[0m\n\u001b[1;32m    717\u001b[0m     \u001b[0;32melse\u001b[0m\u001b[0;34m:\u001b[0m\u001b[0;34m\u001b[0m\u001b[0;34m\u001b[0m\u001b[0m\n",
      "\u001b[0;32m~/anaconda3/lib/python3.7/site-packages/tifffile/tifffile.py\u001b[0m in \u001b[0;36m__init__\u001b[0;34m(self, arg, name, offset, size, multifile, _useframes, **kwargs)\u001b[0m\n\u001b[1;32m   2226\u001b[0m                     \u001b[0;32mraise\u001b[0m \u001b[0mTypeError\u001b[0m\u001b[0;34m(\u001b[0m\u001b[0;34m'unexpected keyword argument: %s'\u001b[0m \u001b[0;34m%\u001b[0m \u001b[0mkey\u001b[0m\u001b[0;34m)\u001b[0m\u001b[0;34m\u001b[0m\u001b[0;34m\u001b[0m\u001b[0m\n\u001b[1;32m   2227\u001b[0m \u001b[0;34m\u001b[0m\u001b[0m\n\u001b[0;32m-> 2228\u001b[0;31m         \u001b[0mfh\u001b[0m \u001b[0;34m=\u001b[0m \u001b[0mFileHandle\u001b[0m\u001b[0;34m(\u001b[0m\u001b[0marg\u001b[0m\u001b[0;34m,\u001b[0m \u001b[0mmode\u001b[0m\u001b[0;34m=\u001b[0m\u001b[0;34m'rb'\u001b[0m\u001b[0;34m,\u001b[0m \u001b[0mname\u001b[0m\u001b[0;34m=\u001b[0m\u001b[0mname\u001b[0m\u001b[0;34m,\u001b[0m \u001b[0moffset\u001b[0m\u001b[0;34m=\u001b[0m\u001b[0moffset\u001b[0m\u001b[0;34m,\u001b[0m \u001b[0msize\u001b[0m\u001b[0;34m=\u001b[0m\u001b[0msize\u001b[0m\u001b[0;34m)\u001b[0m\u001b[0;34m\u001b[0m\u001b[0;34m\u001b[0m\u001b[0m\n\u001b[0m\u001b[1;32m   2229\u001b[0m         \u001b[0mself\u001b[0m\u001b[0;34m.\u001b[0m\u001b[0m_fh\u001b[0m \u001b[0;34m=\u001b[0m \u001b[0mfh\u001b[0m\u001b[0;34m\u001b[0m\u001b[0;34m\u001b[0m\u001b[0m\n\u001b[1;32m   2230\u001b[0m         \u001b[0mself\u001b[0m\u001b[0;34m.\u001b[0m\u001b[0m_multifile\u001b[0m \u001b[0;34m=\u001b[0m \u001b[0mbool\u001b[0m\u001b[0;34m(\u001b[0m\u001b[0mmultifile\u001b[0m\u001b[0;34m)\u001b[0m\u001b[0;34m\u001b[0m\u001b[0;34m\u001b[0m\u001b[0m\n",
      "\u001b[0;32m~/anaconda3/lib/python3.7/site-packages/tifffile/tifffile.py\u001b[0m in \u001b[0;36m__init__\u001b[0;34m(self, file, mode, name, offset, size)\u001b[0m\n\u001b[1;32m   6029\u001b[0m         \u001b[0mself\u001b[0m\u001b[0;34m.\u001b[0m\u001b[0mis_file\u001b[0m \u001b[0;34m=\u001b[0m \u001b[0;32mFalse\u001b[0m\u001b[0;34m\u001b[0m\u001b[0;34m\u001b[0m\u001b[0m\n\u001b[1;32m   6030\u001b[0m         \u001b[0mself\u001b[0m\u001b[0;34m.\u001b[0m\u001b[0m_lock\u001b[0m \u001b[0;34m=\u001b[0m \u001b[0mNullContext\u001b[0m\u001b[0;34m(\u001b[0m\u001b[0;34m)\u001b[0m\u001b[0;34m\u001b[0m\u001b[0;34m\u001b[0m\u001b[0m\n\u001b[0;32m-> 6031\u001b[0;31m         \u001b[0mself\u001b[0m\u001b[0;34m.\u001b[0m\u001b[0mopen\u001b[0m\u001b[0;34m(\u001b[0m\u001b[0;34m)\u001b[0m\u001b[0;34m\u001b[0m\u001b[0;34m\u001b[0m\u001b[0m\n\u001b[0m\u001b[1;32m   6032\u001b[0m \u001b[0;34m\u001b[0m\u001b[0m\n\u001b[1;32m   6033\u001b[0m     \u001b[0;32mdef\u001b[0m \u001b[0mopen\u001b[0m\u001b[0;34m(\u001b[0m\u001b[0mself\u001b[0m\u001b[0;34m)\u001b[0m\u001b[0;34m:\u001b[0m\u001b[0;34m\u001b[0m\u001b[0;34m\u001b[0m\u001b[0m\n",
      "\u001b[0;32m~/anaconda3/lib/python3.7/site-packages/tifffile/tifffile.py\u001b[0m in \u001b[0;36mopen\u001b[0;34m(self)\u001b[0m\n\u001b[1;32m   6042\u001b[0m             \u001b[0mself\u001b[0m\u001b[0;34m.\u001b[0m\u001b[0m_file\u001b[0m \u001b[0;34m=\u001b[0m \u001b[0mos\u001b[0m\u001b[0;34m.\u001b[0m\u001b[0mpath\u001b[0m\u001b[0;34m.\u001b[0m\u001b[0mrealpath\u001b[0m\u001b[0;34m(\u001b[0m\u001b[0mself\u001b[0m\u001b[0;34m.\u001b[0m\u001b[0m_file\u001b[0m\u001b[0;34m)\u001b[0m\u001b[0;34m\u001b[0m\u001b[0;34m\u001b[0m\u001b[0m\n\u001b[1;32m   6043\u001b[0m             \u001b[0mself\u001b[0m\u001b[0;34m.\u001b[0m\u001b[0m_dir\u001b[0m\u001b[0;34m,\u001b[0m \u001b[0mself\u001b[0m\u001b[0;34m.\u001b[0m\u001b[0m_name\u001b[0m \u001b[0;34m=\u001b[0m \u001b[0mos\u001b[0m\u001b[0;34m.\u001b[0m\u001b[0mpath\u001b[0m\u001b[0;34m.\u001b[0m\u001b[0msplit\u001b[0m\u001b[0;34m(\u001b[0m\u001b[0mself\u001b[0m\u001b[0;34m.\u001b[0m\u001b[0m_file\u001b[0m\u001b[0;34m)\u001b[0m\u001b[0;34m\u001b[0m\u001b[0;34m\u001b[0m\u001b[0m\n\u001b[0;32m-> 6044\u001b[0;31m             \u001b[0mself\u001b[0m\u001b[0;34m.\u001b[0m\u001b[0m_fh\u001b[0m \u001b[0;34m=\u001b[0m \u001b[0mopen\u001b[0m\u001b[0;34m(\u001b[0m\u001b[0mself\u001b[0m\u001b[0;34m.\u001b[0m\u001b[0m_file\u001b[0m\u001b[0;34m,\u001b[0m \u001b[0mself\u001b[0m\u001b[0;34m.\u001b[0m\u001b[0m_mode\u001b[0m\u001b[0;34m)\u001b[0m\u001b[0;34m\u001b[0m\u001b[0;34m\u001b[0m\u001b[0m\n\u001b[0m\u001b[1;32m   6045\u001b[0m             \u001b[0mself\u001b[0m\u001b[0;34m.\u001b[0m\u001b[0m_close\u001b[0m \u001b[0;34m=\u001b[0m \u001b[0;32mTrue\u001b[0m\u001b[0;34m\u001b[0m\u001b[0;34m\u001b[0m\u001b[0m\n\u001b[1;32m   6046\u001b[0m             \u001b[0;32mif\u001b[0m \u001b[0mself\u001b[0m\u001b[0;34m.\u001b[0m\u001b[0m_offset\u001b[0m \u001b[0;32mis\u001b[0m \u001b[0;32mNone\u001b[0m\u001b[0;34m:\u001b[0m\u001b[0;34m\u001b[0m\u001b[0;34m\u001b[0m\u001b[0m\n",
      "\u001b[0;31mFileNotFoundError\u001b[0m: [Errno 2] No such file or directory: '/home/pshah/mnt/qnap/Data/2020-03-04/2020-03-04_t-009/2020-03-04_t-012_Cycle00001_Ch3.tif'"
     ]
    }
   ],
   "source": [
    "### make a new tiff file (not for suite2p) with the first photostim frame whitened, and save new tiff\n",
    "tiff_path = '/home/pshah/mnt/qnap/Data/2020-03-04/2020-03-04_t-012/2020-03-04_t-012_Cycle00001_Ch3.tif'\n",
    "\n",
    "import tifffile as tf\n",
    "im_stack = tf.imread(tiff_path, key=range(exp_obj.n_frames))\n",
    "\n",
    "\n",
    "frames_to_whiten = []\n",
    "for j in exp_obj.stim_start_frames[0]:\n",
    "        frames_to_whiten.append(j)\n",
    "\n",
    "im_stack_1 = im_stack\n",
    "a = np.full_like(im_stack_1[0], fill_value=0)\n",
    "a[0:100,0:100] = 5000.\n",
    "for frame in frames_to_whiten:\n",
    "    im_stack_1[frame-3] = im_stack_1[frame-3]+a\n",
    "    im_stack_1[frame-2] = im_stack_1[frame-2]+a\n",
    "    im_stack_1[frame-1] = im_stack_1[frame-1]+a    \n",
    "    \n",
    "frames_to_remove = []\n",
    "for j in exp_obj.stim_start_frames[0]:\n",
    "    for i in range(0, exp_obj.duration_frames+1): # usually need to remove 1 more frame than the stim duration, as the stim isn't perfectly aligned with the start of the imaging frame\n",
    "        frames_to_remove.append(j+i)\n",
    "\n",
    "im_stack_1 = np.delete(im_stack, frames_to_remove, axis=0)\n",
    "\n",
    "tf.imwrite(\"/home/pshah/mnt/qnap/Data/2020-03-04/2020-03-04_t-012/2020-03-04_t012_artifactrem2.tif\",\n",
    "           im_stack_1, photometric='minisblack')\n",
    "\n",
    "# # find the frames which are now photostim frames (relative to the new length after frames removed)\n",
    "# new_tiff = \"/home/pshah/mnt/qnap/Data/2020-03-04/2020-03-04_t-012/2020-03-04_t012_artifactrem2.tif\"\n",
    "# new_stack = tf.imread(new_tiff, key=(range(len(im_stack_1))))\n",
    "\n",
    "# new_photostim_frames = []\n",
    "# for i in range(len(new_stack)):\n",
    "#     if new_stack[i][0][0]==1001:\n",
    "#         new_photostim_frames.append(i)"
   ]
  },
  {
   "cell_type": "markdown",
   "metadata": {},
   "source": [
    "### Exp: t-019, t-020, t-021 (photostim. exp - after 4AP)"
   ]
  },
  {
   "cell_type": "code",
   "execution_count": 1,
   "metadata": {},
   "outputs": [
    {
     "ename": "TypeError",
     "evalue": "'module' object is not callable",
     "output_type": "error",
     "traceback": [
      "\u001b[0;31m---------------------------------------------------------------------------\u001b[0m",
      "\u001b[0;31mTypeError\u001b[0m                                 Traceback (most recent call last)",
      "\u001b[0;32m<ipython-input-1-e952f0a4a97f>\u001b[0m in \u001b[0;36m<module>\u001b[0;34m\u001b[0m\n\u001b[1;32m     11\u001b[0m \u001b[0;34m\u001b[0m\u001b[0m\n\u001b[1;32m     12\u001b[0m \u001b[0mtrial\u001b[0m \u001b[0;34m=\u001b[0m \u001b[0;34m't-019'\u001b[0m\u001b[0;34m\u001b[0m\u001b[0;34m\u001b[0m\u001b[0m\n\u001b[0;32m---> 13\u001b[0;31m \u001b[0mrun_photostim_processing\u001b[0m\u001b[0;34m(\u001b[0m\u001b[0mtrial\u001b[0m\u001b[0;34m)\u001b[0m\u001b[0;34m\u001b[0m\u001b[0;34m\u001b[0m\u001b[0m\n\u001b[0m\u001b[1;32m     14\u001b[0m \u001b[0;34m\u001b[0m\u001b[0m\n\u001b[1;32m     15\u001b[0m \u001b[0;31m# for trial in trials:\u001b[0m\u001b[0;34m\u001b[0m\u001b[0;34m\u001b[0m\u001b[0;34m\u001b[0m\u001b[0m\n",
      "\u001b[0;31mTypeError\u001b[0m: 'module' object is not callable"
     ]
    }
   ],
   "source": [
    "import sys; sys.path.append('/home/pshah/Documents/code/Vape/utils/')\n",
    "import run_photostim_processing\n",
    "\n",
    "trials = ['t-019', 't-020', 't-021']\n",
    "\n",
    "tiffs_loc = '/home/pshah/mnt/qnap/Data/2020-03-18/J063/2020-03-18_J063_%s'\n",
    "tiffs_loc2 = '/home/pshah/mnt/qnap/Data/2020-03-18/J063/2020-03-18_J063_%s/2020-03-18_J063_%s_Cycle00001_Ch3.tif'\n",
    "naparms_loc = '/home/pshah/mnt/qnap/Data/2020-03-18/J063/photostim/2020-03-18_photostim_002'\n",
    "paqs_loc = '/home/pshah/mnt/qnap/Data/2020-03-18/2020-03-18_J063_%s.paq'\n",
    "\n",
    "\n",
    "trial = 't-019'\n",
    "run_photostim_processing(trial)\n",
    "\n",
    "# for trial in trials:\n",
    "#     run_photostim_processing(trial, tiffs_loc=tiffs_loc, tiffs_loc2=tiffs_loc2, naparms_loc=naparms_loc, paqs_loc=paqs_loc)\n"
   ]
  },
  {
   "cell_type": "code",
   "execution_count": 4,
   "metadata": {},
   "outputs": [
    {
     "data": {
      "text/plain": [
       "[['/home/pshah/mnt/qnap/Data/2020-03-18/J063/2020-03-18_J063_t-019',\n",
       "  '/home/pshah/mnt/qnap/Data/2020-03-18/J063/photostim/2020-03-18_photostim_002',\n",
       "  '/home/pshah/mnt/qnap/Data/2020-03-18/2020-03-18_J063_t-019.paq']]"
      ]
     },
     "execution_count": 4,
     "metadata": {},
     "output_type": "execute_result"
    }
   ],
   "source": [
    "trial = 't-019'\n",
    "\n",
    "paths = []\n",
    "tiffs_loc = '/home/pshah/mnt/qnap/Data/2020-03-18/J063/2020-03-18_J063_%s' % trial\n",
    "tiffs_loc2 = '/home/pshah/mnt/qnap/Data/2020-03-18/J063/2020-03-18_J063_%s/2020-03-18_J063_%s_Cycle00001_Ch3.tif' % (trial, trial)\n",
    "naparms_loc = '/home/pshah/mnt/qnap/Data/2020-03-18/J063/photostim/2020-03-18_photostim_002'\n",
    "paqs_loc = '/home/pshah/mnt/qnap/Data/2020-03-18/2020-03-18_J063_%s.paq' % trial\n",
    "\n",
    "paths.append([tiffs_loc, naparms_loc, paqs_loc])\n",
    "paths"
   ]
  },
  {
   "cell_type": "code",
   "execution_count": 5,
   "metadata": {
    "scrolled": true
   },
   "outputs": [
    {
     "name": "stdout",
     "output_type": "stream",
     "text": [
      "n planes: 1 \n",
      "n frames: 18381 \n",
      "fps: 30.03797250293959 \n",
      "frame size (px): 512 x 512 \n",
      "zoom: 0.795378456 \n",
      "pixel size (um): 2.74659789458189 2.74659789458189 \n",
      "scan centre (V): 0.0 0.0\n",
      "tiff_path\n",
      "naparm_path\n",
      "paq_path\n",
      "fps\n",
      "frame_x\n",
      "frame_y\n",
      "n_planes\n",
      "pix_sz_x\n",
      "pix_sz_y\n",
      "scan_x\n",
      "scan_y\n",
      "zoom\n",
      "n_frames\n",
      "stim_type\n",
      "['/home/pshah/mnt/qnap/Data/2020-03-18/J063/photostim/2020-03-18_photostim_002/2020-03-18_photostim_002.gpl']\n",
      "/home/pshah/mnt/qnap/Data/2020-03-18/J063/photostim/2020-03-18_photostim_002/2020-03-18_photostim_002.gpl\n",
      "Single stim dur (ms): 10\n",
      "Spiral size (um): 0.07388\n",
      "['/home/pshah/mnt/qnap/Data/2020-03-18/J063/photostim/2020-03-18_photostim_002/2020-03-18_photostim_002.xml']\n",
      "/home/pshah/mnt/qnap/Data/2020-03-18/J063/photostim/2020-03-18_photostim_002/2020-03-18_photostim_002.xml\n",
      "Numbers of trials: 30 \n",
      "Number of groups: 2 \n",
      "Number of shots: 6 \n",
      "Number of sequence reps: 1 \n",
      "Inter-point delay: 40\n",
      "n planes: 1 \n",
      "n frames: 18381 \n",
      "fps: 30.03797250293959 \n",
      "frame size (px): 512 x 512 \n",
      "zoom: 0.795378456 \n",
      "pixel size (um): 2.74659789458189 2.74659789458189 \n",
      "scan centre (V): 0.0 0.0\n",
      "/home/pshah/mnt/qnap/Data/2020-03-18/2020-03-18_J063_t-019.paq\n"
     ]
    },
    {
     "data": {
      "image/png": "[encoded data removed]",
      "text/plain": [
       "<Figure size 720x360 with 1 Axes>"
      ]
     },
     "metadata": {},
     "output_type": "display_data"
    },
    {
     "data": {
      "image/png": "[encoded data removed]",
      "text/plain": [
       "<Figure size 720x360 with 1 Axes>"
      ]
     },
     "metadata": {},
     "output_type": "display_data"
    },
    {
     "name": "stdout",
     "output_type": "stream",
     "text": [
      "Number of targets: 32\n",
      "Number of targets, SLM group #1: 16\n",
      "Number of targets, SLM group #2: 16\n",
      "Got targets...\n",
      "/// Original # of frames: 18381 frames ///\n",
      "/// # of Photostim frames: 660 frames ///\n",
      "/// Minus photostim. frames total: 17721 frames ///\n"
     ]
    }
   ],
   "source": [
    "exp_obj = ao.alloptical(paths[0], stim='2pstim')\n",
    "for key, values in vars(exp_obj).items():\n",
    "    print(key)\n",
    "\n",
    "exp_obj._parseNAPARMgpl()\n",
    "exp_obj._parseNAPARMxml()\n",
    "exp_obj._parsePVMetadata()\n",
    "exp_obj.stimProcessing(stim_channel='markpoints2packio')\n",
    "exp_obj._findTargets()\n",
    "exp_obj.find_photostim_frames()\n"
   ]
  },
  {
   "cell_type": "code",
   "execution_count": 9,
   "metadata": {},
   "outputs": [
    {
     "name": "stdout",
     "output_type": "stream",
     "text": [
      "/// Original # of frames: 18381 frames ///\n",
      "/// # of Photostim frames: 660 frames ///\n",
      "/// Minus photostim. frames total: 17721 frames ///\n",
      "len of seizures_frames + photostim frames 3100\n",
      "len of seizures_frames 2440\n",
      "len of photostim_frames 660\n",
      "Total photostim + seizure/CSD frames:  3100\n"
     ]
    }
   ],
   "source": [
    "exp_obj.find_photostim_frames()\n",
    "exp_obj.append_seizure_frames(bad_frames=list(range(2680,5120)))\n",
    "\n",
    "print('Total photostim + seizure/CSD frames: ', len(exp_obj.bad_frames))\n",
    "np.save('%s/bad_frames.npy' % tiffs_loc, exp_obj.bad_frames)   # save to npy file and remember to move npy file to tiff folder before running with suite2p"
   ]
  },
  {
   "cell_type": "code",
   "execution_count": null,
   "metadata": {},
   "outputs": [],
   "source": [
    "### make tiffs with photostim artifacts removed and such..."
   ]
  },
  {
   "cell_type": "code",
   "execution_count": 12,
   "metadata": {},
   "outputs": [
    {
     "name": "stdout",
     "output_type": "stream",
     "text": [
      "# of total photostim artifact frames: 660\n",
      "/home/pshah/mnt/qnap/Data/2020-03-18/J063/2020-03-18_J063_t-020/2020-03-18_J063_t-020_Cycle00001_Ch3.tif\n",
      "Shape (23718, 512, 512)\n",
      "After delete shape artifactrem (23058, 512, 512)\n"
     ]
    },
    {
     "name": "stderr",
     "output_type": "stream",
     "text": [
      "/home/pshah/anaconda3/lib/python3.7/site-packages/ipykernel_launcher.py:43: FutureWarning: Using a non-tuple sequence for multidimensional indexing is deprecated; use `arr[tuple(seq)]` instead of `arr[seq]`. In the future this will be interpreted as an array index, `arr[np.array(seq)]`, which will result either in an error or a different result.\n"
     ]
    },
    {
     "name": "stdout",
     "output_type": "stream",
     "text": [
      "Shape (23718, 512, 512)\n",
      "After delete shape targetcells (23058, 512, 512)\n",
      "done saving\n"
     ]
    }
   ],
   "source": [
    "\n",
    "# number of photostim frames with artifacts\n",
    "frames_to_remove = []\n",
    "for j in exp_obj.stim_start_frames[0]:\n",
    "    for i in range(0, exp_obj.duration_frames+1): # usually need to remove 1 more frame than the stim duration, as the stim isn't perfectly aligned with the start of the imaging frame\n",
    "        frames_to_remove.append(j+i)\n",
    "\n",
    "print('# of total photostim artifact frames:',len(frames_to_remove))\n",
    "\n",
    "### make a new tiff file (not for suite2p) with the first photostim frame whitened, and save new tiff\n",
    "import tifffile as tf\n",
    "\n",
    "tiff_path = tiffs_loc2\n",
    "print(tiff_path)\n",
    "im_stack = tf.imread(tiff_path, key=range(exp_obj.n_frames))\n",
    "\n",
    "\n",
    "frames_to_whiten = []\n",
    "for j in exp_obj.stim_start_frames[0]:\n",
    "        frames_to_whiten.append(j)\n",
    "\n",
    "im_stack_1 = im_stack\n",
    "a = np.full_like(im_stack_1[0], fill_value=0)\n",
    "a[0:100,0:100] = 5000.\n",
    "for frame in frames_to_whiten:\n",
    "    im_stack_1[frame-3] = im_stack_1[frame-3]+a\n",
    "    im_stack_1[frame-2] = im_stack_1[frame-2]+a\n",
    "    im_stack_1[frame-1] = im_stack_1[frame-1]+a    \n",
    "print('Shape', im_stack_1.shape)\n",
    "\n",
    "im_stack_1 = np.delete(im_stack_1, frames_to_remove, axis=0)\n",
    "print('After delete shape artifactrem',im_stack_1.shape)\n",
    "\n",
    "tf.imwrite(\"/home/pshah/mnt/qnap/Data/2020-03-18/J063/2020-03-18_J063_%s/2020-03-18_J063_%s_artifactrem.tif\" % (trial, trial),\n",
    "           im_stack_1, photometric='minisblack')\n",
    "\n",
    "del(im_stack_1)\n",
    "    \n",
    "# draw areas on top of im_stack_1 where targets are:\n",
    "im_stack_2 = im_stack\n",
    "b = np.full_like(im_stack_2[0], fill_value=0)\n",
    "targets = np.floor_divide(exp_obj.target_areas, 2)\n",
    "for i in np.arange(len(targets)):\n",
    "    b[[*targets[i].T]]=1000\n",
    "for frame in frames_to_whiten:\n",
    "    im_stack_2[frame-6] = im_stack_2[frame-6]+b\n",
    "    im_stack_2[frame-5] = im_stack_2[frame-5]+b\n",
    "    im_stack_2[frame-4] = im_stack_2[frame-4]+b\n",
    "    im_stack_2[frame-3] = im_stack_2[frame-3]+b\n",
    "    im_stack_2[frame-2] = im_stack_2[frame-2]+b\n",
    "    im_stack_2[frame-1] = im_stack_2[frame-1]+b  \n",
    "print('Shape', im_stack_2.shape)\n",
    "        \n",
    "\n",
    "im_stack_2 = np.delete(im_stack_2, frames_to_remove, axis=0)\n",
    "\n",
    "\n",
    "print('After delete shape targetcells',im_stack_2.shape)\n",
    "\n",
    "\n",
    "tf.imwrite(\"/home/pshah/mnt/qnap/Data/2020-03-18/J063/2020-03-18_J063_%s/2020-03-18_J063_%s_targetcells.tif\" % (trial, trial),\n",
    "           im_stack_2, photometric='minisblack')\n",
    "\n",
    "print('done saving')\n",
    "\n",
    "del(im_stack_2)\n",
    "del(im_stack)\n",
    "\n",
    "# # find the frames which are now photostim frames (relative to the new length after frames removed)\n",
    "# new_tiff = \"/home/pshah/mnt/qnap/Data/2020-03-19/2020-03-19_%s/2020-03-19_%s_artifactrem.tif\" % (trial, trial)\n",
    "# new_stack = tf.imread(new_tiff, key=(range(len(im_stack_1))))\n",
    "\n",
    "# new_photostim_frames = []\n",
    "# for i in range(len(new_stack)):\n",
    "#     if new_stack[i][0][0]==1001:\n",
    "#         new_photostim_frames.append(i)"
   ]
  },
  {
   "cell_type": "code",
   "execution_count": 13,
   "metadata": {},
   "outputs": [
    {
     "name": "stdout",
     "output_type": "stream",
     "text": [
      "Pkl saved to /home/pshah/mnt/qnap/Data/2020-03-18/J063/2020-03-18_J063_t-020/2020-03-18_t-020.pkl\n"
     ]
    }
   ],
   "source": [
    "## save exp_obj as pickle\n",
    "import pickle\n",
    "# Pickle the expobject output to save it for analysis\n",
    "pkl_path = '%s/2020-03-18_%s.pkl' % (tiffs_loc, trial)\n",
    "with open(pkl_path, 'wb') as f:\n",
    "        pickle.dump(exp_obj, f)\n",
    "print(\"Pkl saved to %s\" % pkl_path)"
   ]
  },
  {
   "cell_type": "code",
   "execution_count": null,
   "metadata": {},
   "outputs": [],
   "source": []
  },
  {
   "cell_type": "code",
   "execution_count": null,
   "metadata": {},
   "outputs": [],
   "source": []
  }
 ],
 "metadata": {
  "kernelspec": {
   "display_name": "Python 3",
   "language": "python",
   "name": "python3"
  },
  "language_info": {
   "codemirror_mode": {
    "name": "ipython",
    "version": 3
   },
   "file_extension": ".py",
   "mimetype": "text/x-python",
   "name": "python",
   "nbconvert_exporter": "python",
   "pygments_lexer": "ipython3",
   "version": "3.7.4"
  }
 },
 "nbformat": 4,
 "nbformat_minor": 2
}
