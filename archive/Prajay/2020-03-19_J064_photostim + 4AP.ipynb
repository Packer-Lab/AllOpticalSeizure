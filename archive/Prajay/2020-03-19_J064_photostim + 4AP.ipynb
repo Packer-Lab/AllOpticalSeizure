{
 "cells": [
  {
   "cell_type": "code",
   "execution_count": 1,
   "metadata": {},
   "outputs": [
    {
     "name": "stdout",
     "output_type": "stream",
     "text": [
      "['/home/pshah/Documents/code/Vape/jupyter/Prajay', '/Applications/NEURON-7.6/nrn/lib/python', '/home/pshah/Documents/code/Vape/jupyter/Prajay', '/home/pshah/anaconda3/lib/python37.zip', '/home/pshah/anaconda3/lib/python3.7', '/home/pshah/anaconda3/lib/python3.7/lib-dynload', '', '/home/pshah/anaconda3/lib/python3.7/site-packages', '/home/pshah/anaconda3/lib/python3.7/site-packages/IPython/extensions', '/home/pshah/.ipython', '/home/pshah/Documents/code/Vape/utils/', '/home/pshah/Documents/code/Vape/']\n"
     ]
    }
   ],
   "source": [
    "# imports general modules, runs ipython magic commands\n",
    "# change path in this notebook to point to repo locally\n",
    "# n.b. sometimes need to run this cell twice to init the plotting paramters\n",
    "import sys; sys.path.append('/home/pshah/Documents/code/Vape/utils/')\n",
    "import alloptical_utils_pj as ao\n",
    "import numpy as np\n",
    "import utils_funcs as uf\n",
    "import matplotlib.pyplot as plt\n",
    "print(sys.path)\n",
    "import funcs_pj as pjf\n",
    "\n",
    "plt.rcParams['figure.figsize'] = [20.0, 3.0]"
   ]
  },
  {
   "cell_type": "markdown",
   "metadata": {},
   "source": [
    "### run suite2p"
   ]
  },
  {
   "cell_type": "code",
   "execution_count": 7,
   "metadata": {},
   "outputs": [],
   "source": [
    "#%%\n",
    "import os\n",
    "from suite2p.run_s2p import run_s2p\n",
    "import numpy as np\n",
    "\n",
    "# tiffs to run s2p on\n",
    "to_suite2p = ['t-013', 't-015', 't-016']\n",
    "save_folder = os.path.join('/home/pshah/mnt/qnap/Data/2020-03-19/', 'suite2p/spont-4ap-stitched')  # name of the folder to save results in (default = suite2p in data_path)\n",
    "\n",
    "\n",
    "to_suite2p_tiffs = []\n",
    "for i in to_suite2p:\n",
    "    to_suite2p_tiffs.append('/home/pshah/mnt/qnap/Data/2020-03-19/2020-03-19_%s/2020-03-19_%s_Cycle00001_Ch3.tif' % (i,i))\n",
    "\n",
    "data_path = []\n",
    "for i in to_suite2p:\n",
    "    data_path.append('/home/pshah/mnt/qnap/Data/2020-03-19/2020-03-19_%s/' % i)\n",
    "\n",
    "tiff_list = to_suite2p_tiffs\n"
   ]
  },
  {
   "cell_type": "code",
   "execution_count": 8,
   "metadata": {},
   "outputs": [],
   "source": [
    "#%%\n",
    "# setup settings for suite2p\n",
    "cell_diameter = 5.5\n",
    "imaging_fps = 30.\n",
    "\n",
    "ops = {\n",
    "    'batch_size': 2000,  # reduce if running out of RAM\n",
    "    'fast_disk': os.path.expanduser('~/Documents/suite2p_binaries'),\n",
    "    # used to store temporary binary file, defaults to save_path0 (set as a string NOT a list)\n",
    "    # 'save_path0': '/media/jamesrowland/DATA/plab/suite_2p', # stores results, defaults to first item in data_path\n",
    "    'delete_bin': True,  # whether to delete binary file after processing\n",
    "    # main settings\n",
    "    'nplanes': 1,  # each tiff has these many planes in sequence\n",
    "    'nchannels': 1,  # each tiff has these many channels per plane\n",
    "    'functional_chan': 1,  # this channel is used to extract functional ROIs (1-based)\n",
    "    'diameter': cell_diameter,\n",
    "    # this is the main parameter for cell detection, 2-dimensional if Y and X are different (e.g. [6 12])\n",
    "    'tau': 1.26,  # this is the main parameter for deconvolution (1.25-1.5 for gcamp6s)\n",
    "    'fs': imaging_fps,  # sampling rate (total across planes)\n",
    "    # output settings\n",
    "    'save_mat': True,  # whether to save output as matlab files\n",
    "    'combined': True,  # combine multiple planes into a single result /single canvas for GUI\n",
    "    # parallel settings\n",
    "    'num_workers': 50,  # 0 to select num_cores, -1 to disable parallelism, N to enforce value\n",
    "    'num_workers_roi': 0,  # 0 to select number of planes, -1 to disable parallelism, N to enforce value\n",
    "    # registration settings\n",
    "    'do_registration': True,  # whether to register data\n",
    "    'nimg_init': 200,  # subsampled frames for finding reference image\n",
    "    'maxregshift': 0.1,  # max allowed registration shift, as a fraction of frame max(width and height)\n",
    "    'align_by_chan': 1,  # when multi-channel, you can align by non-functional channel (1-based)\n",
    "    'reg_tif': False,  # whether to save registered tiffs\n",
    "    'subpixel': 10,  # precision of subpixel registration (1/subpixel steps)\n",
    "    # 'two_step_registration': True,\n",
    "    # 'keep_movie_raw': True,\n",
    "    # cell detection settings\n",
    "    'connected': True,  # whether or not to keep ROIs fully connected (set to 0 for dendrites)\n",
    "    'navg_frames_svd': 5000,  # max number of binned frames for the SVD\n",
    "    'nsvd_for_roi': 1000,  # max number of SVD components to keep for ROI detection\n",
    "    'max_iterations': 20,  # maximum number of iterations to do cell detection\n",
    "    'ratio_neuropil': 6.,  # ratio between neuropil basis size and cell radius\n",
    "    'ratio_neuropil_to_cell': 3,  # minimum ratio between neuropil radius and cell radius\n",
    "    'tile_factor': 1.,  # use finer (>1) or coarser (<1) tiles for neuropil estimation during cell detection\n",
    "    'threshold_scaling': 1.,  # adjust the automatically determined threshold by this scalar multiplier\n",
    "    'max_overlap': 0.75,  # cells with more overlap than this get removed during triage, before refinement\n",
    "    'inner_neuropil_radius': 2,  # number of pixels to keep between ROI and neuropil donut\n",
    "    'outer_neuropil_radius': np.inf,  # maximum neuropil radius\n",
    "    'min_neuropil_pixels': 350,  # minimum number of pixels in the neuropil\n",
    "    # deconvolution settings\n",
    "    'baseline': 'maximin',  # baselining mode\n",
    "    'win_baseline': 60.,  # window for maximin\n",
    "    'sig_baseline': 10.,  # smoothing constant for gaussian filter\n",
    "    'prctile_baseline': 8.,  # optional (whether to use a percentile baseline)\n",
    "    'neucoeff': .7,  # neuropil coefficient\n",
    "}\n",
    "\n",
    "# make the local suite2p binaries file if it does not already exist\n",
    "if not os.path.exists(ops['fast_disk']):\n",
    "    os.mkdir(ops['fast_disk'])\n",
    "\n",
    "diameter = cell_diameter  # the average diameter (in pixels) of a cell -- check in fiji\n",
    "fs = int(imaging_fps)  # sampling rate of imaging (default 30 fps)\n",
    "nplanes = 1  # number of planes (default 1)\n",
    "nchannels = 1  # number of channels aquired (default 1)\n",
    "\n",
    "db = {\n",
    "    'data_path': data_path,\n",
    "    'tiff_list': tiff_list,\n",
    "    'diameter': diameter,\n",
    "    'fs': fs,\n",
    "    'nplanes': nplanes,\n",
    "    'nchannels': nchannels,\n",
    "    'save_folder': save_folder\n",
    "}"
   ]
  },
  {
   "cell_type": "code",
   "execution_count": 9,
   "metadata": {},
   "outputs": [
    {
     "name": "stdout",
     "output_type": "stream",
     "text": [
      "{'data_path': ['/home/pshah/mnt/qnap/Data/2020-03-19/2020-03-19_t-013/', '/home/pshah/mnt/qnap/Data/2020-03-19/2020-03-19_t-015/', '/home/pshah/mnt/qnap/Data/2020-03-19/2020-03-19_t-016/'], 'tiff_list': ['/home/pshah/mnt/qnap/Data/2020-03-19/2020-03-19_t-013/2020-03-19_t-013_Cycle00001_Ch3.tif', '/home/pshah/mnt/qnap/Data/2020-03-19/2020-03-19_t-015/2020-03-19_t-015_Cycle00001_Ch3.tif', '/home/pshah/mnt/qnap/Data/2020-03-19/2020-03-19_t-016/2020-03-19_t-016_Cycle00001_Ch3.tif'], 'diameter': 5.5, 'fs': 30, 'nplanes': 1, 'nchannels': 1, 'save_folder': '/home/pshah/mnt/qnap/Data/2020-03-19/suite2p/spont-4ap-stitched'}\n",
      "FOUND OPS IN /home/pshah/mnt/qnap/Data/2020-03-19/suite2p/spont-4ap-stitched/plane0\n",
      "NOTE: not registered / registration forced with ops['do_registration']>1\n",
      "no offsets to delete\n",
      "tif\n",
      "** Found 3 tifs - converting to binary **\n",
      "8000 frames of binary, time 246.07 sec.\n",
      "time 772.75 sec. Wrote tifs to binaries for 1 planes\n",
      ">>>>>>>>>>>>>>>>>>>>> PLANE 0 <<<<<<<<<<<<<<<<<<<<<<\n",
      "----------- REGISTRATION\n",
      "registering 26975 frames\n",
      "Reference frame, 4.94 sec.\n",
      "10000/26975 frames, 232.86 sec.\n",
      "20000/26975 frames, 464.78 sec.\n",
      "26975/26975 frames, 626.98 sec.\n",
      "bad frames file path: /home/pshah/mnt/qnap/Data/2020-03-19/2020-03-19_t-013/bad_frames.npy\n",
      "number of badframes: 3560\n",
      "----------- Total 632.77 sec\n",
      "Registration metrics, 29.63 sec.\n",
      "----------- ROI DETECTION AND EXTRACTION\n",
      "Binning movie in chunks of length 38\n",
      "Binned movie [614,509,509], 16.12 sec.\n",
      "NOTE: estimated spatial scale ~24 pixels, time epochs 1.00, threshold 15.00 \n",
      "0 ROIs, score=272.59\n",
      "Found 738 ROIs, 49.87 sec\n",
      "NOTE: applying classifier /home/pshah/anaconda3/lib/python3.7/site-packages/suite2p/extraction/../classifiers/classifier_user.npy\n"
     ]
    },
    {
     "name": "stderr",
     "output_type": "stream",
     "text": [
      "/home/pshah/anaconda3/lib/python3.7/site-packages/sklearn/linear_model/logistic.py:432: FutureWarning: Default solver will be changed to 'lbfgs' in 0.22. Specify a solver to silence this warning.\n",
      "  FutureWarning)\n"
     ]
    },
    {
     "name": "stdout",
     "output_type": "stream",
     "text": [
      "After removing overlaps, 662 ROIs remain\n",
      "Masks made in 15.83 sec.\n",
      "Extracted fluorescence from 662 ROIs in 26975 frames, 89.34 sec.\n",
      "----------- Total 190.10 sec.\n",
      "----------- SPIKE DECONVOLUTION\n",
      "----------- Total 42.07 sec.\n",
      "Plane 0 processed in 897.17 sec (can open in GUI).\n",
      "total = 264.40 sec.\n",
      "TOTAL RUNTIME 265.93 sec\n",
      "Total time this cell was running is 1671.45920920372\n"
     ]
    }
   ],
   "source": [
    "import time as time\n",
    "# run suite2p\n",
    "t1 = time.time()\n",
    "opsEnd=run_s2p(ops=ops, db=db)\n",
    "t2 = time.time()\n",
    "print('Total time this cell was running is {}'.format(t2-t1))"
   ]
  },
  {
   "cell_type": "code",
   "execution_count": null,
   "metadata": {},
   "outputs": [],
   "source": []
  },
  {
   "cell_type": "markdown",
   "metadata": {},
   "source": [
    "## Specifying bad frames with seizures"
   ]
  },
  {
   "cell_type": "code",
   "execution_count": 21,
   "metadata": {},
   "outputs": [
    {
     "name": "stdout",
     "output_type": "stream",
     "text": [
      "/// Original # of frames: 5259 frames ///\n",
      "/// # of Photostim frames: 1392 frames ///\n",
      "/// Minus photostim. frames total: 3867 frames ///\n"
     ]
    }
   ],
   "source": [
    "trial = 't-013'\n",
    "tiffs_loc = '/home/pshah/mnt/qnap/Data/2020-03-19/2020-03-19_%s' % trial\n",
    "\n",
    "bad_frames = []\n",
    "b = np.arange(720,1611)\n",
    "a = np.arange(0,501)\n",
    "bad_frames.extend(a)\n",
    "bad_frames.extend(b)\n",
    "\n",
    "np.save('%s/bad_frames.npy' % tiffs_loc, bad_frames)   # save to npy file and remember to move npy file to tiff folder before running with suite2p\n",
    "\n",
    "print('/// Original # of frames:', exp_obj.n_frames, 'frames ///')\n",
    "print('/// # of Photostim frames:', len(bad_frames), 'frames ///')\n",
    "print('/// Minus photostim. frames total:', exp_obj.n_frames-len(bad_frames), 'frames ///')"
   ]
  },
  {
   "cell_type": "code",
   "execution_count": 20,
   "metadata": {},
   "outputs": [
    {
     "data": {
      "text/plain": [
       "1392"
      ]
     },
     "execution_count": 20,
     "metadata": {},
     "output_type": "execute_result"
    }
   ],
   "source": [
    "bad_frames = []\n",
    "b = np.arange(720,1611)\n",
    "a = np.arange(0,501)\n",
    "bad_frames.extend(a)\n",
    "bad_frames.extend(b)\n",
    "len(bad_frames)"
   ]
  },
  {
   "cell_type": "code",
   "execution_count": null,
   "metadata": {},
   "outputs": [],
   "source": []
  },
  {
   "cell_type": "markdown",
   "metadata": {},
   "source": [
    "# VAPE for Photostim"
   ]
  },
  {
   "cell_type": "markdown",
   "metadata": {},
   "source": [
    "### Exp: before 4AP - find_resp_001"
   ]
  },
  {
   "cell_type": "code",
   "execution_count": 1,
   "metadata": {},
   "outputs": [
    {
     "data": {
      "text/plain": [
       "[['/home/pshah/mnt/qnap/Data/2020-03-19/2020-03-19_t-002',\n",
       "  '/home/pshah/mnt/qnap/Data/2020-03-19/photostim/2020-03-19_find_resp_001',\n",
       "  '/home/pshah/mnt/qnap/Data/2020-03-19/2020-03-19_J064_t-002.paq']]"
      ]
     },
     "execution_count": 1,
     "metadata": {},
     "output_type": "execute_result"
    }
   ],
   "source": [
    "trial = 't-002'\n",
    "\n",
    "paths = []\n",
    "tiffs_loc = '/home/pshah/mnt/qnap/Data/2020-03-19/2020-03-19_%s' % trial\n",
    "tiffs_loc2 = '/home/pshah/mnt/qnap/Data/2020-03-19/2020-03-19_%s/2020-03-19_%s_Cycle00001_Ch3.tif' % (trial, trial)\n",
    "naparms_loc = '/home/pshah/mnt/qnap/Data/2020-03-19/photostim/2020-03-19_find_resp_001'\n",
    "paqs_loc = '/home/pshah/mnt/qnap/Data/2020-03-19/2020-03-19_J064_%s.paq' % trial\n",
    "\n",
    "paths.append([tiffs_loc, naparms_loc, paqs_loc])\n",
    "paths"
   ]
  },
  {
   "cell_type": "code",
   "execution_count": 2,
   "metadata": {
    "scrolled": true
   },
   "outputs": [
    {
     "ename": "NameError",
     "evalue": "name 'ao' is not defined",
     "output_type": "error",
     "traceback": [
      "\u001b[0;31m---------------------------------------------------------------------------\u001b[0m",
      "\u001b[0;31mNameError\u001b[0m                                 Traceback (most recent call last)",
      "\u001b[0;32m<ipython-input-2-be58d63cc555>\u001b[0m in \u001b[0;36m<module>\u001b[0;34m\u001b[0m\n\u001b[0;32m----> 1\u001b[0;31m \u001b[0mexp_obj\u001b[0m \u001b[0;34m=\u001b[0m \u001b[0mao\u001b[0m\u001b[0;34m.\u001b[0m\u001b[0malloptical\u001b[0m\u001b[0;34m(\u001b[0m\u001b[0mpaths\u001b[0m\u001b[0;34m[\u001b[0m\u001b[0;36m0\u001b[0m\u001b[0;34m]\u001b[0m\u001b[0;34m,\u001b[0m \u001b[0mstim\u001b[0m\u001b[0;34m=\u001b[0m\u001b[0;34m'2pstim'\u001b[0m\u001b[0;34m)\u001b[0m\u001b[0;34m\u001b[0m\u001b[0;34m\u001b[0m\u001b[0m\n\u001b[0m\u001b[1;32m      2\u001b[0m \u001b[0;32mfor\u001b[0m \u001b[0mkey\u001b[0m\u001b[0;34m,\u001b[0m \u001b[0mvalues\u001b[0m \u001b[0;32min\u001b[0m \u001b[0mvars\u001b[0m\u001b[0;34m(\u001b[0m\u001b[0mexp_obj\u001b[0m\u001b[0;34m)\u001b[0m\u001b[0;34m.\u001b[0m\u001b[0mitems\u001b[0m\u001b[0;34m(\u001b[0m\u001b[0;34m)\u001b[0m\u001b[0;34m:\u001b[0m\u001b[0;34m\u001b[0m\u001b[0;34m\u001b[0m\u001b[0m\n\u001b[1;32m      3\u001b[0m     \u001b[0mprint\u001b[0m\u001b[0;34m(\u001b[0m\u001b[0mkey\u001b[0m\u001b[0;34m)\u001b[0m\u001b[0;34m\u001b[0m\u001b[0;34m\u001b[0m\u001b[0m\n\u001b[1;32m      4\u001b[0m \u001b[0;34m\u001b[0m\u001b[0m\n\u001b[1;32m      5\u001b[0m \u001b[0mexp_obj\u001b[0m\u001b[0;34m.\u001b[0m\u001b[0m_parseNAPARMgpl\u001b[0m\u001b[0;34m(\u001b[0m\u001b[0;34m)\u001b[0m\u001b[0;34m\u001b[0m\u001b[0;34m\u001b[0m\u001b[0m\n",
      "\u001b[0;31mNameError\u001b[0m: name 'ao' is not defined"
     ]
    }
   ],
   "source": [
    "exp_obj = ao.alloptical(paths[0], stim='2pstim')\n",
    "for key, values in vars(exp_obj).items():\n",
    "    print(key)\n",
    "\n",
    "exp_obj._parseNAPARMgpl()\n",
    "exp_obj._parseNAPARMxml()\n",
    "exp_obj._parsePVMetadata()\n",
    "exp_obj.stimProcessing(stim_channel='markpoints2packio')"
   ]
  },
  {
   "cell_type": "code",
   "execution_count": 4,
   "metadata": {},
   "outputs": [
    {
     "ename": "AttributeError",
     "evalue": "'alloptical' object has no attribute 'stim_start_frames'",
     "output_type": "error",
     "traceback": [
      "\u001b[0;31m---------------------------------------------------------------------------\u001b[0m",
      "\u001b[0;31mAttributeError\u001b[0m                            Traceback (most recent call last)",
      "\u001b[0;32m<ipython-input-4-d2d26af6e94d>\u001b[0m in \u001b[0;36m<module>\u001b[0;34m\u001b[0m\n\u001b[1;32m      1\u001b[0m \u001b[0mphotostim_frames\u001b[0m \u001b[0;34m=\u001b[0m \u001b[0;34m[\u001b[0m\u001b[0;34m]\u001b[0m\u001b[0;34m\u001b[0m\u001b[0;34m\u001b[0m\u001b[0m\n\u001b[0;32m----> 2\u001b[0;31m \u001b[0;32mfor\u001b[0m \u001b[0mj\u001b[0m \u001b[0;32min\u001b[0m \u001b[0mexp_obj\u001b[0m\u001b[0;34m.\u001b[0m\u001b[0mstim_start_frames\u001b[0m\u001b[0;34m[\u001b[0m\u001b[0;36m0\u001b[0m\u001b[0;34m]\u001b[0m\u001b[0;34m:\u001b[0m\u001b[0;34m\u001b[0m\u001b[0;34m\u001b[0m\u001b[0m\n\u001b[0m\u001b[1;32m      3\u001b[0m     \u001b[0;32mfor\u001b[0m \u001b[0mi\u001b[0m \u001b[0;32min\u001b[0m \u001b[0mrange\u001b[0m\u001b[0;34m(\u001b[0m\u001b[0mexp_obj\u001b[0m\u001b[0;34m.\u001b[0m\u001b[0mduration_frames\u001b[0m\u001b[0;34m+\u001b[0m\u001b[0;36m1\u001b[0m\u001b[0;34m)\u001b[0m\u001b[0;34m:\u001b[0m \u001b[0;31m# usually need to remove 1 more frame than the stim duration, as the stim isn't perfectly aligned with the start of the imaging frame\u001b[0m\u001b[0;34m\u001b[0m\u001b[0;34m\u001b[0m\u001b[0m\n\u001b[1;32m      4\u001b[0m         \u001b[0mphotostim_frames\u001b[0m\u001b[0;34m.\u001b[0m\u001b[0mappend\u001b[0m\u001b[0;34m(\u001b[0m\u001b[0mj\u001b[0m\u001b[0;34m+\u001b[0m\u001b[0mi\u001b[0m\u001b[0;34m)\u001b[0m\u001b[0;34m\u001b[0m\u001b[0;34m\u001b[0m\u001b[0m\n\u001b[1;32m      5\u001b[0m \u001b[0;34m\u001b[0m\u001b[0m\n",
      "\u001b[0;31mAttributeError\u001b[0m: 'alloptical' object has no attribute 'stim_start_frames'"
     ]
    }
   ],
   "source": [
    "photostim_frames = []\n",
    "for j in exp_obj.stim_start_frames[0]:\n",
    "    for i in range(exp_obj.duration_frames+1): # usually need to remove 1 more frame than the stim duration, as the stim isn't perfectly aligned with the start of the imaging frame\n",
    "        photostim_frames.append(j+i)\n",
    "\n",
    "np.save('%s/bad_frames.npy' % tiffs_loc, photostim_frames)   # save to npy file and remember to move npy file to tiff folder before running with suite2p\n",
    "\n",
    "print('/// Original # of frames:', exp_obj.n_frames, 'frames ///')\n",
    "print('/// # of Photostim frames:', len(photostim_frames), 'frames ///')\n",
    "print('/// Minus photostim. frames total:', exp_obj.n_frames-len(photostim_frames), 'frames ///')"
   ]
  },
  {
   "cell_type": "code",
   "execution_count": 4,
   "metadata": {},
   "outputs": [
    {
     "name": "stdout",
     "output_type": "stream",
     "text": [
      "Number of targets: 675\n",
      "Got targets...\n"
     ]
    },
    {
     "ename": "AttributeError",
     "evalue": "'alloptical' object has no attribute 'stim_start_frames'",
     "output_type": "error",
     "traceback": [
      "\u001b[0;31m---------------------------------------------------------------------------\u001b[0m",
      "\u001b[0;31mAttributeError\u001b[0m                            Traceback (most recent call last)",
      "\u001b[0;32m<ipython-input-4-a82d3eabef17>\u001b[0m in \u001b[0;36m<module>\u001b[0;34m\u001b[0m\n\u001b[1;32m      4\u001b[0m \u001b[0;31m# numba of photostim frames with artifacts\u001b[0m\u001b[0;34m\u001b[0m\u001b[0;34m\u001b[0m\u001b[0;34m\u001b[0m\u001b[0m\n\u001b[1;32m      5\u001b[0m \u001b[0mframes_to_remove\u001b[0m \u001b[0;34m=\u001b[0m \u001b[0;34m[\u001b[0m\u001b[0;34m]\u001b[0m\u001b[0;34m\u001b[0m\u001b[0;34m\u001b[0m\u001b[0m\n\u001b[0;32m----> 6\u001b[0;31m \u001b[0;32mfor\u001b[0m \u001b[0mj\u001b[0m \u001b[0;32min\u001b[0m \u001b[0mexp_obj\u001b[0m\u001b[0;34m.\u001b[0m\u001b[0mstim_start_frames\u001b[0m\u001b[0;34m[\u001b[0m\u001b[0;36m0\u001b[0m\u001b[0;34m]\u001b[0m\u001b[0;34m:\u001b[0m\u001b[0;34m\u001b[0m\u001b[0;34m\u001b[0m\u001b[0m\n\u001b[0m\u001b[1;32m      7\u001b[0m     \u001b[0;32mfor\u001b[0m \u001b[0mi\u001b[0m \u001b[0;32min\u001b[0m \u001b[0mrange\u001b[0m\u001b[0;34m(\u001b[0m\u001b[0;36m0\u001b[0m\u001b[0;34m,\u001b[0m \u001b[0mexp_obj\u001b[0m\u001b[0;34m.\u001b[0m\u001b[0mduration_frames\u001b[0m\u001b[0;34m+\u001b[0m\u001b[0;36m1\u001b[0m\u001b[0;34m)\u001b[0m\u001b[0;34m:\u001b[0m \u001b[0;31m# usually need to remove 1 more frame than the stim duration, as the stim isn't perfectly aligned with the start of the imaging frame\u001b[0m\u001b[0;34m\u001b[0m\u001b[0;34m\u001b[0m\u001b[0m\n\u001b[1;32m      8\u001b[0m         \u001b[0mframes_to_remove\u001b[0m\u001b[0;34m.\u001b[0m\u001b[0mappend\u001b[0m\u001b[0;34m(\u001b[0m\u001b[0mj\u001b[0m\u001b[0;34m+\u001b[0m\u001b[0mi\u001b[0m\u001b[0;34m)\u001b[0m\u001b[0;34m\u001b[0m\u001b[0;34m\u001b[0m\u001b[0m\n",
      "\u001b[0;31mAttributeError\u001b[0m: 'alloptical' object has no attribute 'stim_start_frames'"
     ]
    }
   ],
   "source": [
    "# find photostim targeted cells\n",
    "exp_obj._findTargets()\n",
    "\n",
    "# numba of photostim frames with artifacts\n",
    "frames_to_remove = []\n",
    "for j in exp_obj.stim_start_frames[0]:\n",
    "    for i in range(0, exp_obj.duration_frames+1): # usually need to remove 1 more frame than the stim duration, as the stim isn't perfectly aligned with the start of the imaging frame\n",
    "        frames_to_remove.append(j+i)\n",
    "\n",
    "print('# of total photostim artifact frames',len(frames_to_remove))\n",
    "\n",
    "### make a new tiff file (not for suite2p) with the first photostim frame whitened, and save new tiff\n",
    "import tifffile as tf\n",
    "\n",
    "tiff_path = tiffs_loc2\n",
    "print(tiff_path)\n",
    "im_stack = tf.imread(tiff_path, key=range(exp_obj.n_frames))\n",
    "\n",
    "\n",
    "frames_to_whiten = []\n",
    "for j in exp_obj.stim_start_frames[0]:\n",
    "        frames_to_whiten.append(j)\n",
    "\n",
    "im_stack_1 = im_stack\n",
    "a = np.full_like(im_stack_1[0], fill_value=0)\n",
    "a[0:100,0:100] = 5000.\n",
    "for frame in frames_to_whiten:\n",
    "    im_stack_1[frame-3] = im_stack_1[frame-3]+a\n",
    "    im_stack_1[frame-2] = im_stack_1[frame-2]+a\n",
    "    im_stack_1[frame-1] = im_stack_1[frame-1]+a    \n",
    "print(im_stack_1.shape)\n",
    "\n",
    "im_stack_1 = np.delete(im_stack_1, frames_to_remove, axis=0)\n",
    "print('After delete shape artifactrem',im_stack_1.shape)\n",
    "\n",
    "tf.imwrite(\"/home/pshah/mnt/qnap/Data/2020-03-19/2020-03-19_%s/2020-03-19_%s_artifactrem.tif\" % (trial, trial),\n",
    "           im_stack_1, photometric='minisblack')\n",
    "\n",
    "del(im_stack_1)\n",
    "    \n",
    "# draw areas on top of im_stack_1 where targets are:\n",
    "im_stack_2 = im_stack\n",
    "b = np.full_like(im_stack_2[0], fill_value=0)\n",
    "targets = np.floor_divide(exp_obj.target_areas, 2)\n",
    "for i in np.arange(len(targets)):\n",
    "    b[[*targets[i].T]]=1000\n",
    "for frame in frames_to_whiten:\n",
    "    im_stack_2[frame-6] = im_stack_2[frame-6]+b\n",
    "    im_stack_2[frame-5] = im_stack_2[frame-5]+b\n",
    "    im_stack_2[frame-4] = im_stack_2[frame-4]+b\n",
    "    im_stack_2[frame-3] = im_stack_2[frame-3]+b\n",
    "    im_stack_2[frame-2] = im_stack_2[frame-2]+b\n",
    "    im_stack_2[frame-1] = im_stack_2[frame-1]+b  \n",
    "print(im_stack_2.shape)\n",
    "        \n",
    "\n",
    "im_stack_2 = np.delete(im_stack_2, frames_to_remove, axis=0)\n",
    "\n",
    "\n",
    "print('After delete shape targetcells',im_stack_2.shape)\n",
    "\n",
    "\n",
    "tf.imwrite(\"/home/pshah/mnt/qnap/Data/2020-03-19/2020-03-19_%s/2020-03-19_%s_targetcells.tif\" % (trial, trial),\n",
    "           im_stack_2, photometric='minisblack')\n",
    "\n",
    "print('done saving')\n",
    "\n",
    "del(im_stack_2)\n",
    "del(im_stack)\n",
    "\n",
    "# # find the frames which are now photostim frames (relative to the new length after frames removed)\n",
    "# new_tiff = \"/home/pshah/mnt/qnap/Data/2020-03-19/2020-03-19_%s/2020-03-19_%s_artifactrem.tif\" % (trial, trial)\n",
    "# new_stack = tf.imread(new_tiff, key=(range(len(im_stack_1))))\n",
    "\n",
    "# new_photostim_frames = []\n",
    "# for i in range(len(new_stack)):\n",
    "#     if new_stack[i][0][0]==1001:\n",
    "#         new_photostim_frames.append(i)"
   ]
  },
  {
   "cell_type": "markdown",
   "metadata": {},
   "source": [
    "### Exp: t-017, t-018, t-019 (photostim after 4AP)"
   ]
  },
  {
   "cell_type": "code",
   "execution_count": 8,
   "metadata": {},
   "outputs": [
    {
     "data": {
      "text/plain": [
       "[['/home/pshah/mnt/qnap/Data/2020-03-19/2020-03-19_t-019',\n",
       "  '/home/pshah/mnt/qnap/Data/2020-03-19/photostim/2020-03-19_photostim_012',\n",
       "  '/home/pshah/mnt/qnap/Data/2020-03-19/2020-03-19_J064_t-019.paq']]"
      ]
     },
     "execution_count": 8,
     "metadata": {},
     "output_type": "execute_result"
    }
   ],
   "source": [
    "trial = 't-019'\n",
    "\n",
    "paths = []\n",
    "tiffs_loc = '/home/pshah/mnt/qnap/Data/2020-03-19/2020-03-19_%s' % trial\n",
    "tiffs_loc2 = '/home/pshah/mnt/qnap/Data/2020-03-19/2020-03-19_%s/2020-03-19_%s_Cycle00001_Ch3.tif' % (trial, trial)\n",
    "naparms_loc = '/home/pshah/mnt/qnap/Data/2020-03-19/photostim/2020-03-19_photostim_012'\n",
    "paqs_loc = '/home/pshah/mnt/qnap/Data/2020-03-19/2020-03-19_J064_%s.paq' % trial\n",
    "\n",
    "paths.append([tiffs_loc, naparms_loc, paqs_loc])\n",
    "paths"
   ]
  },
  {
   "cell_type": "code",
   "execution_count": 9,
   "metadata": {
    "scrolled": false
   },
   "outputs": [
    {
     "name": "stdout",
     "output_type": "stream",
     "text": [
      "n planes: 1 \n",
      "n frames: 18381 \n",
      "fps: 30.041206621887042 \n",
      "frame size (px): 512 x 512 \n",
      "zoom: 0.8 \n",
      "pixel size (um): 2.73073099080674 2.73073099080674 \n",
      "scan centre (V): 0.0 0.0\n",
      "tiff_path\n",
      "naparm_path\n",
      "paq_path\n",
      "fps\n",
      "frame_x\n",
      "frame_y\n",
      "n_planes\n",
      "pix_sz_x\n",
      "pix_sz_y\n",
      "scan_x\n",
      "scan_y\n",
      "zoom\n",
      "n_frames\n",
      "stim_type\n",
      "['/home/pshah/mnt/qnap/Data/2020-03-19/photostim/2020-03-19_photostim_012/2020-03-19_photostim_012.gpl']\n",
      "/home/pshah/mnt/qnap/Data/2020-03-19/photostim/2020-03-19_photostim_012/2020-03-19_photostim_012.gpl\n",
      "Single stim dur (ms): 10\n",
      "Spiral size (um): 0.07388\n",
      "['/home/pshah/mnt/qnap/Data/2020-03-19/photostim/2020-03-19_photostim_012/2020-03-19_photostim_012.xml']\n",
      "/home/pshah/mnt/qnap/Data/2020-03-19/photostim/2020-03-19_photostim_012/2020-03-19_photostim_012.xml\n",
      "Numbers of trials: 30 \n",
      "Number of groups: 2 \n",
      "Number of shots: 6 \n",
      "Number of sequence reps: 1 \n",
      "Inter-point delay: 40\n",
      "n planes: 1 \n",
      "n frames: 18381 \n",
      "fps: 30.041206621887042 \n",
      "frame size (px): 512 x 512 \n",
      "zoom: 0.8 \n",
      "pixel size (um): 2.73073099080674 2.73073099080674 \n",
      "scan centre (V): 0.0 0.0\n",
      "['/home/pshah/mnt/qnap/Data/2020-03-19/photostim/2020-03-19_photostim_012/2020-03-19_photostim_012.xml']\n",
      "/home/pshah/mnt/qnap/Data/2020-03-19/photostim/2020-03-19_photostim_012/2020-03-19_photostim_012.xml\n",
      "Numbers of trials: 30 \n",
      "Number of groups: 2 \n",
      "Number of shots: 6 \n",
      "Number of sequence reps: 1 \n",
      "Inter-point delay: 40\n",
      "['/home/pshah/mnt/qnap/Data/2020-03-19/photostim/2020-03-19_photostim_012/2020-03-19_photostim_012.gpl']\n",
      "/home/pshah/mnt/qnap/Data/2020-03-19/photostim/2020-03-19_photostim_012/2020-03-19_photostim_012.gpl\n",
      "Single stim dur (ms): 10\n",
      "Spiral size (um): 0.07388\n",
      "/home/pshah/mnt/qnap/Data/2020-03-19/2020-03-19_J064_t-019.paq\n"
     ]
    },
    {
     "data": {
      "image/png": "[encoded data removed]",
      "text/plain": [
       "<Figure size 720x360 with 1 Axes>"
      ]
     },
     "metadata": {
      "needs_background": "light"
     },
     "output_type": "display_data"
    },
    {
     "data": {
      "image/png": "[encoded data removed]",
      "text/plain": [
       "<Figure size 720x360 with 1 Axes>"
      ]
     },
     "metadata": {
      "needs_background": "light"
     },
     "output_type": "display_data"
    },
    {
     "name": "stdout",
     "output_type": "stream",
     "text": [
      "Number of targets: 62\n",
      "Number of targets, SLM group #1: 31\n",
      "Number of targets, SLM group #2: 31\n",
      "Got all targets...\n"
     ]
    }
   ],
   "source": [
    "exp_obj = ao.alloptical(paths[0], stim='2pstim')\n",
    "for key, values in vars(exp_obj).items():\n",
    "    print(key)\n",
    "\n",
    "exp_obj._parseNAPARMgpl()\n",
    "exp_obj._parseNAPARMxml()\n",
    "exp_obj._parsePVMetadata()\n",
    "exp_obj.stimProcessing(stim_channel='markpoints2packio')\n",
    "exp_obj._findTargets()"
   ]
  },
  {
   "cell_type": "code",
   "execution_count": 4,
   "metadata": {
    "scrolled": true
   },
   "outputs": [
    {
     "name": "stdout",
     "output_type": "stream",
     "text": [
      "[52, 53, 54, 55, 56, 57, 58, 59, 60, 61, 62, 349, 350, 351, 352, 353, 354, 355, 356, 357, 358, 359, 645, 646, 647, 648, 649, 650, 651, 652, 653, 654, 655, 942, 943, 944, 945, 946, 947, 948, 949, 950, 951, 952, 1238, 1239, 1240, 1241, 1242, 1243, 1244, 1245, 1246, 1247, 1248, 1535, 1536, 1537, 1538, 1539, 1540, 1541, 1542, 1543, 1544, 1545, 1831, 1832, 1833, 1834, 1835, 1836, 1837, 1838, 1839, 1840, 1841, 2128, 2129, 2130, 2131, 2132, 2133, 2134, 2135, 2136, 2137, 2138, 2424, 2425, 2426, 2427, 2428, 2429, 2430, 2431, 2432, 2433, 2434, 2721, 2722, 2723, 2724, 2725, 2726, 2727, 2728, 2729, 2730, 2731, 3017, 3018, 3019, 3020, 3021, 3022, 3023, 3024, 3025, 3026, 3027, 3313, 3314, 3315, 3316, 3317, 3318, 3319, 3320, 3321, 3322, 3323, 3610, 3611, 3612, 3613, 3614, 3615, 3616, 3617, 3618, 3619, 3620, 3906, 3907, 3908, 3909, 3910, 3911, 3912, 3913, 3914, 3915, 3916, 4203, 4204, 4205, 4206, 4207, 4208, 4209, 4210, 4211, 4212, 4213, 4499, 4500, 4501, 4502, 4503, 4504, 4505, 4506, 4507, 4508, 4509, 4796, 4797, 4798, 4799, 4800, 4801, 4802, 4803, 4804, 4805, 4806, 5092, 5093, 5094, 5095, 5096, 5097, 5098, 5099, 5100, 5101, 5102, 5389, 5390, 5391, 5392, 5393, 5394, 5395, 5396, 5397, 5398, 5399, 5685, 5686, 5687, 5688, 5689, 5690, 5691, 5692, 5693, 5694, 5695, 5982, 5983, 5984, 5985, 5986, 5987, 5988, 5989, 5990, 5991, 5992, 6278, 6279, 6280, 6281, 6282, 6283, 6284, 6285, 6286, 6287, 6288, 6575, 6576, 6577, 6578, 6579, 6580, 6581, 6582, 6583, 6584, 6585, 6871, 6872, 6873, 6874, 6875, 6876, 6877, 6878, 6879, 6880, 6881, 7168, 7169, 7170, 7171, 7172, 7173, 7174, 7175, 7176, 7177, 7178, 7464, 7465, 7466, 7467, 7468, 7469, 7470, 7471, 7472, 7473, 7474, 7761, 7762, 7763, 7764, 7765, 7766, 7767, 7768, 7769, 7770, 7771, 8057, 8058, 8059, 8060, 8061, 8062, 8063, 8064, 8065, 8066, 8067, 8353, 8354, 8355, 8356, 8357, 8358, 8359, 8360, 8361, 8362, 8363, 8650, 8651, 8652, 8653, 8654, 8655, 8656, 8657, 8658, 8659, 8660, 8946, 8947, 8948, 8949, 8950, 8951, 8952, 8953, 8954, 8955, 8956, 9243, 9244, 9245, 9246, 9247, 9248, 9249, 9250, 9251, 9252, 9253, 9539, 9540, 9541, 9542, 9543, 9544, 9545, 9546, 9547, 9548, 9549, 9836, 9837, 9838, 9839, 9840, 9841, 9842, 9843, 9844, 9845, 9846, 10132, 10133, 10134, 10135, 10136, 10137, 10138, 10139, 10140, 10141, 10142, 10429, 10430, 10431, 10432, 10433, 10434, 10435, 10436, 10437, 10438, 10439, 10725, 10726, 10727, 10728, 10729, 10730, 10731, 10732, 10733, 10734, 10735, 11022, 11023, 11024, 11025, 11026, 11027, 11028, 11029, 11030, 11031, 11032, 11318, 11319, 11320, 11321, 11322, 11323, 11324, 11325, 11326, 11327, 11328, 11615, 11616, 11617, 11618, 11619, 11620, 11621, 11622, 11623, 11624, 11625, 11911, 11912, 11913, 11914, 11915, 11916, 11917, 11918, 11919, 11920, 11921, 12208, 12209, 12210, 12211, 12212, 12213, 12214, 12215, 12216, 12217, 12218, 12504, 12505, 12506, 12507, 12508, 12509, 12510, 12511, 12512, 12513, 12514, 12800, 12801, 12802, 12803, 12804, 12805, 12806, 12807, 12808, 12809, 12810, 13097, 13098, 13099, 13100, 13101, 13102, 13103, 13104, 13105, 13106, 13107, 13393, 13394, 13395, 13396, 13397, 13398, 13399, 13400, 13401, 13402, 13403, 13690, 13691, 13692, 13693, 13694, 13695, 13696, 13697, 13698, 13699, 13700, 13986, 13987, 13988, 13989, 13990, 13991, 13992, 13993, 13994, 13995, 13996, 14283, 14284, 14285, 14286, 14287, 14288, 14289, 14290, 14291, 14292, 14293, 14579, 14580, 14581, 14582, 14583, 14584, 14585, 14586, 14587, 14588, 14589, 14876, 14877, 14878, 14879, 14880, 14881, 14882, 14883, 14884, 14885, 14886, 15172, 15173, 15174, 15175, 15176, 15177, 15178, 15179, 15180, 15181, 15182, 15469, 15470, 15471, 15472, 15473, 15474, 15475, 15476, 15477, 15478, 15479, 15765, 15766, 15767, 15768, 15769, 15770, 15771, 15772, 15773, 15774, 15775, 16062, 16063, 16064, 16065, 16066, 16067, 16068, 16069, 16070, 16071, 16072, 16358, 16359, 16360, 16361, 16362, 16363, 16364, 16365, 16366, 16367, 16368, 16655, 16656, 16657, 16658, 16659, 16660, 16661, 16662, 16663, 16664, 16665, 16951, 16952, 16953, 16954, 16955, 16956, 16957, 16958, 16959, 16960, 16961, 17248, 17249, 17250, 17251, 17252, 17253, 17254, 17255, 17256, 17257, 17258, 17544, 17545, 17546, 17547, 17548, 17549, 17550, 17551, 17552, 17553, 17554]\n",
      "/// Original # of frames: 18381 frames ///\n",
      "/// # of Photostim frames: 660 frames ///\n",
      "/// Minus photostim. frames total: 17721 frames ///\n"
     ]
    }
   ],
   "source": [
    "photostim_frames = []\n",
    "for j in exp_obj.stim_start_frames[0]:\n",
    "    for i in range(exp_obj.duration_frames+1): # usually need to remove 1 more frame than the stim duration, as the stim isn't perfectly aligned with the start of the imaging frame\n",
    "        photostim_frames.append(j+i)\n",
    "\n",
    "np.save('%s/bad_frames.npy' % tiffs_loc, photostim_frames)   # save to npy file and remember to move npy file to tiff folder before running with suite2p\n",
    "\n",
    "#print(photostim_frames)\n",
    "print('/// Original # of frames:', exp_obj.n_frames, 'frames ///')\n",
    "print('/// # of Photostim frames:', len(photostim_frames), 'frames ///')\n",
    "print('/// Minus photostim. frames total:', exp_obj.n_frames-len(photostim_frames), 'frames ///')\n"
   ]
  },
  {
   "cell_type": "code",
   "execution_count": 8,
   "metadata": {
    "scrolled": true
   },
   "outputs": [
    {
     "name": "stdout",
     "output_type": "stream",
     "text": [
      "Number of targets: 62\n",
      "Got targets...\n",
      "# of total photostim artifact frames: 660\n",
      "/home/pshah/mnt/qnap/Data/2020-03-19/2020-03-19_t-019/2020-03-19_t-019_Cycle00001_Ch3.tif\n",
      "(18381, 512, 512)\n",
      "After delete shape artifactrem (17721, 512, 512)\n"
     ]
    },
    {
     "name": "stderr",
     "output_type": "stream",
     "text": [
      "/home/pshah/anaconda3/lib/python3.7/site-packages/ipykernel_launcher.py:46: FutureWarning: Using a non-tuple sequence for multidimensional indexing is deprecated; use `arr[tuple(seq)]` instead of `arr[seq]`. In the future this will be interpreted as an array index, `arr[np.array(seq)]`, which will result either in an error or a different result.\n"
     ]
    },
    {
     "name": "stdout",
     "output_type": "stream",
     "text": [
      "(18381, 512, 512)\n",
      "After delete shape targetcells (17721, 512, 512)\n",
      "done saving\n"
     ]
    }
   ],
   "source": [
    "# find photostim targeted cells\n",
    "exp_obj._findTargets()\n",
    "\n",
    "# numba of photostim frames with artifacts\n",
    "frames_to_remove = []\n",
    "for j in exp_obj.stim_start_frames[0]:\n",
    "    for i in range(0, exp_obj.duration_frames+1): # usually need to remove 1 more frame than the stim duration, as the stim isn't perfectly aligned with the start of the imaging frame\n",
    "        frames_to_remove.append(j+i)\n",
    "\n",
    "print('# of total photostim artifact frames:',len(frames_to_remove))\n",
    "\n",
    "### make a new tiff file (not for suite2p) with the first photostim frame whitened, and save new tiff\n",
    "import tifffile as tf\n",
    "\n",
    "tiff_path = tiffs_loc2\n",
    "print(tiff_path)\n",
    "im_stack = tf.imread(tiff_path, key=range(exp_obj.n_frames))\n",
    "\n",
    "\n",
    "frames_to_whiten = []\n",
    "for j in exp_obj.stim_start_frames[0]:\n",
    "        frames_to_whiten.append(j)\n",
    "\n",
    "im_stack_1 = im_stack\n",
    "a = np.full_like(im_stack_1[0], fill_value=0)\n",
    "a[0:100,0:100] = 5000.\n",
    "for frame in frames_to_whiten:\n",
    "    im_stack_1[frame-3] = im_stack_1[frame-3]+a\n",
    "    im_stack_1[frame-2] = im_stack_1[frame-2]+a\n",
    "    im_stack_1[frame-1] = im_stack_1[frame-1]+a    \n",
    "print(im_stack_1.shape)\n",
    "\n",
    "im_stack_1 = np.delete(im_stack_1, frames_to_remove, axis=0)\n",
    "print('After delete shape artifactrem',im_stack_1.shape)\n",
    "\n",
    "tf.imwrite(\"/home/pshah/mnt/qnap/Data/2020-03-19/2020-03-19_%s/2020-03-19_%s_artifactrem.tif\" % (trial, trial),\n",
    "           im_stack_1, photometric='minisblack')\n",
    "\n",
    "del(im_stack_1)\n",
    "    \n",
    "# draw areas on top of im_stack_1 where targets are:\n",
    "im_stack_2 = im_stack\n",
    "b = np.full_like(im_stack_2[0], fill_value=0)\n",
    "targets = np.floor_divide(exp_obj.target_areas, 2)\n",
    "for i in np.arange(len(targets)):\n",
    "    b[[*targets[i].T]]=1000\n",
    "for frame in frames_to_whiten:\n",
    "    im_stack_2[frame-6] = im_stack_2[frame-6]+b\n",
    "    im_stack_2[frame-5] = im_stack_2[frame-5]+b\n",
    "    im_stack_2[frame-4] = im_stack_2[frame-4]+b\n",
    "    im_stack_2[frame-3] = im_stack_2[frame-3]+b\n",
    "    im_stack_2[frame-2] = im_stack_2[frame-2]+b\n",
    "    im_stack_2[frame-1] = im_stack_2[frame-1]+b  \n",
    "print(im_stack_2.shape)\n",
    "        \n",
    "\n",
    "im_stack_2 = np.delete(im_stack_2, frames_to_remove, axis=0)\n",
    "\n",
    "\n",
    "print('After delete shape targetcells',im_stack_2.shape)\n",
    "\n",
    "\n",
    "tf.imwrite(\"/home/pshah/mnt/qnap/Data/2020-03-19/2020-03-19_%s/2020-03-19_%s_targetcells.tif\" % (trial, trial),\n",
    "           im_stack_2, photometric='minisblack')\n",
    "\n",
    "print('done saving')\n",
    "\n",
    "del(im_stack_2)\n",
    "del(im_stack)\n",
    "\n",
    "# # find the frames which are now photostim frames (relative to the new length after frames removed)\n",
    "# new_tiff = \"/home/pshah/mnt/qnap/Data/2020-03-19/2020-03-19_%s/2020-03-19_%s_artifactrem.tif\" % (trial, trial)\n",
    "# new_stack = tf.imread(new_tiff, key=(range(len(im_stack_1))))\n",
    "\n",
    "# new_photostim_frames = []\n",
    "# for i in range(len(new_stack)):\n",
    "#     if new_stack[i][0][0]==1001:\n",
    "#         new_photostim_frames.append(i)"
   ]
  },
  {
   "cell_type": "code",
   "execution_count": 10,
   "metadata": {},
   "outputs": [
    {
     "name": "stdout",
     "output_type": "stream",
     "text": [
      "Pkl saved to /home/pshah/mnt/qnap/Data/2020-03-19/2020-03-19_t-019/2020-03-19_t-019.pkl\n"
     ]
    }
   ],
   "source": [
    "## save exp_obj as pickle\n",
    "import pickle\n",
    "# Pickle the expobject output to save it for analysis\n",
    "pkl_path = '%s/2020-03-19_%s.pkl' % (tiffs_loc, trial)\n",
    "with open(pkl_path, 'wb') as f:\n",
    "        pickle.dump(exp_obj, f)\n",
    "print(\"Pkl saved to %s\" % pkl_path)"
   ]
  },
  {
   "cell_type": "code",
   "execution_count": null,
   "metadata": {},
   "outputs": [],
   "source": []
  },
  {
   "cell_type": "code",
   "execution_count": null,
   "metadata": {},
   "outputs": [],
   "source": []
  },
  {
   "cell_type": "code",
   "execution_count": null,
   "metadata": {},
   "outputs": [],
   "source": []
  },
  {
   "cell_type": "markdown",
   "metadata": {},
   "source": [
    "### Exp: t-008, t-009, t-010 (photostim baseline)"
   ]
  },
  {
   "cell_type": "code",
   "execution_count": 2,
   "metadata": {},
   "outputs": [
    {
     "data": {
      "text/plain": [
       "[['/home/pshah/mnt/qnap/Data/2020-03-19/2020-03-19_t-008',\n",
       "  '/home/pshah/mnt/qnap/Data/2020-03-19/photostim/2020-03-18_photostim_002',\n",
       "  '/home/pshah/mnt/qnap/Data/2020-03-19/2020-03-19_J064_t-008.paq']]"
      ]
     },
     "execution_count": 2,
     "metadata": {},
     "output_type": "execute_result"
    }
   ],
   "source": [
    "trial = 't-008'\n",
    "\n",
    "paths = []\n",
    "tiffs_loc = '/home/pshah/mnt/qnap/Data/2020-03-19/2020-03-19_%s' % trial\n",
    "tiffs_loc2 = '/home/pshah/mnt/qnap/Data/2020-03-19/2020-03-19_%s/2020-03-19_%s_Cycle00001_Ch3.tif' % (trial, trial)\n",
    "naparms_loc = '/home/pshah/mnt/qnap/Data/2020-03-19/photostim/2020-03-18_photostim_002'\n",
    "paqs_loc = '/home/pshah/mnt/qnap/Data/2020-03-19/2020-03-19_J064_%s.paq' % trial\n",
    "\n",
    "paths.append([tiffs_loc, naparms_loc, paqs_loc])\n",
    "paths"
   ]
  },
  {
   "cell_type": "code",
   "execution_count": 3,
   "metadata": {
    "scrolled": false
   },
   "outputs": [
    {
     "name": "stdout",
     "output_type": "stream",
     "text": [
      "n planes: 1 \n",
      "n frames: 18381 \n",
      "fps: 30.044873821745202 \n",
      "frame size (px): 512 x 512 \n",
      "zoom: 0.8 \n",
      "pixel size (um): 2.73073099080674 2.73073099080674 \n",
      "scan centre (V): 0.0 0.0\n",
      "tiff_path\n",
      "naparm_path\n",
      "paq_path\n",
      "fps\n",
      "frame_x\n",
      "frame_y\n",
      "n_planes\n",
      "pix_sz_x\n",
      "pix_sz_y\n",
      "scan_x\n",
      "scan_y\n",
      "zoom\n",
      "n_frames\n",
      "stim_type\n",
      "['/home/pshah/mnt/qnap/Data/2020-03-19/photostim/2020-03-18_photostim_002/2020-03-18_photostim_002.gpl']\n",
      "/home/pshah/mnt/qnap/Data/2020-03-19/photostim/2020-03-18_photostim_002/2020-03-18_photostim_002.gpl\n",
      "Single stim dur (ms): 10\n",
      "Spiral size (um): 0.07388\n",
      "['/home/pshah/mnt/qnap/Data/2020-03-19/photostim/2020-03-18_photostim_002/2020-03-18_photostim_002.xml']\n",
      "/home/pshah/mnt/qnap/Data/2020-03-19/photostim/2020-03-18_photostim_002/2020-03-18_photostim_002.xml\n",
      "Numbers of trials: 30 \n",
      "Number of groups: 2 \n",
      "Number of shots: 6 \n",
      "Number of sequence reps: 1 \n",
      "Inter-point delay: 40\n",
      "n planes: 1 \n",
      "n frames: 18381 \n",
      "fps: 30.044873821745202 \n",
      "frame size (px): 512 x 512 \n",
      "zoom: 0.8 \n",
      "pixel size (um): 2.73073099080674 2.73073099080674 \n",
      "scan centre (V): 0.0 0.0\n",
      "['/home/pshah/mnt/qnap/Data/2020-03-19/photostim/2020-03-18_photostim_002/2020-03-18_photostim_002.xml']\n",
      "/home/pshah/mnt/qnap/Data/2020-03-19/photostim/2020-03-18_photostim_002/2020-03-18_photostim_002.xml\n",
      "Numbers of trials: 30 \n",
      "Number of groups: 2 \n",
      "Number of shots: 6 \n",
      "Number of sequence reps: 1 \n",
      "Inter-point delay: 40\n",
      "['/home/pshah/mnt/qnap/Data/2020-03-19/photostim/2020-03-18_photostim_002/2020-03-18_photostim_002.gpl']\n",
      "/home/pshah/mnt/qnap/Data/2020-03-19/photostim/2020-03-18_photostim_002/2020-03-18_photostim_002.gpl\n",
      "Single stim dur (ms): 10\n",
      "Spiral size (um): 0.07388\n",
      "/home/pshah/mnt/qnap/Data/2020-03-19/2020-03-19_J064_t-008.paq\n"
     ]
    },
    {
     "data": {
      "image/png": "[encoded data removed]",
      "text/plain": [
       "<Figure size 720x360 with 1 Axes>"
      ]
     },
     "metadata": {
      "needs_background": "light"
     },
     "output_type": "display_data"
    },
    {
     "data": {
      "image/png": "[encoded data removed]",
      "text/plain": [
       "<Figure size 720x360 with 1 Axes>"
      ]
     },
     "metadata": {
      "needs_background": "light"
     },
     "output_type": "display_data"
    },
    {
     "name": "stdout",
     "output_type": "stream",
     "text": [
      "Number of targets: 62\n",
      "Number of targets, SLM group #1: 31\n",
      "Number of targets, SLM group #2: 31\n",
      "Got targets...\n"
     ]
    }
   ],
   "source": [
    "exp_obj = ao.alloptical(paths[0], stim='2pstim')\n",
    "for key, values in vars(exp_obj).items():\n",
    "    print(key)\n",
    "\n",
    "exp_obj._parseNAPARMgpl()\n",
    "exp_obj._parseNAPARMxml()\n",
    "exp_obj._parsePVMetadata()\n",
    "exp_obj.stimProcessing(stim_channel='markpoints2packio')\n",
    "exp_obj._findTargets()"
   ]
  },
  {
   "cell_type": "code",
   "execution_count": 21,
   "metadata": {
    "scrolled": true
   },
   "outputs": [
    {
     "name": "stdout",
     "output_type": "stream",
     "text": [
      "[132, 133, 134, 135, 136, 137, 138, 139, 140, 141, 142, 429, 430, 431, 432, 433, 434, 435, 436, 437, 438, 439, 725, 726, 727, 728, 729, 730, 731, 732, 733, 734, 735, 1022, 1023, 1024, 1025, 1026, 1027, 1028, 1029, 1030, 1031, 1032, 1318, 1319, 1320, 1321, 1322, 1323, 1324, 1325, 1326, 1327, 1328, 1615, 1616, 1617, 1618, 1619, 1620, 1621, 1622, 1623, 1624, 1625, 1911, 1912, 1913, 1914, 1915, 1916, 1917, 1918, 1919, 1920, 1921, 2207, 2208, 2209, 2210, 2211, 2212, 2213, 2214, 2215, 2216, 2217, 2504, 2505, 2506, 2507, 2508, 2509, 2510, 2511, 2512, 2513, 2514, 2800, 2801, 2802, 2803, 2804, 2805, 2806, 2807, 2808, 2809, 2810, 3097, 3098, 3099, 3100, 3101, 3102, 3103, 3104, 3105, 3106, 3107, 3393, 3394, 3395, 3396, 3397, 3398, 3399, 3400, 3401, 3402, 3403, 3690, 3691, 3692, 3693, 3694, 3695, 3696, 3697, 3698, 3699, 3700, 3986, 3987, 3988, 3989, 3990, 3991, 3992, 3993, 3994, 3995, 3996, 4283, 4284, 4285, 4286, 4287, 4288, 4289, 4290, 4291, 4292, 4293, 4579, 4580, 4581, 4582, 4583, 4584, 4585, 4586, 4587, 4588, 4589, 4876, 4877, 4878, 4879, 4880, 4881, 4882, 4883, 4884, 4885, 4886, 5172, 5173, 5174, 5175, 5176, 5177, 5178, 5179, 5180, 5181, 5182, 5469, 5470, 5471, 5472, 5473, 5474, 5475, 5476, 5477, 5478, 5479, 5765, 5766, 5767, 5768, 5769, 5770, 5771, 5772, 5773, 5774, 5775, 6062, 6063, 6064, 6065, 6066, 6067, 6068, 6069, 6070, 6071, 6072, 6358, 6359, 6360, 6361, 6362, 6363, 6364, 6365, 6366, 6367, 6368, 6654, 6655, 6656, 6657, 6658, 6659, 6660, 6661, 6662, 6663, 6664, 6951, 6952, 6953, 6954, 6955, 6956, 6957, 6958, 6959, 6960, 6961, 7247, 7248, 7249, 7250, 7251, 7252, 7253, 7254, 7255, 7256, 7257, 7544, 7545, 7546, 7547, 7548, 7549, 7550, 7551, 7552, 7553, 7554, 7840, 7841, 7842, 7843, 7844, 7845, 7846, 7847, 7848, 7849, 7850, 8137, 8138, 8139, 8140, 8141, 8142, 8143, 8144, 8145, 8146, 8147, 8433, 8434, 8435, 8436, 8437, 8438, 8439, 8440, 8441, 8442, 8443, 8730, 8731, 8732, 8733, 8734, 8735, 8736, 8737, 8738, 8739, 8740, 9026, 9027, 9028, 9029, 9030, 9031, 9032, 9033, 9034, 9035, 9036, 9323, 9324, 9325, 9326, 9327, 9328, 9329, 9330, 9331, 9332, 9333, 9619, 9620, 9621, 9622, 9623, 9624, 9625, 9626, 9627, 9628, 9629, 9916, 9917, 9918, 9919, 9920, 9921, 9922, 9923, 9924, 9925, 9926, 10212, 10213, 10214, 10215, 10216, 10217, 10218, 10219, 10220, 10221, 10222, 10509, 10510, 10511, 10512, 10513, 10514, 10515, 10516, 10517, 10518, 10519, 10805, 10806, 10807, 10808, 10809, 10810, 10811, 10812, 10813, 10814, 10815, 11102, 11103, 11104, 11105, 11106, 11107, 11108, 11109, 11110, 11111, 11112, 11398, 11399, 11400, 11401, 11402, 11403, 11404, 11405, 11406, 11407, 11408, 11694, 11695, 11696, 11697, 11698, 11699, 11700, 11701, 11702, 11703, 11704, 11991, 11992, 11993, 11994, 11995, 11996, 11997, 11998, 11999, 12000, 12001, 12287, 12288, 12289, 12290, 12291, 12292, 12293, 12294, 12295, 12296, 12297, 12584, 12585, 12586, 12587, 12588, 12589, 12590, 12591, 12592, 12593, 12594, 12880, 12881, 12882, 12883, 12884, 12885, 12886, 12887, 12888, 12889, 12890, 13177, 13178, 13179, 13180, 13181, 13182, 13183, 13184, 13185, 13186, 13187, 13473, 13474, 13475, 13476, 13477, 13478, 13479, 13480, 13481, 13482, 13483, 13770, 13771, 13772, 13773, 13774, 13775, 13776, 13777, 13778, 13779, 13780, 14066, 14067, 14068, 14069, 14070, 14071, 14072, 14073, 14074, 14075, 14076, 14363, 14364, 14365, 14366, 14367, 14368, 14369, 14370, 14371, 14372, 14373, 14659, 14660, 14661, 14662, 14663, 14664, 14665, 14666, 14667, 14668, 14669, 14956, 14957, 14958, 14959, 14960, 14961, 14962, 14963, 14964, 14965, 14966, 15252, 15253, 15254, 15255, 15256, 15257, 15258, 15259, 15260, 15261, 15262, 15549, 15550, 15551, 15552, 15553, 15554, 15555, 15556, 15557, 15558, 15559, 15845, 15846, 15847, 15848, 15849, 15850, 15851, 15852, 15853, 15854, 15855, 16141, 16142, 16143, 16144, 16145, 16146, 16147, 16148, 16149, 16150, 16151, 16438, 16439, 16440, 16441, 16442, 16443, 16444, 16445, 16446, 16447, 16448, 16734, 16735, 16736, 16737, 16738, 16739, 16740, 16741, 16742, 16743, 16744, 17031, 17032, 17033, 17034, 17035, 17036, 17037, 17038, 17039, 17040, 17041, 17327, 17328, 17329, 17330, 17331, 17332, 17333, 17334, 17335, 17336, 17337, 17624, 17625, 17626, 17627, 17628, 17629, 17630, 17631, 17632, 17633, 17634]\n",
      "/// Original # of frames: 18381 frames ///\n",
      "/// # of Photostim frames: 660 frames ///\n",
      "/// Minus photostim. frames total: 17721 frames ///\n"
     ]
    }
   ],
   "source": [
    "photostim_frames = []\n",
    "for j in exp_obj.stim_start_frames[0]:\n",
    "    for i in range(exp_obj.duration_frames+1): # usually need to remove 1 more frame than the stim duration, as the stim isn't perfectly aligned with the start of the imaging frame\n",
    "        photostim_frames.append(j+i)\n",
    "\n",
    "np.save('%s/bad_frames.npy' % tiffs_loc, photostim_frames)   # save to npy file and remember to move npy file to tiff folder before running with suite2p\n",
    "\n",
    "#print(photostim_frames)\n",
    "print('/// Original # of frames:', exp_obj.n_frames, 'frames ///')\n",
    "print('/// # of Photostim frames:', len(photostim_frames), 'frames ///')\n",
    "print('/// Minus photostim. frames total:', exp_obj.n_frames-len(photostim_frames), 'frames ///')\n"
   ]
  },
  {
   "cell_type": "code",
   "execution_count": 22,
   "metadata": {
    "scrolled": true
   },
   "outputs": [
    {
     "name": "stdout",
     "output_type": "stream",
     "text": [
      "Number of targets: 62\n",
      "Got targets...\n",
      "# of total photostim artifact frames: 660\n",
      "/home/pshah/mnt/qnap/Data/2020-03-19/2020-03-19_t-010/2020-03-19_t-010_Cycle00001_Ch3.tif\n",
      "(18381, 512, 512)\n",
      "After delete shape artifactrem (17721, 512, 512)\n"
     ]
    },
    {
     "name": "stderr",
     "output_type": "stream",
     "text": [
      "/home/pshah/anaconda3/lib/python3.7/site-packages/ipykernel_launcher.py:46: FutureWarning: Using a non-tuple sequence for multidimensional indexing is deprecated; use `arr[tuple(seq)]` instead of `arr[seq]`. In the future this will be interpreted as an array index, `arr[np.array(seq)]`, which will result either in an error or a different result.\n"
     ]
    },
    {
     "name": "stdout",
     "output_type": "stream",
     "text": [
      "(18381, 512, 512)\n",
      "After delete shape targetcells (17721, 512, 512)\n",
      "done saving\n"
     ]
    }
   ],
   "source": [
    "# numba of photostim frames with artifacts\n",
    "frames_to_remove = []\n",
    "for j in exp_obj.stim_start_frames[0]:\n",
    "    for i in range(0, exp_obj.duration_frames+1): # usually need to remove 1 more frame than the stim duration, as the stim isn't perfectly aligned with the start of the imaging frame\n",
    "        frames_to_remove.append(j+i)\n",
    "\n",
    "print('# of total photostim artifact frames:',len(frames_to_remove))\n",
    "\n",
    "### make a new tiff file (not for suite2p) with the first photostim frame whitened, and save new tiff\n",
    "import tifffile as tf\n",
    "\n",
    "tiff_path = tiffs_loc2\n",
    "print(tiff_path)\n",
    "im_stack = tf.imread(tiff_path, key=range(exp_obj.n_frames))\n",
    "\n",
    "\n",
    "frames_to_whiten = []\n",
    "for j in exp_obj.stim_start_frames[0]:\n",
    "        frames_to_whiten.append(j)\n",
    "\n",
    "im_stack_1 = im_stack\n",
    "a = np.full_like(im_stack_1[0], fill_value=0)\n",
    "a[0:100,0:100] = 5000.\n",
    "for frame in frames_to_whiten:\n",
    "    im_stack_1[frame-3] = im_stack_1[frame-3]+a\n",
    "    im_stack_1[frame-2] = im_stack_1[frame-2]+a\n",
    "    im_stack_1[frame-1] = im_stack_1[frame-1]+a    \n",
    "print('Shape', im_stack_1.shape)\n",
    "\n",
    "im_stack_1 = np.delete(im_stack_1, frames_to_remove, axis=0)\n",
    "print('After delete shape artifactrem',im_stack_1.shape)\n",
    "\n",
    "tf.imwrite(\"/home/pshah/mnt/qnap/Data/2020-03-19/2020-03-19_%s/2020-03-19_%s_artifactrem.tif\" % (trial, trial),\n",
    "           im_stack_1, photometric='minisblack')\n",
    "\n",
    "del(im_stack_1)\n",
    "    \n",
    "# draw areas on top of im_stack_1 where targets are:\n",
    "im_stack_2 = im_stack\n",
    "b = np.full_like(im_stack_2[0], fill_value=0)\n",
    "targets = np.floor_divide(exp_obj.target_areas, 2)\n",
    "for i in np.arange(len(targets)):\n",
    "    b[[*targets[i].T]]=1000\n",
    "for frame in frames_to_whiten:\n",
    "    im_stack_2[frame-6] = im_stack_2[frame-6]+b\n",
    "    im_stack_2[frame-5] = im_stack_2[frame-5]+b\n",
    "    im_stack_2[frame-4] = im_stack_2[frame-4]+b\n",
    "    im_stack_2[frame-3] = im_stack_2[frame-3]+b\n",
    "    im_stack_2[frame-2] = im_stack_2[frame-2]+b\n",
    "    im_stack_2[frame-1] = im_stack_2[frame-1]+b  \n",
    "print('Shape', im_stack_2.shape)\n",
    "        \n",
    "\n",
    "im_stack_2 = np.delete(im_stack_2, frames_to_remove, axis=0)\n",
    "\n",
    "\n",
    "print('After delete shape targetcells',im_stack_2.shape)\n",
    "\n",
    "\n",
    "tf.imwrite(\"/home/pshah/mnt/qnap/Data/2020-03-19/2020-03-19_%s/2020-03-19_%s_targetcells.tif\" % (trial, trial),\n",
    "           im_stack_2, photometric='minisblack')\n",
    "\n",
    "print('done saving')\n",
    "\n",
    "del(im_stack_2)\n",
    "del(im_stack)\n",
    "\n",
    "# # find the frames which are now photostim frames (relative to the new length after frames removed)\n",
    "# new_tiff = \"/home/pshah/mnt/qnap/Data/2020-03-19/2020-03-19_%s/2020-03-19_%s_artifactrem.tif\" % (trial, trial)\n",
    "# new_stack = tf.imread(new_tiff, key=(range(len(im_stack_1))))\n",
    "\n",
    "# new_photostim_frames = []\n",
    "# for i in range(len(new_stack)):\n",
    "#     if new_stack[i][0][0]==1001:\n",
    "#         new_photostim_frames.append(i)"
   ]
  },
  {
   "cell_type": "code",
   "execution_count": 4,
   "metadata": {},
   "outputs": [],
   "source": [
    "## save exp_obj as pickle\n",
    "import pickle\n",
    "# Pickle the expobject output to save it for analysis\n",
    "pkl_path = '%s/2020-03-19_%s.pkl' % (tiffs_loc, trial)\n",
    "with open(pkl_path, 'wb') as f:\n",
    "        pickle.dump(exp_obj, f)"
   ]
  },
  {
   "cell_type": "code",
   "execution_count": 5,
   "metadata": {},
   "outputs": [
    {
     "data": {
      "text/plain": [
       "[(405, 74),\n",
       " (337, 80),\n",
       " (396, 83),\n",
       " (435, 83),\n",
       " (302, 89),\n",
       " (387, 93),\n",
       " (406, 120),\n",
       " (266, 124),\n",
       " (202, 134),\n",
       " (294, 137),\n",
       " (317, 137),\n",
       " (380, 150),\n",
       " (198, 153),\n",
       " (308, 155),\n",
       " (332, 156),\n",
       " (424, 156),\n",
       " (290, 161),\n",
       " (391, 167),\n",
       " (176, 168),\n",
       " (367, 168),\n",
       " (193, 169),\n",
       " (284, 170),\n",
       " (327, 184),\n",
       " (346, 188),\n",
       " (271, 193),\n",
       " (373, 194),\n",
       " (308, 199),\n",
       " (192, 206),\n",
       " (162, 216),\n",
       " (352, 220),\n",
       " (238, 222),\n",
       " (237, 236),\n",
       " (308, 236),\n",
       " (315, 236),\n",
       " (269, 237),\n",
       " (364, 237),\n",
       " (277, 250),\n",
       " (335, 250),\n",
       " (208, 252),\n",
       " (388, 256),\n",
       " (286, 258),\n",
       " (346, 260),\n",
       " (326, 268),\n",
       " (200, 269),\n",
       " (228, 271),\n",
       " (293, 272),\n",
       " (259, 280),\n",
       " (226, 296),\n",
       " (350, 299),\n",
       " (250, 301),\n",
       " (243, 310),\n",
       " (306, 314),\n",
       " (229, 334),\n",
       " (302, 335),\n",
       " (364, 337),\n",
       " (308, 340),\n",
       " (243, 343),\n",
       " (284, 347),\n",
       " (162, 357),\n",
       " (371, 363),\n",
       " (268, 373),\n",
       " (338, 373)]"
      ]
     },
     "execution_count": 5,
     "metadata": {},
     "output_type": "execute_result"
    }
   ],
   "source": [
    "exp_obj.target_coords"
   ]
  },
  {
   "cell_type": "code",
   "execution_count": null,
   "metadata": {},
   "outputs": [],
   "source": []
  },
  {
   "cell_type": "code",
   "execution_count": null,
   "metadata": {},
   "outputs": [],
   "source": []
  },
  {
   "cell_type": "markdown",
   "metadata": {},
   "source": [
    "# Troubleshooting zone"
   ]
  },
  {
   "cell_type": "code",
   "execution_count": 11,
   "metadata": {
    "scrolled": true
   },
   "outputs": [
    {
     "name": "stdout",
     "output_type": "stream",
     "text": [
      "300.0 10\n",
      "60\n"
     ]
    }
   ],
   "source": [
    "print(exp_obj.stim_dur, exp_obj.duration_frames)\n",
    "print(len(exp_obj.stim_start_frames[0]))\n",
    "#len(frames_to_remove)"
   ]
  },
  {
   "cell_type": "code",
   "execution_count": 12,
   "metadata": {},
   "outputs": [
    {
     "ename": "TypeError",
     "evalue": "unsupported operand type(s) for //: 'list' and 'int'",
     "output_type": "error",
     "traceback": [
      "\u001b[0;31m---------------------------------------------------------------------------\u001b[0m",
      "\u001b[0;31mTypeError\u001b[0m                                 Traceback (most recent call last)",
      "\u001b[0;32m<ipython-input-12-c482d00f58e6>\u001b[0m in \u001b[0;36m<module>\u001b[0;34m\u001b[0m\n\u001b[1;32m      2\u001b[0m \u001b[0mim_stack_2\u001b[0m \u001b[0;34m=\u001b[0m \u001b[0mim_stack\u001b[0m\u001b[0;34m\u001b[0m\u001b[0;34m\u001b[0m\u001b[0m\n\u001b[1;32m      3\u001b[0m \u001b[0mb\u001b[0m \u001b[0;34m=\u001b[0m \u001b[0mnp\u001b[0m\u001b[0;34m.\u001b[0m\u001b[0mfull_like\u001b[0m\u001b[0;34m(\u001b[0m\u001b[0mim_stack_1\u001b[0m\u001b[0;34m[\u001b[0m\u001b[0;36m0\u001b[0m\u001b[0;34m]\u001b[0m\u001b[0;34m,\u001b[0m \u001b[0mfill_value\u001b[0m\u001b[0;34m=\u001b[0m\u001b[0;36m0\u001b[0m\u001b[0;34m)\u001b[0m\u001b[0;34m\u001b[0m\u001b[0;34m\u001b[0m\u001b[0m\n\u001b[0;32m----> 4\u001b[0;31m \u001b[0mtargets\u001b[0m \u001b[0;34m=\u001b[0m \u001b[0mexp_obj\u001b[0m\u001b[0;34m.\u001b[0m\u001b[0mtarget_areas\u001b[0m\u001b[0;34m//\u001b[0m\u001b[0;36m2\u001b[0m\u001b[0;34m\u001b[0m\u001b[0;34m\u001b[0m\u001b[0m\n\u001b[0m\u001b[1;32m      5\u001b[0m \u001b[0;31m# for i in exp_obj.target_areas:\u001b[0m\u001b[0;34m\u001b[0m\u001b[0;34m\u001b[0m\u001b[0;34m\u001b[0m\u001b[0m\n\u001b[1;32m      6\u001b[0m \u001b[0;31m#     for j in i:\u001b[0m\u001b[0;34m\u001b[0m\u001b[0;34m\u001b[0m\u001b[0;34m\u001b[0m\u001b[0m\n",
      "\u001b[0;31mTypeError\u001b[0m: unsupported operand type(s) for //: 'list' and 'int'"
     ]
    }
   ],
   "source": [
    "# draw areas on top of im_stack_1 where targets are:\n",
    "im_stack_2 = im_stack\n",
    "b = np.full_like(im_stack_1[0], fill_value=0)\n",
    "targets = np.floor_divide(exp_obj.target_areas, 2)\n",
    "for i in targets:\n",
    "    for j in i:\n",
    "        b[j] = 1000."
   ]
  },
  {
   "cell_type": "code",
   "execution_count": 55,
   "metadata": {},
   "outputs": [
    {
     "ename": "IndexError",
     "evalue": "index 278 is out of bounds for axis 0 with size 62",
     "output_type": "error",
     "traceback": [
      "\u001b[0;31m---------------------------------------------------------------------------\u001b[0m",
      "\u001b[0;31mIndexError\u001b[0m                                Traceback (most recent call last)",
      "\u001b[0;32m<ipython-input-55-af09da34b71d>\u001b[0m in \u001b[0;36m<module>\u001b[0;34m\u001b[0m\n\u001b[1;32m      1\u001b[0m \u001b[0mtargets\u001b[0m \u001b[0;34m=\u001b[0m \u001b[0mnp\u001b[0m\u001b[0;34m.\u001b[0m\u001b[0mfloor_divide\u001b[0m\u001b[0;34m(\u001b[0m\u001b[0mexp_obj\u001b[0m\u001b[0;34m.\u001b[0m\u001b[0mtarget_areas\u001b[0m\u001b[0;34m,\u001b[0m \u001b[0;36m2\u001b[0m\u001b[0;34m)\u001b[0m\u001b[0;34m\u001b[0m\u001b[0;34m\u001b[0m\u001b[0m\n\u001b[1;32m      2\u001b[0m \u001b[0;32mfor\u001b[0m \u001b[0mi\u001b[0m \u001b[0;32min\u001b[0m \u001b[0mtargets\u001b[0m\u001b[0;34m:\u001b[0m\u001b[0;34m\u001b[0m\u001b[0;34m\u001b[0m\u001b[0m\n\u001b[0;32m----> 3\u001b[0;31m     \u001b[0mb\u001b[0m\u001b[0;34m[\u001b[0m\u001b[0;34m[\u001b[0m\u001b[0;34m*\u001b[0m\u001b[0mtargets\u001b[0m\u001b[0;34m[\u001b[0m\u001b[0mi\u001b[0m\u001b[0;34m]\u001b[0m\u001b[0;34m.\u001b[0m\u001b[0mT\u001b[0m\u001b[0;34m]\u001b[0m\u001b[0;34m]\u001b[0m\u001b[0;34m=\u001b[0m\u001b[0;36m1000\u001b[0m\u001b[0;34m\u001b[0m\u001b[0;34m\u001b[0m\u001b[0m\n\u001b[0m",
      "\u001b[0;31mIndexError\u001b[0m: index 278 is out of bounds for axis 0 with size 62"
     ]
    }
   ],
   "source": [
    "targets = np.floor_divide(exp_obj.target_areas, 2)\n",
    "for i in targets:\n",
    "    b[[*targets[i].T]]=1000"
   ]
  },
  {
   "cell_type": "code",
   "execution_count": 67,
   "metadata": {
    "scrolled": true
   },
   "outputs": [
    {
     "name": "stdout",
     "output_type": "stream",
     "text": [
      "0\n",
      "1\n",
      "2\n",
      "3\n",
      "4\n",
      "5\n",
      "6\n",
      "7\n",
      "8\n",
      "9\n",
      "10\n",
      "11\n",
      "12\n",
      "13\n",
      "14\n",
      "15\n",
      "16\n",
      "17\n",
      "18\n",
      "19\n",
      "20\n",
      "21\n",
      "22\n",
      "23\n",
      "24\n",
      "25\n",
      "26\n",
      "27\n",
      "28\n",
      "29\n",
      "30\n",
      "31\n",
      "32\n",
      "33\n",
      "34\n",
      "35\n",
      "36\n",
      "37\n",
      "38\n",
      "39\n",
      "40\n",
      "41\n",
      "42\n",
      "43\n",
      "44\n",
      "45\n",
      "46\n",
      "47\n",
      "48\n",
      "49\n",
      "50\n",
      "51\n",
      "52\n",
      "53\n",
      "54\n",
      "55\n",
      "56\n",
      "57\n",
      "58\n",
      "59\n",
      "60\n",
      "61\n"
     ]
    },
    {
     "name": "stderr",
     "output_type": "stream",
     "text": [
      "/home/pshah/anaconda3/lib/python3.7/site-packages/ipykernel_launcher.py:3: FutureWarning: Using a non-tuple sequence for multidimensional indexing is deprecated; use `arr[tuple(seq)]` instead of `arr[seq]`. In the future this will be interpreted as an array index, `arr[np.array(seq)]`, which will result either in an error or a different result.\n",
      "  This is separate from the ipykernel package so we can avoid doing imports until\n"
     ]
    }
   ],
   "source": [
    "for i in np.arange(len(targets)):\n",
    "    print(i)\n",
    "    b[[*targets[i].T]]=1000"
   ]
  },
  {
   "cell_type": "code",
   "execution_count": 59,
   "metadata": {
    "scrolled": true
   },
   "outputs": [
    {
     "name": "stdout",
     "output_type": "stream",
     "text": [
      "278\n",
      "144\n",
      "278\n",
      "144\n",
      "278\n",
      "145\n",
      "278\n",
      "143\n",
      "278\n",
      "143\n",
      "278\n",
      "144\n",
      "278\n",
      "144\n",
      "278\n",
      "145\n",
      "278\n",
      "145\n",
      "278\n",
      "146\n",
      "279\n",
      "142\n",
      "279\n",
      "143\n",
      "279\n",
      "143\n",
      "279\n",
      "144\n",
      "279\n",
      "144\n",
      "279\n",
      "145\n",
      "279\n",
      "145\n",
      "279\n",
      "146\n",
      "279\n",
      "146\n",
      "279\n",
      "142\n",
      "279\n",
      "143\n",
      "279\n",
      "143\n",
      "279\n",
      "144\n",
      "279\n",
      "144\n",
      "279\n",
      "145\n",
      "279\n",
      "145\n",
      "279\n",
      "146\n",
      "279\n",
      "146\n",
      "280\n",
      "142\n",
      "280\n",
      "142\n",
      "280\n",
      "143\n",
      "280\n",
      "143\n",
      "280\n",
      "144\n",
      "280\n",
      "144\n",
      "280\n",
      "145\n",
      "280\n",
      "145\n",
      "280\n",
      "146\n",
      "280\n",
      "146\n",
      "280\n",
      "147\n",
      "280\n",
      "142\n",
      "280\n",
      "142\n",
      "280\n",
      "143\n",
      "280\n",
      "143\n",
      "280\n",
      "144\n",
      "280\n",
      "144\n",
      "280\n",
      "145\n",
      "280\n",
      "145\n",
      "280\n",
      "146\n",
      "280\n",
      "146\n",
      "280\n",
      "147\n",
      "281\n",
      "142\n",
      "281\n",
      "142\n",
      "281\n",
      "143\n",
      "281\n",
      "143\n",
      "281\n",
      "144\n",
      "281\n",
      "144\n",
      "281\n",
      "145\n",
      "281\n",
      "145\n",
      "281\n",
      "146\n",
      "281\n",
      "146\n",
      "281\n",
      "147\n",
      "281\n",
      "142\n",
      "281\n",
      "143\n",
      "281\n",
      "143\n",
      "281\n",
      "144\n",
      "281\n",
      "144\n",
      "281\n",
      "145\n",
      "281\n",
      "145\n",
      "281\n",
      "146\n",
      "281\n",
      "146\n",
      "282\n",
      "142\n",
      "282\n",
      "143\n",
      "282\n",
      "143\n",
      "282\n",
      "144\n",
      "282\n",
      "144\n",
      "282\n",
      "145\n",
      "282\n",
      "145\n",
      "282\n",
      "146\n",
      "282\n",
      "146\n",
      "282\n",
      "143\n",
      "282\n",
      "143\n",
      "282\n",
      "144\n",
      "282\n",
      "144\n",
      "282\n",
      "145\n",
      "282\n",
      "145\n",
      "282\n",
      "146\n",
      "283\n",
      "144\n",
      "283\n",
      "144\n",
      "283\n",
      "145\n"
     ]
    }
   ],
   "source": [
    "for i, j in enumerate(targets[0]):\n",
    "    print(j[0])\n",
    "    print(j[1])"
   ]
  },
  {
   "cell_type": "code",
   "execution_count": 49,
   "metadata": {},
   "outputs": [
    {
     "name": "stderr",
     "output_type": "stream",
     "text": [
      "/home/pshah/anaconda3/lib/python3.7/site-packages/ipykernel_launcher.py:1: FutureWarning: Using a non-tuple sequence for multidimensional indexing is deprecated; use `arr[tuple(seq)]` instead of `arr[seq]`. In the future this will be interpreted as an array index, `arr[np.array(seq)]`, which will result either in an error or a different result.\n",
      "  \"\"\"Entry point for launching an IPython kernel.\n"
     ]
    }
   ],
   "source": [
    "b[[*targets[0].T]]=1000"
   ]
  },
  {
   "cell_type": "code",
   "execution_count": 53,
   "metadata": {},
   "outputs": [
    {
     "data": {
      "text/plain": [
       "array([   0,    0,    0,    0,    0,    0,    0,    0, 1000, 1000, 1000,\n",
       "       1000,    0,    0,    0,    0,    0,    0,    0,    0], dtype=uint16)"
      ]
     },
     "execution_count": 53,
     "metadata": {},
     "output_type": "execute_result"
    }
   ],
   "source": [
    "b[278][135:155]"
   ]
  },
  {
   "cell_type": "code",
   "execution_count": null,
   "metadata": {},
   "outputs": [],
   "source": []
  }
 ],
 "metadata": {
  "kernelspec": {
   "display_name": "Python 3",
   "language": "python",
   "name": "python3"
  },
  "language_info": {
   "codemirror_mode": {
    "name": "ipython",
    "version": 3
   },
   "file_extension": ".py",
   "mimetype": "text/x-python",
   "name": "python",
   "nbconvert_exporter": "python",
   "pygments_lexer": "ipython3",
   "version": "3.7.4"
  }
 },
 "nbformat": 4,
 "nbformat_minor": 2
}
