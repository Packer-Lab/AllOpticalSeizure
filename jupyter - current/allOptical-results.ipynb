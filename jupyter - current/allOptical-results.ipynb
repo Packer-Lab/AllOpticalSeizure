{
 "cells": [
  {
   "cell_type": "code",
   "execution_count": 6,
   "id": "mexican-sullivan",
   "metadata": {},
   "outputs": [],
   "source": [
    "#%% DATA ANALYSIS + PLOTTING FOR ALL-OPTICAL TWO-P PHOTOSTIM EXPERIMENTS\n",
    "\n",
    "import sys\n",
    "sys.path.append('/home/pshah/Documents/code/PackerLab_pycharm/')\n",
    "\n",
    "import numpy as np\n",
    "import pandas as pd\n",
    "import matplotlib.pyplot as plt\n",
    "import alloptical_utils_pj as aoutils\n",
    "import alloptical_plotting_utils as aoplot\n",
    "import utils.funcs_pj as pj\n"
   ]
  },
  {
   "cell_type": "code",
   "execution_count": 5,
   "id": "bearing-tradition",
   "metadata": {},
   "outputs": [
    {
     "name": "stdout",
     "output_type": "stream",
     "text": [
      "\n",
      "importing resultsobj from: /home/pshah/mnt/qnap/Analysis/alloptical_results_superobject.pkl\n",
      "\n",
      "\n",
      "DONE IMPORT of <class 'alloptical_utils_pj.AllOpticalResults'> resultsobj\n"
     ]
    }
   ],
   "source": [
    "# create onePstim superobject that will collect analyses from various individual experiments\n",
    "import os\n",
    "results_object_path = '/home/pshah/mnt/qnap/Analysis/alloptical_results_superobject.pkl'\n",
    "if os.path.exists(results_object_path):\n",
    "    allOpticalresults = aoutils.import_resultsobj(pkl_path=results_object_path)\n",
    "else:\n",
    "    aoutils.AllOpticalResults(save_path=results_object_path)"
   ]
  },
  {
   "cell_type": "code",
   "execution_count": 9,
   "id": "cultural-trigger",
   "metadata": {},
   "outputs": [],
   "source": [
    "# reliability of stimulation - SLM Targets Coords. All\n",
    "\n",
    "allOpticalresults.slmtargets_stim_responses = pd.DataFrame({'prep_trial': [], 'date': [], 'exptype': [],\n",
    "                                                           'stim_setup': [], 'mean response (dF/stdF all targets)': [],\n",
    "                                                           'mean response (dFF all targets)': [], \n",
    "                                                           'mean reliability (>0.3 dF/stdF)': []})\n"
   ]
  },
  {
   "cell_type": "code",
   "execution_count": 10,
   "id": "formed-ceremony",
   "metadata": {},
   "outputs": [
    {
     "name": "stdout",
     "output_type": "stream",
     "text": [
      "\n",
      "\n",
      "pkl saved to /home/pshah/mnt/qnap/Analysis/alloptical_results_superobject.pkl\n",
      "\n"
     ]
    }
   ],
   "source": [
    "allOpticalresults.save()"
   ]
  }
 ],
 "metadata": {
  "kernelspec": {
   "display_name": "Python 3",
   "language": "python",
   "name": "python3"
  },
  "language_info": {
   "codemirror_mode": {
    "name": "ipython",
    "version": 3
   },
   "file_extension": ".py",
   "mimetype": "text/x-python",
   "name": "python",
   "nbconvert_exporter": "python",
   "pygments_lexer": "ipython3",
   "version": "3.8.5"
  }
 },
 "nbformat": 4,
 "nbformat_minor": 5
}
