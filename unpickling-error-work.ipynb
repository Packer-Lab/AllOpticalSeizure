{
 "cells": [
  {
   "cell_type": "code",
   "execution_count": 2,
   "outputs": [],
   "source": [
    "import _alloptical_utils as Utils\n",
    "from _utils_.io import import_expobj, allopticalResults\n",
    "\n",
    "# from _sz_processing.targets_sztemporal_stim_responses import TargetsSzInvasionTemporal"
   ],
   "metadata": {
    "collapsed": false,
    "pycharm": {
     "name": "#%%\n"
    }
   }
  },
  {
   "cell_type": "code",
   "execution_count": 3,
   "metadata": {
    "collapsed": true
   },
   "outputs": [
    {
     "name": "stdout",
     "output_type": "stream",
     "text": [
      "'(RL108 t-013) TwoPhotonImaging.alloptical.Post4ap experimental data object, last saved: Thu Feb 17 16:47:57 2022'\n"
     ]
    }
   ],
   "source": [
    "import pickle\n",
    "\n",
    "class TargetsSzInvasionTemporal:\n",
    "    def __init__(self):\n",
    "        pass\n",
    "\n",
    "\n",
    "class CustomUnpickler(pickle.Unpickler):\n",
    "\n",
    "    def find_class(self, module, name):\n",
    "        if name == 'TargetsSzInvasionTemporal':\n",
    "            return TargetsSzInvasionTemporal\n",
    "        return super().find_class(module, name)\n",
    "\n",
    "\n",
    "pkl_path = '/home/pshah/mnt/qnap/Analysis/2020-12-18/RL108/2020-12-18_t-013/backups/2020-12-18_RL108_t-013.pkl'\n",
    "pickle_data = CustomUnpickler(open(pkl_path, 'rb')).load()\n",
    "print(pickle_data)"
   ]
  },
  {
   "cell_type": "code",
   "execution_count": 4,
   "outputs": [],
   "source": [
    "delattr(pickle_data, 'TargetsSzInvasionTemporal')"
   ],
   "metadata": {
    "collapsed": false,
    "pycharm": {
     "name": "#%%\n"
    }
   }
  },
  {
   "cell_type": "code",
   "execution_count": 6,
   "outputs": [
    {
     "name": "stdout",
     "output_type": "stream",
     "text": [
      "\\- Saving expobj saved to /home/pshah/mnt/qnap/Analysis/2020-12-18/RL108/2020-12-18_t-013/2020-12-18_t-013.pkl -- \n"
     ]
    }
   ],
   "source": [
    "pickle_data.save()"
   ],
   "metadata": {
    "collapsed": false,
    "pycharm": {
     "name": "#%%\n"
    }
   }
  },
  {
   "cell_type": "code",
   "execution_count": 5,
   "outputs": [
    {
     "data": {
      "text/plain": "'(RL108 t-013) TwoPhotonImaging.alloptical.Post4ap experimental data object, last saved: Thu Feb 17 16:47:57 2022'"
     },
     "execution_count": 5,
     "metadata": {},
     "output_type": "execute_result"
    }
   ],
   "source": [
    "pickle_data"
   ],
   "metadata": {
    "collapsed": false,
    "pycharm": {
     "name": "#%%\n"
    }
   }
  },
  {
   "cell_type": "code",
   "execution_count": 7,
   "outputs": [
    {
     "name": "stdout",
     "output_type": "stream",
     "text": [
      "loaded '(RL108 t-013) TwoPhotonImaging.alloptical.Post4ap experimental data object, last saved: Thu Feb 17 18:24:50 2022'\n",
      "loaded '(RL109 t-020) TwoPhotonImaging.alloptical.Post4ap experimental data object, last saved: Thu Feb 17 19:00:04 2022'\n",
      "loaded '(RL109 t-018) TwoPhotonImaging.alloptical.Post4ap experimental data object, last saved: Thu Feb 17 19:00:23 2022'\n",
      "loaded '(RL109 t-016) TwoPhotonImaging.alloptical.Post4ap experimental data object, last saved: Thu Feb 17 19:00:39 2022'\n",
      "loaded '(PS04 t-018) TwoPhotonImaging.alloptical.Post4ap experimental data object, last saved: Thu Feb 17 19:00:50 2022'\n",
      "loaded '(PS07 t-011) TwoPhotonImaging.alloptical.Post4ap experimental data object, last saved: Thu Feb 17 19:01:05 2022'\n",
      "loaded '(PS06 t-013) TwoPhotonImaging.alloptical.Post4ap experimental data object, last saved: Thu Feb 17 19:01:39 2022'\n",
      "loaded '(PS11 t-011) TwoPhotonImaging.alloptical.Post4ap experimental data object, last saved: Thu Feb 17 19:02:19 2022'\n"
     ]
    }
   ],
   "source": [
    "for i, x in enumerate(allopticalResults.post_4ap_trials):\n",
    "    counter_j = 0\n",
    "    for j, exp_prep in enumerate(x):\n",
    "        prep = exp_prep[:-6]\n",
    "        post4aptrial = exp_prep[-5:]\n",
    "        try:\n",
    "            expobj = import_expobj(prep=prep, trial=post4aptrial, verbose=False)\n",
    "            print(f\"loaded {expobj}\")\n",
    "        except:\n",
    "            print(f'couldnt import expobj {exp_prep}')\n",
    "        counter_j += 1\n"
   ],
   "metadata": {
    "collapsed": false,
    "pycharm": {
     "name": "#%%\n"
    }
   }
  },
  {
   "cell_type": "code",
   "execution_count": null,
   "outputs": [],
   "source": [
    "\n",
    "\n",
    "def fix_cantgetattr_error(**kwargs):\n",
    "    expobj = kwargs['expobj']\n"
   ],
   "metadata": {
    "collapsed": false,
    "pycharm": {
     "name": "#%%\n"
    }
   }
  }
 ],
 "metadata": {
  "kernelspec": {
   "display_name": "Python 3",
   "language": "python",
   "name": "python3"
  },
  "language_info": {
   "codemirror_mode": {
    "name": "ipython",
    "version": 2
   },
   "file_extension": ".py",
   "mimetype": "text/x-python",
   "name": "python",
   "nbconvert_exporter": "python",
   "pygments_lexer": "ipython2",
   "version": "2.7.6"
  }
 },
 "nbformat": 4,
 "nbformat_minor": 0
}
