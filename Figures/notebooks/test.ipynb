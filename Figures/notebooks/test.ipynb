{
 "cells": [
  {
   "cell_type": "code",
   "execution_count": 1,
   "id": "dc845639-acd1-4894-bc9d-b6f22d63ec1c",
   "metadata": {},
   "outputs": [],
   "source": [
    "import sys"
   ]
  },
  {
   "cell_type": "code",
   "execution_count": 2,
   "id": "19d0018a-c4f3-49aa-b07a-c78dc16e6b84",
   "metadata": {},
   "outputs": [
    {
     "name": "stdout",
     "output_type": "stream",
     "text": [
      "['/home/pshah/Documents/code/AllOpticalSeizure/Figures/notebooks', '/Applications/NEURON-7.6/nrn/lib/python', '/home/pshah/Documents/code/AllOpticalSeizure/Figures/notebooks', '/home/pshah/anaconda3/envs/allopticalsz2/lib/python39.zip', '/home/pshah/anaconda3/envs/allopticalsz2/lib/python3.9', '/home/pshah/anaconda3/envs/allopticalsz2/lib/python3.9/lib-dynload', '', '/home/pshah/anaconda3/envs/allopticalsz2/lib/python3.9/site-packages', '/home/pshah/Documents/code/funcsforprajay/src', '/home/pshah/Documents/code/imagingplus/src']\n"
     ]
    }
   ],
   "source": [
    "import sys\n",
    "print(sys.path)\n",
    "sys.path.extend(['/home/pshah/Documents/code/reproducible_figures-main',\n",
    "                '/home/pshah/Documents/code/AllOpticalSeizure/'])\n",
    "\n",
    "import matplotlib.pyplot as plt\n",
    "import pandas as pd\n",
    "from funcsforprajay.funcs import flattenOnce\n",
    "\n",
    "plt.style.use(['alloptical', 'use_mathtext'])\n"
   ]
  },
  {
   "cell_type": "code",
   "execution_count": null,
   "id": "1fe6ac55-797a-4506-81b7-fd0edf68c2ef",
   "metadata": {},
   "outputs": [],
   "source": []
  }
 ],
 "metadata": {
  "kernelspec": {
   "display_name": "Python 3 (ipykernel)",
   "language": "python",
   "name": "python3"
  },
  "language_info": {
   "codemirror_mode": {
    "name": "ipython",
    "version": 3
   },
   "file_extension": ".py",
   "mimetype": "text/x-python",
   "name": "python",
   "nbconvert_exporter": "python",
   "pygments_lexer": "ipython3",
   "version": "3.9.7"
  }
 },
 "nbformat": 4,
 "nbformat_minor": 5
}
