{
 "cells": [
  {
   "cell_type": "code",
   "execution_count": 1,
   "id": "1b4997e2",
   "metadata": {},
   "outputs": [
    {
     "name": "stdout",
     "output_type": "stream",
     "text": [
      "['/home/pshah/Documents/code/AllOpticalSeizure/Figures/notebooks', '/Applications/NEURON-7.6/nrn/lib/python', '/home/pshah/Documents/code/AllOpticalSeizure/Figures/notebooks', '/home/pshah/anaconda3/envs/allopticalsz2/lib/python39.zip', '/home/pshah/anaconda3/envs/allopticalsz2/lib/python3.9', '/home/pshah/anaconda3/envs/allopticalsz2/lib/python3.9/lib-dynload', '', '/home/pshah/anaconda3/envs/allopticalsz2/lib/python3.9/site-packages', '/home/pshah/Documents/code/funcsforprajay/src', '/home/pshah/Documents/code/imagingplus/src']\n"
     ]
    }
   ],
   "source": [
    "import sys\n",
    "print(sys.path)\n",
    "sys.path.extend(['/home/pshah/Documents/code/reproducible_figures-main',\n",
    "                '/home/pshah/Documents/code/AllOpticalSeizure/'])\n",
    "\n",
    "import matplotlib.pyplot as plt\n",
    "import pandas as pd\n",
    "from funcsforprajay.funcs import flattenOnce\n",
    "\n",
    "plt.style.use(['use_mathtext'])\n",
    "\n",
    "from funcsforprajay.plotting.plotting import plot_bar_with_points\n",
    "from matplotlib.transforms import Bbox\n",
    "from scipy import stats\n",
    "from statsmodels.stats.multicomp import pairwise_tukeyhsd\n"
   ]
  },
  {
   "cell_type": "code",
   "execution_count": 2,
   "id": "c569e185",
   "metadata": {},
   "outputs": [
    {
     "name": "stdout",
     "output_type": "stream",
     "text": [
      "Loading Results Analysis object from /home/pshah/mnt/qnap/Analysis/analysis_export/analysis_quantification_classes/Results__PhotostimResponsesSLMtargets.pkl ... \n",
      "Loading Results Analysis object from /home/pshah/mnt/qnap/Analysis/analysis_export/analysis_quantification_classes/Results__ExpSeizure.pkl ... \n"
     ]
    }
   ],
   "source": [
    "from _exp_metainfo_.exp_metainfo import ExpMetainfo\n",
    "\n",
    "from _analysis_._ClassPhotostimAnalysisSlmTargets import PhotostimAnalysisSlmTargets\n",
    "from _analysis_._ClassPhotostimResponseQuantificationSLMtargets import PhotostimResponsesSLMtargetsResults\n",
    "from _analysis_.sz_analysis._ClassExpSeizureAnalysis import ExpSeizureAnalysis, ExpSeizureResults\n",
    "from _main_.Post4apMain import Post4ap\n",
    "from _utils_.io import import_expobj\n",
    "from _utils_.alloptical_plotting import save_figure\n"
   ]
  },
  {
   "cell_type": "code",
   "execution_count": 3,
   "id": "f3713d99",
   "metadata": {},
   "outputs": [
    {
     "name": "stdout",
     "output_type": "stream",
     "text": [
      "Loading Results Analysis object from /home/pshah/mnt/qnap/Analysis/analysis_export/analysis_quantification_classes/Results__PhotostimResponsesSLMtargets.pkl ... \n"
     ]
    }
   ],
   "source": [
    "import numpy as np\n",
    "import rep_fig_vis as rfv\n",
    "\n",
    "results: PhotostimResponsesSLMtargetsResults = PhotostimResponsesSLMtargetsResults.load()\n",
    "main = PhotostimAnalysisSlmTargets\n",
    "\n",
    "\n",
    "SAVE_FOLDER = f'/home/pshah/Documents/figures/alloptical_seizures_draft/'\n",
    "fig_items = f'/home/pshah/Documents/figures/alloptical_seizures_draft/figure-items/'\n"
   ]
  },
  {
   "cell_type": "code",
   "execution_count": 4,
   "id": "21ada17e",
   "metadata": {
    "tags": []
   },
   "outputs": [
    {
     "name": "stdout",
     "output_type": "stream",
     "text": [
      "\n",
      " ********** [3] INITIATING FOR LOOP ACROSS EXPS FOR func: <function PhotostimAnalysisSlmTargets.collect__interictal_responses_split.<locals>.collect_avg_photostim_response_preictal at 0x7f073dba6310> ..........\n",
      "\n",
      "\n",
      "----- RUNNING POST4AP TRIALS -----: [['RL108 t-013'], ['RL109 t-018'], ['PS04 t-018'], ['PS07 t-011'], ['PS06 t-013'], ['PS11 t-011']]\n",
      "\n",
      "---------- SKIPPING TRIALS -----: ['PS06 t-013']\n",
      "Python 3.9.7 (default, Sep 16 2021, 13:09:58) 12-18/RL108/2020-12-18_t-013/2020-12-18_t-013.pkl\n",
      "[GCC 7.5.0] on linux\n",
      "Loading Results Analysis object from /home/pshah/mnt/qnap/Analysis/analysis_export/analysis_quantification_classes/Results__PhotostimResponsesSLMtargets.pkl ... \n",
      "|- Loaded RL108 t-013 (from /home/pshah/mnt/qnap/Analysis/2020-12-18/RL108/2020-12-18_t-013/2020-12-18_t-013.pkl) ... DONE\n",
      "STARTING on: post 4ap 2p all optical RL108 t-013 ...............\n",
      "................... post 4ap 2p all optical RL108 t-013 FINISHED \n",
      "\n",
      "|- Loaded RL109 t-018 (from /home/pshah/mnt/qnap/Analysis/2020-12-19/RL109/2020-12-19_t-018/2020-12-19_t-018.pkl) ... DONE\n",
      "STARTING on: post 4ap 2p all optical RL109 t-018 ...............\n",
      "................... post 4ap 2p all optical RL109 t-018 FINISHED \n",
      "\n",
      "|- Loaded PS04 t-018 (from /home/pshah/mnt/qnap/Analysis/2021-01-09/PS04/2021-01-09_t-018/2021-01-09_t-018.pkl) ... DONE\n",
      "STARTING on: post 4ap 2p all optical PS04 t-018 ...............\n",
      "................... post 4ap 2p all optical PS04 t-018 FINISHED \n",
      "\n",
      "|- Loaded PS07 t-011 (from /home/pshah/mnt/qnap/Analysis/2021-01-19/PS07/2021-01-19_t-011/2021-01-19_t-011.pkl) ... DONE\n",
      "STARTING on: post 4ap 2p all optical PS07 t-011 ...............\n",
      "................... post 4ap 2p all optical PS07 t-011 FINISHED \n",
      "\n",
      "|- Loaded PS11 t-011 (from /home/pshah/mnt/qnap/Analysis/2021-01-24/PS11/2021-01-24_t-011/2021-01-24_t-011.pkl) ... DONE\n",
      "STARTING on: post 4ap 2p all optical PS11 t-011 ...............\n",
      "................... post 4ap 2p all optical PS11 t-011 FINISHED \n",
      "\n",
      "\n",
      " ********** [3] INITIATING FOR LOOP ACROSS EXPS FOR func: <function PhotostimAnalysisSlmTargets.collect__interictal_responses_split.<locals>.collect_avg_photostim_response_postictal at 0x7f073dba6430> ..........\n",
      "\n",
      "\n",
      "----- RUNNING POST4AP TRIALS -----: [['RL108 t-013'], ['RL109 t-018'], ['PS04 t-018'], ['PS07 t-011'], ['PS06 t-013'], ['PS11 t-011']]\n",
      "\n",
      "---------- SKIPPING TRIALS -----: []\n",
      "|- Loaded RL108 t-013 (from /home/pshah/mnt/qnap/Analysis/2020-12-18/RL108/2020-12-18_t-013/2020-12-18_t-013.pkl) ... DONE\n",
      "STARTING on: post 4ap 2p all optical RL108 t-013 ...............\n",
      "................... post 4ap 2p all optical RL108 t-013 FINISHED \n",
      "\n",
      "|- Loaded RL109 t-018 (from /home/pshah/mnt/qnap/Analysis/2020-12-19/RL109/2020-12-19_t-018/2020-12-19_t-018.pkl) ... DONE\n",
      "STARTING on: post 4ap 2p all optical RL109 t-018 ...............\n",
      "................... post 4ap 2p all optical RL109 t-018 FINISHED \n",
      "\n",
      "|- Loaded PS04 t-018 (from /home/pshah/mnt/qnap/Analysis/2021-01-09/PS04/2021-01-09_t-018/2021-01-09_t-018.pkl) ... DONE\n",
      "STARTING on: post 4ap 2p all optical PS04 t-018 ...............\n",
      "................... post 4ap 2p all optical PS04 t-018 FINISHED \n",
      "\n",
      "|- Loaded PS07 t-011 (from /home/pshah/mnt/qnap/Analysis/2021-01-19/PS07/2021-01-19_t-011/2021-01-19_t-011.pkl) ... DONE\n",
      "STARTING on: post 4ap 2p all optical PS07 t-011 ...............\n",
      "................... post 4ap 2p all optical PS07 t-011 FINISHED \n",
      "\n",
      "|- Loaded PS06 t-013 (from /home/pshah/mnt/qnap/Analysis/2021-01-10/PS06/2021-01-10_t-013/2021-01-10_t-013.pkl) ... DONE\n",
      "STARTING on: post 4ap 2p all optical PS06 t-013 ...............\n",
      "****** WARNING: no postictal stims for PS06 t-013 ****** \n",
      "................... post 4ap 2p all optical PS06 t-013 FINISHED \n",
      "\n",
      "|- Loaded PS11 t-011 (from /home/pshah/mnt/qnap/Analysis/2021-01-24/PS11/2021-01-24_t-011/2021-01-24_t-011.pkl) ... DONE\n",
      "STARTING on: post 4ap 2p all optical PS11 t-011 ...............\n",
      "................... post 4ap 2p all optical PS11 t-011 FINISHED \n",
      "\n",
      "\n",
      " ********** [3] INITIATING FOR LOOP ACROSS EXPS FOR func: <function PhotostimAnalysisSlmTargets.collect__interictal_responses_split.<locals>.collect_avg_photostim_response_very_interictal at 0x7f073dba6550> ..........\n",
      "\n",
      "\n",
      "----- RUNNING POST4AP TRIALS -----: [['RL108 t-013'], ['RL109 t-018'], ['PS04 t-018'], ['PS07 t-011'], ['PS06 t-013'], ['PS11 t-011']]\n",
      "\n",
      "---------- SKIPPING TRIALS -----: ['PS06 t-013']\n",
      "|- Loaded RL108 t-013 (from /home/pshah/mnt/qnap/Analysis/2020-12-18/RL108/2020-12-18_t-013/2020-12-18_t-013.pkl) ... DONE\n",
      "STARTING on: post 4ap 2p all optical RL108 t-013 ...............\n",
      "................... post 4ap 2p all optical RL108 t-013 FINISHED \n",
      "\n",
      "|- Loaded RL109 t-018 (from /home/pshah/mnt/qnap/Analysis/2020-12-19/RL109/2020-12-19_t-018/2020-12-19_t-018.pkl) ... DONE\n",
      "STARTING on: post 4ap 2p all optical RL109 t-018 ...............\n",
      "................... post 4ap 2p all optical RL109 t-018 FINISHED \n",
      "\n",
      "|- Loaded PS04 t-018 (from /home/pshah/mnt/qnap/Analysis/2021-01-09/PS04/2021-01-09_t-018/2021-01-09_t-018.pkl) ... DONE\n",
      "STARTING on: post 4ap 2p all optical PS04 t-018 ...............\n",
      "................... post 4ap 2p all optical PS04 t-018 FINISHED \n",
      "\n",
      "|- Loaded PS07 t-011 (from /home/pshah/mnt/qnap/Analysis/2021-01-19/PS07/2021-01-19_t-011/2021-01-19_t-011.pkl) ... DONE\n",
      "STARTING on: post 4ap 2p all optical PS07 t-011 ...............\n",
      "................... post 4ap 2p all optical PS07 t-011 FINISHED \n",
      "\n",
      "|- Loaded PS11 t-011 (from /home/pshah/mnt/qnap/Analysis/2021-01-24/PS11/2021-01-24_t-011/2021-01-24_t-011.pkl) ... DONE\n",
      "STARTING on: post 4ap 2p all optical PS11 t-011 ...............\n",
      "................... post 4ap 2p all optical PS11 t-011 FINISHED \n",
      "\n",
      "\n",
      " Saving Results Analysis Object ... \n",
      "\\- saved to /home/pshah/mnt/qnap/Analysis/analysis_export/analysis_quantification_classes/Results__PhotostimResponsesSLMtargets.pkl -- \n"
     ]
    }
   ],
   "source": [
    "results = main.collect__interictal_responses_split(rerun=1, analysis_type='dFF responses')"
   ]
  },
  {
   "cell_type": "code",
   "execution_count": 5,
   "id": "c587fad4-1d0c-4de0-8c1e-181c7f86ef3f",
   "metadata": {},
   "outputs": [
    {
     "data": {
      "image/png": "[encoded data removed]",
      "text/plain": [
       "<Figure size 300x400 with 1 Axes>"
      ]
     },
     "metadata": {},
     "output_type": "display_data"
    }
   ],
   "source": [
    "# figure for individual targets pooled across exps:\n",
    "preictal_responses = flattenOnce(results.interictal_responses['preictal_responses'])\n",
    "postictal_responses = flattenOnce(results.interictal_responses['postictal_responses'])\n",
    "interictal_responses = flattenOnce(results.interictal_responses['very_interictal_responses'])  ## remember that these are currently actually ALL interictal stims idx's\n",
    "\n",
    "to_plot = [interictal_responses, preictal_responses, postictal_responses]\n",
    "\n",
    "fig, ax = plt.subplots(figsize=(3,4), dpi=100)\n",
    "\n",
    "plot_bar_with_points(data=to_plot, bar=False, title='', fontsize=10, points_lw=0,\n",
    "                     x_tick_labels=['All', 'Pre-ictal', 'Post-ictal'], colors=['gold', 'lightseagreen', 'lightcoral'],\n",
    "                     y_label='Response magnitude\\n(z-scored)', show=False, ylims=[-50, 100],\n",
    "                     alpha=0.25, fig=fig, ax=ax, s=30, lw=2)\n",
    "fig.show()\n"
   ]
  },
  {
   "cell_type": "code",
   "execution_count": 6,
   "id": "3627da6e-3510-4fcb-afb1-33822f650739",
   "metadata": {},
   "outputs": [
    {
     "name": "stdout",
     "output_type": "stream",
     "text": [
      " Multiple Comparison of Means - Tukey HSD, FWER=0.05 \n",
      "=====================================================\n",
      "group1 group2 meandiff p-adj   lower    upper  reject\n",
      "-----------------------------------------------------\n",
      "   mid   post  14.8433    0.0   9.1521 20.5345   True\n",
      "   mid    pre   6.1641   0.03   0.4728 11.8553   True\n",
      "  post    pre  -8.6792 0.0011 -14.3704  -2.988   True\n",
      "-----------------------------------------------------\n"
     ]
    }
   ],
   "source": [
    "# 1-WAY ANOVA\n",
    "stats.f_oneway(preictal_responses,\n",
    "               interictal_responses,\n",
    "              postictal_responses)\n",
    "\n",
    "# create DataFrame to hold data\n",
    "data_nums = []\n",
    "num_pre = len(preictal_responses)\n",
    "num_mid = len(interictal_responses)\n",
    "num_post = len(postictal_responses)\n",
    "data_nums.extend(['pre'] * num_pre)\n",
    "data_nums.extend(['mid'] * num_mid)\n",
    "data_nums.extend(['post'] * num_post)\n",
    "\n",
    "df = pd.DataFrame({'score': flattenOnce([preictal_responses,\n",
    "                                         interictal_responses,\n",
    "                                         postictal_responses]),\n",
    "                   'group': data_nums})\n",
    "\n",
    "# perform Tukey's test\n",
    "tukey = pairwise_tukeyhsd(endog=df['score'], groups=df['group'],\n",
    "                          alpha=0.05)\n",
    "\n",
    "print(tukey)"
   ]
  },
  {
   "cell_type": "code",
   "execution_count": 7,
   "id": "3ffda75f-f0c0-4d09-b1b7-33181f2bc911",
   "metadata": {},
   "outputs": [
    {
     "name": "stdout",
     "output_type": "stream",
     "text": [
      "interictal vs. post: t = -8.799462795037464, p = 6.621985984334843e-16\n",
      "interictal vs. pre: t = -4.275930158307181, p = 2.9523944377245866e-05\n"
     ]
    }
   ],
   "source": [
    "# paired t-test\n",
    "t, p = stats.ttest_rel(interictal_responses, postictal_responses)\n",
    "print(f\"interictal vs. post: t = {t}, p = {p}\")\n",
    "\n",
    "\n",
    "t, p = stats.ttest_rel(interictal_responses, preictal_responses)\n",
    "print(f\"interictal vs. pre: t = {t}, p = {p}\")\n"
   ]
  },
  {
   "cell_type": "markdown",
   "id": "508a0936-dccf-4fbc-b34b-8e7b361312de",
   "metadata": {},
   "source": [
    "# z scored responses"
   ]
  },
  {
   "cell_type": "code",
   "execution_count": 8,
   "id": "36ab4070-293c-4a3a-a10c-74533a3783cd",
   "metadata": {},
   "outputs": [
    {
     "name": "stdout",
     "output_type": "stream",
     "text": [
      "\n",
      " ********** [3] INITIATING FOR LOOP ACROSS EXPS FOR func: <function PhotostimAnalysisSlmTargets.collect__interictal_responses_split.<locals>.collect_avg_photostim_response_preictal at 0x7f06f6260040> ..........\n",
      "\n",
      "\n",
      "----- RUNNING POST4AP TRIALS -----: [['RL108 t-013'], ['RL109 t-018'], ['PS04 t-018'], ['PS07 t-011'], ['PS06 t-013'], ['PS11 t-011']]\n",
      "\n",
      "---------- SKIPPING TRIALS -----: ['PS06 t-013']\n",
      "|- Loaded RL108 t-013 (from /home/pshah/mnt/qnap/Analysis/2020-12-18/RL108/2020-12-18_t-013/2020-12-18_t-013.pkl) ... DONE\n",
      "STARTING on: post 4ap 2p all optical RL108 t-013 ...............\n",
      "................... post 4ap 2p all optical RL108 t-013 FINISHED \n",
      "\n",
      "|- Loaded RL109 t-018 (from /home/pshah/mnt/qnap/Analysis/2020-12-19/RL109/2020-12-19_t-018/2020-12-19_t-018.pkl) ... DONE\n",
      "STARTING on: post 4ap 2p all optical RL109 t-018 ...............\n",
      "................... post 4ap 2p all optical RL109 t-018 FINISHED \n",
      "\n",
      "|- Loaded PS04 t-018 (from /home/pshah/mnt/qnap/Analysis/2021-01-09/PS04/2021-01-09_t-018/2021-01-09_t-018.pkl) ... DONE\n",
      "STARTING on: post 4ap 2p all optical PS04 t-018 ...............\n",
      "................... post 4ap 2p all optical PS04 t-018 FINISHED \n",
      "\n",
      "|- Loaded PS07 t-011 (from /home/pshah/mnt/qnap/Analysis/2021-01-19/PS07/2021-01-19_t-011/2021-01-19_t-011.pkl) ... DONE\n",
      "STARTING on: post 4ap 2p all optical PS07 t-011 ...............\n",
      "................... post 4ap 2p all optical PS07 t-011 FINISHED \n",
      "\n",
      "|- Loaded PS11 t-011 (from /home/pshah/mnt/qnap/Analysis/2021-01-24/PS11/2021-01-24_t-011/2021-01-24_t-011.pkl) ... DONE\n",
      "STARTING on: post 4ap 2p all optical PS11 t-011 ...............\n",
      "................... post 4ap 2p all optical PS11 t-011 FINISHED \n",
      "\n",
      "\n",
      " ********** [3] INITIATING FOR LOOP ACROSS EXPS FOR func: <function PhotostimAnalysisSlmTargets.collect__interictal_responses_split.<locals>.collect_avg_photostim_response_postictal at 0x7f06f6260160> ..........\n",
      "\n",
      "\n",
      "----- RUNNING POST4AP TRIALS -----: [['RL108 t-013'], ['RL109 t-018'], ['PS04 t-018'], ['PS07 t-011'], ['PS06 t-013'], ['PS11 t-011']]\n",
      "\n",
      "---------- SKIPPING TRIALS -----: []\n",
      "|- Loaded RL108 t-013 (from /home/pshah/mnt/qnap/Analysis/2020-12-18/RL108/2020-12-18_t-013/2020-12-18_t-013.pkl) ... DONE\n",
      "STARTING on: post 4ap 2p all optical RL108 t-013 ...............\n",
      "................... post 4ap 2p all optical RL108 t-013 FINISHED \n",
      "\n",
      "|- Loaded RL109 t-018 (from /home/pshah/mnt/qnap/Analysis/2020-12-19/RL109/2020-12-19_t-018/2020-12-19_t-018.pkl) ... DONE\n",
      "STARTING on: post 4ap 2p all optical RL109 t-018 ...............\n",
      "................... post 4ap 2p all optical RL109 t-018 FINISHED \n",
      "\n",
      "|- Loaded PS04 t-018 (from /home/pshah/mnt/qnap/Analysis/2021-01-09/PS04/2021-01-09_t-018/2021-01-09_t-018.pkl) ... DONE\n",
      "STARTING on: post 4ap 2p all optical PS04 t-018 ...............\n",
      "................... post 4ap 2p all optical PS04 t-018 FINISHED \n",
      "\n",
      "|- Loaded PS07 t-011 (from /home/pshah/mnt/qnap/Analysis/2021-01-19/PS07/2021-01-19_t-011/2021-01-19_t-011.pkl) ... DONE\n",
      "STARTING on: post 4ap 2p all optical PS07 t-011 ...............\n",
      "................... post 4ap 2p all optical PS07 t-011 FINISHED \n",
      "\n",
      "|- Loaded PS06 t-013 (from /home/pshah/mnt/qnap/Analysis/2021-01-10/PS06/2021-01-10_t-013/2021-01-10_t-013.pkl) ... DONE\n",
      "STARTING on: post 4ap 2p all optical PS06 t-013 ...............\n",
      "****** WARNING: no postictal stims for PS06 t-013 ****** \n",
      "................... post 4ap 2p all optical PS06 t-013 FINISHED \n",
      "\n",
      "|- Loaded PS11 t-011 (from /home/pshah/mnt/qnap/Analysis/2021-01-24/PS11/2021-01-24_t-011/2021-01-24_t-011.pkl) ... DONE\n",
      "STARTING on: post 4ap 2p all optical PS11 t-011 ...............\n",
      "................... post 4ap 2p all optical PS11 t-011 FINISHED \n",
      "\n",
      "\n",
      " ********** [3] INITIATING FOR LOOP ACROSS EXPS FOR func: <function PhotostimAnalysisSlmTargets.collect__interictal_responses_split.<locals>.collect_avg_photostim_response_very_interictal at 0x7f06f6260280> ..........\n",
      "\n",
      "\n",
      "----- RUNNING POST4AP TRIALS -----: [['RL108 t-013'], ['RL109 t-018'], ['PS04 t-018'], ['PS07 t-011'], ['PS06 t-013'], ['PS11 t-011']]\n",
      "\n",
      "---------- SKIPPING TRIALS -----: ['PS06 t-013']\n",
      "|- Loaded RL108 t-013 (from /home/pshah/mnt/qnap/Analysis/2020-12-18/RL108/2020-12-18_t-013/2020-12-18_t-013.pkl) ... DONE\n",
      "STARTING on: post 4ap 2p all optical RL108 t-013 ...............\n",
      "................... post 4ap 2p all optical RL108 t-013 FINISHED \n",
      "\n",
      "|- Loaded RL109 t-018 (from /home/pshah/mnt/qnap/Analysis/2020-12-19/RL109/2020-12-19_t-018/2020-12-19_t-018.pkl) ... DONE\n",
      "STARTING on: post 4ap 2p all optical RL109 t-018 ...............\n",
      "................... post 4ap 2p all optical RL109 t-018 FINISHED \n",
      "\n",
      "|- Loaded PS04 t-018 (from /home/pshah/mnt/qnap/Analysis/2021-01-09/PS04/2021-01-09_t-018/2021-01-09_t-018.pkl) ... DONE\n",
      "STARTING on: post 4ap 2p all optical PS04 t-018 ...............\n",
      "................... post 4ap 2p all optical PS04 t-018 FINISHED \n",
      "\n",
      "|- Loaded PS07 t-011 (from /home/pshah/mnt/qnap/Analysis/2021-01-19/PS07/2021-01-19_t-011/2021-01-19_t-011.pkl) ... DONE\n",
      "STARTING on: post 4ap 2p all optical PS07 t-011 ...............\n",
      "................... post 4ap 2p all optical PS07 t-011 FINISHED \n",
      "\n",
      "|- Loaded PS11 t-011 (from /home/pshah/mnt/qnap/Analysis/2021-01-24/PS11/2021-01-24_t-011/2021-01-24_t-011.pkl) ... DONE\n",
      "STARTING on: post 4ap 2p all optical PS11 t-011 ...............\n",
      "................... post 4ap 2p all optical PS11 t-011 FINISHED \n",
      "\n",
      "\n",
      " Saving Results Analysis Object ... \n",
      "\\- saved to /home/pshah/mnt/qnap/Analysis/analysis_export/analysis_quantification_classes/Results__PhotostimResponsesSLMtargets.pkl -- \n"
     ]
    }
   ],
   "source": [
    "results = main.collect__interictal_responses_split(rerun=1, analysis_type='z scored to baseline')"
   ]
  },
  {
   "cell_type": "code",
   "execution_count": 9,
   "id": "bbc29ec8-0214-4500-b759-e58763f20178",
   "metadata": {},
   "outputs": [
    {
     "data": {
      "image/png": "[encoded data removed]",
      "text/plain": [
       "<Figure size 300x400 with 1 Axes>"
      ]
     },
     "metadata": {},
     "output_type": "display_data"
    }
   ],
   "source": [
    "# figure for individual targets pooled across exps:\n",
    "preictal_responses = flattenOnce(results.interictal_responses['preictal_responses'])\n",
    "postictal_responses = flattenOnce(results.interictal_responses['postictal_responses'])\n",
    "interictal_responses = flattenOnce(results.interictal_responses['very_interictal_responses'])  ## remember that these are currently actually ALL interictal stims idx's\n",
    "\n",
    "to_plot = [interictal_responses, preictal_responses, postictal_responses]\n",
    "\n",
    "fig, ax = plt.subplots(figsize=(3,4), dpi=100)\n",
    "\n",
    "plot_bar_with_points(data=to_plot, bar=False, title='', fontsize=10, points_lw=0,\n",
    "                     x_tick_labels=['All', 'Pre-ictal', 'Post-ictal'], colors=['gold', 'lightseagreen', 'lightcoral'],\n",
    "                     y_label='Response magnitude\\n(z-scored)', show=False, ylims=[-50, 100],\n",
    "                     alpha=0.25, fig=fig, ax=ax, s=30, lw=2)\n",
    "fig.show()\n"
   ]
  },
  {
   "cell_type": "code",
   "execution_count": 10,
   "id": "f6096459-cc7f-4cec-a918-e304198af1b2",
   "metadata": {},
   "outputs": [
    {
     "name": "stdout",
     "output_type": "stream",
     "text": [
      "Multiple Comparison of Means - Tukey HSD, FWER=0.05\n",
      "===================================================\n",
      "group1 group2 meandiff p-adj  lower   upper  reject\n",
      "---------------------------------------------------\n",
      "   mid   post   0.2659  -0.0  0.2172  0.3147   True\n",
      "   mid    pre   0.0919   0.0  0.0432  0.1407   True\n",
      "  post    pre   -0.174  -0.0 -0.2228 -0.1252   True\n",
      "---------------------------------------------------\n"
     ]
    }
   ],
   "source": [
    "# 1-WAY ANOVA\n",
    "stats.f_oneway(preictal_responses,\n",
    "               interictal_responses,\n",
    "              postictal_responses)\n",
    "\n",
    "# create DataFrame to hold data\n",
    "data_nums = []\n",
    "num_pre = len(preictal_responses)\n",
    "num_mid = len(interictal_responses)\n",
    "num_post = len(postictal_responses)\n",
    "data_nums.extend(['pre'] * num_pre)\n",
    "data_nums.extend(['mid'] * num_mid)\n",
    "data_nums.extend(['post'] * num_post)\n",
    "\n",
    "df = pd.DataFrame({'score': flattenOnce([preictal_responses,\n",
    "                                         interictal_responses,\n",
    "                                         postictal_responses]),\n",
    "                   'group': data_nums})\n",
    "\n",
    "# perform Tukey's test\n",
    "tukey = pairwise_tukeyhsd(endog=df['score'], groups=df['group'],\n",
    "                          alpha=0.05)\n",
    "\n",
    "print(tukey)"
   ]
  },
  {
   "cell_type": "code",
   "execution_count": 11,
   "id": "164acd7a-8ac8-480c-ae04-797dacc50fa1",
   "metadata": {},
   "outputs": [
    {
     "name": "stdout",
     "output_type": "stream",
     "text": [
      "interictal vs. post: t = -10.919851392347212, p = 4.709227004944796e-22\n",
      "interictal vs. pre: t = -4.300880089017441, p = 2.6640588127652e-05\n"
     ]
    }
   ],
   "source": [
    "# paired t-test\n",
    "t, p = stats.ttest_rel(interictal_responses, postictal_responses)\n",
    "print(f\"interictal vs. post: t = {t}, p = {p}\")\n",
    "\n",
    "\n",
    "t, p = stats.ttest_rel(interictal_responses, preictal_responses)\n",
    "print(f\"interictal vs. pre: t = {t}, p = {p}\")\n"
   ]
  }
 ],
 "metadata": {
  "kernelspec": {
   "display_name": "Python 3 (ipykernel)",
   "language": "python",
   "name": "python3"
  },
  "language_info": {
   "codemirror_mode": {
    "name": "ipython",
    "version": 3
   },
   "file_extension": ".py",
   "mimetype": "text/x-python",
   "name": "python",
   "nbconvert_exporter": "python",
   "pygments_lexer": "ipython3",
   "version": "3.9.7"
  }
 },
 "nbformat": 4,
 "nbformat_minor": 5
}
